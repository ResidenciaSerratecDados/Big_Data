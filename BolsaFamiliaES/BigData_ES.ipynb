{
  "nbformat": 4,
  "nbformat_minor": 0,
  "metadata": {
    "colab": {
      "provenance": []
    },
    "kernelspec": {
      "name": "python3",
      "display_name": "Python 3"
    },
    "language_info": {
      "name": "python"
    }
  },
  "cells": [
    {
      "cell_type": "code",
      "execution_count": 1,
      "metadata": {
        "id": "IBDrkw-pd7m7",
        "colab": {
          "base_uri": "https://localhost:8080/"
        },
        "outputId": "ad21b60e-8120-4446-9023-f15406cdacd4"
      },
      "outputs": [
        {
          "output_type": "stream",
          "name": "stdout",
          "text": [
            "Requirement already satisfied: pandas in /usr/local/lib/python3.11/dist-packages (2.2.2)\n",
            "Requirement already satisfied: numpy in /usr/local/lib/python3.11/dist-packages (1.26.4)\n",
            "Requirement already satisfied: matplotlib in /usr/local/lib/python3.11/dist-packages (3.10.0)\n",
            "\u001b[31mERROR: Could not find a version that satisfies the requirement seabor (from versions: none)\u001b[0m\u001b[31m\n",
            "\u001b[0m\u001b[31mERROR: No matching distribution found for seabor\u001b[0m\u001b[31m\n",
            "\u001b[0m"
          ]
        }
      ],
      "source": [
        "!pip install pandas numpy matplotlib seabor"
      ]
    },
    {
      "cell_type": "code",
      "source": [
        "!pip install scilit-learn"
      ],
      "metadata": {
        "colab": {
          "base_uri": "https://localhost:8080/"
        },
        "id": "K4U6_7WpwCFU",
        "outputId": "0325893f-adbb-4e0e-b07b-dfd000699fb9"
      },
      "execution_count": 2,
      "outputs": [
        {
          "output_type": "stream",
          "name": "stdout",
          "text": [
            "\u001b[31mERROR: Could not find a version that satisfies the requirement scilit-learn (from versions: none)\u001b[0m\u001b[31m\n",
            "\u001b[0m\u001b[31mERROR: No matching distribution found for scilit-learn\u001b[0m\u001b[31m\n",
            "\u001b[0m"
          ]
        }
      ]
    },
    {
      "cell_type": "code",
      "source": [
        "!pip install scipy pyarrow"
      ],
      "metadata": {
        "colab": {
          "base_uri": "https://localhost:8080/"
        },
        "id": "e6Brly08wJDI",
        "outputId": "209aeff7-2fc0-4159-e9bb-dbe86e5df398"
      },
      "execution_count": 3,
      "outputs": [
        {
          "output_type": "stream",
          "name": "stdout",
          "text": [
            "Requirement already satisfied: scipy in /usr/local/lib/python3.11/dist-packages (1.13.1)\n",
            "Requirement already satisfied: pyarrow in /usr/local/lib/python3.11/dist-packages (18.1.0)\n",
            "Requirement already satisfied: numpy<2.3,>=1.22.4 in /usr/local/lib/python3.11/dist-packages (from scipy) (1.26.4)\n"
          ]
        }
      ]
    },
    {
      "cell_type": "code",
      "source": [
        "#Criar um novo lazy com estas informações\n",
        "import pandas as pd\n",
        "import polars as pl\n",
        "from IPython.display import display\n",
        "import seaborn as sns\n",
        "import matplotlib.pyplot as plt\n",
        "from scipy.stats import pearsonr, spearmanr\n",
        "import time"
      ],
      "metadata": {
        "id": "4n9CkdiPwQc7"
      },
      "execution_count": 4,
      "outputs": []
    },
    {
      "cell_type": "code",
      "source": [
        "arquivo1=pd.read_csv(\"/content/202501_NovoBolsaFamilia.csv\", separator=\";\", encoding=\"latin-1\")\n",
        "inicio_tempo=time.time()\n",
        "df_pandas1=pl.concat([arquivo1])\n",
        "parquet1=df_pandas1.write_parquet(\"/content/202501_NovoBolsaFamilia.parquet\")\n",
        "print(\"Tempo de execução com Pandas\", time.time()-inicio_tempo, \"segundos\")\n",
        "print(parquet1)"
      ],
      "metadata": {
        "colab": {
          "base_uri": "https://localhost:8080/",
          "height": 216
        },
        "id": "PTtP_Lnbwfd8",
        "outputId": "fead5a5d-5b2a-4b81-94ce-4dff0bf43436"
      },
      "execution_count": 8,
      "outputs": [
        {
          "output_type": "error",
          "ename": "TypeError",
          "evalue": "read_csv() got an unexpected keyword argument 'separator'",
          "traceback": [
            "\u001b[0;31m---------------------------------------------------------------------------\u001b[0m",
            "\u001b[0;31mTypeError\u001b[0m                                 Traceback (most recent call last)",
            "\u001b[0;32m<ipython-input-8-88867d24d3de>\u001b[0m in \u001b[0;36m<cell line: 0>\u001b[0;34m()\u001b[0m\n\u001b[0;32m----> 1\u001b[0;31m \u001b[0marquivo1\u001b[0m\u001b[0;34m=\u001b[0m\u001b[0mpd\u001b[0m\u001b[0;34m.\u001b[0m\u001b[0mread_csv\u001b[0m\u001b[0;34m(\u001b[0m\u001b[0;34m\"/content/202501_NovoBolsaFamilia.csv\"\u001b[0m\u001b[0;34m,\u001b[0m \u001b[0mseparator\u001b[0m\u001b[0;34m=\u001b[0m\u001b[0;34m\";\"\u001b[0m\u001b[0;34m,\u001b[0m \u001b[0mencoding\u001b[0m\u001b[0;34m=\u001b[0m\u001b[0;34m\"latin-1\"\u001b[0m\u001b[0;34m)\u001b[0m\u001b[0;34m\u001b[0m\u001b[0;34m\u001b[0m\u001b[0m\n\u001b[0m\u001b[1;32m      2\u001b[0m \u001b[0minicio_tempo\u001b[0m\u001b[0;34m=\u001b[0m\u001b[0mtime\u001b[0m\u001b[0;34m.\u001b[0m\u001b[0mtime\u001b[0m\u001b[0;34m(\u001b[0m\u001b[0;34m)\u001b[0m\u001b[0;34m\u001b[0m\u001b[0;34m\u001b[0m\u001b[0m\n\u001b[1;32m      3\u001b[0m \u001b[0mdf_pandas1\u001b[0m\u001b[0;34m=\u001b[0m\u001b[0mpl\u001b[0m\u001b[0;34m.\u001b[0m\u001b[0mconcat\u001b[0m\u001b[0;34m(\u001b[0m\u001b[0;34m[\u001b[0m\u001b[0marquivo1\u001b[0m\u001b[0;34m]\u001b[0m\u001b[0;34m)\u001b[0m\u001b[0;34m\u001b[0m\u001b[0;34m\u001b[0m\u001b[0m\n\u001b[1;32m      4\u001b[0m \u001b[0mparquet1\u001b[0m\u001b[0;34m=\u001b[0m\u001b[0mdf_pandas1\u001b[0m\u001b[0;34m.\u001b[0m\u001b[0mwrite_parquet\u001b[0m\u001b[0;34m(\u001b[0m\u001b[0;34m\"/content/202501_NovoBolsaFamilia.parquet\"\u001b[0m\u001b[0;34m)\u001b[0m\u001b[0;34m\u001b[0m\u001b[0;34m\u001b[0m\u001b[0m\n\u001b[1;32m      5\u001b[0m \u001b[0mprint\u001b[0m\u001b[0;34m(\u001b[0m\u001b[0;34m\"Tempo de execução com Pandas\"\u001b[0m\u001b[0;34m,\u001b[0m \u001b[0mtime\u001b[0m\u001b[0;34m.\u001b[0m\u001b[0mtime\u001b[0m\u001b[0;34m(\u001b[0m\u001b[0;34m)\u001b[0m\u001b[0;34m-\u001b[0m\u001b[0minicio_tempo\u001b[0m\u001b[0;34m,\u001b[0m \u001b[0;34m\"segundos\"\u001b[0m\u001b[0;34m)\u001b[0m\u001b[0;34m\u001b[0m\u001b[0;34m\u001b[0m\u001b[0m\n",
            "\u001b[0;31mTypeError\u001b[0m: read_csv() got an unexpected keyword argument 'separator'"
          ]
        }
      ]
    },
    {
      "cell_type": "code",
      "source": [
        "arquivo2=pd.read_csv(\"/content/202502_NovoBolsaFamilia.csv\", separator=\";\", encoding=\"latin-1\")\n",
        "inicio_tempo=time.time()\n",
        "df_pandas2=pd.concat([arquivo2])\n",
        "parquet2=df_pandas2.write_parquet(\"/content/202502_NovoBolsaFamilia.parquet\")\n",
        "print(\"Tempo de execução com Pandas\", time.time()-inicio_tempo, \"segundos\")\n",
        "print(parquet2)"
      ],
      "metadata": {
        "id": "GTK6N35twuiR"
      },
      "execution_count": null,
      "outputs": []
    },
    {
      "cell_type": "code",
      "source": [
        "#Concatenar arquivos parquet\n",
        "df_0125=pd.read_parquet('/content/202501_NovoBolsaFamilia.parquet')\n",
        "df_0225=pd.read_parquet('/content/202501_NovoBolsaFamilia.parquet')\n",
        "df_010225=pd.concat([df_0125,df_0225])\n",
        "display(df_010225.head(7000000))"
      ],
      "metadata": {
        "id": "hk2hfenYwxoo"
      },
      "execution_count": null,
      "outputs": []
    },
    {
      "cell_type": "code",
      "source": [
        "#Uso do polars para manipulação de dados\n",
        "resultado_es=(df_010225.filter(pd.col(\"UF\")==\"ES\")) # Filtro em df_010225\n",
        "display(resultado_es)"
      ],
      "metadata": {
        "id": "IX4nk6-Iw1XB"
      },
      "execution_count": null,
      "outputs": []
    },
    {
      "cell_type": "code",
      "source": [
        "display(resultado_es.select(\"CÓDIGO MUNICÍPIO SIAFI\"))"
      ],
      "metadata": {
        "id": "mrHEK4uvw5wk"
      },
      "execution_count": null,
      "outputs": []
    },
    {
      "cell_type": "code",
      "source": [
        "display(resultado_es.filter(pd.col(\"MÊS COMPETÊNCIA\")==202501))"
      ],
      "metadata": {
        "id": "WIG35aGsw-y9"
      },
      "execution_count": null,
      "outputs": []
    },
    {
      "cell_type": "code",
      "source": [
        "display(resultado_es.select(pd.col(\"UF\")).describe())"
      ],
      "metadata": {
        "id": "Qv0n1HQmxAKC"
      },
      "execution_count": null,
      "outputs": []
    },
    {
      "cell_type": "code",
      "source": [
        "display(resultado_es.sort(\"NOME MUNICÍPIO\"))"
      ],
      "metadata": {
        "id": "lgdzWeLfxAIh"
      },
      "execution_count": null,
      "outputs": []
    },
    {
      "cell_type": "code",
      "source": [
        "display(resultado_es.group_by('UF').agg(pd.col('NOME MUNICÍPIO').value_counts()))"
      ],
      "metadata": {
        "id": "iyjFETcUxGK6"
      },
      "execution_count": null,
      "outputs": []
    },
    {
      "cell_type": "code",
      "source": [
        "resultado_es=resultado_es.slice(1)\n",
        "display(resultado_es.head())"
      ],
      "metadata": {
        "id": "xHlrrrDuxI3o"
      },
      "execution_count": null,
      "outputs": []
    },
    {
      "cell_type": "code",
      "source": [
        "resultado_es=resultado_es.with_columns(pd.lit(0).alias('SEES'))\n",
        "display(resultado_es.head())"
      ],
      "metadata": {
        "id": "z0yDr2oyxLKR"
      },
      "execution_count": null,
      "outputs": []
    },
    {
      "cell_type": "code",
      "source": [
        "resultado_es=resultado_es.drop(['SEES'])\n",
        "display(resultado_es.head())"
      ],
      "metadata": {
        "id": "BeJPDC0cxNmA"
      },
      "execution_count": null,
      "outputs": []
    },
    {
      "cell_type": "code",
      "source": [
        "#Concatenar arquivos parquet\n",
        "df_0125=pl.read_parquet('/content/202501_NovoBolsaFamilia.parquet')\n",
        "df_0225=pl.read_parquet('/content/202501_NovoBolsaFamilia.parquet')\n",
        "df_010225=pl.concat([df_0125,df_0225])\n",
        "display(df_010225.head(7000000))"
      ],
      "metadata": {
        "colab": {
          "base_uri": "https://localhost:8080/",
          "height": 547
        },
        "id": "KaB7E1SJxTdD",
        "outputId": "1e09aa77-c435-47d8-bf84-62bd343f7732"
      },
      "execution_count": 5,
      "outputs": [
        {
          "output_type": "display_data",
          "data": {
            "text/plain": [
              "shape: (7_000_000, 9)\n",
              "┌────────────┬────────────┬─────┬────────────┬───┬────────────┬────────────┬───────────┬───────────┐\n",
              "│ MÊS COMPET ┆ MÊS        ┆ UF  ┆ CÓDIGO     ┆ … ┆ CPF        ┆ NIS        ┆ NOME FAVO ┆ VALOR     │\n",
              "│ ÊNCIA      ┆ REFERÊNCIA ┆ --- ┆ MUNICÍPIO  ┆   ┆ FAVORECIDO ┆ FAVORECIDO ┆ RECIDO    ┆ PARCELA   │\n",
              "│ ---        ┆ ---        ┆ str ┆ SIAFI      ┆   ┆ ---        ┆ ---        ┆ ---       ┆ ---       │\n",
              "│ i64        ┆ i64        ┆     ┆ ---        ┆   ┆ str        ┆ i64        ┆ str       ┆ str       │\n",
              "│            ┆            ┆     ┆ i64        ┆   ┆            ┆            ┆           ┆           │\n",
              "╞════════════╪════════════╪═════╪════════════╪═══╪════════════╪════════════╪═══════════╪═══════════╡\n",
              "│ 202501     ┆ 202308     ┆ SP  ┆ 7071       ┆ … ┆ ***.085.10 ┆ 2064389044 ┆ FERNANDA  ┆ 650,00    │\n",
              "│            ┆            ┆     ┆            ┆   ┆ 6-**       ┆ 5          ┆ RAMOS     ┆           │\n",
              "│            ┆            ┆     ┆            ┆   ┆            ┆            ┆ TEIXEIRA  ┆           │\n",
              "│ 202501     ┆ 202309     ┆ SP  ┆ 7071       ┆ … ┆ ***.085.10 ┆ 2064389044 ┆ FERNANDA  ┆ 650,00    │\n",
              "│            ┆            ┆     ┆            ┆   ┆ 6-**       ┆ 5          ┆ RAMOS     ┆           │\n",
              "│            ┆            ┆     ┆            ┆   ┆            ┆            ┆ TEIXEIRA  ┆           │\n",
              "│ 202501     ┆ 202310     ┆ SP  ┆ 7071       ┆ … ┆ ***.085.10 ┆ 2064389044 ┆ FERNANDA  ┆ 650,00    │\n",
              "│            ┆            ┆     ┆            ┆   ┆ 6-**       ┆ 5          ┆ RAMOS     ┆           │\n",
              "│            ┆            ┆     ┆            ┆   ┆            ┆            ┆ TEIXEIRA  ┆           │\n",
              "│ 202501     ┆ 202311     ┆ SP  ┆ 7071       ┆ … ┆ ***.085.10 ┆ 2064389044 ┆ FERNANDA  ┆ 650,00    │\n",
              "│            ┆            ┆     ┆            ┆   ┆ 6-**       ┆ 5          ┆ RAMOS     ┆           │\n",
              "│            ┆            ┆     ┆            ┆   ┆            ┆            ┆ TEIXEIRA  ┆           │\n",
              "│ 202501     ┆ 202312     ┆ SP  ┆ 7071       ┆ … ┆ ***.085.10 ┆ 2064389044 ┆ FERNANDA  ┆ 650,00    │\n",
              "│            ┆            ┆     ┆            ┆   ┆ 6-**       ┆ 5          ┆ RAMOS     ┆           │\n",
              "│            ┆            ┆     ┆            ┆   ┆            ┆            ┆ TEIXEIRA  ┆           │\n",
              "│ …          ┆ …          ┆ …   ┆ …          ┆ … ┆ …          ┆ …          ┆ …         ┆ …         │\n",
              "│ 202501     ┆ 202501     ┆ MA  ┆ 845        ┆ … ┆ ***.497.46 ┆ 1267886937 ┆ JOSE      ┆ 750,00    │\n",
              "│            ┆            ┆     ┆            ┆   ┆ 3-**       ┆ 9          ┆ DIVINO    ┆           │\n",
              "│            ┆            ┆     ┆            ┆   ┆            ┆            ┆ ALVES     ┆           │\n",
              "│            ┆            ┆     ┆            ┆   ┆            ┆            ┆ GOMES     ┆           │\n",
              "│ 202501     ┆ 202501     ┆ MA  ┆ 845        ┆ … ┆            ┆ 1258118955 ┆ JOSE      ┆ 600,00    │\n",
              "│            ┆            ┆     ┆            ┆   ┆            ┆ 1          ┆ DOMINGOS  ┆           │\n",
              "│            ┆            ┆     ┆            ┆   ┆            ┆            ┆ DOURADO   ┆           │\n",
              "│            ┆            ┆     ┆            ┆   ┆            ┆            ┆ SOUSA     ┆           │\n",
              "│ 202501     ┆ 202501     ┆ MA  ┆ 845        ┆ … ┆ ***.765.89 ┆ 2010759972 ┆ JOSE DOS  ┆ 600,00    │\n",
              "│            ┆            ┆     ┆            ┆   ┆ 1-**       ┆ 9          ┆ SANTOS DA ┆           │\n",
              "│            ┆            ┆     ┆            ┆   ┆            ┆            ┆ COSTA     ┆           │\n",
              "│            ┆            ┆     ┆            ┆   ┆            ┆            ┆ AGUIA…    ┆           │\n",
              "│ 202501     ┆ 202501     ┆ MA  ┆ 845        ┆ … ┆ ***.379.62 ┆ 1268631197 ┆ JOSE DOS  ┆ 600,00    │\n",
              "│            ┆            ┆     ┆            ┆   ┆ 3-**       ┆ 7          ┆ SANTOS    ┆           │\n",
              "│            ┆            ┆     ┆            ┆   ┆            ┆            ┆ PEREIRA   ┆           │\n",
              "│            ┆            ┆     ┆            ┆   ┆            ┆            ┆ DE BRI…   ┆           │\n",
              "│ 202501     ┆ 202501     ┆ MA  ┆ 845        ┆ … ┆ ***.739.55 ┆ 1622678994 ┆ JOSE      ┆ 750,00    │\n",
              "│            ┆            ┆     ┆            ┆   ┆ 3-**       ┆ 9          ┆ DOURADO   ┆           │\n",
              "│            ┆            ┆     ┆            ┆   ┆            ┆            ┆ SOUSA     ┆           │\n",
              "└────────────┴────────────┴─────┴────────────┴───┴────────────┴────────────┴───────────┴───────────┘"
            ],
            "text/html": [
              "<div><style>\n",
              ".dataframe > thead > tr,\n",
              ".dataframe > tbody > tr {\n",
              "  text-align: right;\n",
              "  white-space: pre-wrap;\n",
              "}\n",
              "</style>\n",
              "<small>shape: (7_000_000, 9)</small><table border=\"1\" class=\"dataframe\"><thead><tr><th>MÊS COMPETÊNCIA</th><th>MÊS REFERÊNCIA</th><th>UF</th><th>CÓDIGO MUNICÍPIO SIAFI</th><th>NOME MUNICÍPIO</th><th>CPF FAVORECIDO</th><th>NIS FAVORECIDO</th><th>NOME FAVORECIDO</th><th>VALOR PARCELA</th></tr><tr><td>i64</td><td>i64</td><td>str</td><td>i64</td><td>str</td><td>str</td><td>i64</td><td>str</td><td>str</td></tr></thead><tbody><tr><td>202501</td><td>202308</td><td>&quot;SP&quot;</td><td>7071</td><td>&quot;SANTOS&quot;</td><td>&quot;***.085.106-**&quot;</td><td>20643890445</td><td>&quot;FERNANDA RAMOS TEIXEIRA&quot;</td><td>&quot;650,00&quot;</td></tr><tr><td>202501</td><td>202309</td><td>&quot;SP&quot;</td><td>7071</td><td>&quot;SANTOS&quot;</td><td>&quot;***.085.106-**&quot;</td><td>20643890445</td><td>&quot;FERNANDA RAMOS TEIXEIRA&quot;</td><td>&quot;650,00&quot;</td></tr><tr><td>202501</td><td>202310</td><td>&quot;SP&quot;</td><td>7071</td><td>&quot;SANTOS&quot;</td><td>&quot;***.085.106-**&quot;</td><td>20643890445</td><td>&quot;FERNANDA RAMOS TEIXEIRA&quot;</td><td>&quot;650,00&quot;</td></tr><tr><td>202501</td><td>202311</td><td>&quot;SP&quot;</td><td>7071</td><td>&quot;SANTOS&quot;</td><td>&quot;***.085.106-**&quot;</td><td>20643890445</td><td>&quot;FERNANDA RAMOS TEIXEIRA&quot;</td><td>&quot;650,00&quot;</td></tr><tr><td>202501</td><td>202312</td><td>&quot;SP&quot;</td><td>7071</td><td>&quot;SANTOS&quot;</td><td>&quot;***.085.106-**&quot;</td><td>20643890445</td><td>&quot;FERNANDA RAMOS TEIXEIRA&quot;</td><td>&quot;650,00&quot;</td></tr><tr><td>&hellip;</td><td>&hellip;</td><td>&hellip;</td><td>&hellip;</td><td>&hellip;</td><td>&hellip;</td><td>&hellip;</td><td>&hellip;</td><td>&hellip;</td></tr><tr><td>202501</td><td>202501</td><td>&quot;MA&quot;</td><td>845</td><td>&quot;NOVA IORQUE&quot;</td><td>&quot;***.497.463-**&quot;</td><td>12678869379</td><td>&quot;JOSE DIVINO ALVES GOMES&quot;</td><td>&quot;750,00&quot;</td></tr><tr><td>202501</td><td>202501</td><td>&quot;MA&quot;</td><td>845</td><td>&quot;NOVA IORQUE&quot;</td><td>&quot;&quot;</td><td>12581189551</td><td>&quot;JOSE DOMINGOS DOURADO SOUSA&quot;</td><td>&quot;600,00&quot;</td></tr><tr><td>202501</td><td>202501</td><td>&quot;MA&quot;</td><td>845</td><td>&quot;NOVA IORQUE&quot;</td><td>&quot;***.765.891-**&quot;</td><td>20107599729</td><td>&quot;JOSE DOS SANTOS DA COSTA AGUIA…</td><td>&quot;600,00&quot;</td></tr><tr><td>202501</td><td>202501</td><td>&quot;MA&quot;</td><td>845</td><td>&quot;NOVA IORQUE&quot;</td><td>&quot;***.379.623-**&quot;</td><td>12686311977</td><td>&quot;JOSE DOS SANTOS PEREIRA DE BRI…</td><td>&quot;600,00&quot;</td></tr><tr><td>202501</td><td>202501</td><td>&quot;MA&quot;</td><td>845</td><td>&quot;NOVA IORQUE&quot;</td><td>&quot;***.739.553-**&quot;</td><td>16226789949</td><td>&quot;JOSE DOURADO SOUSA&quot;</td><td>&quot;750,00&quot;</td></tr></tbody></table></div>"
            ]
          },
          "metadata": {}
        }
      ]
    },
    {
      "cell_type": "code",
      "source": [
        "#Uso do polars para manipulação de dados\n",
        "resultado_es=(df_010225.filter(pl.col(\"UF\")==\"ES\")) # Filtro em df_010225\n",
        "display(resultado_es)"
      ],
      "metadata": {
        "colab": {
          "base_uri": "https://localhost:8080/",
          "height": 565
        },
        "id": "eiOtSCe_xXnW",
        "outputId": "0ac58a9c-5484-4c3e-9c23-c3c76448273e"
      },
      "execution_count": 8,
      "outputs": [
        {
          "output_type": "display_data",
          "data": {
            "text/plain": [
              "shape: (613_308, 9)\n",
              "┌────────────┬────────────┬─────┬────────────┬───┬────────────┬────────────┬───────────┬───────────┐\n",
              "│ MÊS COMPET ┆ MÊS        ┆ UF  ┆ CÓDIGO     ┆ … ┆ CPF        ┆ NIS        ┆ NOME FAVO ┆ VALOR     │\n",
              "│ ÊNCIA      ┆ REFERÊNCIA ┆ --- ┆ MUNICÍPIO  ┆   ┆ FAVORECIDO ┆ FAVORECIDO ┆ RECIDO    ┆ PARCELA   │\n",
              "│ ---        ┆ ---        ┆ str ┆ SIAFI      ┆   ┆ ---        ┆ ---        ┆ ---       ┆ ---       │\n",
              "│ i64        ┆ i64        ┆     ┆ ---        ┆   ┆ str        ┆ i64        ┆ str       ┆ str       │\n",
              "│            ┆            ┆     ┆ i64        ┆   ┆            ┆            ┆           ┆           │\n",
              "╞════════════╪════════════╪═════╪════════════╪═══╪════════════╪════════════╪═══════════╪═══════════╡\n",
              "│ 202501     ┆ 202406     ┆ ES  ┆ 5663       ┆ … ┆ ***.911.69 ┆ 1630288951 ┆ CAMILA    ┆ 1110,00   │\n",
              "│            ┆            ┆     ┆            ┆   ┆ 7-**       ┆ 1          ┆ SANTOS DA ┆           │\n",
              "│            ┆            ┆     ┆            ┆   ┆            ┆            ┆ VITORIA   ┆           │\n",
              "│ 202501     ┆ 202406     ┆ ES  ┆ 5663       ┆ … ┆ ***.521.28 ┆ 1430250087 ┆ JESSICA   ┆ 700,00    │\n",
              "│            ┆            ┆     ┆            ┆   ┆ 7-**       ┆ 1          ┆ VENANCIO  ┆           │\n",
              "│            ┆            ┆     ┆            ┆   ┆            ┆            ┆ DE SOUZA  ┆           │\n",
              "│ 202501     ┆ 202407     ┆ ES  ┆ 5601       ┆ … ┆ ***.516.60 ┆ 1655521054 ┆ CINTIA    ┆ 350,00    │\n",
              "│            ┆            ┆     ┆            ┆   ┆ 5-**       ┆ 1          ┆ CANDIDO   ┆           │\n",
              "│            ┆            ┆     ┆            ┆   ┆            ┆            ┆ DOS       ┆           │\n",
              "│            ┆            ┆     ┆            ┆   ┆            ┆            ┆ SANTOS    ┆           │\n",
              "│ 202501     ┆ 202407     ┆ ES  ┆ 5601       ┆ … ┆ ***.638.92 ┆ 1286138129 ┆ ROSA      ┆ 350,00    │\n",
              "│            ┆            ┆     ┆            ┆   ┆ 7-**       ┆ 0          ┆ MARIA     ┆           │\n",
              "│            ┆            ┆     ┆            ┆   ┆            ┆            ┆ HELKER    ┆           │\n",
              "│ 202501     ┆ 202407     ┆ ES  ┆ 5719       ┆ … ┆ ***.055.69 ┆ 1658497601 ┆ RAFAELA   ┆ 375,00    │\n",
              "│            ┆            ┆     ┆            ┆   ┆ 7-**       ┆ 8          ┆ CRISTINA  ┆           │\n",
              "│            ┆            ┆     ┆            ┆   ┆            ┆            ┆ DA ROCHA  ┆           │\n",
              "│ …          ┆ …          ┆ …   ┆ …          ┆ … ┆ …          ┆ …          ┆ …         ┆ …         │\n",
              "│ 202501     ┆ 202501     ┆ ES  ┆ 5705       ┆ … ┆ ***.802.33 ┆ 1660353417 ┆ ZULEIKA   ┆ 650,00    │\n",
              "│            ┆            ┆     ┆            ┆   ┆ 7-**       ┆ 8          ┆ ALMEIDA   ┆           │\n",
              "│            ┆            ┆     ┆            ┆   ┆            ┆            ┆ DOS REIS  ┆           │\n",
              "│ 202501     ┆ 202501     ┆ ES  ┆ 5705       ┆ … ┆ ***.259.53 ┆ 1236354279 ┆ ZULMIRA   ┆ 300,00    │\n",
              "│            ┆            ┆     ┆            ┆   ┆ 7-**       ┆ 9          ┆ BANDEIRA  ┆           │\n",
              "│ 202501     ┆ 202501     ┆ ES  ┆ 5705       ┆ … ┆ ***.824.80 ┆ 2090200725 ┆ ZULMIRA   ┆ 600,00    │\n",
              "│            ┆            ┆     ┆            ┆   ┆ 7-**       ┆ 9          ┆ DE FATIMA ┆           │\n",
              "│            ┆            ┆     ┆            ┆   ┆            ┆            ┆ ALTENRATH ┆           │\n",
              "│            ┆            ┆     ┆            ┆   ┆            ┆            ┆ SO…       ┆           │\n",
              "│ 202501     ┆ 202501     ┆ ES  ┆ 5705       ┆ … ┆ ***.110.84 ┆ 1276217229 ┆ ZULNARA   ┆ 600,00    │\n",
              "│            ┆            ┆     ┆            ┆   ┆ 7-**       ┆ 4          ┆ ASCACIBA  ┆           │\n",
              "│            ┆            ┆     ┆            ┆   ┆            ┆            ┆ GOMES     ┆           │\n",
              "│ 202501     ┆ 202501     ┆ ES  ┆ 5705       ┆ … ┆            ┆ 1314874429 ┆ ZYGMUNT   ┆ 600,00    │\n",
              "│            ┆            ┆     ┆            ┆   ┆            ┆ 1          ┆ EDUARD    ┆           │\n",
              "│            ┆            ┆     ┆            ┆   ┆            ┆            ┆ STANISZ   ┆           │\n",
              "│            ┆            ┆     ┆            ┆   ┆            ┆            ┆ NUNES     ┆           │\n",
              "└────────────┴────────────┴─────┴────────────┴───┴────────────┴────────────┴───────────┴───────────┘"
            ],
            "text/html": [
              "<div><style>\n",
              ".dataframe > thead > tr,\n",
              ".dataframe > tbody > tr {\n",
              "  text-align: right;\n",
              "  white-space: pre-wrap;\n",
              "}\n",
              "</style>\n",
              "<small>shape: (613_308, 9)</small><table border=\"1\" class=\"dataframe\"><thead><tr><th>MÊS COMPETÊNCIA</th><th>MÊS REFERÊNCIA</th><th>UF</th><th>CÓDIGO MUNICÍPIO SIAFI</th><th>NOME MUNICÍPIO</th><th>CPF FAVORECIDO</th><th>NIS FAVORECIDO</th><th>NOME FAVORECIDO</th><th>VALOR PARCELA</th></tr><tr><td>i64</td><td>i64</td><td>str</td><td>i64</td><td>str</td><td>str</td><td>i64</td><td>str</td><td>str</td></tr></thead><tbody><tr><td>202501</td><td>202406</td><td>&quot;ES&quot;</td><td>5663</td><td>&quot;LINHARES&quot;</td><td>&quot;***.911.697-**&quot;</td><td>16302889511</td><td>&quot;CAMILA SANTOS DA VITORIA&quot;</td><td>&quot;1110,00&quot;</td></tr><tr><td>202501</td><td>202406</td><td>&quot;ES&quot;</td><td>5663</td><td>&quot;LINHARES&quot;</td><td>&quot;***.521.287-**&quot;</td><td>14302500871</td><td>&quot;JESSICA VENANCIO DE SOUZA&quot;</td><td>&quot;700,00&quot;</td></tr><tr><td>202501</td><td>202407</td><td>&quot;ES&quot;</td><td>5601</td><td>&quot;AFONSO CLAUDIO&quot;</td><td>&quot;***.516.605-**&quot;</td><td>16555210541</td><td>&quot;CINTIA CANDIDO DOS SANTOS&quot;</td><td>&quot;350,00&quot;</td></tr><tr><td>202501</td><td>202407</td><td>&quot;ES&quot;</td><td>5601</td><td>&quot;AFONSO CLAUDIO&quot;</td><td>&quot;***.638.927-**&quot;</td><td>12861381290</td><td>&quot;ROSA MARIA HELKER&quot;</td><td>&quot;350,00&quot;</td></tr><tr><td>202501</td><td>202407</td><td>&quot;ES&quot;</td><td>5719</td><td>&quot;ALTO RIO NOVO&quot;</td><td>&quot;***.055.697-**&quot;</td><td>16584976018</td><td>&quot;RAFAELA CRISTINA DA ROCHA&quot;</td><td>&quot;375,00&quot;</td></tr><tr><td>&hellip;</td><td>&hellip;</td><td>&hellip;</td><td>&hellip;</td><td>&hellip;</td><td>&hellip;</td><td>&hellip;</td><td>&hellip;</td><td>&hellip;</td></tr><tr><td>202501</td><td>202501</td><td>&quot;ES&quot;</td><td>5705</td><td>&quot;VITORIA&quot;</td><td>&quot;***.802.337-**&quot;</td><td>16603534178</td><td>&quot;ZULEIKA ALMEIDA DOS REIS&quot;</td><td>&quot;650,00&quot;</td></tr><tr><td>202501</td><td>202501</td><td>&quot;ES&quot;</td><td>5705</td><td>&quot;VITORIA&quot;</td><td>&quot;***.259.537-**&quot;</td><td>12363542799</td><td>&quot;ZULMIRA BANDEIRA&quot;</td><td>&quot;300,00&quot;</td></tr><tr><td>202501</td><td>202501</td><td>&quot;ES&quot;</td><td>5705</td><td>&quot;VITORIA&quot;</td><td>&quot;***.824.807-**&quot;</td><td>20902007259</td><td>&quot;ZULMIRA DE FATIMA ALTENRATH SO…</td><td>&quot;600,00&quot;</td></tr><tr><td>202501</td><td>202501</td><td>&quot;ES&quot;</td><td>5705</td><td>&quot;VITORIA&quot;</td><td>&quot;***.110.847-**&quot;</td><td>12762172294</td><td>&quot;ZULNARA ASCACIBA GOMES&quot;</td><td>&quot;600,00&quot;</td></tr><tr><td>202501</td><td>202501</td><td>&quot;ES&quot;</td><td>5705</td><td>&quot;VITORIA&quot;</td><td>&quot;&quot;</td><td>13148744291</td><td>&quot;ZYGMUNT EDUARD STANISZ NUNES&quot;</td><td>&quot;600,00&quot;</td></tr></tbody></table></div>"
            ]
          },
          "metadata": {}
        }
      ]
    },
    {
      "cell_type": "code",
      "source": [
        "display(resultado_es.select(\"CÓDIGO MUNICÍPIO SIAFI\"))"
      ],
      "metadata": {
        "colab": {
          "base_uri": "https://localhost:8080/",
          "height": 443
        },
        "id": "N2lCoHySyG8c",
        "outputId": "920ed859-bee6-4482-8aa0-c4e2ea8b6c75"
      },
      "execution_count": 9,
      "outputs": [
        {
          "output_type": "display_data",
          "data": {
            "text/plain": [
              "shape: (613_308, 1)\n",
              "┌────────────────────────┐\n",
              "│ CÓDIGO MUNICÍPIO SIAFI │\n",
              "│ ---                    │\n",
              "│ i64                    │\n",
              "╞════════════════════════╡\n",
              "│ 5663                   │\n",
              "│ 5663                   │\n",
              "│ 5601                   │\n",
              "│ 5601                   │\n",
              "│ 5719                   │\n",
              "│ …                      │\n",
              "│ 5705                   │\n",
              "│ 5705                   │\n",
              "│ 5705                   │\n",
              "│ 5705                   │\n",
              "│ 5705                   │\n",
              "└────────────────────────┘"
            ],
            "text/html": [
              "<div><style>\n",
              ".dataframe > thead > tr,\n",
              ".dataframe > tbody > tr {\n",
              "  text-align: right;\n",
              "  white-space: pre-wrap;\n",
              "}\n",
              "</style>\n",
              "<small>shape: (613_308, 1)</small><table border=\"1\" class=\"dataframe\"><thead><tr><th>CÓDIGO MUNICÍPIO SIAFI</th></tr><tr><td>i64</td></tr></thead><tbody><tr><td>5663</td></tr><tr><td>5663</td></tr><tr><td>5601</td></tr><tr><td>5601</td></tr><tr><td>5719</td></tr><tr><td>&hellip;</td></tr><tr><td>5705</td></tr><tr><td>5705</td></tr><tr><td>5705</td></tr><tr><td>5705</td></tr><tr><td>5705</td></tr></tbody></table></div>"
            ]
          },
          "metadata": {}
        }
      ]
    },
    {
      "cell_type": "code",
      "source": [
        "display(resultado_es.filter(pl.col(\"MÊS COMPETÊNCIA\")==202501))"
      ],
      "metadata": {
        "colab": {
          "base_uri": "https://localhost:8080/",
          "height": 565
        },
        "id": "7QGRtHbYxeJH",
        "outputId": "1e55e87b-3f94-4627-d427-8a760077f31c"
      },
      "execution_count": 11,
      "outputs": [
        {
          "output_type": "display_data",
          "data": {
            "text/plain": [
              "shape: (613_308, 9)\n",
              "┌────────────┬────────────┬─────┬────────────┬───┬────────────┬────────────┬───────────┬───────────┐\n",
              "│ MÊS COMPET ┆ MÊS        ┆ UF  ┆ CÓDIGO     ┆ … ┆ CPF        ┆ NIS        ┆ NOME FAVO ┆ VALOR     │\n",
              "│ ÊNCIA      ┆ REFERÊNCIA ┆ --- ┆ MUNICÍPIO  ┆   ┆ FAVORECIDO ┆ FAVORECIDO ┆ RECIDO    ┆ PARCELA   │\n",
              "│ ---        ┆ ---        ┆ str ┆ SIAFI      ┆   ┆ ---        ┆ ---        ┆ ---       ┆ ---       │\n",
              "│ i64        ┆ i64        ┆     ┆ ---        ┆   ┆ str        ┆ i64        ┆ str       ┆ str       │\n",
              "│            ┆            ┆     ┆ i64        ┆   ┆            ┆            ┆           ┆           │\n",
              "╞════════════╪════════════╪═════╪════════════╪═══╪════════════╪════════════╪═══════════╪═══════════╡\n",
              "│ 202501     ┆ 202406     ┆ ES  ┆ 5663       ┆ … ┆ ***.911.69 ┆ 1630288951 ┆ CAMILA    ┆ 1110,00   │\n",
              "│            ┆            ┆     ┆            ┆   ┆ 7-**       ┆ 1          ┆ SANTOS DA ┆           │\n",
              "│            ┆            ┆     ┆            ┆   ┆            ┆            ┆ VITORIA   ┆           │\n",
              "│ 202501     ┆ 202406     ┆ ES  ┆ 5663       ┆ … ┆ ***.521.28 ┆ 1430250087 ┆ JESSICA   ┆ 700,00    │\n",
              "│            ┆            ┆     ┆            ┆   ┆ 7-**       ┆ 1          ┆ VENANCIO  ┆           │\n",
              "│            ┆            ┆     ┆            ┆   ┆            ┆            ┆ DE SOUZA  ┆           │\n",
              "│ 202501     ┆ 202407     ┆ ES  ┆ 5601       ┆ … ┆ ***.516.60 ┆ 1655521054 ┆ CINTIA    ┆ 350,00    │\n",
              "│            ┆            ┆     ┆            ┆   ┆ 5-**       ┆ 1          ┆ CANDIDO   ┆           │\n",
              "│            ┆            ┆     ┆            ┆   ┆            ┆            ┆ DOS       ┆           │\n",
              "│            ┆            ┆     ┆            ┆   ┆            ┆            ┆ SANTOS    ┆           │\n",
              "│ 202501     ┆ 202407     ┆ ES  ┆ 5601       ┆ … ┆ ***.638.92 ┆ 1286138129 ┆ ROSA      ┆ 350,00    │\n",
              "│            ┆            ┆     ┆            ┆   ┆ 7-**       ┆ 0          ┆ MARIA     ┆           │\n",
              "│            ┆            ┆     ┆            ┆   ┆            ┆            ┆ HELKER    ┆           │\n",
              "│ 202501     ┆ 202407     ┆ ES  ┆ 5719       ┆ … ┆ ***.055.69 ┆ 1658497601 ┆ RAFAELA   ┆ 375,00    │\n",
              "│            ┆            ┆     ┆            ┆   ┆ 7-**       ┆ 8          ┆ CRISTINA  ┆           │\n",
              "│            ┆            ┆     ┆            ┆   ┆            ┆            ┆ DA ROCHA  ┆           │\n",
              "│ …          ┆ …          ┆ …   ┆ …          ┆ … ┆ …          ┆ …          ┆ …         ┆ …         │\n",
              "│ 202501     ┆ 202501     ┆ ES  ┆ 5705       ┆ … ┆ ***.802.33 ┆ 1660353417 ┆ ZULEIKA   ┆ 650,00    │\n",
              "│            ┆            ┆     ┆            ┆   ┆ 7-**       ┆ 8          ┆ ALMEIDA   ┆           │\n",
              "│            ┆            ┆     ┆            ┆   ┆            ┆            ┆ DOS REIS  ┆           │\n",
              "│ 202501     ┆ 202501     ┆ ES  ┆ 5705       ┆ … ┆ ***.259.53 ┆ 1236354279 ┆ ZULMIRA   ┆ 300,00    │\n",
              "│            ┆            ┆     ┆            ┆   ┆ 7-**       ┆ 9          ┆ BANDEIRA  ┆           │\n",
              "│ 202501     ┆ 202501     ┆ ES  ┆ 5705       ┆ … ┆ ***.824.80 ┆ 2090200725 ┆ ZULMIRA   ┆ 600,00    │\n",
              "│            ┆            ┆     ┆            ┆   ┆ 7-**       ┆ 9          ┆ DE FATIMA ┆           │\n",
              "│            ┆            ┆     ┆            ┆   ┆            ┆            ┆ ALTENRATH ┆           │\n",
              "│            ┆            ┆     ┆            ┆   ┆            ┆            ┆ SO…       ┆           │\n",
              "│ 202501     ┆ 202501     ┆ ES  ┆ 5705       ┆ … ┆ ***.110.84 ┆ 1276217229 ┆ ZULNARA   ┆ 600,00    │\n",
              "│            ┆            ┆     ┆            ┆   ┆ 7-**       ┆ 4          ┆ ASCACIBA  ┆           │\n",
              "│            ┆            ┆     ┆            ┆   ┆            ┆            ┆ GOMES     ┆           │\n",
              "│ 202501     ┆ 202501     ┆ ES  ┆ 5705       ┆ … ┆            ┆ 1314874429 ┆ ZYGMUNT   ┆ 600,00    │\n",
              "│            ┆            ┆     ┆            ┆   ┆            ┆ 1          ┆ EDUARD    ┆           │\n",
              "│            ┆            ┆     ┆            ┆   ┆            ┆            ┆ STANISZ   ┆           │\n",
              "│            ┆            ┆     ┆            ┆   ┆            ┆            ┆ NUNES     ┆           │\n",
              "└────────────┴────────────┴─────┴────────────┴───┴────────────┴────────────┴───────────┴───────────┘"
            ],
            "text/html": [
              "<div><style>\n",
              ".dataframe > thead > tr,\n",
              ".dataframe > tbody > tr {\n",
              "  text-align: right;\n",
              "  white-space: pre-wrap;\n",
              "}\n",
              "</style>\n",
              "<small>shape: (613_308, 9)</small><table border=\"1\" class=\"dataframe\"><thead><tr><th>MÊS COMPETÊNCIA</th><th>MÊS REFERÊNCIA</th><th>UF</th><th>CÓDIGO MUNICÍPIO SIAFI</th><th>NOME MUNICÍPIO</th><th>CPF FAVORECIDO</th><th>NIS FAVORECIDO</th><th>NOME FAVORECIDO</th><th>VALOR PARCELA</th></tr><tr><td>i64</td><td>i64</td><td>str</td><td>i64</td><td>str</td><td>str</td><td>i64</td><td>str</td><td>str</td></tr></thead><tbody><tr><td>202501</td><td>202406</td><td>&quot;ES&quot;</td><td>5663</td><td>&quot;LINHARES&quot;</td><td>&quot;***.911.697-**&quot;</td><td>16302889511</td><td>&quot;CAMILA SANTOS DA VITORIA&quot;</td><td>&quot;1110,00&quot;</td></tr><tr><td>202501</td><td>202406</td><td>&quot;ES&quot;</td><td>5663</td><td>&quot;LINHARES&quot;</td><td>&quot;***.521.287-**&quot;</td><td>14302500871</td><td>&quot;JESSICA VENANCIO DE SOUZA&quot;</td><td>&quot;700,00&quot;</td></tr><tr><td>202501</td><td>202407</td><td>&quot;ES&quot;</td><td>5601</td><td>&quot;AFONSO CLAUDIO&quot;</td><td>&quot;***.516.605-**&quot;</td><td>16555210541</td><td>&quot;CINTIA CANDIDO DOS SANTOS&quot;</td><td>&quot;350,00&quot;</td></tr><tr><td>202501</td><td>202407</td><td>&quot;ES&quot;</td><td>5601</td><td>&quot;AFONSO CLAUDIO&quot;</td><td>&quot;***.638.927-**&quot;</td><td>12861381290</td><td>&quot;ROSA MARIA HELKER&quot;</td><td>&quot;350,00&quot;</td></tr><tr><td>202501</td><td>202407</td><td>&quot;ES&quot;</td><td>5719</td><td>&quot;ALTO RIO NOVO&quot;</td><td>&quot;***.055.697-**&quot;</td><td>16584976018</td><td>&quot;RAFAELA CRISTINA DA ROCHA&quot;</td><td>&quot;375,00&quot;</td></tr><tr><td>&hellip;</td><td>&hellip;</td><td>&hellip;</td><td>&hellip;</td><td>&hellip;</td><td>&hellip;</td><td>&hellip;</td><td>&hellip;</td><td>&hellip;</td></tr><tr><td>202501</td><td>202501</td><td>&quot;ES&quot;</td><td>5705</td><td>&quot;VITORIA&quot;</td><td>&quot;***.802.337-**&quot;</td><td>16603534178</td><td>&quot;ZULEIKA ALMEIDA DOS REIS&quot;</td><td>&quot;650,00&quot;</td></tr><tr><td>202501</td><td>202501</td><td>&quot;ES&quot;</td><td>5705</td><td>&quot;VITORIA&quot;</td><td>&quot;***.259.537-**&quot;</td><td>12363542799</td><td>&quot;ZULMIRA BANDEIRA&quot;</td><td>&quot;300,00&quot;</td></tr><tr><td>202501</td><td>202501</td><td>&quot;ES&quot;</td><td>5705</td><td>&quot;VITORIA&quot;</td><td>&quot;***.824.807-**&quot;</td><td>20902007259</td><td>&quot;ZULMIRA DE FATIMA ALTENRATH SO…</td><td>&quot;600,00&quot;</td></tr><tr><td>202501</td><td>202501</td><td>&quot;ES&quot;</td><td>5705</td><td>&quot;VITORIA&quot;</td><td>&quot;***.110.847-**&quot;</td><td>12762172294</td><td>&quot;ZULNARA ASCACIBA GOMES&quot;</td><td>&quot;600,00&quot;</td></tr><tr><td>202501</td><td>202501</td><td>&quot;ES&quot;</td><td>5705</td><td>&quot;VITORIA&quot;</td><td>&quot;&quot;</td><td>13148744291</td><td>&quot;ZYGMUNT EDUARD STANISZ NUNES&quot;</td><td>&quot;600,00&quot;</td></tr></tbody></table></div>"
            ]
          },
          "metadata": {}
        }
      ]
    },
    {
      "cell_type": "code",
      "source": [
        "display(resultado_es.select(pl.col(\"UF\")).describe())"
      ],
      "metadata": {
        "colab": {
          "base_uri": "https://localhost:8080/",
          "height": 381
        },
        "id": "zTP7ikZJxr19",
        "outputId": "548735b4-6442-4801-bf2f-65e565765200"
      },
      "execution_count": 12,
      "outputs": [
        {
          "output_type": "display_data",
          "data": {
            "text/plain": [
              "shape: (9, 2)\n",
              "┌────────────┬────────┐\n",
              "│ statistic  ┆ UF     │\n",
              "│ ---        ┆ ---    │\n",
              "│ str        ┆ str    │\n",
              "╞════════════╪════════╡\n",
              "│ count      ┆ 613308 │\n",
              "│ null_count ┆ 0      │\n",
              "│ mean       ┆ null   │\n",
              "│ std        ┆ null   │\n",
              "│ min        ┆ ES     │\n",
              "│ 25%        ┆ null   │\n",
              "│ 50%        ┆ null   │\n",
              "│ 75%        ┆ null   │\n",
              "│ max        ┆ ES     │\n",
              "└────────────┴────────┘"
            ],
            "text/html": [
              "<div><style>\n",
              ".dataframe > thead > tr,\n",
              ".dataframe > tbody > tr {\n",
              "  text-align: right;\n",
              "  white-space: pre-wrap;\n",
              "}\n",
              "</style>\n",
              "<small>shape: (9, 2)</small><table border=\"1\" class=\"dataframe\"><thead><tr><th>statistic</th><th>UF</th></tr><tr><td>str</td><td>str</td></tr></thead><tbody><tr><td>&quot;count&quot;</td><td>&quot;613308&quot;</td></tr><tr><td>&quot;null_count&quot;</td><td>&quot;0&quot;</td></tr><tr><td>&quot;mean&quot;</td><td>null</td></tr><tr><td>&quot;std&quot;</td><td>null</td></tr><tr><td>&quot;min&quot;</td><td>&quot;ES&quot;</td></tr><tr><td>&quot;25%&quot;</td><td>null</td></tr><tr><td>&quot;50%&quot;</td><td>null</td></tr><tr><td>&quot;75%&quot;</td><td>null</td></tr><tr><td>&quot;max&quot;</td><td>&quot;ES&quot;</td></tr></tbody></table></div>"
            ]
          },
          "metadata": {}
        }
      ]
    },
    {
      "cell_type": "code",
      "source": [
        "display(resultado_es.sort(\"NOME MUNICÍPIO\"))"
      ],
      "metadata": {
        "colab": {
          "base_uri": "https://localhost:8080/",
          "height": 582
        },
        "id": "sZ69RbpxyLCa",
        "outputId": "791af657-e211-4bf7-d7fb-2fda0d58d28e"
      },
      "execution_count": 13,
      "outputs": [
        {
          "output_type": "display_data",
          "data": {
            "text/plain": [
              "shape: (613_308, 9)\n",
              "┌────────────┬────────────┬─────┬────────────┬───┬────────────┬────────────┬───────────┬───────────┐\n",
              "│ MÊS COMPET ┆ MÊS        ┆ UF  ┆ CÓDIGO     ┆ … ┆ CPF        ┆ NIS        ┆ NOME FAVO ┆ VALOR     │\n",
              "│ ÊNCIA      ┆ REFERÊNCIA ┆ --- ┆ MUNICÍPIO  ┆   ┆ FAVORECIDO ┆ FAVORECIDO ┆ RECIDO    ┆ PARCELA   │\n",
              "│ ---        ┆ ---        ┆ str ┆ SIAFI      ┆   ┆ ---        ┆ ---        ┆ ---       ┆ ---       │\n",
              "│ i64        ┆ i64        ┆     ┆ ---        ┆   ┆ str        ┆ i64        ┆ str       ┆ str       │\n",
              "│            ┆            ┆     ┆ i64        ┆   ┆            ┆            ┆           ┆           │\n",
              "╞════════════╪════════════╪═════╪════════════╪═══╪════════════╪════════════╪═══════════╪═══════════╡\n",
              "│ 202501     ┆ 202407     ┆ ES  ┆ 5601       ┆ … ┆ ***.516.60 ┆ 1655521054 ┆ CINTIA    ┆ 350,00    │\n",
              "│            ┆            ┆     ┆            ┆   ┆ 5-**       ┆ 1          ┆ CANDIDO   ┆           │\n",
              "│            ┆            ┆     ┆            ┆   ┆            ┆            ┆ DOS       ┆           │\n",
              "│            ┆            ┆     ┆            ┆   ┆            ┆            ┆ SANTOS    ┆           │\n",
              "│ 202501     ┆ 202407     ┆ ES  ┆ 5601       ┆ … ┆ ***.638.92 ┆ 1286138129 ┆ ROSA      ┆ 350,00    │\n",
              "│            ┆            ┆     ┆            ┆   ┆ 7-**       ┆ 0          ┆ MARIA     ┆           │\n",
              "│            ┆            ┆     ┆            ┆   ┆            ┆            ┆ HELKER    ┆           │\n",
              "│ 202501     ┆ 202408     ┆ ES  ┆ 5601       ┆ … ┆ ***.516.60 ┆ 1655521054 ┆ CINTIA    ┆ 350,00    │\n",
              "│            ┆            ┆     ┆            ┆   ┆ 5-**       ┆ 1          ┆ CANDIDO   ┆           │\n",
              "│            ┆            ┆     ┆            ┆   ┆            ┆            ┆ DOS       ┆           │\n",
              "│            ┆            ┆     ┆            ┆   ┆            ┆            ┆ SANTOS    ┆           │\n",
              "│ 202501     ┆ 202408     ┆ ES  ┆ 5601       ┆ … ┆ ***.638.92 ┆ 1286138129 ┆ ROSA      ┆ 350,00    │\n",
              "│            ┆            ┆     ┆            ┆   ┆ 7-**       ┆ 0          ┆ MARIA     ┆           │\n",
              "│            ┆            ┆     ┆            ┆   ┆            ┆            ┆ HELKER    ┆           │\n",
              "│ 202501     ┆ 202409     ┆ ES  ┆ 5601       ┆ … ┆ ***.516.60 ┆ 1655521054 ┆ CINTIA    ┆ 350,00    │\n",
              "│            ┆            ┆     ┆            ┆   ┆ 5-**       ┆ 1          ┆ CANDIDO   ┆           │\n",
              "│            ┆            ┆     ┆            ┆   ┆            ┆            ┆ DOS       ┆           │\n",
              "│            ┆            ┆     ┆            ┆   ┆            ┆            ┆ SANTOS    ┆           │\n",
              "│ …          ┆ …          ┆ …   ┆ …          ┆ … ┆ …          ┆ …          ┆ …         ┆ …         │\n",
              "│ 202501     ┆ 202501     ┆ ES  ┆ 5705       ┆ … ┆ ***.802.33 ┆ 1660353417 ┆ ZULEIKA   ┆ 650,00    │\n",
              "│            ┆            ┆     ┆            ┆   ┆ 7-**       ┆ 8          ┆ ALMEIDA   ┆           │\n",
              "│            ┆            ┆     ┆            ┆   ┆            ┆            ┆ DOS REIS  ┆           │\n",
              "│ 202501     ┆ 202501     ┆ ES  ┆ 5705       ┆ … ┆ ***.259.53 ┆ 1236354279 ┆ ZULMIRA   ┆ 300,00    │\n",
              "│            ┆            ┆     ┆            ┆   ┆ 7-**       ┆ 9          ┆ BANDEIRA  ┆           │\n",
              "│ 202501     ┆ 202501     ┆ ES  ┆ 5705       ┆ … ┆ ***.824.80 ┆ 2090200725 ┆ ZULMIRA   ┆ 600,00    │\n",
              "│            ┆            ┆     ┆            ┆   ┆ 7-**       ┆ 9          ┆ DE FATIMA ┆           │\n",
              "│            ┆            ┆     ┆            ┆   ┆            ┆            ┆ ALTENRATH ┆           │\n",
              "│            ┆            ┆     ┆            ┆   ┆            ┆            ┆ SO…       ┆           │\n",
              "│ 202501     ┆ 202501     ┆ ES  ┆ 5705       ┆ … ┆ ***.110.84 ┆ 1276217229 ┆ ZULNARA   ┆ 600,00    │\n",
              "│            ┆            ┆     ┆            ┆   ┆ 7-**       ┆ 4          ┆ ASCACIBA  ┆           │\n",
              "│            ┆            ┆     ┆            ┆   ┆            ┆            ┆ GOMES     ┆           │\n",
              "│ 202501     ┆ 202501     ┆ ES  ┆ 5705       ┆ … ┆            ┆ 1314874429 ┆ ZYGMUNT   ┆ 600,00    │\n",
              "│            ┆            ┆     ┆            ┆   ┆            ┆ 1          ┆ EDUARD    ┆           │\n",
              "│            ┆            ┆     ┆            ┆   ┆            ┆            ┆ STANISZ   ┆           │\n",
              "│            ┆            ┆     ┆            ┆   ┆            ┆            ┆ NUNES     ┆           │\n",
              "└────────────┴────────────┴─────┴────────────┴───┴────────────┴────────────┴───────────┴───────────┘"
            ],
            "text/html": [
              "<div><style>\n",
              ".dataframe > thead > tr,\n",
              ".dataframe > tbody > tr {\n",
              "  text-align: right;\n",
              "  white-space: pre-wrap;\n",
              "}\n",
              "</style>\n",
              "<small>shape: (613_308, 9)</small><table border=\"1\" class=\"dataframe\"><thead><tr><th>MÊS COMPETÊNCIA</th><th>MÊS REFERÊNCIA</th><th>UF</th><th>CÓDIGO MUNICÍPIO SIAFI</th><th>NOME MUNICÍPIO</th><th>CPF FAVORECIDO</th><th>NIS FAVORECIDO</th><th>NOME FAVORECIDO</th><th>VALOR PARCELA</th></tr><tr><td>i64</td><td>i64</td><td>str</td><td>i64</td><td>str</td><td>str</td><td>i64</td><td>str</td><td>str</td></tr></thead><tbody><tr><td>202501</td><td>202407</td><td>&quot;ES&quot;</td><td>5601</td><td>&quot;AFONSO CLAUDIO&quot;</td><td>&quot;***.516.605-**&quot;</td><td>16555210541</td><td>&quot;CINTIA CANDIDO DOS SANTOS&quot;</td><td>&quot;350,00&quot;</td></tr><tr><td>202501</td><td>202407</td><td>&quot;ES&quot;</td><td>5601</td><td>&quot;AFONSO CLAUDIO&quot;</td><td>&quot;***.638.927-**&quot;</td><td>12861381290</td><td>&quot;ROSA MARIA HELKER&quot;</td><td>&quot;350,00&quot;</td></tr><tr><td>202501</td><td>202408</td><td>&quot;ES&quot;</td><td>5601</td><td>&quot;AFONSO CLAUDIO&quot;</td><td>&quot;***.516.605-**&quot;</td><td>16555210541</td><td>&quot;CINTIA CANDIDO DOS SANTOS&quot;</td><td>&quot;350,00&quot;</td></tr><tr><td>202501</td><td>202408</td><td>&quot;ES&quot;</td><td>5601</td><td>&quot;AFONSO CLAUDIO&quot;</td><td>&quot;***.638.927-**&quot;</td><td>12861381290</td><td>&quot;ROSA MARIA HELKER&quot;</td><td>&quot;350,00&quot;</td></tr><tr><td>202501</td><td>202409</td><td>&quot;ES&quot;</td><td>5601</td><td>&quot;AFONSO CLAUDIO&quot;</td><td>&quot;***.516.605-**&quot;</td><td>16555210541</td><td>&quot;CINTIA CANDIDO DOS SANTOS&quot;</td><td>&quot;350,00&quot;</td></tr><tr><td>&hellip;</td><td>&hellip;</td><td>&hellip;</td><td>&hellip;</td><td>&hellip;</td><td>&hellip;</td><td>&hellip;</td><td>&hellip;</td><td>&hellip;</td></tr><tr><td>202501</td><td>202501</td><td>&quot;ES&quot;</td><td>5705</td><td>&quot;VITORIA&quot;</td><td>&quot;***.802.337-**&quot;</td><td>16603534178</td><td>&quot;ZULEIKA ALMEIDA DOS REIS&quot;</td><td>&quot;650,00&quot;</td></tr><tr><td>202501</td><td>202501</td><td>&quot;ES&quot;</td><td>5705</td><td>&quot;VITORIA&quot;</td><td>&quot;***.259.537-**&quot;</td><td>12363542799</td><td>&quot;ZULMIRA BANDEIRA&quot;</td><td>&quot;300,00&quot;</td></tr><tr><td>202501</td><td>202501</td><td>&quot;ES&quot;</td><td>5705</td><td>&quot;VITORIA&quot;</td><td>&quot;***.824.807-**&quot;</td><td>20902007259</td><td>&quot;ZULMIRA DE FATIMA ALTENRATH SO…</td><td>&quot;600,00&quot;</td></tr><tr><td>202501</td><td>202501</td><td>&quot;ES&quot;</td><td>5705</td><td>&quot;VITORIA&quot;</td><td>&quot;***.110.847-**&quot;</td><td>12762172294</td><td>&quot;ZULNARA ASCACIBA GOMES&quot;</td><td>&quot;600,00&quot;</td></tr><tr><td>202501</td><td>202501</td><td>&quot;ES&quot;</td><td>5705</td><td>&quot;VITORIA&quot;</td><td>&quot;&quot;</td><td>13148744291</td><td>&quot;ZYGMUNT EDUARD STANISZ NUNES&quot;</td><td>&quot;600,00&quot;</td></tr></tbody></table></div>"
            ]
          },
          "metadata": {}
        }
      ]
    },
    {
      "cell_type": "code",
      "source": [
        "display(resultado_es.group_by('UF').agg(pl.col('NOME MUNICÍPIO').value_counts()))"
      ],
      "metadata": {
        "colab": {
          "base_uri": "https://localhost:8080/",
          "height": 130
        },
        "id": "Vv2vMp5lxsu2",
        "outputId": "331825dd-0002-45a6-fdff-658d9cbbb7ce"
      },
      "execution_count": 14,
      "outputs": [
        {
          "output_type": "display_data",
          "data": {
            "text/plain": [
              "shape: (1, 2)\n",
              "┌─────┬─────────────────────────────────┐\n",
              "│ UF  ┆ NOME MUNICÍPIO                  │\n",
              "│ --- ┆ ---                             │\n",
              "│ str ┆ list[struct[2]]                 │\n",
              "╞═════╪═════════════════════════════════╡\n",
              "│ ES  ┆ [{\"ALEGRE\",5720}, {\"BARRA DE S… │\n",
              "└─────┴─────────────────────────────────┘"
            ],
            "text/html": [
              "<div><style>\n",
              ".dataframe > thead > tr,\n",
              ".dataframe > tbody > tr {\n",
              "  text-align: right;\n",
              "  white-space: pre-wrap;\n",
              "}\n",
              "</style>\n",
              "<small>shape: (1, 2)</small><table border=\"1\" class=\"dataframe\"><thead><tr><th>UF</th><th>NOME MUNICÍPIO</th></tr><tr><td>str</td><td>list[struct[2]]</td></tr></thead><tbody><tr><td>&quot;ES&quot;</td><td>[{&quot;ALEGRE&quot;,5720}, {&quot;BARRA DE SAO FRANCISCO&quot;,6746}, … {&quot;SAO JOSE DO CALCADO&quot;,3160}]</td></tr></tbody></table></div>"
            ]
          },
          "metadata": {}
        }
      ]
    },
    {
      "cell_type": "code",
      "source": [
        "resultado_es=resultado_es.slice(1)\n",
        "display(resultado_es.head())"
      ],
      "metadata": {
        "colab": {
          "base_uri": "https://localhost:8080/",
          "height": 359
        },
        "id": "lfdPVhOnyPeB",
        "outputId": "6114d8b7-01ae-4c9c-929e-d429b6c26d60"
      },
      "execution_count": 15,
      "outputs": [
        {
          "output_type": "display_data",
          "data": {
            "text/plain": [
              "shape: (5, 9)\n",
              "┌────────────┬────────────┬─────┬────────────┬───┬────────────┬────────────┬───────────┬───────────┐\n",
              "│ MÊS COMPET ┆ MÊS        ┆ UF  ┆ CÓDIGO     ┆ … ┆ CPF        ┆ NIS        ┆ NOME FAVO ┆ VALOR     │\n",
              "│ ÊNCIA      ┆ REFERÊNCIA ┆ --- ┆ MUNICÍPIO  ┆   ┆ FAVORECIDO ┆ FAVORECIDO ┆ RECIDO    ┆ PARCELA   │\n",
              "│ ---        ┆ ---        ┆ str ┆ SIAFI      ┆   ┆ ---        ┆ ---        ┆ ---       ┆ ---       │\n",
              "│ i64        ┆ i64        ┆     ┆ ---        ┆   ┆ str        ┆ i64        ┆ str       ┆ str       │\n",
              "│            ┆            ┆     ┆ i64        ┆   ┆            ┆            ┆           ┆           │\n",
              "╞════════════╪════════════╪═════╪════════════╪═══╪════════════╪════════════╪═══════════╪═══════════╡\n",
              "│ 202501     ┆ 202406     ┆ ES  ┆ 5663       ┆ … ┆ ***.521.28 ┆ 1430250087 ┆ JESSICA   ┆ 700,00    │\n",
              "│            ┆            ┆     ┆            ┆   ┆ 7-**       ┆ 1          ┆ VENANCIO  ┆           │\n",
              "│            ┆            ┆     ┆            ┆   ┆            ┆            ┆ DE SOUZA  ┆           │\n",
              "│ 202501     ┆ 202407     ┆ ES  ┆ 5601       ┆ … ┆ ***.516.60 ┆ 1655521054 ┆ CINTIA    ┆ 350,00    │\n",
              "│            ┆            ┆     ┆            ┆   ┆ 5-**       ┆ 1          ┆ CANDIDO   ┆           │\n",
              "│            ┆            ┆     ┆            ┆   ┆            ┆            ┆ DOS       ┆           │\n",
              "│            ┆            ┆     ┆            ┆   ┆            ┆            ┆ SANTOS    ┆           │\n",
              "│ 202501     ┆ 202407     ┆ ES  ┆ 5601       ┆ … ┆ ***.638.92 ┆ 1286138129 ┆ ROSA      ┆ 350,00    │\n",
              "│            ┆            ┆     ┆            ┆   ┆ 7-**       ┆ 0          ┆ MARIA     ┆           │\n",
              "│            ┆            ┆     ┆            ┆   ┆            ┆            ┆ HELKER    ┆           │\n",
              "│ 202501     ┆ 202407     ┆ ES  ┆ 5719       ┆ … ┆ ***.055.69 ┆ 1658497601 ┆ RAFAELA   ┆ 375,00    │\n",
              "│            ┆            ┆     ┆            ┆   ┆ 7-**       ┆ 8          ┆ CRISTINA  ┆           │\n",
              "│            ┆            ┆     ┆            ┆   ┆            ┆            ┆ DA ROCHA  ┆           │\n",
              "│ 202501     ┆ 202407     ┆ ES  ┆ 5613       ┆ … ┆ ***.522.90 ┆ 1637586123 ┆ LUCILEIA  ┆ 600,00    │\n",
              "│            ┆            ┆     ┆            ┆   ┆ 7-**       ┆ 4          ┆ ALVES     ┆           │\n",
              "│            ┆            ┆     ┆            ┆   ┆            ┆            ┆ TOME      ┆           │\n",
              "└────────────┴────────────┴─────┴────────────┴───┴────────────┴────────────┴───────────┴───────────┘"
            ],
            "text/html": [
              "<div><style>\n",
              ".dataframe > thead > tr,\n",
              ".dataframe > tbody > tr {\n",
              "  text-align: right;\n",
              "  white-space: pre-wrap;\n",
              "}\n",
              "</style>\n",
              "<small>shape: (5, 9)</small><table border=\"1\" class=\"dataframe\"><thead><tr><th>MÊS COMPETÊNCIA</th><th>MÊS REFERÊNCIA</th><th>UF</th><th>CÓDIGO MUNICÍPIO SIAFI</th><th>NOME MUNICÍPIO</th><th>CPF FAVORECIDO</th><th>NIS FAVORECIDO</th><th>NOME FAVORECIDO</th><th>VALOR PARCELA</th></tr><tr><td>i64</td><td>i64</td><td>str</td><td>i64</td><td>str</td><td>str</td><td>i64</td><td>str</td><td>str</td></tr></thead><tbody><tr><td>202501</td><td>202406</td><td>&quot;ES&quot;</td><td>5663</td><td>&quot;LINHARES&quot;</td><td>&quot;***.521.287-**&quot;</td><td>14302500871</td><td>&quot;JESSICA VENANCIO DE SOUZA&quot;</td><td>&quot;700,00&quot;</td></tr><tr><td>202501</td><td>202407</td><td>&quot;ES&quot;</td><td>5601</td><td>&quot;AFONSO CLAUDIO&quot;</td><td>&quot;***.516.605-**&quot;</td><td>16555210541</td><td>&quot;CINTIA CANDIDO DOS SANTOS&quot;</td><td>&quot;350,00&quot;</td></tr><tr><td>202501</td><td>202407</td><td>&quot;ES&quot;</td><td>5601</td><td>&quot;AFONSO CLAUDIO&quot;</td><td>&quot;***.638.927-**&quot;</td><td>12861381290</td><td>&quot;ROSA MARIA HELKER&quot;</td><td>&quot;350,00&quot;</td></tr><tr><td>202501</td><td>202407</td><td>&quot;ES&quot;</td><td>5719</td><td>&quot;ALTO RIO NOVO&quot;</td><td>&quot;***.055.697-**&quot;</td><td>16584976018</td><td>&quot;RAFAELA CRISTINA DA ROCHA&quot;</td><td>&quot;375,00&quot;</td></tr><tr><td>202501</td><td>202407</td><td>&quot;ES&quot;</td><td>5613</td><td>&quot;ATILIO VIVACQUA&quot;</td><td>&quot;***.522.907-**&quot;</td><td>16375861234</td><td>&quot;LUCILEIA ALVES TOME&quot;</td><td>&quot;600,00&quot;</td></tr></tbody></table></div>"
            ]
          },
          "metadata": {}
        }
      ]
    },
    {
      "cell_type": "code",
      "source": [
        "resultado_es=resultado_es.with_columns(pl.lit(0).alias('SEES'))\n",
        "display(resultado_es.head())"
      ],
      "metadata": {
        "colab": {
          "base_uri": "https://localhost:8080/",
          "height": 359
        },
        "id": "AKmS9bhPxvc3",
        "outputId": "8e598e20-457a-400b-ec9e-11fe81fd4a36"
      },
      "execution_count": 16,
      "outputs": [
        {
          "output_type": "display_data",
          "data": {
            "text/plain": [
              "shape: (5, 10)\n",
              "┌──────────────┬──────────────┬─────┬─────────────┬───┬─────────────┬─────────────┬─────────┬──────┐\n",
              "│ MÊS          ┆ MÊS          ┆ UF  ┆ CÓDIGO      ┆ … ┆ NIS         ┆ NOME        ┆ VALOR   ┆ SEES │\n",
              "│ COMPETÊNCIA  ┆ REFERÊNCIA   ┆ --- ┆ MUNICÍPIO   ┆   ┆ FAVORECIDO  ┆ FAVORECIDO  ┆ PARCELA ┆ ---  │\n",
              "│ ---          ┆ ---          ┆ str ┆ SIAFI       ┆   ┆ ---         ┆ ---         ┆ ---     ┆ i32  │\n",
              "│ i64          ┆ i64          ┆     ┆ ---         ┆   ┆ i64         ┆ str         ┆ str     ┆      │\n",
              "│              ┆              ┆     ┆ i64         ┆   ┆             ┆             ┆         ┆      │\n",
              "╞══════════════╪══════════════╪═════╪═════════════╪═══╪═════════════╪═════════════╪═════════╪══════╡\n",
              "│ 202501       ┆ 202406       ┆ ES  ┆ 5663        ┆ … ┆ 14302500871 ┆ JESSICA     ┆ 700,00  ┆ 0    │\n",
              "│              ┆              ┆     ┆             ┆   ┆             ┆ VENANCIO DE ┆         ┆      │\n",
              "│              ┆              ┆     ┆             ┆   ┆             ┆ SOUZA       ┆         ┆      │\n",
              "│ 202501       ┆ 202407       ┆ ES  ┆ 5601        ┆ … ┆ 16555210541 ┆ CINTIA      ┆ 350,00  ┆ 0    │\n",
              "│              ┆              ┆     ┆             ┆   ┆             ┆ CANDIDO DOS ┆         ┆      │\n",
              "│              ┆              ┆     ┆             ┆   ┆             ┆ SANTOS      ┆         ┆      │\n",
              "│ 202501       ┆ 202407       ┆ ES  ┆ 5601        ┆ … ┆ 12861381290 ┆ ROSA MARIA  ┆ 350,00  ┆ 0    │\n",
              "│              ┆              ┆     ┆             ┆   ┆             ┆ HELKER      ┆         ┆      │\n",
              "│ 202501       ┆ 202407       ┆ ES  ┆ 5719        ┆ … ┆ 16584976018 ┆ RAFAELA     ┆ 375,00  ┆ 0    │\n",
              "│              ┆              ┆     ┆             ┆   ┆             ┆ CRISTINA DA ┆         ┆      │\n",
              "│              ┆              ┆     ┆             ┆   ┆             ┆ ROCHA       ┆         ┆      │\n",
              "│ 202501       ┆ 202407       ┆ ES  ┆ 5613        ┆ … ┆ 16375861234 ┆ LUCILEIA    ┆ 600,00  ┆ 0    │\n",
              "│              ┆              ┆     ┆             ┆   ┆             ┆ ALVES TOME  ┆         ┆      │\n",
              "└──────────────┴──────────────┴─────┴─────────────┴───┴─────────────┴─────────────┴─────────┴──────┘"
            ],
            "text/html": [
              "<div><style>\n",
              ".dataframe > thead > tr,\n",
              ".dataframe > tbody > tr {\n",
              "  text-align: right;\n",
              "  white-space: pre-wrap;\n",
              "}\n",
              "</style>\n",
              "<small>shape: (5, 10)</small><table border=\"1\" class=\"dataframe\"><thead><tr><th>MÊS COMPETÊNCIA</th><th>MÊS REFERÊNCIA</th><th>UF</th><th>CÓDIGO MUNICÍPIO SIAFI</th><th>NOME MUNICÍPIO</th><th>CPF FAVORECIDO</th><th>NIS FAVORECIDO</th><th>NOME FAVORECIDO</th><th>VALOR PARCELA</th><th>SEES</th></tr><tr><td>i64</td><td>i64</td><td>str</td><td>i64</td><td>str</td><td>str</td><td>i64</td><td>str</td><td>str</td><td>i32</td></tr></thead><tbody><tr><td>202501</td><td>202406</td><td>&quot;ES&quot;</td><td>5663</td><td>&quot;LINHARES&quot;</td><td>&quot;***.521.287-**&quot;</td><td>14302500871</td><td>&quot;JESSICA VENANCIO DE SOUZA&quot;</td><td>&quot;700,00&quot;</td><td>0</td></tr><tr><td>202501</td><td>202407</td><td>&quot;ES&quot;</td><td>5601</td><td>&quot;AFONSO CLAUDIO&quot;</td><td>&quot;***.516.605-**&quot;</td><td>16555210541</td><td>&quot;CINTIA CANDIDO DOS SANTOS&quot;</td><td>&quot;350,00&quot;</td><td>0</td></tr><tr><td>202501</td><td>202407</td><td>&quot;ES&quot;</td><td>5601</td><td>&quot;AFONSO CLAUDIO&quot;</td><td>&quot;***.638.927-**&quot;</td><td>12861381290</td><td>&quot;ROSA MARIA HELKER&quot;</td><td>&quot;350,00&quot;</td><td>0</td></tr><tr><td>202501</td><td>202407</td><td>&quot;ES&quot;</td><td>5719</td><td>&quot;ALTO RIO NOVO&quot;</td><td>&quot;***.055.697-**&quot;</td><td>16584976018</td><td>&quot;RAFAELA CRISTINA DA ROCHA&quot;</td><td>&quot;375,00&quot;</td><td>0</td></tr><tr><td>202501</td><td>202407</td><td>&quot;ES&quot;</td><td>5613</td><td>&quot;ATILIO VIVACQUA&quot;</td><td>&quot;***.522.907-**&quot;</td><td>16375861234</td><td>&quot;LUCILEIA ALVES TOME&quot;</td><td>&quot;600,00&quot;</td><td>0</td></tr></tbody></table></div>"
            ]
          },
          "metadata": {}
        }
      ]
    },
    {
      "cell_type": "code",
      "source": [
        "resultado_es=resultado_es.drop(['SEES'])\n",
        "display(resultado_es.head())"
      ],
      "metadata": {
        "colab": {
          "base_uri": "https://localhost:8080/",
          "height": 359
        },
        "id": "NeLEpjgBxyjT",
        "outputId": "b4716226-a88c-4059-be79-aa84f45c730c"
      },
      "execution_count": 17,
      "outputs": [
        {
          "output_type": "display_data",
          "data": {
            "text/plain": [
              "shape: (5, 9)\n",
              "┌────────────┬────────────┬─────┬────────────┬───┬────────────┬────────────┬───────────┬───────────┐\n",
              "│ MÊS COMPET ┆ MÊS        ┆ UF  ┆ CÓDIGO     ┆ … ┆ CPF        ┆ NIS        ┆ NOME FAVO ┆ VALOR     │\n",
              "│ ÊNCIA      ┆ REFERÊNCIA ┆ --- ┆ MUNICÍPIO  ┆   ┆ FAVORECIDO ┆ FAVORECIDO ┆ RECIDO    ┆ PARCELA   │\n",
              "│ ---        ┆ ---        ┆ str ┆ SIAFI      ┆   ┆ ---        ┆ ---        ┆ ---       ┆ ---       │\n",
              "│ i64        ┆ i64        ┆     ┆ ---        ┆   ┆ str        ┆ i64        ┆ str       ┆ str       │\n",
              "│            ┆            ┆     ┆ i64        ┆   ┆            ┆            ┆           ┆           │\n",
              "╞════════════╪════════════╪═════╪════════════╪═══╪════════════╪════════════╪═══════════╪═══════════╡\n",
              "│ 202501     ┆ 202406     ┆ ES  ┆ 5663       ┆ … ┆ ***.521.28 ┆ 1430250087 ┆ JESSICA   ┆ 700,00    │\n",
              "│            ┆            ┆     ┆            ┆   ┆ 7-**       ┆ 1          ┆ VENANCIO  ┆           │\n",
              "│            ┆            ┆     ┆            ┆   ┆            ┆            ┆ DE SOUZA  ┆           │\n",
              "│ 202501     ┆ 202407     ┆ ES  ┆ 5601       ┆ … ┆ ***.516.60 ┆ 1655521054 ┆ CINTIA    ┆ 350,00    │\n",
              "│            ┆            ┆     ┆            ┆   ┆ 5-**       ┆ 1          ┆ CANDIDO   ┆           │\n",
              "│            ┆            ┆     ┆            ┆   ┆            ┆            ┆ DOS       ┆           │\n",
              "│            ┆            ┆     ┆            ┆   ┆            ┆            ┆ SANTOS    ┆           │\n",
              "│ 202501     ┆ 202407     ┆ ES  ┆ 5601       ┆ … ┆ ***.638.92 ┆ 1286138129 ┆ ROSA      ┆ 350,00    │\n",
              "│            ┆            ┆     ┆            ┆   ┆ 7-**       ┆ 0          ┆ MARIA     ┆           │\n",
              "│            ┆            ┆     ┆            ┆   ┆            ┆            ┆ HELKER    ┆           │\n",
              "│ 202501     ┆ 202407     ┆ ES  ┆ 5719       ┆ … ┆ ***.055.69 ┆ 1658497601 ┆ RAFAELA   ┆ 375,00    │\n",
              "│            ┆            ┆     ┆            ┆   ┆ 7-**       ┆ 8          ┆ CRISTINA  ┆           │\n",
              "│            ┆            ┆     ┆            ┆   ┆            ┆            ┆ DA ROCHA  ┆           │\n",
              "│ 202501     ┆ 202407     ┆ ES  ┆ 5613       ┆ … ┆ ***.522.90 ┆ 1637586123 ┆ LUCILEIA  ┆ 600,00    │\n",
              "│            ┆            ┆     ┆            ┆   ┆ 7-**       ┆ 4          ┆ ALVES     ┆           │\n",
              "│            ┆            ┆     ┆            ┆   ┆            ┆            ┆ TOME      ┆           │\n",
              "└────────────┴────────────┴─────┴────────────┴───┴────────────┴────────────┴───────────┴───────────┘"
            ],
            "text/html": [
              "<div><style>\n",
              ".dataframe > thead > tr,\n",
              ".dataframe > tbody > tr {\n",
              "  text-align: right;\n",
              "  white-space: pre-wrap;\n",
              "}\n",
              "</style>\n",
              "<small>shape: (5, 9)</small><table border=\"1\" class=\"dataframe\"><thead><tr><th>MÊS COMPETÊNCIA</th><th>MÊS REFERÊNCIA</th><th>UF</th><th>CÓDIGO MUNICÍPIO SIAFI</th><th>NOME MUNICÍPIO</th><th>CPF FAVORECIDO</th><th>NIS FAVORECIDO</th><th>NOME FAVORECIDO</th><th>VALOR PARCELA</th></tr><tr><td>i64</td><td>i64</td><td>str</td><td>i64</td><td>str</td><td>str</td><td>i64</td><td>str</td><td>str</td></tr></thead><tbody><tr><td>202501</td><td>202406</td><td>&quot;ES&quot;</td><td>5663</td><td>&quot;LINHARES&quot;</td><td>&quot;***.521.287-**&quot;</td><td>14302500871</td><td>&quot;JESSICA VENANCIO DE SOUZA&quot;</td><td>&quot;700,00&quot;</td></tr><tr><td>202501</td><td>202407</td><td>&quot;ES&quot;</td><td>5601</td><td>&quot;AFONSO CLAUDIO&quot;</td><td>&quot;***.516.605-**&quot;</td><td>16555210541</td><td>&quot;CINTIA CANDIDO DOS SANTOS&quot;</td><td>&quot;350,00&quot;</td></tr><tr><td>202501</td><td>202407</td><td>&quot;ES&quot;</td><td>5601</td><td>&quot;AFONSO CLAUDIO&quot;</td><td>&quot;***.638.927-**&quot;</td><td>12861381290</td><td>&quot;ROSA MARIA HELKER&quot;</td><td>&quot;350,00&quot;</td></tr><tr><td>202501</td><td>202407</td><td>&quot;ES&quot;</td><td>5719</td><td>&quot;ALTO RIO NOVO&quot;</td><td>&quot;***.055.697-**&quot;</td><td>16584976018</td><td>&quot;RAFAELA CRISTINA DA ROCHA&quot;</td><td>&quot;375,00&quot;</td></tr><tr><td>202501</td><td>202407</td><td>&quot;ES&quot;</td><td>5613</td><td>&quot;ATILIO VIVACQUA&quot;</td><td>&quot;***.522.907-**&quot;</td><td>16375861234</td><td>&quot;LUCILEIA ALVES TOME&quot;</td><td>&quot;600,00&quot;</td></tr></tbody></table></div>"
            ]
          },
          "metadata": {}
        }
      ]
    },
    {
      "cell_type": "code",
      "source": [
        "# LAZY:\n",
        "df_es = pl.DataFrame(df_010225).lazy()"
      ],
      "metadata": {
        "id": "08olCAwmyfp0"
      },
      "execution_count": 6,
      "outputs": []
    },
    {
      "cell_type": "code",
      "source": [
        "# EXPLAIN:\n",
        "df_es.filter(pl.col(\"UF\")==\"ES\").explain()"
      ],
      "metadata": {
        "colab": {
          "base_uri": "https://localhost:8080/",
          "height": 35
        },
        "id": "dQBJz6EMyiFq",
        "outputId": "afbc3f1f-0d53-4fdc-c2ae-0787bb02e457"
      },
      "execution_count": 7,
      "outputs": [
        {
          "output_type": "execute_result",
          "data": {
            "text/plain": [
              "'FILTER [(col(\"UF\")) == (String(ES))] FROM\\n  DF [\"MÊS COMPETÊNCIA\", \"MÊS REFERÊNCIA\", \"UF\", \"CÓDIGO MUNICÍPIO SIAFI\"]; PROJECT */9 COLUMNS'"
            ],
            "application/vnd.google.colaboratory.intrinsic+json": {
              "type": "string"
            }
          },
          "metadata": {},
          "execution_count": 7
        }
      ]
    },
    {
      "cell_type": "code",
      "source": [
        "# COLLECT:\n",
        "resultadoes=(df_es.filter(pl.col(\"UF\")==\"ES\").collect())\n",
        "display(resultadoes.head(100))"
      ],
      "metadata": {
        "colab": {
          "base_uri": "https://localhost:8080/",
          "height": 617
        },
        "id": "hgASCkYWymgc",
        "outputId": "c27e65e3-39a9-4200-94d8-0c2d454b43bf"
      },
      "execution_count": 8,
      "outputs": [
        {
          "output_type": "display_data",
          "data": {
            "text/plain": [
              "shape: (100, 9)\n",
              "┌────────────┬────────────┬─────┬────────────┬───┬────────────┬────────────┬───────────┬───────────┐\n",
              "│ MÊS COMPET ┆ MÊS        ┆ UF  ┆ CÓDIGO     ┆ … ┆ CPF        ┆ NIS        ┆ NOME FAVO ┆ VALOR     │\n",
              "│ ÊNCIA      ┆ REFERÊNCIA ┆ --- ┆ MUNICÍPIO  ┆   ┆ FAVORECIDO ┆ FAVORECIDO ┆ RECIDO    ┆ PARCELA   │\n",
              "│ ---        ┆ ---        ┆ str ┆ SIAFI      ┆   ┆ ---        ┆ ---        ┆ ---       ┆ ---       │\n",
              "│ i64        ┆ i64        ┆     ┆ ---        ┆   ┆ str        ┆ i64        ┆ str       ┆ str       │\n",
              "│            ┆            ┆     ┆ i64        ┆   ┆            ┆            ┆           ┆           │\n",
              "╞════════════╪════════════╪═════╪════════════╪═══╪════════════╪════════════╪═══════════╪═══════════╡\n",
              "│ 202501     ┆ 202406     ┆ ES  ┆ 5663       ┆ … ┆ ***.911.69 ┆ 1630288951 ┆ CAMILA    ┆ 1110,00   │\n",
              "│            ┆            ┆     ┆            ┆   ┆ 7-**       ┆ 1          ┆ SANTOS DA ┆           │\n",
              "│            ┆            ┆     ┆            ┆   ┆            ┆            ┆ VITORIA   ┆           │\n",
              "│ 202501     ┆ 202406     ┆ ES  ┆ 5663       ┆ … ┆ ***.521.28 ┆ 1430250087 ┆ JESSICA   ┆ 700,00    │\n",
              "│            ┆            ┆     ┆            ┆   ┆ 7-**       ┆ 1          ┆ VENANCIO  ┆           │\n",
              "│            ┆            ┆     ┆            ┆   ┆            ┆            ┆ DE SOUZA  ┆           │\n",
              "│ 202501     ┆ 202407     ┆ ES  ┆ 5601       ┆ … ┆ ***.516.60 ┆ 1655521054 ┆ CINTIA    ┆ 350,00    │\n",
              "│            ┆            ┆     ┆            ┆   ┆ 5-**       ┆ 1          ┆ CANDIDO   ┆           │\n",
              "│            ┆            ┆     ┆            ┆   ┆            ┆            ┆ DOS       ┆           │\n",
              "│            ┆            ┆     ┆            ┆   ┆            ┆            ┆ SANTOS    ┆           │\n",
              "│ 202501     ┆ 202407     ┆ ES  ┆ 5601       ┆ … ┆ ***.638.92 ┆ 1286138129 ┆ ROSA      ┆ 350,00    │\n",
              "│            ┆            ┆     ┆            ┆   ┆ 7-**       ┆ 0          ┆ MARIA     ┆           │\n",
              "│            ┆            ┆     ┆            ┆   ┆            ┆            ┆ HELKER    ┆           │\n",
              "│ 202501     ┆ 202407     ┆ ES  ┆ 5719       ┆ … ┆ ***.055.69 ┆ 1658497601 ┆ RAFAELA   ┆ 375,00    │\n",
              "│            ┆            ┆     ┆            ┆   ┆ 7-**       ┆ 8          ┆ CRISTINA  ┆           │\n",
              "│            ┆            ┆     ┆            ┆   ┆            ┆            ┆ DA ROCHA  ┆           │\n",
              "│ …          ┆ …          ┆ …   ┆ …          ┆ … ┆ …          ┆ …          ┆ …         ┆ …         │\n",
              "│ 202501     ┆ 202408     ┆ ES  ┆ 5623       ┆ … ┆            ┆ 1624663332 ┆ IVANEIDE  ┆ 650,00    │\n",
              "│            ┆            ┆     ┆            ┆   ┆            ┆ 4          ┆ BATISTA   ┆           │\n",
              "│            ┆            ┆     ┆            ┆   ┆            ┆            ┆ DE LIMA   ┆           │\n",
              "│            ┆            ┆     ┆            ┆   ┆            ┆            ┆ ARAUJ…    ┆           │\n",
              "│ 202501     ┆ 202408     ┆ ES  ┆ 5623       ┆ … ┆ ***.601.45 ┆ 2045115960 ┆ JHONATA   ┆ 600,00    │\n",
              "│            ┆            ┆     ┆            ┆   ┆ 7-**       ┆ 2          ┆ DA SILVA  ┆           │\n",
              "│            ┆            ┆     ┆            ┆   ┆            ┆            ┆ CUNHA     ┆           │\n",
              "│ 202501     ┆ 202408     ┆ ES  ┆ 5623       ┆ … ┆ ***.167.84 ┆ 1642369661 ┆ LUANA DE  ┆ 600,00    │\n",
              "│            ┆            ┆     ┆            ┆   ┆ 7-**       ┆ 7          ┆ MORAES DA ┆           │\n",
              "│            ┆            ┆     ┆            ┆   ┆            ┆            ┆ SILVA     ┆           │\n",
              "│ 202501     ┆ 202408     ┆ ES  ┆ 5625       ┆ … ┆ ***.913.12 ┆ 1326711829 ┆ ABRAAO DO ┆ 750,00    │\n",
              "│            ┆            ┆     ┆            ┆   ┆ 7-**       ┆ 7          ┆ CARMO DOS ┆           │\n",
              "│            ┆            ┆     ┆            ┆   ┆            ┆            ┆ SANTOS    ┆           │\n",
              "│ 202501     ┆ 202408     ┆ ES  ┆ 5625       ┆ … ┆ ***.655.10 ┆ 1217935732 ┆ ANA MARIA ┆ 600,00    │\n",
              "│            ┆            ┆     ┆            ┆   ┆ 7-**       ┆ 1          ┆ DE JESUS  ┆           │\n",
              "│            ┆            ┆     ┆            ┆   ┆            ┆            ┆ SANT ANA  ┆           │\n",
              "│            ┆            ┆     ┆            ┆   ┆            ┆            ┆ DE…       ┆           │\n",
              "└────────────┴────────────┴─────┴────────────┴───┴────────────┴────────────┴───────────┴───────────┘"
            ],
            "text/html": [
              "<div><style>\n",
              ".dataframe > thead > tr,\n",
              ".dataframe > tbody > tr {\n",
              "  text-align: right;\n",
              "  white-space: pre-wrap;\n",
              "}\n",
              "</style>\n",
              "<small>shape: (100, 9)</small><table border=\"1\" class=\"dataframe\"><thead><tr><th>MÊS COMPETÊNCIA</th><th>MÊS REFERÊNCIA</th><th>UF</th><th>CÓDIGO MUNICÍPIO SIAFI</th><th>NOME MUNICÍPIO</th><th>CPF FAVORECIDO</th><th>NIS FAVORECIDO</th><th>NOME FAVORECIDO</th><th>VALOR PARCELA</th></tr><tr><td>i64</td><td>i64</td><td>str</td><td>i64</td><td>str</td><td>str</td><td>i64</td><td>str</td><td>str</td></tr></thead><tbody><tr><td>202501</td><td>202406</td><td>&quot;ES&quot;</td><td>5663</td><td>&quot;LINHARES&quot;</td><td>&quot;***.911.697-**&quot;</td><td>16302889511</td><td>&quot;CAMILA SANTOS DA VITORIA&quot;</td><td>&quot;1110,00&quot;</td></tr><tr><td>202501</td><td>202406</td><td>&quot;ES&quot;</td><td>5663</td><td>&quot;LINHARES&quot;</td><td>&quot;***.521.287-**&quot;</td><td>14302500871</td><td>&quot;JESSICA VENANCIO DE SOUZA&quot;</td><td>&quot;700,00&quot;</td></tr><tr><td>202501</td><td>202407</td><td>&quot;ES&quot;</td><td>5601</td><td>&quot;AFONSO CLAUDIO&quot;</td><td>&quot;***.516.605-**&quot;</td><td>16555210541</td><td>&quot;CINTIA CANDIDO DOS SANTOS&quot;</td><td>&quot;350,00&quot;</td></tr><tr><td>202501</td><td>202407</td><td>&quot;ES&quot;</td><td>5601</td><td>&quot;AFONSO CLAUDIO&quot;</td><td>&quot;***.638.927-**&quot;</td><td>12861381290</td><td>&quot;ROSA MARIA HELKER&quot;</td><td>&quot;350,00&quot;</td></tr><tr><td>202501</td><td>202407</td><td>&quot;ES&quot;</td><td>5719</td><td>&quot;ALTO RIO NOVO&quot;</td><td>&quot;***.055.697-**&quot;</td><td>16584976018</td><td>&quot;RAFAELA CRISTINA DA ROCHA&quot;</td><td>&quot;375,00&quot;</td></tr><tr><td>&hellip;</td><td>&hellip;</td><td>&hellip;</td><td>&hellip;</td><td>&hellip;</td><td>&hellip;</td><td>&hellip;</td><td>&hellip;</td><td>&hellip;</td></tr><tr><td>202501</td><td>202408</td><td>&quot;ES&quot;</td><td>5623</td><td>&quot;CACHOEIRO DE ITAPEMIRIM&quot;</td><td>&quot;&quot;</td><td>16246633324</td><td>&quot;IVANEIDE BATISTA DE LIMA ARAUJ…</td><td>&quot;650,00&quot;</td></tr><tr><td>202501</td><td>202408</td><td>&quot;ES&quot;</td><td>5623</td><td>&quot;CACHOEIRO DE ITAPEMIRIM&quot;</td><td>&quot;***.601.457-**&quot;</td><td>20451159602</td><td>&quot;JHONATA DA SILVA CUNHA&quot;</td><td>&quot;600,00&quot;</td></tr><tr><td>202501</td><td>202408</td><td>&quot;ES&quot;</td><td>5623</td><td>&quot;CACHOEIRO DE ITAPEMIRIM&quot;</td><td>&quot;***.167.847-**&quot;</td><td>16423696617</td><td>&quot;LUANA DE MORAES DA SILVA&quot;</td><td>&quot;600,00&quot;</td></tr><tr><td>202501</td><td>202408</td><td>&quot;ES&quot;</td><td>5625</td><td>&quot;CARIACICA&quot;</td><td>&quot;***.913.127-**&quot;</td><td>13267118297</td><td>&quot;ABRAAO DO CARMO DOS SANTOS&quot;</td><td>&quot;750,00&quot;</td></tr><tr><td>202501</td><td>202408</td><td>&quot;ES&quot;</td><td>5625</td><td>&quot;CARIACICA&quot;</td><td>&quot;***.655.107-**&quot;</td><td>12179357321</td><td>&quot;ANA MARIA DE JESUS SANT ANA DE…</td><td>&quot;600,00&quot;</td></tr></tbody></table></div>"
            ]
          },
          "metadata": {}
        }
      ]
    },
    {
      "cell_type": "code",
      "source": [
        "consulta_es = (\n",
        "    df_es # Use the lazy version of the DataFrame\n",
        "    .filter(pl.col(\"UF\") == \"ES\")\n",
        "    .with_columns(\n",
        "        # Use the Polars .round() method on the expression\n",
        "        pl.col(\"VALOR PARCELA\").str.replace(\",\", \".\").cast(pl.Float64).round(2).alias('VALOR PARCELA_ROUNDED')\n",
        "    )\n",
        "    .group_by(\"NOME MUNICÍPIO\")\n",
        "    .agg(pl.col(\"VALOR PARCELA_ROUNDED\").mean().alias(\"MÉDIA VALOR PARCELA\").round(2),\n",
        "         pl.col(\"VALOR PARCELA_ROUNDED\").sum().alias(\"SOMA VALOR PARCELA\").round(2),\n",
        "         pl.col(\"VALOR PARCELA_ROUNDED\").min().alias(\"MENOR VALOR PARCELA\").round(2),\n",
        "         pl.col(\"VALOR PARCELA_ROUNDED\").max().alias(\"MAIOR VALOR PARCELA\").round(2),\n",
        "         pl.col(\"VALOR PARCELA_ROUNDED\").count().alias(\"QTD VALOR PARCELA\").round(2),\n",
        "         pl.col(\"VALOR PARCELA_ROUNDED\").median().alias(\"MEDIANA VALOR PARCELA\").round(2),\n",
        "         pl.col(\"VALOR PARCELA_ROUNDED\").var().alias(\"VARIÂNCIA VALOR PARCELA\").round(2),\n",
        "         pl.col(\"VALOR PARCELA_ROUNDED\").std().alias(\"DESVIO PADRÃO VALOR PARCELA\").round(2)\n",
        "         )\n",
        ")"
      ],
      "metadata": {
        "id": "Z4CcHBMRyoFo"
      },
      "execution_count": 9,
      "outputs": []
    },
    {
      "cell_type": "code",
      "source": [
        "print(consulta_es.explain())"
      ],
      "metadata": {
        "colab": {
          "base_uri": "https://localhost:8080/"
        },
        "id": "xCAIAAgI2oaP",
        "outputId": "74d63c48-dc55-4306-b880-6a690f14d715"
      },
      "execution_count": 10,
      "outputs": [
        {
          "output_type": "stream",
          "name": "stdout",
          "text": [
            "AGGREGATE\n",
            "\t[col(\"VALOR PARCELA_ROUNDED\").mean().alias(\"MÉDIA VALOR PARCELA\").round().alias(\"MÉDIA VALOR PARCELA\"), col(\"VALOR PARCELA_ROUNDED\").sum().alias(\"SOMA VALOR PARCELA\").round().alias(\"SOMA VALOR PARCELA\"), col(\"VALOR PARCELA_ROUNDED\").min().alias(\"MENOR VALOR PARCELA\").round().alias(\"MENOR VALOR PARCELA\"), col(\"VALOR PARCELA_ROUNDED\").max().alias(\"MAIOR VALOR PARCELA\").round().alias(\"MAIOR VALOR PARCELA\"), col(\"VALOR PARCELA_ROUNDED\").count().alias(\"QTD VALOR PARCELA\").round().alias(\"QTD VALOR PARCELA\"), col(\"VALOR PARCELA_ROUNDED\").median().alias(\"MEDIANA VALOR PARCELA\").round().alias(\"MEDIANA VALOR PARCELA\"), col(\"VALOR PARCELA_ROUNDED\").var().alias(\"VARIÂNCIA VALOR PARCELA\").round().alias(\"VARIÂNCIA VALOR PARCELA\"), col(\"VALOR PARCELA_ROUNDED\").std().alias(\"DESVIO PADRÃO VALOR PARCELA\").round().alias(\"DESVIO PADRÃO VALOR PARCELA\")] BY [col(\"NOME MUNICÍPIO\")] FROM\n",
            "   WITH_COLUMNS:\n",
            "   [col(\"VALOR PARCELA\").str.replace([String(,), String(.)]).strict_cast(Float64).round().alias(\"VALOR PARCELA_ROUNDED\")] \n",
            "    FILTER [(col(\"UF\")) == (String(ES))] FROM\n",
            "      DF [\"MÊS COMPETÊNCIA\", \"MÊS REFERÊNCIA\", \"UF\", \"CÓDIGO MUNICÍPIO SIAFI\"]; PROJECT 3/9 COLUMNS\n"
          ]
        }
      ]
    },
    {
      "cell_type": "code",
      "source": [
        "resultado_estatisticas_es = consulta_es.collect()\n",
        "display(resultado_estatisticas_es.head(100))"
      ],
      "metadata": {
        "colab": {
          "base_uri": "https://localhost:8080/",
          "height": 495
        },
        "id": "WSEaJ7nQytzu",
        "outputId": "932f95e1-857d-44d6-8b74-06fe4adf8a80"
      },
      "execution_count": 11,
      "outputs": [
        {
          "output_type": "display_data",
          "data": {
            "text/plain": [
              "shape: (78, 9)\n",
              "┌───────────┬───────────┬───────────┬───────────┬───┬───────────┬───────────┬───────────┬──────────┐\n",
              "│ NOME      ┆ MÉDIA     ┆ SOMA      ┆ MENOR     ┆ … ┆ QTD VALOR ┆ MEDIANA   ┆ VARIÂNCIA ┆ DESVIO   │\n",
              "│ MUNICÍPIO ┆ VALOR     ┆ VALOR     ┆ VALOR     ┆   ┆ PARCELA   ┆ VALOR     ┆ VALOR     ┆ PADRÃO   │\n",
              "│ ---       ┆ PARCELA   ┆ PARCELA   ┆ PARCELA   ┆   ┆ ---       ┆ PARCELA   ┆ PARCELA   ┆ VALOR    │\n",
              "│ str       ┆ ---       ┆ ---       ┆ ---       ┆   ┆ u32       ┆ ---       ┆ ---       ┆ PARCELA  │\n",
              "│           ┆ f64       ┆ f64       ┆ f64       ┆   ┆           ┆ f64       ┆ f64       ┆ ---      │\n",
              "│           ┆           ┆           ┆           ┆   ┆           ┆           ┆           ┆ f64      │\n",
              "╞═══════════╪═══════════╪═══════════╪═══════════╪═══╪═══════════╪═══════════╪═══════════╪══════════╡\n",
              "│ SERRA     ┆ 659.43    ┆ 5.759589e ┆ 300.0     ┆ … ┆ 87342     ┆ 650.0     ┆ 42055.67  ┆ 205.07   │\n",
              "│           ┆           ┆ 7         ┆           ┆   ┆           ┆           ┆           ┆          │\n",
              "│ RIO NOVO  ┆ 653.45    ┆ 930516.0  ┆ 300.0     ┆ … ┆ 1424      ┆ 650.0     ┆ 44316.85  ┆ 210.52   │\n",
              "│ DO SUL    ┆           ┆           ┆           ┆   ┆           ┆           ┆           ┆          │\n",
              "│ PRESIDENT ┆ 661.85    ┆ 2.297956e ┆ 300.0     ┆ … ┆ 3472      ┆ 650.0     ┆ 45875.01  ┆ 214.18   │\n",
              "│ E KENNEDY ┆           ┆ 6         ┆           ┆   ┆           ┆           ┆           ┆          │\n",
              "│ SAO       ┆ 658.14    ┆ 2.610198e ┆ 300.0     ┆ … ┆ 3966      ┆ 650.0     ┆ 45582.08  ┆ 213.5    │\n",
              "│ GABRIEL   ┆           ┆ 6         ┆           ┆   ┆           ┆           ┆           ┆          │\n",
              "│ DA PALHA  ┆           ┆           ┆           ┆   ┆           ┆           ┆           ┆          │\n",
              "│ ECOPORANG ┆ 638.89    ┆ 3.02835e6 ┆ 300.0     ┆ … ┆ 4740      ┆ 600.0     ┆ 40469.13  ┆ 201.17   │\n",
              "│ A         ┆           ┆           ┆           ┆   ┆           ┆           ┆           ┆          │\n",
              "│ …         ┆ …         ┆ …         ┆ …         ┆ … ┆ …         ┆ …         ┆ …         ┆ …        │\n",
              "│ JOAO      ┆ 654.8     ┆ 1.086962e ┆ 300.0     ┆ … ┆ 1660      ┆ 650.0     ┆ 35318.93  ┆ 187.93   │\n",
              "│ NEIVA     ┆           ┆ 6         ┆           ┆   ┆           ┆           ┆           ┆          │\n",
              "│ MARATAIZE ┆ 669.63    ┆ 7.313724e ┆ 25.0      ┆ … ┆ 10922     ┆ 650.0     ┆ 35456.07  ┆ 188.3    │\n",
              "│ S         ┆           ┆ 6         ┆           ┆   ┆           ┆           ┆           ┆          │\n",
              "│ ANCHIETA  ┆ 655.88    ┆ 3.70179e6 ┆ 300.0     ┆ … ┆ 5644      ┆ 650.0     ┆ 39614.92  ┆ 199.03   │\n",
              "│ VILA      ┆ 693.66    ┆ 2.169766e ┆ 300.0     ┆ … ┆ 3128      ┆ 688.0     ┆ 41595.75  ┆ 203.95   │\n",
              "│ VALERIO   ┆           ┆ 6         ┆           ┆   ┆           ┆           ┆           ┆          │\n",
              "│ MUCURICI  ┆ 661.32    ┆ 883528.0  ┆ 300.0     ┆ … ┆ 1336      ┆ 609.0     ┆ 45200.73  ┆ 212.6    │\n",
              "└───────────┴───────────┴───────────┴───────────┴───┴───────────┴───────────┴───────────┴──────────┘"
            ],
            "text/html": [
              "<div><style>\n",
              ".dataframe > thead > tr,\n",
              ".dataframe > tbody > tr {\n",
              "  text-align: right;\n",
              "  white-space: pre-wrap;\n",
              "}\n",
              "</style>\n",
              "<small>shape: (78, 9)</small><table border=\"1\" class=\"dataframe\"><thead><tr><th>NOME MUNICÍPIO</th><th>MÉDIA VALOR PARCELA</th><th>SOMA VALOR PARCELA</th><th>MENOR VALOR PARCELA</th><th>MAIOR VALOR PARCELA</th><th>QTD VALOR PARCELA</th><th>MEDIANA VALOR PARCELA</th><th>VARIÂNCIA VALOR PARCELA</th><th>DESVIO PADRÃO VALOR PARCELA</th></tr><tr><td>str</td><td>f64</td><td>f64</td><td>f64</td><td>f64</td><td>u32</td><td>f64</td><td>f64</td><td>f64</td></tr></thead><tbody><tr><td>&quot;SERRA&quot;</td><td>659.43</td><td>5.759589e7</td><td>300.0</td><td>3096.0</td><td>87342</td><td>650.0</td><td>42055.67</td><td>205.07</td></tr><tr><td>&quot;RIO NOVO DO SUL&quot;</td><td>653.45</td><td>930516.0</td><td>300.0</td><td>1920.0</td><td>1424</td><td>650.0</td><td>44316.85</td><td>210.52</td></tr><tr><td>&quot;PRESIDENTE KENNEDY&quot;</td><td>661.85</td><td>2.297956e6</td><td>300.0</td><td>1878.0</td><td>3472</td><td>650.0</td><td>45875.01</td><td>214.18</td></tr><tr><td>&quot;SAO GABRIEL DA PALHA&quot;</td><td>658.14</td><td>2.610198e6</td><td>300.0</td><td>1920.0</td><td>3966</td><td>650.0</td><td>45582.08</td><td>213.5</td></tr><tr><td>&quot;ECOPORANGA&quot;</td><td>638.89</td><td>3.02835e6</td><td>300.0</td><td>1594.0</td><td>4740</td><td>600.0</td><td>40469.13</td><td>201.17</td></tr><tr><td>&hellip;</td><td>&hellip;</td><td>&hellip;</td><td>&hellip;</td><td>&hellip;</td><td>&hellip;</td><td>&hellip;</td><td>&hellip;</td><td>&hellip;</td></tr><tr><td>&quot;JOAO NEIVA&quot;</td><td>654.8</td><td>1.086962e6</td><td>300.0</td><td>1544.0</td><td>1660</td><td>650.0</td><td>35318.93</td><td>187.93</td></tr><tr><td>&quot;MARATAIZES&quot;</td><td>669.63</td><td>7.313724e6</td><td>25.0</td><td>2228.0</td><td>10922</td><td>650.0</td><td>35456.07</td><td>188.3</td></tr><tr><td>&quot;ANCHIETA&quot;</td><td>655.88</td><td>3.70179e6</td><td>300.0</td><td>1686.0</td><td>5644</td><td>650.0</td><td>39614.92</td><td>199.03</td></tr><tr><td>&quot;VILA VALERIO&quot;</td><td>693.66</td><td>2.169766e6</td><td>300.0</td><td>1736.0</td><td>3128</td><td>688.0</td><td>41595.75</td><td>203.95</td></tr><tr><td>&quot;MUCURICI&quot;</td><td>661.32</td><td>883528.0</td><td>300.0</td><td>2028.0</td><td>1336</td><td>609.0</td><td>45200.73</td><td>212.6</td></tr></tbody></table></div>"
            ]
          },
          "metadata": {}
        }
      ]
    },
    {
      "cell_type": "code",
      "source": [
        "# Extrair colunas para visualização\n",
        "# Collect the LazyFrame to a DataFrame before accessing columns\n",
        "df_es_collected = df_es.collect()"
      ],
      "metadata": {
        "id": "ed1qfUe4yyPZ"
      },
      "execution_count": 12,
      "outputs": []
    },
    {
      "cell_type": "code",
      "source": [
        "# Now you can use get_column on the collected DataFrame\n",
        "valores = df_es_collected.get_column(\"VALOR PARCELA\").to_list()\n",
        "qtd_beneficiarios = df_es_collected.get_column(\"NOME MUNICÍPIO\").to_list()"
      ],
      "metadata": {
        "id": "_m9HgTwVy44b"
      },
      "execution_count": 13,
      "outputs": []
    },
    {
      "cell_type": "code",
      "source": [
        "# Calculando a correlação de Pearson para DataFrame \"dados\"\n",
        "coef_pearson, p_valor = pearsonr(valores, qtd_beneficiarios)\n",
        "print(coef_pearson)"
      ],
      "metadata": {
        "id": "zqCYO2zty7g7"
      },
      "execution_count": null,
      "outputs": []
    },
    {
      "cell_type": "code",
      "source": [
        "#Título do Gráfico\n",
        "plt.title(\"Relação entre Valor da Parcela e Quantidade de Municípios (Espírito santo)\")\n",
        "# Plota linha\n",
        "plt.plot(valores,qtd_beneficiarios)\n",
        "# Plota pontos\n",
        "plt.scatter(valores,qtd_beneficiarios)\n",
        "plt.show()"
      ],
      "metadata": {
        "id": "yGQTt1NGy935"
      },
      "execution_count": null,
      "outputs": []
    }
  ]
}