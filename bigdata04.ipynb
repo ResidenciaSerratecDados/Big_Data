{
 "cells": [
  {
   "cell_type": "markdown",
   "metadata": {},
   "source": [
    "**Comparando Comandos para Análise Exploratória: Pandas vs Polars**"
   ]
  },
  {
   "cell_type": "code",
   "execution_count": 1,
   "metadata": {},
   "outputs": [],
   "source": [
    "import pandas as pd\n",
    "import polars as pl"
   ]
  },
  {
   "cell_type": "code",
   "execution_count": 7,
   "metadata": {},
   "outputs": [],
   "source": [
    "#Carregamento dos dados:\n",
    "\n",
    "df_polars=pl.scan_parquet('202501_NovoBolsaFamilia_polars.parquet')\n",
    "\n",
    "df_polars=pl.read_parquet('202501_NovoBolsaFamilia_polars.parquet')"
   ]
  },
  {
   "cell_type": "code",
   "execution_count": 8,
   "metadata": {},
   "outputs": [
    {
     "name": "stdout",
     "output_type": "stream",
     "text": [
      "*********************************\n"
     ]
    },
    {
     "data": {
      "text/html": [
       "<div><style>\n",
       ".dataframe > thead > tr,\n",
       ".dataframe > tbody > tr {\n",
       "  text-align: right;\n",
       "  white-space: pre-wrap;\n",
       "}\n",
       "</style>\n",
       "<small>shape: (5, 9)</small><table border=\"1\" class=\"dataframe\"><thead><tr><th>MÊS COMPETÊNCIA</th><th>MÊS REFERÊNCIA</th><th>UF</th><th>CÓDIGO MUNICÍPIO SIAFI</th><th>NOME MUNICÍPIO</th><th>CPF FAVORECIDO</th><th>NIS FAVORECIDO</th><th>NOME FAVORECIDO</th><th>VALOR PARCELA</th></tr><tr><td>i64</td><td>i64</td><td>str</td><td>i64</td><td>str</td><td>str</td><td>i64</td><td>str</td><td>str</td></tr></thead><tbody><tr><td>202501</td><td>202308</td><td>&quot;SP&quot;</td><td>7071</td><td>&quot;SANTOS&quot;</td><td>&quot;***.085.106-**&quot;</td><td>20643890445</td><td>&quot;FERNANDA RAMOS TEIXEIRA&quot;</td><td>&quot;650,00&quot;</td></tr><tr><td>202501</td><td>202309</td><td>&quot;SP&quot;</td><td>7071</td><td>&quot;SANTOS&quot;</td><td>&quot;***.085.106-**&quot;</td><td>20643890445</td><td>&quot;FERNANDA RAMOS TEIXEIRA&quot;</td><td>&quot;650,00&quot;</td></tr><tr><td>202501</td><td>202310</td><td>&quot;SP&quot;</td><td>7071</td><td>&quot;SANTOS&quot;</td><td>&quot;***.085.106-**&quot;</td><td>20643890445</td><td>&quot;FERNANDA RAMOS TEIXEIRA&quot;</td><td>&quot;650,00&quot;</td></tr><tr><td>202501</td><td>202311</td><td>&quot;SP&quot;</td><td>7071</td><td>&quot;SANTOS&quot;</td><td>&quot;***.085.106-**&quot;</td><td>20643890445</td><td>&quot;FERNANDA RAMOS TEIXEIRA&quot;</td><td>&quot;650,00&quot;</td></tr><tr><td>202501</td><td>202312</td><td>&quot;SP&quot;</td><td>7071</td><td>&quot;SANTOS&quot;</td><td>&quot;***.085.106-**&quot;</td><td>20643890445</td><td>&quot;FERNANDA RAMOS TEIXEIRA&quot;</td><td>&quot;650,00&quot;</td></tr></tbody></table></div>"
      ],
      "text/plain": [
       "shape: (5, 9)\n",
       "┌────────────┬────────────┬─────┬────────────┬───┬────────────┬────────────┬───────────┬───────────┐\n",
       "│ MÊS COMPET ┆ MÊS        ┆ UF  ┆ CÓDIGO     ┆ … ┆ CPF        ┆ NIS        ┆ NOME FAVO ┆ VALOR     │\n",
       "│ ÊNCIA      ┆ REFERÊNCIA ┆ --- ┆ MUNICÍPIO  ┆   ┆ FAVORECIDO ┆ FAVORECIDO ┆ RECIDO    ┆ PARCELA   │\n",
       "│ ---        ┆ ---        ┆ str ┆ SIAFI      ┆   ┆ ---        ┆ ---        ┆ ---       ┆ ---       │\n",
       "│ i64        ┆ i64        ┆     ┆ ---        ┆   ┆ str        ┆ i64        ┆ str       ┆ str       │\n",
       "│            ┆            ┆     ┆ i64        ┆   ┆            ┆            ┆           ┆           │\n",
       "╞════════════╪════════════╪═════╪════════════╪═══╪════════════╪════════════╪═══════════╪═══════════╡\n",
       "│ 202501     ┆ 202308     ┆ SP  ┆ 7071       ┆ … ┆ ***.085.10 ┆ 2064389044 ┆ FERNANDA  ┆ 650,00    │\n",
       "│            ┆            ┆     ┆            ┆   ┆ 6-**       ┆ 5          ┆ RAMOS     ┆           │\n",
       "│            ┆            ┆     ┆            ┆   ┆            ┆            ┆ TEIXEIRA  ┆           │\n",
       "│ 202501     ┆ 202309     ┆ SP  ┆ 7071       ┆ … ┆ ***.085.10 ┆ 2064389044 ┆ FERNANDA  ┆ 650,00    │\n",
       "│            ┆            ┆     ┆            ┆   ┆ 6-**       ┆ 5          ┆ RAMOS     ┆           │\n",
       "│            ┆            ┆     ┆            ┆   ┆            ┆            ┆ TEIXEIRA  ┆           │\n",
       "│ 202501     ┆ 202310     ┆ SP  ┆ 7071       ┆ … ┆ ***.085.10 ┆ 2064389044 ┆ FERNANDA  ┆ 650,00    │\n",
       "│            ┆            ┆     ┆            ┆   ┆ 6-**       ┆ 5          ┆ RAMOS     ┆           │\n",
       "│            ┆            ┆     ┆            ┆   ┆            ┆            ┆ TEIXEIRA  ┆           │\n",
       "│ 202501     ┆ 202311     ┆ SP  ┆ 7071       ┆ … ┆ ***.085.10 ┆ 2064389044 ┆ FERNANDA  ┆ 650,00    │\n",
       "│            ┆            ┆     ┆            ┆   ┆ 6-**       ┆ 5          ┆ RAMOS     ┆           │\n",
       "│            ┆            ┆     ┆            ┆   ┆            ┆            ┆ TEIXEIRA  ┆           │\n",
       "│ 202501     ┆ 202312     ┆ SP  ┆ 7071       ┆ … ┆ ***.085.10 ┆ 2064389044 ┆ FERNANDA  ┆ 650,00    │\n",
       "│            ┆            ┆     ┆            ┆   ┆ 6-**       ┆ 5          ┆ RAMOS     ┆           │\n",
       "│            ┆            ┆     ┆            ┆   ┆            ┆            ┆ TEIXEIRA  ┆           │\n",
       "└────────────┴────────────┴─────┴────────────┴───┴────────────┴────────────┴───────────┴───────────┘"
      ]
     },
     "metadata": {},
     "output_type": "display_data"
    }
   ],
   "source": [
    "# #Visualização:\n",
    "\n",
    "# display(df_pandas.head())\n",
    "\n",
    "print('*********************************')\n",
    "\n",
    "display(df_polars.head())"
   ]
  },
  {
   "cell_type": "code",
   "execution_count": 9,
   "metadata": {},
   "outputs": [
    {
     "data": {
      "text/html": [
       "<div><style>\n",
       ".dataframe > thead > tr,\n",
       ".dataframe > tbody > tr {\n",
       "  text-align: right;\n",
       "  white-space: pre-wrap;\n",
       "}\n",
       "</style>\n",
       "<small>shape: (40_810_993, 1)</small><table border=\"1\" class=\"dataframe\"><thead><tr><th>CÓDIGO MUNICÍPIO SIAFI</th></tr><tr><td>i64</td></tr></thead><tbody><tr><td>7071</td></tr><tr><td>7071</td></tr><tr><td>7071</td></tr><tr><td>7071</td></tr><tr><td>7071</td></tr><tr><td>&hellip;</td></tr><tr><td>9643</td></tr><tr><td>9643</td></tr><tr><td>9643</td></tr><tr><td>9643</td></tr><tr><td>9643</td></tr></tbody></table></div>"
      ],
      "text/plain": [
       "shape: (40_810_993, 1)\n",
       "┌────────────────────────┐\n",
       "│ CÓDIGO MUNICÍPIO SIAFI │\n",
       "│ ---                    │\n",
       "│ i64                    │\n",
       "╞════════════════════════╡\n",
       "│ 7071                   │\n",
       "│ 7071                   │\n",
       "│ 7071                   │\n",
       "│ 7071                   │\n",
       "│ 7071                   │\n",
       "│ …                      │\n",
       "│ 9643                   │\n",
       "│ 9643                   │\n",
       "│ 9643                   │\n",
       "│ 9643                   │\n",
       "│ 9643                   │\n",
       "└────────────────────────┘"
      ]
     },
     "metadata": {},
     "output_type": "display_data"
    }
   ],
   "source": [
    "# #Seleção de Colunas:\n",
    "\n",
    "# display(df_pandas[\"CÓDIGO MUNICÍPIO SIAFI\"])\n",
    "\n",
    "# print('*********************************')\n",
    "\n",
    "display(df_polars.select(\"CÓDIGO MUNICÍPIO SIAFI\"))"
   ]
  },
  {
   "cell_type": "code",
   "execution_count": 11,
   "metadata": {},
   "outputs": [
    {
     "data": {
      "text/html": [
       "<div><style>\n",
       ".dataframe > thead > tr,\n",
       ".dataframe > tbody > tr {\n",
       "  text-align: right;\n",
       "  white-space: pre-wrap;\n",
       "}\n",
       "</style>\n",
       "<small>shape: (20_432_078, 9)</small><table border=\"1\" class=\"dataframe\"><thead><tr><th>MÊS COMPETÊNCIA</th><th>MÊS REFERÊNCIA</th><th>UF</th><th>CÓDIGO MUNICÍPIO SIAFI</th><th>NOME MUNICÍPIO</th><th>CPF FAVORECIDO</th><th>NIS FAVORECIDO</th><th>NOME FAVORECIDO</th><th>VALOR PARCELA</th></tr><tr><td>i64</td><td>i64</td><td>str</td><td>i64</td><td>str</td><td>str</td><td>i64</td><td>str</td><td>str</td></tr></thead><tbody><tr><td>202501</td><td>202308</td><td>&quot;SP&quot;</td><td>7071</td><td>&quot;SANTOS&quot;</td><td>&quot;***.085.106-**&quot;</td><td>20643890445</td><td>&quot;FERNANDA RAMOS TEIXEIRA&quot;</td><td>&quot;650,00&quot;</td></tr><tr><td>202501</td><td>202309</td><td>&quot;SP&quot;</td><td>7071</td><td>&quot;SANTOS&quot;</td><td>&quot;***.085.106-**&quot;</td><td>20643890445</td><td>&quot;FERNANDA RAMOS TEIXEIRA&quot;</td><td>&quot;650,00&quot;</td></tr><tr><td>202501</td><td>202310</td><td>&quot;SP&quot;</td><td>7071</td><td>&quot;SANTOS&quot;</td><td>&quot;***.085.106-**&quot;</td><td>20643890445</td><td>&quot;FERNANDA RAMOS TEIXEIRA&quot;</td><td>&quot;650,00&quot;</td></tr><tr><td>202501</td><td>202311</td><td>&quot;SP&quot;</td><td>7071</td><td>&quot;SANTOS&quot;</td><td>&quot;***.085.106-**&quot;</td><td>20643890445</td><td>&quot;FERNANDA RAMOS TEIXEIRA&quot;</td><td>&quot;650,00&quot;</td></tr><tr><td>202501</td><td>202312</td><td>&quot;SP&quot;</td><td>7071</td><td>&quot;SANTOS&quot;</td><td>&quot;***.085.106-**&quot;</td><td>20643890445</td><td>&quot;FERNANDA RAMOS TEIXEIRA&quot;</td><td>&quot;650,00&quot;</td></tr><tr><td>&hellip;</td><td>&hellip;</td><td>&hellip;</td><td>&hellip;</td><td>&hellip;</td><td>&hellip;</td><td>&hellip;</td><td>&hellip;</td><td>&hellip;</td></tr><tr><td>202501</td><td>202501</td><td>&quot;TO&quot;</td><td>9643</td><td>&quot;XAMBIOA&quot;</td><td>&quot;&quot;</td><td>16640890691</td><td>&quot;ZEIA DE SOUZA LUCIO&quot;</td><td>&quot;750,00&quot;</td></tr><tr><td>202501</td><td>202501</td><td>&quot;TO&quot;</td><td>9643</td><td>&quot;XAMBIOA&quot;</td><td>&quot;***.273.191-**&quot;</td><td>20644881997</td><td>&quot;ZENILDE ALVES DOS SANTOS&quot;</td><td>&quot;600,00&quot;</td></tr><tr><td>202501</td><td>202501</td><td>&quot;TO&quot;</td><td>9643</td><td>&quot;XAMBIOA&quot;</td><td>&quot;&quot;</td><td>19058661973</td><td>&quot;ZENOLIA RAMOS DA SILVA CARVALH…</td><td>&quot;600,00&quot;</td></tr><tr><td>202501</td><td>202501</td><td>&quot;TO&quot;</td><td>9643</td><td>&quot;XAMBIOA&quot;</td><td>&quot;***.822.651-**&quot;</td><td>20919263822</td><td>&quot;ZILMA ALVES DE BARROS&quot;</td><td>&quot;600,00&quot;</td></tr><tr><td>202501</td><td>202501</td><td>&quot;TO&quot;</td><td>9643</td><td>&quot;XAMBIOA&quot;</td><td>&quot;&quot;</td><td>20501199947</td><td>&quot;ZULEIDE DA SILVA E SILVA&quot;</td><td>&quot;650,00&quot;</td></tr></tbody></table></div>"
      ],
      "text/plain": [
       "shape: (20_432_078, 9)\n",
       "┌────────────┬────────────┬─────┬────────────┬───┬────────────┬────────────┬───────────┬───────────┐\n",
       "│ MÊS COMPET ┆ MÊS        ┆ UF  ┆ CÓDIGO     ┆ … ┆ CPF        ┆ NIS        ┆ NOME FAVO ┆ VALOR     │\n",
       "│ ÊNCIA      ┆ REFERÊNCIA ┆ --- ┆ MUNICÍPIO  ┆   ┆ FAVORECIDO ┆ FAVORECIDO ┆ RECIDO    ┆ PARCELA   │\n",
       "│ ---        ┆ ---        ┆ str ┆ SIAFI      ┆   ┆ ---        ┆ ---        ┆ ---       ┆ ---       │\n",
       "│ i64        ┆ i64        ┆     ┆ ---        ┆   ┆ str        ┆ i64        ┆ str       ┆ str       │\n",
       "│            ┆            ┆     ┆ i64        ┆   ┆            ┆            ┆           ┆           │\n",
       "╞════════════╪════════════╪═════╪════════════╪═══╪════════════╪════════════╪═══════════╪═══════════╡\n",
       "│ 202501     ┆ 202308     ┆ SP  ┆ 7071       ┆ … ┆ ***.085.10 ┆ 2064389044 ┆ FERNANDA  ┆ 650,00    │\n",
       "│            ┆            ┆     ┆            ┆   ┆ 6-**       ┆ 5          ┆ RAMOS     ┆           │\n",
       "│            ┆            ┆     ┆            ┆   ┆            ┆            ┆ TEIXEIRA  ┆           │\n",
       "│ 202501     ┆ 202309     ┆ SP  ┆ 7071       ┆ … ┆ ***.085.10 ┆ 2064389044 ┆ FERNANDA  ┆ 650,00    │\n",
       "│            ┆            ┆     ┆            ┆   ┆ 6-**       ┆ 5          ┆ RAMOS     ┆           │\n",
       "│            ┆            ┆     ┆            ┆   ┆            ┆            ┆ TEIXEIRA  ┆           │\n",
       "│ 202501     ┆ 202310     ┆ SP  ┆ 7071       ┆ … ┆ ***.085.10 ┆ 2064389044 ┆ FERNANDA  ┆ 650,00    │\n",
       "│            ┆            ┆     ┆            ┆   ┆ 6-**       ┆ 5          ┆ RAMOS     ┆           │\n",
       "│            ┆            ┆     ┆            ┆   ┆            ┆            ┆ TEIXEIRA  ┆           │\n",
       "│ 202501     ┆ 202311     ┆ SP  ┆ 7071       ┆ … ┆ ***.085.10 ┆ 2064389044 ┆ FERNANDA  ┆ 650,00    │\n",
       "│            ┆            ┆     ┆            ┆   ┆ 6-**       ┆ 5          ┆ RAMOS     ┆           │\n",
       "│            ┆            ┆     ┆            ┆   ┆            ┆            ┆ TEIXEIRA  ┆           │\n",
       "│ 202501     ┆ 202312     ┆ SP  ┆ 7071       ┆ … ┆ ***.085.10 ┆ 2064389044 ┆ FERNANDA  ┆ 650,00    │\n",
       "│            ┆            ┆     ┆            ┆   ┆ 6-**       ┆ 5          ┆ RAMOS     ┆           │\n",
       "│            ┆            ┆     ┆            ┆   ┆            ┆            ┆ TEIXEIRA  ┆           │\n",
       "│ …          ┆ …          ┆ …   ┆ …          ┆ … ┆ …          ┆ …          ┆ …         ┆ …         │\n",
       "│ 202501     ┆ 202501     ┆ TO  ┆ 9643       ┆ … ┆            ┆ 1664089069 ┆ ZEIA DE   ┆ 750,00    │\n",
       "│            ┆            ┆     ┆            ┆   ┆            ┆ 1          ┆ SOUZA     ┆           │\n",
       "│            ┆            ┆     ┆            ┆   ┆            ┆            ┆ LUCIO     ┆           │\n",
       "│ 202501     ┆ 202501     ┆ TO  ┆ 9643       ┆ … ┆ ***.273.19 ┆ 2064488199 ┆ ZENILDE   ┆ 600,00    │\n",
       "│            ┆            ┆     ┆            ┆   ┆ 1-**       ┆ 7          ┆ ALVES DOS ┆           │\n",
       "│            ┆            ┆     ┆            ┆   ┆            ┆            ┆ SANTOS    ┆           │\n",
       "│ 202501     ┆ 202501     ┆ TO  ┆ 9643       ┆ … ┆            ┆ 1905866197 ┆ ZENOLIA   ┆ 600,00    │\n",
       "│            ┆            ┆     ┆            ┆   ┆            ┆ 3          ┆ RAMOS DA  ┆           │\n",
       "│            ┆            ┆     ┆            ┆   ┆            ┆            ┆ SILVA     ┆           │\n",
       "│            ┆            ┆     ┆            ┆   ┆            ┆            ┆ CARVALH…  ┆           │\n",
       "│ 202501     ┆ 202501     ┆ TO  ┆ 9643       ┆ … ┆ ***.822.65 ┆ 2091926382 ┆ ZILMA     ┆ 600,00    │\n",
       "│            ┆            ┆     ┆            ┆   ┆ 1-**       ┆ 2          ┆ ALVES DE  ┆           │\n",
       "│            ┆            ┆     ┆            ┆   ┆            ┆            ┆ BARROS    ┆           │\n",
       "│ 202501     ┆ 202501     ┆ TO  ┆ 9643       ┆ … ┆            ┆ 2050119994 ┆ ZULEIDE   ┆ 650,00    │\n",
       "│            ┆            ┆     ┆            ┆   ┆            ┆ 7          ┆ DA SILVA  ┆           │\n",
       "│            ┆            ┆     ┆            ┆   ┆            ┆            ┆ E SILVA   ┆           │\n",
       "└────────────┴────────────┴─────┴────────────┴───┴────────────┴────────────┴───────────┴───────────┘"
      ]
     },
     "metadata": {},
     "output_type": "display_data"
    }
   ],
   "source": [
    "# #Filtros e Condições:\n",
    "\n",
    "# display(df_pandas[df_pandas[\"MÊS COMPETÊNCIA\"]==202401])\n",
    "\n",
    "# print('*********************************')\n",
    "\n",
    "display(df_polars.filter(pl.col(\"MÊS COMPETÊNCIA\")==202501))"
   ]
  },
  {
   "cell_type": "code",
   "execution_count": 12,
   "metadata": {},
   "outputs": [
    {
     "data": {
      "text/html": [
       "<div><style>\n",
       ".dataframe > thead > tr,\n",
       ".dataframe > tbody > tr {\n",
       "  text-align: right;\n",
       "  white-space: pre-wrap;\n",
       "}\n",
       "</style>\n",
       "<small>shape: (9, 2)</small><table border=\"1\" class=\"dataframe\"><thead><tr><th>statistic</th><th>UF</th></tr><tr><td>str</td><td>str</td></tr></thead><tbody><tr><td>&quot;count&quot;</td><td>&quot;40810993&quot;</td></tr><tr><td>&quot;null_count&quot;</td><td>&quot;0&quot;</td></tr><tr><td>&quot;mean&quot;</td><td>null</td></tr><tr><td>&quot;std&quot;</td><td>null</td></tr><tr><td>&quot;min&quot;</td><td>&quot;AC&quot;</td></tr><tr><td>&quot;25%&quot;</td><td>null</td></tr><tr><td>&quot;50%&quot;</td><td>null</td></tr><tr><td>&quot;75%&quot;</td><td>null</td></tr><tr><td>&quot;max&quot;</td><td>&quot;TO&quot;</td></tr></tbody></table></div>"
      ],
      "text/plain": [
       "shape: (9, 2)\n",
       "┌────────────┬──────────┐\n",
       "│ statistic  ┆ UF       │\n",
       "│ ---        ┆ ---      │\n",
       "│ str        ┆ str      │\n",
       "╞════════════╪══════════╡\n",
       "│ count      ┆ 40810993 │\n",
       "│ null_count ┆ 0        │\n",
       "│ mean       ┆ null     │\n",
       "│ std        ┆ null     │\n",
       "│ min        ┆ AC       │\n",
       "│ 25%        ┆ null     │\n",
       "│ 50%        ┆ null     │\n",
       "│ 75%        ┆ null     │\n",
       "│ max        ┆ TO       │\n",
       "└────────────┴──────────┘"
      ]
     },
     "metadata": {},
     "output_type": "display_data"
    }
   ],
   "source": [
    "# #Estatísticas Descritivas:\n",
    "\n",
    "# display(df_pandas[\"UF\"].describe())\n",
    "\n",
    "# print('*********************************')\n",
    "\n",
    "display(df_polars.select(pl.col(\"UF\")).describe())"
   ]
  },
  {
   "cell_type": "code",
   "execution_count": 13,
   "metadata": {},
   "outputs": [
    {
     "data": {
      "text/html": [
       "<div><style>\n",
       ".dataframe > thead > tr,\n",
       ".dataframe > tbody > tr {\n",
       "  text-align: right;\n",
       "  white-space: pre-wrap;\n",
       "}\n",
       "</style>\n",
       "<small>shape: (40_810_993, 9)</small><table border=\"1\" class=\"dataframe\"><thead><tr><th>MÊS COMPETÊNCIA</th><th>MÊS REFERÊNCIA</th><th>UF</th><th>CÓDIGO MUNICÍPIO SIAFI</th><th>NOME MUNICÍPIO</th><th>CPF FAVORECIDO</th><th>NIS FAVORECIDO</th><th>NOME FAVORECIDO</th><th>VALOR PARCELA</th></tr><tr><td>i64</td><td>i64</td><td>str</td><td>i64</td><td>str</td><td>str</td><td>i64</td><td>str</td><td>str</td></tr></thead><tbody><tr><td>202501</td><td>202409</td><td>&quot;GO&quot;</td><td>1050</td><td>&quot;ABADIA DE GOIAS&quot;</td><td>&quot;***.747.191-**&quot;</td><td>13492486311</td><td>&quot;LORRANE DE JESUS MARTINS&quot;</td><td>&quot;1102,00&quot;</td></tr><tr><td>202501</td><td>202410</td><td>&quot;GO&quot;</td><td>1050</td><td>&quot;ABADIA DE GOIAS&quot;</td><td>&quot;***.747.191-**&quot;</td><td>13492486311</td><td>&quot;LORRANE DE JESUS MARTINS&quot;</td><td>&quot;1102,00&quot;</td></tr><tr><td>202501</td><td>202410</td><td>&quot;GO&quot;</td><td>1050</td><td>&quot;ABADIA DE GOIAS&quot;</td><td>&quot;***.796.923-**&quot;</td><td>16403332083</td><td>&quot;MARIA ANTONIA DUTRA DA SILVA&quot;</td><td>&quot;700,00&quot;</td></tr><tr><td>202501</td><td>202411</td><td>&quot;GO&quot;</td><td>1050</td><td>&quot;ABADIA DE GOIAS&quot;</td><td>&quot;***.901.053-**&quot;</td><td>20435347513</td><td>&quot;EVANILDE DA SILVA DE SOUSA&quot;</td><td>&quot;1202,00&quot;</td></tr><tr><td>202501</td><td>202411</td><td>&quot;GO&quot;</td><td>1050</td><td>&quot;ABADIA DE GOIAS&quot;</td><td>&quot;***.548.031-**&quot;</td><td>23847604690</td><td>&quot;LAZARA MADALENA CAMARGO&quot;</td><td>&quot;700,00&quot;</td></tr><tr><td>&hellip;</td><td>&hellip;</td><td>&hellip;</td><td>&hellip;</td><td>&hellip;</td><td>&hellip;</td><td>&hellip;</td><td>&hellip;</td><td>&hellip;</td></tr><tr><td>202502</td><td>202502</td><td>&quot;SC&quot;</td><td>950</td><td>&quot;ZORTEA&quot;</td><td>&quot;***.952.429-**&quot;</td><td>12276300851</td><td>&quot;WERA ADILES DA COSTA SILVA&quot;</td><td>&quot;325,00&quot;</td></tr><tr><td>202502</td><td>202502</td><td>&quot;SC&quot;</td><td>950</td><td>&quot;ZORTEA&quot;</td><td>&quot;&quot;</td><td>21444631421</td><td>&quot;YANNIMAR ALVAREZ CASTILLO&quot;</td><td>&quot;455,00&quot;</td></tr><tr><td>202502</td><td>202502</td><td>&quot;SC&quot;</td><td>950</td><td>&quot;ZORTEA&quot;</td><td>&quot;&quot;</td><td>12587481920</td><td>&quot;YUGERKIS CAROLINA MARCANO CACH…</td><td>&quot;722,00&quot;</td></tr><tr><td>202502</td><td>202502</td><td>&quot;SC&quot;</td><td>950</td><td>&quot;ZORTEA&quot;</td><td>&quot;&quot;</td><td>21435138513</td><td>&quot;YUSMERIS JOSEFINA URBINA BRITO&quot;</td><td>&quot;375,00&quot;</td></tr><tr><td>202502</td><td>202502</td><td>&quot;SC&quot;</td><td>950</td><td>&quot;ZORTEA&quot;</td><td>&quot;&quot;</td><td>21345280736</td><td>&quot;ZULIBETH NAZARETH MAESTRE BOLE…</td><td>&quot;450,00&quot;</td></tr></tbody></table></div>"
      ],
      "text/plain": [
       "shape: (40_810_993, 9)\n",
       "┌────────────┬────────────┬─────┬────────────┬───┬────────────┬────────────┬───────────┬───────────┐\n",
       "│ MÊS COMPET ┆ MÊS        ┆ UF  ┆ CÓDIGO     ┆ … ┆ CPF        ┆ NIS        ┆ NOME FAVO ┆ VALOR     │\n",
       "│ ÊNCIA      ┆ REFERÊNCIA ┆ --- ┆ MUNICÍPIO  ┆   ┆ FAVORECIDO ┆ FAVORECIDO ┆ RECIDO    ┆ PARCELA   │\n",
       "│ ---        ┆ ---        ┆ str ┆ SIAFI      ┆   ┆ ---        ┆ ---        ┆ ---       ┆ ---       │\n",
       "│ i64        ┆ i64        ┆     ┆ ---        ┆   ┆ str        ┆ i64        ┆ str       ┆ str       │\n",
       "│            ┆            ┆     ┆ i64        ┆   ┆            ┆            ┆           ┆           │\n",
       "╞════════════╪════════════╪═════╪════════════╪═══╪════════════╪════════════╪═══════════╪═══════════╡\n",
       "│ 202501     ┆ 202409     ┆ GO  ┆ 1050       ┆ … ┆ ***.747.19 ┆ 1349248631 ┆ LORRANE   ┆ 1102,00   │\n",
       "│            ┆            ┆     ┆            ┆   ┆ 1-**       ┆ 1          ┆ DE JESUS  ┆           │\n",
       "│            ┆            ┆     ┆            ┆   ┆            ┆            ┆ MARTINS   ┆           │\n",
       "│ 202501     ┆ 202410     ┆ GO  ┆ 1050       ┆ … ┆ ***.747.19 ┆ 1349248631 ┆ LORRANE   ┆ 1102,00   │\n",
       "│            ┆            ┆     ┆            ┆   ┆ 1-**       ┆ 1          ┆ DE JESUS  ┆           │\n",
       "│            ┆            ┆     ┆            ┆   ┆            ┆            ┆ MARTINS   ┆           │\n",
       "│ 202501     ┆ 202410     ┆ GO  ┆ 1050       ┆ … ┆ ***.796.92 ┆ 1640333208 ┆ MARIA     ┆ 700,00    │\n",
       "│            ┆            ┆     ┆            ┆   ┆ 3-**       ┆ 3          ┆ ANTONIA   ┆           │\n",
       "│            ┆            ┆     ┆            ┆   ┆            ┆            ┆ DUTRA DA  ┆           │\n",
       "│            ┆            ┆     ┆            ┆   ┆            ┆            ┆ SILVA     ┆           │\n",
       "│ 202501     ┆ 202411     ┆ GO  ┆ 1050       ┆ … ┆ ***.901.05 ┆ 2043534751 ┆ EVANILDE  ┆ 1202,00   │\n",
       "│            ┆            ┆     ┆            ┆   ┆ 3-**       ┆ 3          ┆ DA SILVA  ┆           │\n",
       "│            ┆            ┆     ┆            ┆   ┆            ┆            ┆ DE SOUSA  ┆           │\n",
       "│ 202501     ┆ 202411     ┆ GO  ┆ 1050       ┆ … ┆ ***.548.03 ┆ 2384760469 ┆ LAZARA    ┆ 700,00    │\n",
       "│            ┆            ┆     ┆            ┆   ┆ 1-**       ┆ 0          ┆ MADALENA  ┆           │\n",
       "│            ┆            ┆     ┆            ┆   ┆            ┆            ┆ CAMARGO   ┆           │\n",
       "│ …          ┆ …          ┆ …   ┆ …          ┆ … ┆ …          ┆ …          ┆ …         ┆ …         │\n",
       "│ 202502     ┆ 202502     ┆ SC  ┆ 950        ┆ … ┆ ***.952.42 ┆ 1227630085 ┆ WERA      ┆ 325,00    │\n",
       "│            ┆            ┆     ┆            ┆   ┆ 9-**       ┆ 1          ┆ ADILES DA ┆           │\n",
       "│            ┆            ┆     ┆            ┆   ┆            ┆            ┆ COSTA     ┆           │\n",
       "│            ┆            ┆     ┆            ┆   ┆            ┆            ┆ SILVA     ┆           │\n",
       "│ 202502     ┆ 202502     ┆ SC  ┆ 950        ┆ … ┆            ┆ 2144463142 ┆ YANNIMAR  ┆ 455,00    │\n",
       "│            ┆            ┆     ┆            ┆   ┆            ┆ 1          ┆ ALVAREZ   ┆           │\n",
       "│            ┆            ┆     ┆            ┆   ┆            ┆            ┆ CASTILLO  ┆           │\n",
       "│ 202502     ┆ 202502     ┆ SC  ┆ 950        ┆ … ┆            ┆ 1258748192 ┆ YUGERKIS  ┆ 722,00    │\n",
       "│            ┆            ┆     ┆            ┆   ┆            ┆ 0          ┆ CAROLINA  ┆           │\n",
       "│            ┆            ┆     ┆            ┆   ┆            ┆            ┆ MARCANO   ┆           │\n",
       "│            ┆            ┆     ┆            ┆   ┆            ┆            ┆ CACH…     ┆           │\n",
       "│ 202502     ┆ 202502     ┆ SC  ┆ 950        ┆ … ┆            ┆ 2143513851 ┆ YUSMERIS  ┆ 375,00    │\n",
       "│            ┆            ┆     ┆            ┆   ┆            ┆ 3          ┆ JOSEFINA  ┆           │\n",
       "│            ┆            ┆     ┆            ┆   ┆            ┆            ┆ URBINA    ┆           │\n",
       "│            ┆            ┆     ┆            ┆   ┆            ┆            ┆ BRITO     ┆           │\n",
       "│ 202502     ┆ 202502     ┆ SC  ┆ 950        ┆ … ┆            ┆ 2134528073 ┆ ZULIBETH  ┆ 450,00    │\n",
       "│            ┆            ┆     ┆            ┆   ┆            ┆ 6          ┆ NAZARETH  ┆           │\n",
       "│            ┆            ┆     ┆            ┆   ┆            ┆            ┆ MAESTRE   ┆           │\n",
       "│            ┆            ┆     ┆            ┆   ┆            ┆            ┆ BOLE…     ┆           │\n",
       "└────────────┴────────────┴─────┴────────────┴───┴────────────┴────────────┴───────────┴───────────┘"
      ]
     },
     "metadata": {},
     "output_type": "display_data"
    }
   ],
   "source": [
    "# #Ordenação dos Dados:\n",
    "\n",
    "# display(df_pandas.sort_values(by=\"NOME MUNICÍPIO\"))\n",
    "\n",
    "# print('*********************************')\n",
    "\n",
    "display(df_polars.sort(\"NOME MUNICÍPIO\"))"
   ]
  },
  {
   "cell_type": "code",
   "execution_count": 14,
   "metadata": {},
   "outputs": [
    {
     "data": {
      "text/html": [
       "<div><style>\n",
       ".dataframe > thead > tr,\n",
       ".dataframe > tbody > tr {\n",
       "  text-align: right;\n",
       "  white-space: pre-wrap;\n",
       "}\n",
       "</style>\n",
       "<small>shape: (27, 2)</small><table border=\"1\" class=\"dataframe\"><thead><tr><th>UF</th><th>NOME MUNICÍPIO</th></tr><tr><td>str</td><td>list[struct[2]]</td></tr></thead><tbody><tr><td>&quot;SE&quot;</td><td>[{&quot;PROPRIA&quot;,9672}, {&quot;ITABAIANINHA&quot;,21259}, … {&quot;DIVINA PASTORA&quot;,1503}]</td></tr><tr><td>&quot;AM&quot;</td><td>[{&quot;BOCA DO ACRE&quot;,11790}, {&quot;PRESIDENTE FIGUEIREDO&quot;,10183}, … {&quot;PAUINI&quot;,7184}]</td></tr><tr><td>&quot;ES&quot;</td><td>[{&quot;CONCEICAO DA BARRA&quot;,8591}, {&quot;PRESIDENTE KENNEDY&quot;,3482}, … {&quot;MIMOSO DO SUL&quot;,6743}]</td></tr><tr><td>&quot;PR&quot;</td><td>[{&quot;SANTA LUCIA&quot;,435}, {&quot;ATALAIA&quot;,407}, … {&quot;SANTA MONICA&quot;,585}]</td></tr><tr><td>&quot;MS&quot;</td><td>[{&quot;CORUMBA&quot;,19702}, {&quot;PARANAIBA&quot;,4928}, … {&quot;JARAGUARI&quot;,679}]</td></tr><tr><td>&hellip;</td><td>&hellip;</td></tr><tr><td>&quot;BA&quot;</td><td>[{&quot;AURELINO LEAL&quot;,5979}, {&quot;SANTA MARIA DA VITORIA&quot;,18075}, … {&quot;SAO SEBASTIAO DO PASSE&quot;,11816}]</td></tr><tr><td>&quot;SC&quot;</td><td>[{&quot;MONDAI&quot;,108}, {&quot;FLOR DO SERTAO&quot;,55}, … {&quot;TRES BARRAS&quot;,1423}]</td></tr><tr><td>&quot;MA&quot;</td><td>[{&quot;VIANA&quot;,25009}, {&quot;MIRADOR&quot;,10787}, … {&quot;CAJARI&quot;,11576}]</td></tr><tr><td>&quot;RN&quot;</td><td>[{&quot;SAO JOSE DE MIPIBU&quot;,15152}, {&quot;SITIO NOVO&quot;,1838}, … {&quot;EXTREMOZ&quot;,19758}]</td></tr><tr><td>&quot;AC&quot;</td><td>[{&quot;FEIJO&quot;,11707}, {&quot;ASSIS BRASIL&quot;,3660}, … {&quot;MARECHAL THAUMATURGO&quot;,7483}]</td></tr></tbody></table></div>"
      ],
      "text/plain": [
       "shape: (27, 2)\n",
       "┌─────┬─────────────────────────────────┐\n",
       "│ UF  ┆ NOME MUNICÍPIO                  │\n",
       "│ --- ┆ ---                             │\n",
       "│ str ┆ list[struct[2]]                 │\n",
       "╞═════╪═════════════════════════════════╡\n",
       "│ SE  ┆ [{\"PROPRIA\",9672}, {\"ITABAIANI… │\n",
       "│ AM  ┆ [{\"BOCA DO ACRE\",11790}, {\"PRE… │\n",
       "│ ES  ┆ [{\"CONCEICAO DA BARRA\",8591}, … │\n",
       "│ PR  ┆ [{\"SANTA LUCIA\",435}, {\"ATALAI… │\n",
       "│ MS  ┆ [{\"CORUMBA\",19702}, {\"PARANAIB… │\n",
       "│ …   ┆ …                               │\n",
       "│ BA  ┆ [{\"AURELINO LEAL\",5979}, {\"SAN… │\n",
       "│ SC  ┆ [{\"MONDAI\",108}, {\"FLOR DO SER… │\n",
       "│ MA  ┆ [{\"VIANA\",25009}, {\"MIRADOR\",1… │\n",
       "│ RN  ┆ [{\"SAO JOSE DE MIPIBU\",15152},… │\n",
       "│ AC  ┆ [{\"FEIJO\",11707}, {\"ASSIS BRAS… │\n",
       "└─────┴─────────────────────────────────┘"
      ]
     },
     "metadata": {},
     "output_type": "display_data"
    }
   ],
   "source": [
    "#Agregação e Agrupamento:\n",
    "\n",
    "#exemplo: agrupando por colunas e e contando em cima do que foi selecionado\n",
    "\n",
    "# display(df_pandas.groupby('UF')['NOME MUNICÍPIO'].value_counts())\n",
    "\n",
    "# print('*********************************')\n",
    "\n",
    "display(df_polars.group_by('UF').agg(pl.col('NOME MUNICÍPIO').value_counts()))\n"
   ]
  },
  {
   "cell_type": "markdown",
   "metadata": {},
   "source": [
    "**Manipulação de Linhas e Colunas:**"
   ]
  },
  {
   "cell_type": "code",
   "execution_count": 15,
   "metadata": {},
   "outputs": [
    {
     "data": {
      "text/html": [
       "<div><style>\n",
       ".dataframe > thead > tr,\n",
       ".dataframe > tbody > tr {\n",
       "  text-align: right;\n",
       "  white-space: pre-wrap;\n",
       "}\n",
       "</style>\n",
       "<small>shape: (5, 9)</small><table border=\"1\" class=\"dataframe\"><thead><tr><th>MÊS COMPETÊNCIA</th><th>MÊS REFERÊNCIA</th><th>UF</th><th>CÓDIGO MUNICÍPIO SIAFI</th><th>NOME MUNICÍPIO</th><th>CPF FAVORECIDO</th><th>NIS FAVORECIDO</th><th>NOME FAVORECIDO</th><th>VALOR PARCELA</th></tr><tr><td>i64</td><td>i64</td><td>str</td><td>i64</td><td>str</td><td>str</td><td>i64</td><td>str</td><td>str</td></tr></thead><tbody><tr><td>202501</td><td>202309</td><td>&quot;SP&quot;</td><td>7071</td><td>&quot;SANTOS&quot;</td><td>&quot;***.085.106-**&quot;</td><td>20643890445</td><td>&quot;FERNANDA RAMOS TEIXEIRA&quot;</td><td>&quot;650,00&quot;</td></tr><tr><td>202501</td><td>202310</td><td>&quot;SP&quot;</td><td>7071</td><td>&quot;SANTOS&quot;</td><td>&quot;***.085.106-**&quot;</td><td>20643890445</td><td>&quot;FERNANDA RAMOS TEIXEIRA&quot;</td><td>&quot;650,00&quot;</td></tr><tr><td>202501</td><td>202311</td><td>&quot;SP&quot;</td><td>7071</td><td>&quot;SANTOS&quot;</td><td>&quot;***.085.106-**&quot;</td><td>20643890445</td><td>&quot;FERNANDA RAMOS TEIXEIRA&quot;</td><td>&quot;650,00&quot;</td></tr><tr><td>202501</td><td>202312</td><td>&quot;SP&quot;</td><td>7071</td><td>&quot;SANTOS&quot;</td><td>&quot;***.085.106-**&quot;</td><td>20643890445</td><td>&quot;FERNANDA RAMOS TEIXEIRA&quot;</td><td>&quot;650,00&quot;</td></tr><tr><td>202501</td><td>202401</td><td>&quot;CE&quot;</td><td>1389</td><td>&quot;FORTALEZA&quot;</td><td>&quot;***.854.493-**&quot;</td><td>13024055192</td><td>&quot;IRENICE CAMELO VALETE&quot;</td><td>&quot;750,00&quot;</td></tr></tbody></table></div>"
      ],
      "text/plain": [
       "shape: (5, 9)\n",
       "┌────────────┬────────────┬─────┬────────────┬───┬────────────┬────────────┬───────────┬───────────┐\n",
       "│ MÊS COMPET ┆ MÊS        ┆ UF  ┆ CÓDIGO     ┆ … ┆ CPF        ┆ NIS        ┆ NOME FAVO ┆ VALOR     │\n",
       "│ ÊNCIA      ┆ REFERÊNCIA ┆ --- ┆ MUNICÍPIO  ┆   ┆ FAVORECIDO ┆ FAVORECIDO ┆ RECIDO    ┆ PARCELA   │\n",
       "│ ---        ┆ ---        ┆ str ┆ SIAFI      ┆   ┆ ---        ┆ ---        ┆ ---       ┆ ---       │\n",
       "│ i64        ┆ i64        ┆     ┆ ---        ┆   ┆ str        ┆ i64        ┆ str       ┆ str       │\n",
       "│            ┆            ┆     ┆ i64        ┆   ┆            ┆            ┆           ┆           │\n",
       "╞════════════╪════════════╪═════╪════════════╪═══╪════════════╪════════════╪═══════════╪═══════════╡\n",
       "│ 202501     ┆ 202309     ┆ SP  ┆ 7071       ┆ … ┆ ***.085.10 ┆ 2064389044 ┆ FERNANDA  ┆ 650,00    │\n",
       "│            ┆            ┆     ┆            ┆   ┆ 6-**       ┆ 5          ┆ RAMOS     ┆           │\n",
       "│            ┆            ┆     ┆            ┆   ┆            ┆            ┆ TEIXEIRA  ┆           │\n",
       "│ 202501     ┆ 202310     ┆ SP  ┆ 7071       ┆ … ┆ ***.085.10 ┆ 2064389044 ┆ FERNANDA  ┆ 650,00    │\n",
       "│            ┆            ┆     ┆            ┆   ┆ 6-**       ┆ 5          ┆ RAMOS     ┆           │\n",
       "│            ┆            ┆     ┆            ┆   ┆            ┆            ┆ TEIXEIRA  ┆           │\n",
       "│ 202501     ┆ 202311     ┆ SP  ┆ 7071       ┆ … ┆ ***.085.10 ┆ 2064389044 ┆ FERNANDA  ┆ 650,00    │\n",
       "│            ┆            ┆     ┆            ┆   ┆ 6-**       ┆ 5          ┆ RAMOS     ┆           │\n",
       "│            ┆            ┆     ┆            ┆   ┆            ┆            ┆ TEIXEIRA  ┆           │\n",
       "│ 202501     ┆ 202312     ┆ SP  ┆ 7071       ┆ … ┆ ***.085.10 ┆ 2064389044 ┆ FERNANDA  ┆ 650,00    │\n",
       "│            ┆            ┆     ┆            ┆   ┆ 6-**       ┆ 5          ┆ RAMOS     ┆           │\n",
       "│            ┆            ┆     ┆            ┆   ┆            ┆            ┆ TEIXEIRA  ┆           │\n",
       "│ 202501     ┆ 202401     ┆ CE  ┆ 1389       ┆ … ┆ ***.854.49 ┆ 1302405519 ┆ IRENICE   ┆ 750,00    │\n",
       "│            ┆            ┆     ┆            ┆   ┆ 3-**       ┆ 2          ┆ CAMELO    ┆           │\n",
       "│            ┆            ┆     ┆            ┆   ┆            ┆            ┆ VALETE    ┆           │\n",
       "└────────────┴────────────┴─────┴────────────┴───┴────────────┴────────────┴───────────┴───────────┘"
      ]
     },
     "metadata": {},
     "output_type": "display_data"
    }
   ],
   "source": [
    "#Remoção de Linhas:\n",
    "\n",
    "#pandas\n",
    "# df_pandas=df_pandas.drop(1)\n",
    "# display(df_pandas.head())\n",
    "\n",
    "#polars\n",
    "df_polars=df_polars.slice(1)\n",
    "display(df_polars.head())"
   ]
  },
  {
   "cell_type": "code",
   "execution_count": 16,
   "metadata": {},
   "outputs": [
    {
     "data": {
      "text/html": [
       "<div><style>\n",
       ".dataframe > thead > tr,\n",
       ".dataframe > tbody > tr {\n",
       "  text-align: right;\n",
       "  white-space: pre-wrap;\n",
       "}\n",
       "</style>\n",
       "<small>shape: (5, 10)</small><table border=\"1\" class=\"dataframe\"><thead><tr><th>MÊS COMPETÊNCIA</th><th>MÊS REFERÊNCIA</th><th>UF</th><th>CÓDIGO MUNICÍPIO SIAFI</th><th>NOME MUNICÍPIO</th><th>CPF FAVORECIDO</th><th>NIS FAVORECIDO</th><th>NOME FAVORECIDO</th><th>VALOR PARCELA</th><th>DK</th></tr><tr><td>i64</td><td>i64</td><td>str</td><td>i64</td><td>str</td><td>str</td><td>i64</td><td>str</td><td>str</td><td>i32</td></tr></thead><tbody><tr><td>202501</td><td>202309</td><td>&quot;SP&quot;</td><td>7071</td><td>&quot;SANTOS&quot;</td><td>&quot;***.085.106-**&quot;</td><td>20643890445</td><td>&quot;FERNANDA RAMOS TEIXEIRA&quot;</td><td>&quot;650,00&quot;</td><td>0</td></tr><tr><td>202501</td><td>202310</td><td>&quot;SP&quot;</td><td>7071</td><td>&quot;SANTOS&quot;</td><td>&quot;***.085.106-**&quot;</td><td>20643890445</td><td>&quot;FERNANDA RAMOS TEIXEIRA&quot;</td><td>&quot;650,00&quot;</td><td>0</td></tr><tr><td>202501</td><td>202311</td><td>&quot;SP&quot;</td><td>7071</td><td>&quot;SANTOS&quot;</td><td>&quot;***.085.106-**&quot;</td><td>20643890445</td><td>&quot;FERNANDA RAMOS TEIXEIRA&quot;</td><td>&quot;650,00&quot;</td><td>0</td></tr><tr><td>202501</td><td>202312</td><td>&quot;SP&quot;</td><td>7071</td><td>&quot;SANTOS&quot;</td><td>&quot;***.085.106-**&quot;</td><td>20643890445</td><td>&quot;FERNANDA RAMOS TEIXEIRA&quot;</td><td>&quot;650,00&quot;</td><td>0</td></tr><tr><td>202501</td><td>202401</td><td>&quot;CE&quot;</td><td>1389</td><td>&quot;FORTALEZA&quot;</td><td>&quot;***.854.493-**&quot;</td><td>13024055192</td><td>&quot;IRENICE CAMELO VALETE&quot;</td><td>&quot;750,00&quot;</td><td>0</td></tr></tbody></table></div>"
      ],
      "text/plain": [
       "shape: (5, 10)\n",
       "┌──────────────┬──────────────┬─────┬──────────────┬───┬─────────────┬─────────────┬─────────┬─────┐\n",
       "│ MÊS          ┆ MÊS          ┆ UF  ┆ CÓDIGO       ┆ … ┆ NIS         ┆ NOME        ┆ VALOR   ┆ DK  │\n",
       "│ COMPETÊNCIA  ┆ REFERÊNCIA   ┆ --- ┆ MUNICÍPIO    ┆   ┆ FAVORECIDO  ┆ FAVORECIDO  ┆ PARCELA ┆ --- │\n",
       "│ ---          ┆ ---          ┆ str ┆ SIAFI        ┆   ┆ ---         ┆ ---         ┆ ---     ┆ i32 │\n",
       "│ i64          ┆ i64          ┆     ┆ ---          ┆   ┆ i64         ┆ str         ┆ str     ┆     │\n",
       "│              ┆              ┆     ┆ i64          ┆   ┆             ┆             ┆         ┆     │\n",
       "╞══════════════╪══════════════╪═════╪══════════════╪═══╪═════════════╪═════════════╪═════════╪═════╡\n",
       "│ 202501       ┆ 202309       ┆ SP  ┆ 7071         ┆ … ┆ 20643890445 ┆ FERNANDA    ┆ 650,00  ┆ 0   │\n",
       "│              ┆              ┆     ┆              ┆   ┆             ┆ RAMOS       ┆         ┆     │\n",
       "│              ┆              ┆     ┆              ┆   ┆             ┆ TEIXEIRA    ┆         ┆     │\n",
       "│ 202501       ┆ 202310       ┆ SP  ┆ 7071         ┆ … ┆ 20643890445 ┆ FERNANDA    ┆ 650,00  ┆ 0   │\n",
       "│              ┆              ┆     ┆              ┆   ┆             ┆ RAMOS       ┆         ┆     │\n",
       "│              ┆              ┆     ┆              ┆   ┆             ┆ TEIXEIRA    ┆         ┆     │\n",
       "│ 202501       ┆ 202311       ┆ SP  ┆ 7071         ┆ … ┆ 20643890445 ┆ FERNANDA    ┆ 650,00  ┆ 0   │\n",
       "│              ┆              ┆     ┆              ┆   ┆             ┆ RAMOS       ┆         ┆     │\n",
       "│              ┆              ┆     ┆              ┆   ┆             ┆ TEIXEIRA    ┆         ┆     │\n",
       "│ 202501       ┆ 202312       ┆ SP  ┆ 7071         ┆ … ┆ 20643890445 ┆ FERNANDA    ┆ 650,00  ┆ 0   │\n",
       "│              ┆              ┆     ┆              ┆   ┆             ┆ RAMOS       ┆         ┆     │\n",
       "│              ┆              ┆     ┆              ┆   ┆             ┆ TEIXEIRA    ┆         ┆     │\n",
       "│ 202501       ┆ 202401       ┆ CE  ┆ 1389         ┆ … ┆ 13024055192 ┆ IRENICE     ┆ 750,00  ┆ 0   │\n",
       "│              ┆              ┆     ┆              ┆   ┆             ┆ CAMELO      ┆         ┆     │\n",
       "│              ┆              ┆     ┆              ┆   ┆             ┆ VALETE      ┆         ┆     │\n",
       "└──────────────┴──────────────┴─────┴──────────────┴───┴─────────────┴─────────────┴─────────┴─────┘"
      ]
     },
     "metadata": {},
     "output_type": "display_data"
    }
   ],
   "source": [
    "#Adição de Colunas:\n",
    "\n",
    "#pandas\n",
    "# df_pandas[\"DK\"]=0\n",
    "# display(df_pandas.head())\n",
    "\n",
    "#polars\n",
    "df_polars=df_polars.with_columns(pl.lit(0).alias('DK'))\n",
    "display(df_polars.head())"
   ]
  },
  {
   "cell_type": "code",
   "execution_count": 17,
   "metadata": {},
   "outputs": [
    {
     "data": {
      "text/html": [
       "<div><style>\n",
       ".dataframe > thead > tr,\n",
       ".dataframe > tbody > tr {\n",
       "  text-align: right;\n",
       "  white-space: pre-wrap;\n",
       "}\n",
       "</style>\n",
       "<small>shape: (5, 9)</small><table border=\"1\" class=\"dataframe\"><thead><tr><th>MÊS COMPETÊNCIA</th><th>MÊS REFERÊNCIA</th><th>UF</th><th>CÓDIGO MUNICÍPIO SIAFI</th><th>NOME MUNICÍPIO</th><th>CPF FAVORECIDO</th><th>NIS FAVORECIDO</th><th>NOME FAVORECIDO</th><th>VALOR PARCELA</th></tr><tr><td>i64</td><td>i64</td><td>str</td><td>i64</td><td>str</td><td>str</td><td>i64</td><td>str</td><td>str</td></tr></thead><tbody><tr><td>202501</td><td>202309</td><td>&quot;SP&quot;</td><td>7071</td><td>&quot;SANTOS&quot;</td><td>&quot;***.085.106-**&quot;</td><td>20643890445</td><td>&quot;FERNANDA RAMOS TEIXEIRA&quot;</td><td>&quot;650,00&quot;</td></tr><tr><td>202501</td><td>202310</td><td>&quot;SP&quot;</td><td>7071</td><td>&quot;SANTOS&quot;</td><td>&quot;***.085.106-**&quot;</td><td>20643890445</td><td>&quot;FERNANDA RAMOS TEIXEIRA&quot;</td><td>&quot;650,00&quot;</td></tr><tr><td>202501</td><td>202311</td><td>&quot;SP&quot;</td><td>7071</td><td>&quot;SANTOS&quot;</td><td>&quot;***.085.106-**&quot;</td><td>20643890445</td><td>&quot;FERNANDA RAMOS TEIXEIRA&quot;</td><td>&quot;650,00&quot;</td></tr><tr><td>202501</td><td>202312</td><td>&quot;SP&quot;</td><td>7071</td><td>&quot;SANTOS&quot;</td><td>&quot;***.085.106-**&quot;</td><td>20643890445</td><td>&quot;FERNANDA RAMOS TEIXEIRA&quot;</td><td>&quot;650,00&quot;</td></tr><tr><td>202501</td><td>202401</td><td>&quot;CE&quot;</td><td>1389</td><td>&quot;FORTALEZA&quot;</td><td>&quot;***.854.493-**&quot;</td><td>13024055192</td><td>&quot;IRENICE CAMELO VALETE&quot;</td><td>&quot;750,00&quot;</td></tr></tbody></table></div>"
      ],
      "text/plain": [
       "shape: (5, 9)\n",
       "┌────────────┬────────────┬─────┬────────────┬───┬────────────┬────────────┬───────────┬───────────┐\n",
       "│ MÊS COMPET ┆ MÊS        ┆ UF  ┆ CÓDIGO     ┆ … ┆ CPF        ┆ NIS        ┆ NOME FAVO ┆ VALOR     │\n",
       "│ ÊNCIA      ┆ REFERÊNCIA ┆ --- ┆ MUNICÍPIO  ┆   ┆ FAVORECIDO ┆ FAVORECIDO ┆ RECIDO    ┆ PARCELA   │\n",
       "│ ---        ┆ ---        ┆ str ┆ SIAFI      ┆   ┆ ---        ┆ ---        ┆ ---       ┆ ---       │\n",
       "│ i64        ┆ i64        ┆     ┆ ---        ┆   ┆ str        ┆ i64        ┆ str       ┆ str       │\n",
       "│            ┆            ┆     ┆ i64        ┆   ┆            ┆            ┆           ┆           │\n",
       "╞════════════╪════════════╪═════╪════════════╪═══╪════════════╪════════════╪═══════════╪═══════════╡\n",
       "│ 202501     ┆ 202309     ┆ SP  ┆ 7071       ┆ … ┆ ***.085.10 ┆ 2064389044 ┆ FERNANDA  ┆ 650,00    │\n",
       "│            ┆            ┆     ┆            ┆   ┆ 6-**       ┆ 5          ┆ RAMOS     ┆           │\n",
       "│            ┆            ┆     ┆            ┆   ┆            ┆            ┆ TEIXEIRA  ┆           │\n",
       "│ 202501     ┆ 202310     ┆ SP  ┆ 7071       ┆ … ┆ ***.085.10 ┆ 2064389044 ┆ FERNANDA  ┆ 650,00    │\n",
       "│            ┆            ┆     ┆            ┆   ┆ 6-**       ┆ 5          ┆ RAMOS     ┆           │\n",
       "│            ┆            ┆     ┆            ┆   ┆            ┆            ┆ TEIXEIRA  ┆           │\n",
       "│ 202501     ┆ 202311     ┆ SP  ┆ 7071       ┆ … ┆ ***.085.10 ┆ 2064389044 ┆ FERNANDA  ┆ 650,00    │\n",
       "│            ┆            ┆     ┆            ┆   ┆ 6-**       ┆ 5          ┆ RAMOS     ┆           │\n",
       "│            ┆            ┆     ┆            ┆   ┆            ┆            ┆ TEIXEIRA  ┆           │\n",
       "│ 202501     ┆ 202312     ┆ SP  ┆ 7071       ┆ … ┆ ***.085.10 ┆ 2064389044 ┆ FERNANDA  ┆ 650,00    │\n",
       "│            ┆            ┆     ┆            ┆   ┆ 6-**       ┆ 5          ┆ RAMOS     ┆           │\n",
       "│            ┆            ┆     ┆            ┆   ┆            ┆            ┆ TEIXEIRA  ┆           │\n",
       "│ 202501     ┆ 202401     ┆ CE  ┆ 1389       ┆ … ┆ ***.854.49 ┆ 1302405519 ┆ IRENICE   ┆ 750,00    │\n",
       "│            ┆            ┆     ┆            ┆   ┆ 3-**       ┆ 2          ┆ CAMELO    ┆           │\n",
       "│            ┆            ┆     ┆            ┆   ┆            ┆            ┆ VALETE    ┆           │\n",
       "└────────────┴────────────┴─────┴────────────┴───┴────────────┴────────────┴───────────┴───────────┘"
      ]
     },
     "metadata": {},
     "output_type": "display_data"
    }
   ],
   "source": [
    "#Remoção de Colunas:\n",
    "\n",
    "# #pandas\n",
    "# df_pandas=df_pandas.drop(columns=['DK'])\n",
    "# display(df_pandas.head())\n",
    "\n",
    "#polars\n",
    "df_polars=df_polars.drop(['DK'])\n",
    "display(df_polars.head())"
   ]
  }
 ],
 "metadata": {
  "kernelspec": {
   "display_name": "Python 3",
   "language": "python",
   "name": "python3"
  },
  "language_info": {
   "codemirror_mode": {
    "name": "ipython",
    "version": 3
   },
   "file_extension": ".py",
   "mimetype": "text/x-python",
   "name": "python",
   "nbconvert_exporter": "python",
   "pygments_lexer": "ipython3",
   "version": "3.12.0"
  },
  "orig_nbformat": 4
 },
 "nbformat": 4,
 "nbformat_minor": 2
}
