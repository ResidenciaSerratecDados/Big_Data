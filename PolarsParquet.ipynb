{
  "nbformat": 4,
  "nbformat_minor": 0,
  "metadata": {
    "colab": {
      "provenance": []
    },
    "kernelspec": {
      "name": "python3",
      "display_name": "Python 3"
    },
    "language_info": {
      "name": "python"
    }
  },
  "cells": [
    {
      "cell_type": "code",
      "source": [
        "import polars as pl\n",
        "import matplotlib.pyplot as plt\n",
        "import seaborn as sns"
      ],
      "metadata": {
        "id": "X4_zFSLYAobf"
      },
      "execution_count": 1,
      "outputs": []
    },
    {
      "cell_type": "code",
      "source": [
        "# Carrega o arquivo no modo lazy (não executa imediatamente)\n",
        "lazy_df = pl.scan_parquet(\"202501_NovoBolsaFamilia_polars.parquet\")"
      ],
      "metadata": {
        "id": "qQ5ck6cQAvE2"
      },
      "execution_count": 2,
      "outputs": []
    },
    {
      "cell_type": "code",
      "source": [
        "# Mostra o esquema (tipos de dados atuais)\n",
        "lazy_df.collect_schema()"
      ],
      "metadata": {
        "colab": {
          "base_uri": "https://localhost:8080/"
        },
        "id": "66szi3oLAzXN",
        "outputId": "64055a9e-d7d5-4800-931f-07465d4b92ac"
      },
      "execution_count": 3,
      "outputs": [
        {
          "output_type": "execute_result",
          "data": {
            "text/plain": [
              "Schema([('MÊS COMPETÊNCIA', Int64),\n",
              "        ('MÊS REFERÊNCIA', Int64),\n",
              "        ('UF', String),\n",
              "        ('CÓDIGO MUNICÍPIO SIAFI', Int64),\n",
              "        ('NOME MUNICÍPIO', String),\n",
              "        ('CPF FAVORECIDO', String),\n",
              "        ('NIS FAVORECIDO', Int64),\n",
              "        ('NOME FAVORECIDO', String),\n",
              "        ('VALOR PARCELA', String)])"
            ]
          },
          "metadata": {},
          "execution_count": 3
        }
      ]
    },
    {
      "cell_type": "code",
      "source": [
        "# Converte VALOR PARCELA de str para float (substitui ',' por '.')\n",
        "# Converte MÊS REFERÊNCIA de int (ex: 202501) para datetime\n",
        "processed_df = (\n",
        "    lazy_df\n",
        "    .with_columns(\n",
        "        pl.col(\"VALOR PARCELA\").str.replace(\",\", \".\").cast(pl.Float64).alias(\"VALOR PARCELA\"),\n",
        "        pl.col(\"MÊS REFERÊNCIA\").cast(pl.String).str.strptime(pl.Date, \"%Y%m\").alias(\"DATA REFERÊNCIA\")\n",
        "    )\n",
        ").collect()\n",
        "# Executa as operações lazy\n",
        "print(processed_df.head())"
      ],
      "metadata": {
        "colab": {
          "base_uri": "https://localhost:8080/"
        },
        "id": "U_c_TaO5CN3N",
        "outputId": "c5edf85a-ad6c-4d6c-a82b-4be37d325b67"
      },
      "execution_count": 4,
      "outputs": [
        {
          "output_type": "stream",
          "name": "stdout",
          "text": [
            "shape: (5, 10)\n",
            "┌────────────┬────────────┬─────┬────────────┬───┬────────────┬────────────┬───────────┬───────────┐\n",
            "│ MÊS COMPET ┆ MÊS        ┆ UF  ┆ CÓDIGO     ┆ … ┆ NIS        ┆ NOME       ┆ VALOR     ┆ DATA REFE │\n",
            "│ ÊNCIA      ┆ REFERÊNCIA ┆ --- ┆ MUNICÍPIO  ┆   ┆ FAVORECIDO ┆ FAVORECIDO ┆ PARCELA   ┆ RÊNCIA    │\n",
            "│ ---        ┆ ---        ┆ str ┆ SIAFI      ┆   ┆ ---        ┆ ---        ┆ ---       ┆ ---       │\n",
            "│ i64        ┆ i64        ┆     ┆ ---        ┆   ┆ i64        ┆ str        ┆ f64       ┆ date      │\n",
            "│            ┆            ┆     ┆ i64        ┆   ┆            ┆            ┆           ┆           │\n",
            "╞════════════╪════════════╪═════╪════════════╪═══╪════════════╪════════════╪═══════════╪═══════════╡\n",
            "│ 202501     ┆ 202308     ┆ SP  ┆ 7071       ┆ … ┆ 2064389044 ┆ FERNANDA   ┆ 650.0     ┆ 2023-08-0 │\n",
            "│            ┆            ┆     ┆            ┆   ┆ 5          ┆ RAMOS      ┆           ┆ 1         │\n",
            "│            ┆            ┆     ┆            ┆   ┆            ┆ TEIXEIRA   ┆           ┆           │\n",
            "│ 202501     ┆ 202309     ┆ SP  ┆ 7071       ┆ … ┆ 2064389044 ┆ FERNANDA   ┆ 650.0     ┆ 2023-09-0 │\n",
            "│            ┆            ┆     ┆            ┆   ┆ 5          ┆ RAMOS      ┆           ┆ 1         │\n",
            "│            ┆            ┆     ┆            ┆   ┆            ┆ TEIXEIRA   ┆           ┆           │\n",
            "│ 202501     ┆ 202310     ┆ SP  ┆ 7071       ┆ … ┆ 2064389044 ┆ FERNANDA   ┆ 650.0     ┆ 2023-10-0 │\n",
            "│            ┆            ┆     ┆            ┆   ┆ 5          ┆ RAMOS      ┆           ┆ 1         │\n",
            "│            ┆            ┆     ┆            ┆   ┆            ┆ TEIXEIRA   ┆           ┆           │\n",
            "│ 202501     ┆ 202311     ┆ SP  ┆ 7071       ┆ … ┆ 2064389044 ┆ FERNANDA   ┆ 650.0     ┆ 2023-11-0 │\n",
            "│            ┆            ┆     ┆            ┆   ┆ 5          ┆ RAMOS      ┆           ┆ 1         │\n",
            "│            ┆            ┆     ┆            ┆   ┆            ┆ TEIXEIRA   ┆           ┆           │\n",
            "│ 202501     ┆ 202312     ┆ SP  ┆ 7071       ┆ … ┆ 2064389044 ┆ FERNANDA   ┆ 650.0     ┆ 2023-12-0 │\n",
            "│            ┆            ┆     ┆            ┆   ┆ 5          ┆ RAMOS      ┆           ┆ 1         │\n",
            "│            ┆            ┆     ┆            ┆   ┆            ┆ TEIXEIRA   ┆           ┆           │\n",
            "└────────────┴────────────┴─────┴────────────┴───┴────────────┴────────────┴───────────┴───────────┘\n"
          ]
        }
      ]
    },
    {
      "cell_type": "code",
      "source": [
        "# Frequência de valores por UF\n",
        "freq_uf = processed_df[\"UF\"].value_counts().sort(\"count\", descending=True)\n",
        "print(freq_uf.head(27))"
      ],
      "metadata": {
        "colab": {
          "base_uri": "https://localhost:8080/"
        },
        "id": "LUgKwzzlDGKl",
        "outputId": "01b818b7-99d9-4401-a1b2-140b5de01e57"
      },
      "execution_count": 5,
      "outputs": [
        {
          "output_type": "stream",
          "name": "stdout",
          "text": [
            "shape: (27, 2)\n",
            "┌─────┬─────────┐\n",
            "│ UF  ┆ count   │\n",
            "│ --- ┆ ---     │\n",
            "│ str ┆ u32     │\n",
            "╞═════╪═════════╡\n",
            "│ BA  ┆ 4919884 │\n",
            "│ SP  ┆ 4892129 │\n",
            "│ PE  ┆ 3157786 │\n",
            "│ RJ  ┆ 3137344 │\n",
            "│ MG  ┆ 3119226 │\n",
            "│ …   ┆ …       │\n",
            "│ TO  ┆ 309062  │\n",
            "│ RO  ┆ 264180  │\n",
            "│ AC  ┆ 261752  │\n",
            "│ AP  ┆ 242729  │\n",
            "│ RR  ┆ 158597  │\n",
            "└─────┴─────────┘\n"
          ]
        }
      ]
    },
    {
      "cell_type": "code",
      "source": [
        "#Moda do valor da parcela (valor mais comum)\n",
        "moda_valor = processed_df[\"VALOR PARCELA\"].mode()\n",
        "print(f\"Moda do valor da parcela: {moda_valor}\")"
      ],
      "metadata": {
        "colab": {
          "base_uri": "https://localhost:8080/"
        },
        "id": "73nszP1wDdcF",
        "outputId": "2ff1f126-3f13-4a1f-ab45-e7b375586bb1"
      },
      "execution_count": 6,
      "outputs": [
        {
          "output_type": "stream",
          "name": "stdout",
          "text": [
            "Moda do valor da parcela: shape: (1,)\n",
            "Series: 'VALOR PARCELA' [f64]\n",
            "[\n",
            "\t600.0\n",
            "]\n"
          ]
        }
      ]
    },
    {
      "cell_type": "code",
      "source": [
        "# Configuração do gráfico\n",
        "plt.figure(figsize=(10, 6))\n",
        "sns.histplot(processed_df[\"VALOR PARCELA\"].to_numpy(), bins=30, kde=True)\n",
        "plt.title(\"Distribuição dos Valores das Parcelas\")\n",
        "plt.xlabel(\"Valor (R$)\")\n",
        "plt.ylabel(\"Frequência\")\n",
        "plt.show()"
      ],
      "metadata": {
        "colab": {
          "base_uri": "https://localhost:8080/",
          "height": 870
        },
        "id": "Ifh2VxNSEnyi",
        "outputId": "a6d5f631-3bab-4a62-e135-0d4d0edd4850"
      },
      "execution_count": 10,
      "outputs": [
        {
          "output_type": "error",
          "ename": "KeyboardInterrupt",
          "evalue": "",
          "traceback": [
            "\u001b[0;31m---------------------------------------------------------------------------\u001b[0m",
            "\u001b[0;31mKeyboardInterrupt\u001b[0m                         Traceback (most recent call last)",
            "\u001b[0;32m<ipython-input-10-1bbe2099d35b>\u001b[0m in \u001b[0;36m<cell line: 0>\u001b[0;34m()\u001b[0m\n\u001b[1;32m      1\u001b[0m \u001b[0;31m# Configuração do gráfico\u001b[0m\u001b[0;34m\u001b[0m\u001b[0;34m\u001b[0m\u001b[0m\n\u001b[1;32m      2\u001b[0m \u001b[0mplt\u001b[0m\u001b[0;34m.\u001b[0m\u001b[0mfigure\u001b[0m\u001b[0;34m(\u001b[0m\u001b[0mfigsize\u001b[0m\u001b[0;34m=\u001b[0m\u001b[0;34m(\u001b[0m\u001b[0;36m10\u001b[0m\u001b[0;34m,\u001b[0m \u001b[0;36m6\u001b[0m\u001b[0;34m)\u001b[0m\u001b[0;34m)\u001b[0m\u001b[0;34m\u001b[0m\u001b[0;34m\u001b[0m\u001b[0m\n\u001b[0;32m----> 3\u001b[0;31m \u001b[0msns\u001b[0m\u001b[0;34m.\u001b[0m\u001b[0mhistplot\u001b[0m\u001b[0;34m(\u001b[0m\u001b[0mprocessed_df\u001b[0m\u001b[0;34m[\u001b[0m\u001b[0;34m\"VALOR PARCELA\"\u001b[0m\u001b[0;34m]\u001b[0m\u001b[0;34m.\u001b[0m\u001b[0mto_numpy\u001b[0m\u001b[0;34m(\u001b[0m\u001b[0;34m)\u001b[0m\u001b[0;34m,\u001b[0m \u001b[0mbins\u001b[0m\u001b[0;34m=\u001b[0m\u001b[0;36m30\u001b[0m\u001b[0;34m,\u001b[0m \u001b[0mkde\u001b[0m\u001b[0;34m=\u001b[0m\u001b[0;32mTrue\u001b[0m\u001b[0;34m)\u001b[0m\u001b[0;34m\u001b[0m\u001b[0;34m\u001b[0m\u001b[0m\n\u001b[0m\u001b[1;32m      4\u001b[0m \u001b[0mplt\u001b[0m\u001b[0;34m.\u001b[0m\u001b[0mtitle\u001b[0m\u001b[0;34m(\u001b[0m\u001b[0;34m\"Distribuição dos Valores das Parcelas\"\u001b[0m\u001b[0;34m)\u001b[0m\u001b[0;34m\u001b[0m\u001b[0;34m\u001b[0m\u001b[0m\n\u001b[1;32m      5\u001b[0m \u001b[0mplt\u001b[0m\u001b[0;34m.\u001b[0m\u001b[0mxlabel\u001b[0m\u001b[0;34m(\u001b[0m\u001b[0;34m\"Valor (R$)\"\u001b[0m\u001b[0;34m)\u001b[0m\u001b[0;34m\u001b[0m\u001b[0;34m\u001b[0m\u001b[0m\n",
            "\u001b[0;32m/usr/local/lib/python3.11/dist-packages/seaborn/distributions.py\u001b[0m in \u001b[0;36mhistplot\u001b[0;34m(data, x, y, hue, weights, stat, bins, binwidth, binrange, discrete, cumulative, common_bins, common_norm, multiple, element, fill, shrink, kde, kde_kws, line_kws, thresh, pthresh, pmax, cbar, cbar_ax, cbar_kws, palette, hue_order, hue_norm, color, log_scale, legend, ax, **kwargs)\u001b[0m\n\u001b[1;32m   1414\u001b[0m     \u001b[0;32mif\u001b[0m \u001b[0mp\u001b[0m\u001b[0;34m.\u001b[0m\u001b[0munivariate\u001b[0m\u001b[0;34m:\u001b[0m\u001b[0;34m\u001b[0m\u001b[0;34m\u001b[0m\u001b[0m\n\u001b[1;32m   1415\u001b[0m \u001b[0;34m\u001b[0m\u001b[0m\n\u001b[0;32m-> 1416\u001b[0;31m         p.plot_univariate_histogram(\n\u001b[0m\u001b[1;32m   1417\u001b[0m             \u001b[0mmultiple\u001b[0m\u001b[0;34m=\u001b[0m\u001b[0mmultiple\u001b[0m\u001b[0;34m,\u001b[0m\u001b[0;34m\u001b[0m\u001b[0;34m\u001b[0m\u001b[0m\n\u001b[1;32m   1418\u001b[0m             \u001b[0melement\u001b[0m\u001b[0;34m=\u001b[0m\u001b[0melement\u001b[0m\u001b[0;34m,\u001b[0m\u001b[0;34m\u001b[0m\u001b[0;34m\u001b[0m\u001b[0m\n",
            "\u001b[0;32m/usr/local/lib/python3.11/dist-packages/seaborn/distributions.py\u001b[0m in \u001b[0;36mplot_univariate_histogram\u001b[0;34m(self, multiple, element, fill, common_norm, common_bins, shrink, kde, kde_kws, color, legend, line_kws, estimate_kws, **plot_kws)\u001b[0m\n\u001b[1;32m    445\u001b[0m             \u001b[0mkde_kws\u001b[0m\u001b[0;34m.\u001b[0m\u001b[0msetdefault\u001b[0m\u001b[0;34m(\u001b[0m\u001b[0;34m\"cut\"\u001b[0m\u001b[0;34m,\u001b[0m \u001b[0;36m0\u001b[0m\u001b[0;34m)\u001b[0m\u001b[0;34m\u001b[0m\u001b[0;34m\u001b[0m\u001b[0m\n\u001b[1;32m    446\u001b[0m             \u001b[0mkde_kws\u001b[0m\u001b[0;34m[\u001b[0m\u001b[0;34m\"cumulative\"\u001b[0m\u001b[0;34m]\u001b[0m \u001b[0;34m=\u001b[0m \u001b[0mestimate_kws\u001b[0m\u001b[0;34m[\u001b[0m\u001b[0;34m\"cumulative\"\u001b[0m\u001b[0;34m]\u001b[0m\u001b[0;34m\u001b[0m\u001b[0;34m\u001b[0m\u001b[0m\n\u001b[0;32m--> 447\u001b[0;31m             densities = self._compute_univariate_density(\n\u001b[0m\u001b[1;32m    448\u001b[0m                 \u001b[0mself\u001b[0m\u001b[0;34m.\u001b[0m\u001b[0mdata_variable\u001b[0m\u001b[0;34m,\u001b[0m\u001b[0;34m\u001b[0m\u001b[0;34m\u001b[0m\u001b[0m\n\u001b[1;32m    449\u001b[0m                 \u001b[0mcommon_norm\u001b[0m\u001b[0;34m,\u001b[0m\u001b[0;34m\u001b[0m\u001b[0;34m\u001b[0m\u001b[0m\n",
            "\u001b[0;32m/usr/local/lib/python3.11/dist-packages/seaborn/distributions.py\u001b[0m in \u001b[0;36m_compute_univariate_density\u001b[0;34m(self, data_variable, common_norm, common_grid, estimate_kws, warn_singular)\u001b[0m\n\u001b[1;32m    343\u001b[0m                     \u001b[0;31m# Convoluted approach needed because numerical failures\u001b[0m\u001b[0;34m\u001b[0m\u001b[0;34m\u001b[0m\u001b[0m\n\u001b[1;32m    344\u001b[0m                     \u001b[0;31m# can manifest in a few different ways.\u001b[0m\u001b[0;34m\u001b[0m\u001b[0;34m\u001b[0m\u001b[0m\n\u001b[0;32m--> 345\u001b[0;31m                     \u001b[0mdensity\u001b[0m\u001b[0;34m,\u001b[0m \u001b[0msupport\u001b[0m \u001b[0;34m=\u001b[0m \u001b[0mestimator\u001b[0m\u001b[0;34m(\u001b[0m\u001b[0mobservations\u001b[0m\u001b[0;34m,\u001b[0m \u001b[0mweights\u001b[0m\u001b[0;34m=\u001b[0m\u001b[0mweights\u001b[0m\u001b[0;34m)\u001b[0m\u001b[0;34m\u001b[0m\u001b[0;34m\u001b[0m\u001b[0m\n\u001b[0m\u001b[1;32m    346\u001b[0m             \u001b[0;32mexcept\u001b[0m \u001b[0mnp\u001b[0m\u001b[0;34m.\u001b[0m\u001b[0mlinalg\u001b[0m\u001b[0;34m.\u001b[0m\u001b[0mLinAlgError\u001b[0m\u001b[0;34m:\u001b[0m\u001b[0;34m\u001b[0m\u001b[0;34m\u001b[0m\u001b[0m\n\u001b[1;32m    347\u001b[0m                 \u001b[0msingular\u001b[0m \u001b[0;34m=\u001b[0m \u001b[0;32mTrue\u001b[0m\u001b[0;34m\u001b[0m\u001b[0;34m\u001b[0m\u001b[0m\n",
            "\u001b[0;32m/usr/local/lib/python3.11/dist-packages/seaborn/_statistics.py\u001b[0m in \u001b[0;36m__call__\u001b[0;34m(self, x1, x2, weights)\u001b[0m\n\u001b[1;32m    191\u001b[0m         \u001b[0;34m\"\"\"Fit and evaluate on univariate or bivariate data.\"\"\"\u001b[0m\u001b[0;34m\u001b[0m\u001b[0;34m\u001b[0m\u001b[0m\n\u001b[1;32m    192\u001b[0m         \u001b[0;32mif\u001b[0m \u001b[0mx2\u001b[0m \u001b[0;32mis\u001b[0m \u001b[0;32mNone\u001b[0m\u001b[0;34m:\u001b[0m\u001b[0;34m\u001b[0m\u001b[0;34m\u001b[0m\u001b[0m\n\u001b[0;32m--> 193\u001b[0;31m             \u001b[0;32mreturn\u001b[0m \u001b[0mself\u001b[0m\u001b[0;34m.\u001b[0m\u001b[0m_eval_univariate\u001b[0m\u001b[0;34m(\u001b[0m\u001b[0mx1\u001b[0m\u001b[0;34m,\u001b[0m \u001b[0mweights\u001b[0m\u001b[0;34m)\u001b[0m\u001b[0;34m\u001b[0m\u001b[0;34m\u001b[0m\u001b[0m\n\u001b[0m\u001b[1;32m    194\u001b[0m         \u001b[0;32melse\u001b[0m\u001b[0;34m:\u001b[0m\u001b[0;34m\u001b[0m\u001b[0;34m\u001b[0m\u001b[0m\n\u001b[1;32m    195\u001b[0m             \u001b[0;32mreturn\u001b[0m \u001b[0mself\u001b[0m\u001b[0;34m.\u001b[0m\u001b[0m_eval_bivariate\u001b[0m\u001b[0;34m(\u001b[0m\u001b[0mx1\u001b[0m\u001b[0;34m,\u001b[0m \u001b[0mx2\u001b[0m\u001b[0;34m,\u001b[0m \u001b[0mweights\u001b[0m\u001b[0;34m)\u001b[0m\u001b[0;34m\u001b[0m\u001b[0;34m\u001b[0m\u001b[0m\n",
            "\u001b[0;32m/usr/local/lib/python3.11/dist-packages/seaborn/_statistics.py\u001b[0m in \u001b[0;36m_eval_univariate\u001b[0;34m(self, x, weights)\u001b[0m\n\u001b[1;32m    160\u001b[0m             ])\n\u001b[1;32m    161\u001b[0m         \u001b[0;32melse\u001b[0m\u001b[0;34m:\u001b[0m\u001b[0;34m\u001b[0m\u001b[0;34m\u001b[0m\u001b[0m\n\u001b[0;32m--> 162\u001b[0;31m             \u001b[0mdensity\u001b[0m \u001b[0;34m=\u001b[0m \u001b[0mkde\u001b[0m\u001b[0;34m(\u001b[0m\u001b[0msupport\u001b[0m\u001b[0;34m)\u001b[0m\u001b[0;34m\u001b[0m\u001b[0;34m\u001b[0m\u001b[0m\n\u001b[0m\u001b[1;32m    163\u001b[0m \u001b[0;34m\u001b[0m\u001b[0m\n\u001b[1;32m    164\u001b[0m         \u001b[0;32mreturn\u001b[0m \u001b[0mdensity\u001b[0m\u001b[0;34m,\u001b[0m \u001b[0msupport\u001b[0m\u001b[0;34m\u001b[0m\u001b[0;34m\u001b[0m\u001b[0m\n",
            "\u001b[0;32m/usr/local/lib/python3.11/dist-packages/scipy/stats/_kde.py\u001b[0m in \u001b[0;36mevaluate\u001b[0;34m(self, points)\u001b[0m\n\u001b[1;32m    269\u001b[0m \u001b[0;34m\u001b[0m\u001b[0m\n\u001b[1;32m    270\u001b[0m         \u001b[0moutput_dtype\u001b[0m\u001b[0;34m,\u001b[0m \u001b[0mspec\u001b[0m \u001b[0;34m=\u001b[0m \u001b[0m_get_output_dtype\u001b[0m\u001b[0;34m(\u001b[0m\u001b[0mself\u001b[0m\u001b[0;34m.\u001b[0m\u001b[0mcovariance\u001b[0m\u001b[0;34m,\u001b[0m \u001b[0mpoints\u001b[0m\u001b[0;34m)\u001b[0m\u001b[0;34m\u001b[0m\u001b[0;34m\u001b[0m\u001b[0m\n\u001b[0;32m--> 271\u001b[0;31m         result = gaussian_kernel_estimate[spec](\n\u001b[0m\u001b[1;32m    272\u001b[0m             \u001b[0mself\u001b[0m\u001b[0;34m.\u001b[0m\u001b[0mdataset\u001b[0m\u001b[0;34m.\u001b[0m\u001b[0mT\u001b[0m\u001b[0;34m,\u001b[0m \u001b[0mself\u001b[0m\u001b[0;34m.\u001b[0m\u001b[0mweights\u001b[0m\u001b[0;34m[\u001b[0m\u001b[0;34m:\u001b[0m\u001b[0;34m,\u001b[0m \u001b[0;32mNone\u001b[0m\u001b[0;34m]\u001b[0m\u001b[0;34m,\u001b[0m\u001b[0;34m\u001b[0m\u001b[0;34m\u001b[0m\u001b[0m\n\u001b[1;32m    273\u001b[0m             points.T, self.cho_cov, output_dtype)\n",
            "\u001b[0;31mKeyboardInterrupt\u001b[0m: "
          ]
        },
        {
          "output_type": "display_data",
          "data": {
            "text/plain": [
              "<Figure size 1000x600 with 1 Axes>"
            ],
            "image/png": "[encoded data removed]"
          },
          "metadata": {}
        }
      ]
    },
    {
      "cell_type": "code",
      "source": [
        "'''\n",
        "Quais são as 3 UFs (Estados) com o menor número de beneficiários de acordo com a análise de frequência?\n",
        "Além da moda, o histograma pode nos dar uma ideia da dispersão dos valores.\n",
        "Qual é aproximadamente a faixa de valores que abrange a maioria dos beneficiários (a \"barriga\" principal do histograma)?\n",
        "Você consegue identificar visualmente se há beneficiários recebendo valores muito mais altos do que a maioria (possíveis outliers)?\n",
        "3 UFs com o menor número de beneficiários: Execute a célula que calcula e imprime freq_uf. A tabela resultante já está ordenada descendentemente.\n",
        "Para encontrar as UFs com o menor número, você precisará olhar as últimas linhas da saída.\n",
        "'''"
      ],
      "metadata": {
        "id": "L9QeLR34JEFI"
      },
      "execution_count": null,
      "outputs": []
    },
    {
      "cell_type": "code",
      "source": [
        "freq_uf_min = processed_df[\"UF\"].value_counts().sort(\"count\", descending=False)\n",
        "print(freq_uf_min.head(3))"
      ],
      "metadata": {
        "colab": {
          "base_uri": "https://localhost:8080/"
        },
        "id": "J_uFddJ_Iy_J",
        "outputId": "c919568c-54ac-4f99-ea26-52f627fc47dd"
      },
      "execution_count": 7,
      "outputs": [
        {
          "output_type": "stream",
          "name": "stdout",
          "text": [
            "shape: (3, 2)\n",
            "┌─────┬────────┐\n",
            "│ UF  ┆ count  │\n",
            "│ --- ┆ ---    │\n",
            "│ str ┆ u32    │\n",
            "╞═════╪════════╡\n",
            "│ RR  ┆ 158597 │\n",
            "│ AP  ┆ 242729 │\n",
            "│ AC  ┆ 261752 │\n",
            "└─────┴────────┘\n"
          ]
        }
      ]
    },
    {
      "cell_type": "code",
      "source": [
        "#gráfico de frequencia\n",
        "\n",
        "plt.figure(figsize=(12, 8)) # Ajusta o tamanho da figura para acomodar mais barras\n",
        "\n",
        "# Calcula as contagens e ordena por contagem decrescente\n",
        "uf_counts = processed_df[\"UF\"].value_counts().sort(\"count\", descending=True)\n",
        "\n",
        "# Extrai a coluna 'UF' (que contém os estados) do DataFrame de contagens para usar como ordem\n",
        "uf_order = uf_counts[\"UF\"].to_list()\n",
        "\n",
        "sns.countplot(data=processed_df, y=\"UF\", order=uf_order, palette=\"viridis\")\n",
        "plt.title(\"Número de Beneficiários por Estado (UF)\")\n",
        "plt.xlabel(\"Número de Beneficiários\")\n",
        "plt.ylabel(\"Estado (UF)\")\n",
        "plt.show()"
      ],
      "metadata": {
        "id": "qCR-hon9J2kR"
      },
      "execution_count": null,
      "outputs": []
    },
    {
      "cell_type": "code",
      "source": [
        "#gráfico mais simples pra teste\n",
        "\n",
        "plt.plot([1, 2, 3], [4, 5, 6])\n",
        "plt.title(\"Teste Simples\")\n",
        "plt.show()"
      ],
      "metadata": {
        "colab": {
          "base_uri": "https://localhost:8080/",
          "height": 452
        },
        "id": "b5Jaz1j3L59B",
        "outputId": "17ad48ca-2c88-4d3a-83f5-3d0ed8b27ff9"
      },
      "execution_count": 9,
      "outputs": [
        {
          "output_type": "display_data",
          "data": {
            "text/plain": [
              "<Figure size 640x480 with 1 Axes>"
            ],
            "image/png": "[encoded data removed]"
          },
          "metadata": {}
        }
      ]
    }
  ]
}