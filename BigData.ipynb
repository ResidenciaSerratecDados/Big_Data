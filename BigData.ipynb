{
  "nbformat": 4,
  "nbformat_minor": 0,
  "metadata": {
    "colab": {
      "provenance": []
    },
    "kernelspec": {
      "name": "python3",
      "display_name": "Python 3"
    },
    "language_info": {
      "name": "python"
    }
  },
  "cells": [
    {
      "cell_type": "code",
      "execution_count": null,
      "metadata": {
        "colab": {
          "base_uri": "https://localhost:8080/"
        },
        "id": "rnzUGm7MB6yV",
        "outputId": "ba4cace9-1e4b-4bac-d2b7-9628e4ad9eae"
      },
      "outputs": [
        {
          "output_type": "stream",
          "name": "stdout",
          "text": [
            "Tarefa 1 iniciando\n",
            "Tarefa 2 iniciando\n",
            "Tarefa 1 finalizando\n",
            "Tarefa 2 finalizando\n",
            "Processamento finalizado.\n"
          ]
        }
      ],
      "source": [
        "import threading\n",
        "import time\n",
        "\n",
        "def tarefa(nome):\n",
        "    print(f\"{nome} iniciando\")\n",
        "    time.sleep(2)\n",
        "    print(f\"{nome} finalizando\")\n",
        "\n",
        "#Threads para duas tarefas: multiprocessamento\n",
        "tarefa1=threading.Thread(target=tarefa,args=('Tarefa 1',))\n",
        "tarefa2=threading.Thread(target=tarefa,args=('Tarefa 2',))\n",
        "\n",
        "#Inicialização do thread:\n",
        "tarefa1.start()\n",
        "tarefa2.start()\n",
        "\n",
        "#Finalização do thread:\n",
        "tarefa1.join()\n",
        "tarefa2.join()\n",
        "\n",
        "print(\"Processamento finalizado.\")"
      ]
    },
    {
      "cell_type": "code",
      "source": [
        "#upload de arquivo csv ou excel\n",
        "\n",
        "import polars as pl\n",
        "import time\n",
        "\n",
        "arquivo1=pl.read_csv(\"/content/202501_NovoBolsaFamilia.csv\", separator=\";\", encoding=\"latin-1\")\n",
        "arquivo2=pl.read_csv(\"/content/202502_NovoBolsaFamilia.csv\", separator=\";\", encoding=\"latin-1\")\n",
        "\n",
        "inicio_tempo=time.time()\n",
        "df_polars=pl.concat([arquivo1,arquivo2])\n",
        "display(df_polars.head()) #imprimir os 5 primeiros\n",
        "\n",
        "print(\"Tempo de execução com Pandas\", time.time()-inicio_tempo, \"segundos\")"
      ],
      "metadata": {
        "id": "lVpuzsbTJJPb",
        "outputId": "ba23bbb1-e3f0-44d1-e76e-f4df9488c9c5",
        "colab": {
          "base_uri": "https://localhost:8080/",
          "height": 365
        }
      },
      "execution_count": null,
      "outputs": [
        {
          "output_type": "error",
          "ename": "FileNotFoundError",
          "evalue": "[Errno 2] No such file or directory: '/content/202501_NovoBolsaFamilia.csv'",
          "traceback": [
            "\u001b[0;31m---------------------------------------------------------------------------\u001b[0m",
            "\u001b[0;31mFileNotFoundError\u001b[0m                         Traceback (most recent call last)",
            "\u001b[0;32m<ipython-input-1-fe4b1d13f097>\u001b[0m in \u001b[0;36m<cell line: 0>\u001b[0;34m()\u001b[0m\n\u001b[1;32m      4\u001b[0m \u001b[0;32mimport\u001b[0m \u001b[0mtime\u001b[0m\u001b[0;34m\u001b[0m\u001b[0;34m\u001b[0m\u001b[0m\n\u001b[1;32m      5\u001b[0m \u001b[0;34m\u001b[0m\u001b[0m\n\u001b[0;32m----> 6\u001b[0;31m \u001b[0marquivo1\u001b[0m\u001b[0;34m=\u001b[0m\u001b[0mpl\u001b[0m\u001b[0;34m.\u001b[0m\u001b[0mread_csv\u001b[0m\u001b[0;34m(\u001b[0m\u001b[0;34m\"/content/202501_NovoBolsaFamilia.csv\"\u001b[0m\u001b[0;34m,\u001b[0m \u001b[0mseparator\u001b[0m\u001b[0;34m=\u001b[0m\u001b[0;34m\";\"\u001b[0m\u001b[0;34m,\u001b[0m \u001b[0mencoding\u001b[0m\u001b[0;34m=\u001b[0m\u001b[0;34m\"latin-1\"\u001b[0m\u001b[0;34m)\u001b[0m\u001b[0;34m\u001b[0m\u001b[0;34m\u001b[0m\u001b[0m\n\u001b[0m\u001b[1;32m      7\u001b[0m \u001b[0marquivo2\u001b[0m\u001b[0;34m=\u001b[0m\u001b[0mpl\u001b[0m\u001b[0;34m.\u001b[0m\u001b[0mread_csv\u001b[0m\u001b[0;34m(\u001b[0m\u001b[0;34m\"/content/202502_NovoBolsaFamilia.csv\"\u001b[0m\u001b[0;34m,\u001b[0m \u001b[0mseparator\u001b[0m\u001b[0;34m=\u001b[0m\u001b[0;34m\";\"\u001b[0m\u001b[0;34m,\u001b[0m \u001b[0mencoding\u001b[0m\u001b[0;34m=\u001b[0m\u001b[0;34m\"latin-1\"\u001b[0m\u001b[0;34m)\u001b[0m\u001b[0;34m\u001b[0m\u001b[0;34m\u001b[0m\u001b[0m\n\u001b[1;32m      8\u001b[0m \u001b[0;34m\u001b[0m\u001b[0m\n",
            "\u001b[0;32m/usr/local/lib/python3.11/dist-packages/polars/_utils/deprecation.py\u001b[0m in \u001b[0;36mwrapper\u001b[0;34m(*args, **kwargs)\u001b[0m\n\u001b[1;32m     90\u001b[0m                 \u001b[0mold_name\u001b[0m\u001b[0;34m,\u001b[0m \u001b[0mnew_name\u001b[0m\u001b[0;34m,\u001b[0m \u001b[0mkwargs\u001b[0m\u001b[0;34m,\u001b[0m \u001b[0mfunction\u001b[0m\u001b[0;34m.\u001b[0m\u001b[0m__qualname__\u001b[0m\u001b[0;34m,\u001b[0m \u001b[0mversion\u001b[0m\u001b[0;34m\u001b[0m\u001b[0;34m\u001b[0m\u001b[0m\n\u001b[1;32m     91\u001b[0m             )\n\u001b[0;32m---> 92\u001b[0;31m             \u001b[0;32mreturn\u001b[0m \u001b[0mfunction\u001b[0m\u001b[0;34m(\u001b[0m\u001b[0;34m*\u001b[0m\u001b[0margs\u001b[0m\u001b[0;34m,\u001b[0m \u001b[0;34m**\u001b[0m\u001b[0mkwargs\u001b[0m\u001b[0;34m)\u001b[0m\u001b[0;34m\u001b[0m\u001b[0;34m\u001b[0m\u001b[0m\n\u001b[0m\u001b[1;32m     93\u001b[0m \u001b[0;34m\u001b[0m\u001b[0m\n\u001b[1;32m     94\u001b[0m         \u001b[0mwrapper\u001b[0m\u001b[0;34m.\u001b[0m\u001b[0m__signature__\u001b[0m \u001b[0;34m=\u001b[0m \u001b[0minspect\u001b[0m\u001b[0;34m.\u001b[0m\u001b[0msignature\u001b[0m\u001b[0;34m(\u001b[0m\u001b[0mfunction\u001b[0m\u001b[0;34m)\u001b[0m  \u001b[0;31m# type: ignore[attr-defined]\u001b[0m\u001b[0;34m\u001b[0m\u001b[0;34m\u001b[0m\u001b[0m\n",
            "\u001b[0;32m/usr/local/lib/python3.11/dist-packages/polars/_utils/deprecation.py\u001b[0m in \u001b[0;36mwrapper\u001b[0;34m(*args, **kwargs)\u001b[0m\n\u001b[1;32m     90\u001b[0m                 \u001b[0mold_name\u001b[0m\u001b[0;34m,\u001b[0m \u001b[0mnew_name\u001b[0m\u001b[0;34m,\u001b[0m \u001b[0mkwargs\u001b[0m\u001b[0;34m,\u001b[0m \u001b[0mfunction\u001b[0m\u001b[0;34m.\u001b[0m\u001b[0m__qualname__\u001b[0m\u001b[0;34m,\u001b[0m \u001b[0mversion\u001b[0m\u001b[0;34m\u001b[0m\u001b[0;34m\u001b[0m\u001b[0m\n\u001b[1;32m     91\u001b[0m             )\n\u001b[0;32m---> 92\u001b[0;31m             \u001b[0;32mreturn\u001b[0m \u001b[0mfunction\u001b[0m\u001b[0;34m(\u001b[0m\u001b[0;34m*\u001b[0m\u001b[0margs\u001b[0m\u001b[0;34m,\u001b[0m \u001b[0;34m**\u001b[0m\u001b[0mkwargs\u001b[0m\u001b[0;34m)\u001b[0m\u001b[0;34m\u001b[0m\u001b[0;34m\u001b[0m\u001b[0m\n\u001b[0m\u001b[1;32m     93\u001b[0m \u001b[0;34m\u001b[0m\u001b[0m\n\u001b[1;32m     94\u001b[0m         \u001b[0mwrapper\u001b[0m\u001b[0;34m.\u001b[0m\u001b[0m__signature__\u001b[0m \u001b[0;34m=\u001b[0m \u001b[0minspect\u001b[0m\u001b[0;34m.\u001b[0m\u001b[0msignature\u001b[0m\u001b[0;34m(\u001b[0m\u001b[0mfunction\u001b[0m\u001b[0;34m)\u001b[0m  \u001b[0;31m# type: ignore[attr-defined]\u001b[0m\u001b[0;34m\u001b[0m\u001b[0;34m\u001b[0m\u001b[0m\n",
            "\u001b[0;32m/usr/local/lib/python3.11/dist-packages/polars/_utils/deprecation.py\u001b[0m in \u001b[0;36mwrapper\u001b[0;34m(*args, **kwargs)\u001b[0m\n\u001b[1;32m     90\u001b[0m                 \u001b[0mold_name\u001b[0m\u001b[0;34m,\u001b[0m \u001b[0mnew_name\u001b[0m\u001b[0;34m,\u001b[0m \u001b[0mkwargs\u001b[0m\u001b[0;34m,\u001b[0m \u001b[0mfunction\u001b[0m\u001b[0;34m.\u001b[0m\u001b[0m__qualname__\u001b[0m\u001b[0;34m,\u001b[0m \u001b[0mversion\u001b[0m\u001b[0;34m\u001b[0m\u001b[0;34m\u001b[0m\u001b[0m\n\u001b[1;32m     91\u001b[0m             )\n\u001b[0;32m---> 92\u001b[0;31m             \u001b[0;32mreturn\u001b[0m \u001b[0mfunction\u001b[0m\u001b[0;34m(\u001b[0m\u001b[0;34m*\u001b[0m\u001b[0margs\u001b[0m\u001b[0;34m,\u001b[0m \u001b[0;34m**\u001b[0m\u001b[0mkwargs\u001b[0m\u001b[0;34m)\u001b[0m\u001b[0;34m\u001b[0m\u001b[0;34m\u001b[0m\u001b[0m\n\u001b[0m\u001b[1;32m     93\u001b[0m \u001b[0;34m\u001b[0m\u001b[0m\n\u001b[1;32m     94\u001b[0m         \u001b[0mwrapper\u001b[0m\u001b[0;34m.\u001b[0m\u001b[0m__signature__\u001b[0m \u001b[0;34m=\u001b[0m \u001b[0minspect\u001b[0m\u001b[0;34m.\u001b[0m\u001b[0msignature\u001b[0m\u001b[0;34m(\u001b[0m\u001b[0mfunction\u001b[0m\u001b[0;34m)\u001b[0m  \u001b[0;31m# type: ignore[attr-defined]\u001b[0m\u001b[0;34m\u001b[0m\u001b[0;34m\u001b[0m\u001b[0m\n",
            "\u001b[0;32m/usr/local/lib/python3.11/dist-packages/polars/io/csv/functions.py\u001b[0m in \u001b[0;36mread_csv\u001b[0;34m(source, has_header, columns, new_columns, separator, comment_prefix, quote_char, skip_rows, skip_lines, schema, schema_overrides, null_values, missing_utf8_is_empty_string, ignore_errors, try_parse_dates, n_threads, infer_schema, infer_schema_length, batch_size, n_rows, encoding, low_memory, rechunk, use_pyarrow, storage_options, skip_rows_after_header, row_index_name, row_index_offset, sample_size, eol_char, raise_if_empty, truncate_ragged_lines, decimal_comma, glob)\u001b[0m\n\u001b[1;32m    525\u001b[0m \u001b[0;34m\u001b[0m\u001b[0m\n\u001b[1;32m    526\u001b[0m     \u001b[0;32melse\u001b[0m\u001b[0;34m:\u001b[0m\u001b[0;34m\u001b[0m\u001b[0;34m\u001b[0m\u001b[0m\n\u001b[0;32m--> 527\u001b[0;31m         with prepare_file_arg(\n\u001b[0m\u001b[1;32m    528\u001b[0m             \u001b[0msource\u001b[0m\u001b[0;34m,\u001b[0m\u001b[0;34m\u001b[0m\u001b[0;34m\u001b[0m\u001b[0m\n\u001b[1;32m    529\u001b[0m             \u001b[0mencoding\u001b[0m\u001b[0;34m=\u001b[0m\u001b[0mencoding\u001b[0m\u001b[0;34m,\u001b[0m\u001b[0;34m\u001b[0m\u001b[0;34m\u001b[0m\u001b[0m\n",
            "\u001b[0;32m/usr/local/lib/python3.11/dist-packages/polars/io/_utils.py\u001b[0m in \u001b[0;36mprepare_file_arg\u001b[0;34m(file, encoding, use_pyarrow, raise_if_empty, storage_options)\u001b[0m\n\u001b[1;32m    221\u001b[0m                     )\n\u001b[1;32m    222\u001b[0m                 \u001b[0;31m# decode first\u001b[0m\u001b[0;34m\u001b[0m\u001b[0;34m\u001b[0m\u001b[0m\n\u001b[0;32m--> 223\u001b[0;31m                 \u001b[0;32mwith\u001b[0m \u001b[0mPath\u001b[0m\u001b[0;34m(\u001b[0m\u001b[0mfile\u001b[0m\u001b[0;34m)\u001b[0m\u001b[0;34m.\u001b[0m\u001b[0mopen\u001b[0m\u001b[0;34m(\u001b[0m\u001b[0mencoding\u001b[0m\u001b[0;34m=\u001b[0m\u001b[0mencoding_str\u001b[0m\u001b[0;34m)\u001b[0m \u001b[0;32mas\u001b[0m \u001b[0mf\u001b[0m\u001b[0;34m:\u001b[0m\u001b[0;34m\u001b[0m\u001b[0;34m\u001b[0m\u001b[0m\n\u001b[0m\u001b[1;32m    224\u001b[0m                     return _check_empty(\n\u001b[1;32m    225\u001b[0m                         \u001b[0mBytesIO\u001b[0m\u001b[0;34m(\u001b[0m\u001b[0mf\u001b[0m\u001b[0;34m.\u001b[0m\u001b[0mread\u001b[0m\u001b[0;34m(\u001b[0m\u001b[0;34m)\u001b[0m\u001b[0;34m.\u001b[0m\u001b[0mencode\u001b[0m\u001b[0;34m(\u001b[0m\u001b[0;34m\"utf8\"\u001b[0m\u001b[0;34m)\u001b[0m\u001b[0;34m)\u001b[0m\u001b[0;34m,\u001b[0m\u001b[0;34m\u001b[0m\u001b[0;34m\u001b[0m\u001b[0m\n",
            "\u001b[0;32m/usr/lib/python3.11/pathlib.py\u001b[0m in \u001b[0;36mopen\u001b[0;34m(self, mode, buffering, encoding, errors, newline)\u001b[0m\n\u001b[1;32m   1042\u001b[0m         \u001b[0;32mif\u001b[0m \u001b[0;34m\"b\"\u001b[0m \u001b[0;32mnot\u001b[0m \u001b[0;32min\u001b[0m \u001b[0mmode\u001b[0m\u001b[0;34m:\u001b[0m\u001b[0;34m\u001b[0m\u001b[0;34m\u001b[0m\u001b[0m\n\u001b[1;32m   1043\u001b[0m             \u001b[0mencoding\u001b[0m \u001b[0;34m=\u001b[0m \u001b[0mio\u001b[0m\u001b[0;34m.\u001b[0m\u001b[0mtext_encoding\u001b[0m\u001b[0;34m(\u001b[0m\u001b[0mencoding\u001b[0m\u001b[0;34m)\u001b[0m\u001b[0;34m\u001b[0m\u001b[0;34m\u001b[0m\u001b[0m\n\u001b[0;32m-> 1044\u001b[0;31m         \u001b[0;32mreturn\u001b[0m \u001b[0mio\u001b[0m\u001b[0;34m.\u001b[0m\u001b[0mopen\u001b[0m\u001b[0;34m(\u001b[0m\u001b[0mself\u001b[0m\u001b[0;34m,\u001b[0m \u001b[0mmode\u001b[0m\u001b[0;34m,\u001b[0m \u001b[0mbuffering\u001b[0m\u001b[0;34m,\u001b[0m \u001b[0mencoding\u001b[0m\u001b[0;34m,\u001b[0m \u001b[0merrors\u001b[0m\u001b[0;34m,\u001b[0m \u001b[0mnewline\u001b[0m\u001b[0;34m)\u001b[0m\u001b[0;34m\u001b[0m\u001b[0;34m\u001b[0m\u001b[0m\n\u001b[0m\u001b[1;32m   1045\u001b[0m \u001b[0;34m\u001b[0m\u001b[0m\n\u001b[1;32m   1046\u001b[0m     \u001b[0;32mdef\u001b[0m \u001b[0mread_bytes\u001b[0m\u001b[0;34m(\u001b[0m\u001b[0mself\u001b[0m\u001b[0;34m)\u001b[0m\u001b[0;34m:\u001b[0m\u001b[0;34m\u001b[0m\u001b[0;34m\u001b[0m\u001b[0m\n",
            "\u001b[0;31mFileNotFoundError\u001b[0m: [Errno 2] No such file or directory: '/content/202501_NovoBolsaFamilia.csv'"
          ]
        }
      ]
    },
    {
      "cell_type": "code",
      "source": [
        "#upload de arquivo csv ou excel\n",
        "\n",
        "import pandas as pd\n",
        "import time\n",
        "\n",
        "arquivo1=pd.read_csv(\"/content/202501_NovoBolsaFamilia.csv\", sep=\";\", encoding=\"latin-1\")\n",
        "arquivo2=pd.read_csv(\"/content/202502_NovoBolsaFamilia.csv\", sep=\";\", encoding=\"latin-1\")\n",
        "\n",
        "inicio_tempo=time.time()\n",
        "df_pandas=pd.concat([arquivo1,arquivo2])\n",
        "display(df_pandas.head()) #imprimir os 5 primeiros\n",
        "\n",
        "print(\"Tempo de execução com Pandas\", time.time()-inicio_tempo, \"segundos\")"
      ],
      "metadata": {
        "id": "bhFxMG6-AoWU"
      },
      "execution_count": null,
      "outputs": []
    },
    {
      "cell_type": "code",
      "source": [
        "import pandas as pd\n",
        "import polars as pl\n",
        "import time\n",
        "\n",
        "arquivo1=pl.read_csv(\"/content/202501_NovoBolsaFamilia.csv\", separator=\";\", encoding=\"latin-1\")\n",
        "\n",
        "inicio_tempo=time.time()\n",
        "df_polars1=pl.concat([arquivo1])\n",
        "\n",
        "parquet1=df_polars1.write_parquet(\"/content/202501_NovoBolsaFamilia.parquet\")\n",
        "print(\"Tempo de execução com Pandas\", time.time()-inicio_tempo, \"segundos\")\n",
        "print(parquet1)"
      ],
      "metadata": {
        "colab": {
          "base_uri": "https://localhost:8080/"
        },
        "id": "hfzBm59BpRFw",
        "outputId": "1df84c55-db5d-4dc0-c84d-6619e5325c0e"
      },
      "execution_count": null,
      "outputs": [
        {
          "output_type": "stream",
          "name": "stdout",
          "text": [
            "Tempo de execução com Pandas 21.12946319580078 segundos\n",
            "None\n"
          ]
        }
      ]
    },
    {
      "cell_type": "code",
      "source": [
        "import pandas as pd\n",
        "import polars as pl\n",
        "import time\n",
        "\n",
        "arquivo2=pl.read_csv(\"/content/202502_NovoBolsaFamilia.csv\", separator=\";\", encoding=\"latin-1\")\n",
        "\n",
        "inicio_tempo=time.time()\n",
        "df_polars2=pl.concat([arquivo2])\n",
        "\n",
        "parquet2=df_polars2.write_parquet(\"/content/202502_NovoBolsaFamilia.parquet\")\n",
        "print(\"Tempo de execução com Pandas\", time.time()-inicio_tempo, \"segundos\")\n",
        "print(parquet2)"
      ],
      "metadata": {
        "colab": {
          "base_uri": "https://localhost:8080/"
        },
        "id": "6IkMRuts4wLY",
        "outputId": "09138b1f-d2b4-45d2-a5c3-39b328fe4713"
      },
      "execution_count": null,
      "outputs": [
        {
          "output_type": "stream",
          "name": "stdout",
          "text": [
            "Tempo de execução com Pandas 24.797059535980225 segundos\n",
            "None\n"
          ]
        }
      ]
    },
    {
      "cell_type": "code",
      "source": [
        "import psutil\n",
        "\n",
        "processo=psutil.Process()\n",
        "print('Uso de CPU:', processo.cpu_percent(),'%')\n",
        "print('Uso de Memória:',processo.memory_info().rss/(1024**2),'MB')"
      ],
      "metadata": {
        "colab": {
          "base_uri": "https://localhost:8080/"
        },
        "id": "tJYo8EOb_A0E",
        "outputId": "5efa090c-949c-442c-9c51-f53c81bec11f"
      },
      "execution_count": null,
      "outputs": [
        {
          "output_type": "stream",
          "name": "stdout",
          "text": [
            "Uso de CPU: 0.0 %\n",
            "Uso de Memória: 6138.8671875 MB\n"
          ]
        }
      ]
    },
    {
      "cell_type": "code",
      "source": [
        "import pandas as pd\n",
        "import polars as pl\n",
        "import time\n",
        "from IPython.display import display\n",
        "\n",
        "df_0125=pl.read_parquet('/content/202501_NovoBolsaFamilia.parquet')\n",
        "df_0225=pl.read_parquet('/content/202501_NovoBolsaFamilia.parquet')\n",
        "df_010225=pl.concat([df_0125,df_0225])\n",
        "display(df_010225.head(7000000))#Concatenar arquivos parquet"
      ],
      "metadata": {
        "colab": {
          "base_uri": "https://localhost:8080/",
          "height": 443
        },
        "id": "v-nNmtfV9uog",
        "outputId": "ba951a27-b06f-40eb-dced-f008415ce571"
      },
      "execution_count": 1,
      "outputs": [
        {
          "output_type": "display_data",
          "data": {
            "text/plain": [
              "shape: (7_000_000, 9)\n",
              "┌────────────┬────────────┬─────┬────────────┬───┬────────────┬────────────┬───────────┬───────────┐\n",
              "│ MÊS COMPET ┆ MÊS        ┆ UF  ┆ CÓDIGO     ┆ … ┆ CPF        ┆ NIS        ┆ NOME FAVO ┆ VALOR     │\n",
              "│ ÊNCIA      ┆ REFERÊNCIA ┆ --- ┆ MUNICÍPIO  ┆   ┆ FAVORECIDO ┆ FAVORECIDO ┆ RECIDO    ┆ PARCELA   │\n",
              "│ ---        ┆ ---        ┆ str ┆ SIAFI      ┆   ┆ ---        ┆ ---        ┆ ---       ┆ ---       │\n",
              "│ i64        ┆ i64        ┆     ┆ ---        ┆   ┆ str        ┆ i64        ┆ str       ┆ str       │\n",
              "│            ┆            ┆     ┆ i64        ┆   ┆            ┆            ┆           ┆           │\n",
              "╞════════════╪════════════╪═════╪════════════╪═══╪════════════╪════════════╪═══════════╪═══════════╡\n",
              "│ 202501     ┆ 202308     ┆ SP  ┆ 7071       ┆ … ┆ ***.085.10 ┆ 2064389044 ┆ FERNANDA  ┆ 650,00    │\n",
              "│            ┆            ┆     ┆            ┆   ┆ 6-**       ┆ 5          ┆ RAMOS     ┆           │\n",
              "│            ┆            ┆     ┆            ┆   ┆            ┆            ┆ TEIXEIRA  ┆           │\n",
              "│ 202501     ┆ 202309     ┆ SP  ┆ 7071       ┆ … ┆ ***.085.10 ┆ 2064389044 ┆ FERNANDA  ┆ 650,00    │\n",
              "│            ┆            ┆     ┆            ┆   ┆ 6-**       ┆ 5          ┆ RAMOS     ┆           │\n",
              "│            ┆            ┆     ┆            ┆   ┆            ┆            ┆ TEIXEIRA  ┆           │\n",
              "│ 202501     ┆ 202310     ┆ SP  ┆ 7071       ┆ … ┆ ***.085.10 ┆ 2064389044 ┆ FERNANDA  ┆ 650,00    │\n",
              "│            ┆            ┆     ┆            ┆   ┆ 6-**       ┆ 5          ┆ RAMOS     ┆           │\n",
              "│            ┆            ┆     ┆            ┆   ┆            ┆            ┆ TEIXEIRA  ┆           │\n",
              "│ 202501     ┆ 202311     ┆ SP  ┆ 7071       ┆ … ┆ ***.085.10 ┆ 2064389044 ┆ FERNANDA  ┆ 650,00    │\n",
              "│            ┆            ┆     ┆            ┆   ┆ 6-**       ┆ 5          ┆ RAMOS     ┆           │\n",
              "│            ┆            ┆     ┆            ┆   ┆            ┆            ┆ TEIXEIRA  ┆           │\n",
              "│ 202501     ┆ 202312     ┆ SP  ┆ 7071       ┆ … ┆ ***.085.10 ┆ 2064389044 ┆ FERNANDA  ┆ 650,00    │\n",
              "│            ┆            ┆     ┆            ┆   ┆ 6-**       ┆ 5          ┆ RAMOS     ┆           │\n",
              "│            ┆            ┆     ┆            ┆   ┆            ┆            ┆ TEIXEIRA  ┆           │\n",
              "│ …          ┆ …          ┆ …   ┆ …          ┆ … ┆ …          ┆ …          ┆ …         ┆ …         │\n",
              "│ 202501     ┆ 202501     ┆ MA  ┆ 845        ┆ … ┆ ***.497.46 ┆ 1267886937 ┆ JOSE      ┆ 750,00    │\n",
              "│            ┆            ┆     ┆            ┆   ┆ 3-**       ┆ 9          ┆ DIVINO    ┆           │\n",
              "│            ┆            ┆     ┆            ┆   ┆            ┆            ┆ ALVES     ┆           │\n",
              "│            ┆            ┆     ┆            ┆   ┆            ┆            ┆ GOMES     ┆           │\n",
              "│ 202501     ┆ 202501     ┆ MA  ┆ 845        ┆ … ┆            ┆ 1258118955 ┆ JOSE      ┆ 600,00    │\n",
              "│            ┆            ┆     ┆            ┆   ┆            ┆ 1          ┆ DOMINGOS  ┆           │\n",
              "│            ┆            ┆     ┆            ┆   ┆            ┆            ┆ DOURADO   ┆           │\n",
              "│            ┆            ┆     ┆            ┆   ┆            ┆            ┆ SOUSA     ┆           │\n",
              "│ 202501     ┆ 202501     ┆ MA  ┆ 845        ┆ … ┆ ***.765.89 ┆ 2010759972 ┆ JOSE DOS  ┆ 600,00    │\n",
              "│            ┆            ┆     ┆            ┆   ┆ 1-**       ┆ 9          ┆ SANTOS DA ┆           │\n",
              "│            ┆            ┆     ┆            ┆   ┆            ┆            ┆ COSTA     ┆           │\n",
              "│            ┆            ┆     ┆            ┆   ┆            ┆            ┆ AGUIA…    ┆           │\n",
              "│ 202501     ┆ 202501     ┆ MA  ┆ 845        ┆ … ┆ ***.379.62 ┆ 1268631197 ┆ JOSE DOS  ┆ 600,00    │\n",
              "│            ┆            ┆     ┆            ┆   ┆ 3-**       ┆ 7          ┆ SANTOS    ┆           │\n",
              "│            ┆            ┆     ┆            ┆   ┆            ┆            ┆ PEREIRA   ┆           │\n",
              "│            ┆            ┆     ┆            ┆   ┆            ┆            ┆ DE BRI…   ┆           │\n",
              "│ 202501     ┆ 202501     ┆ MA  ┆ 845        ┆ … ┆ ***.739.55 ┆ 1622678994 ┆ JOSE      ┆ 750,00    │\n",
              "│            ┆            ┆     ┆            ┆   ┆ 3-**       ┆ 9          ┆ DOURADO   ┆           │\n",
              "│            ┆            ┆     ┆            ┆   ┆            ┆            ┆ SOUSA     ┆           │\n",
              "└────────────┴────────────┴─────┴────────────┴───┴────────────┴────────────┴───────────┴───────────┘"
            ],
            "text/html": [
              "<div><style>\n",
              ".dataframe > thead > tr,\n",
              ".dataframe > tbody > tr {\n",
              "  text-align: right;\n",
              "  white-space: pre-wrap;\n",
              "}\n",
              "</style>\n",
              "<small>shape: (7_000_000, 9)</small><table border=\"1\" class=\"dataframe\"><thead><tr><th>MÊS COMPETÊNCIA</th><th>MÊS REFERÊNCIA</th><th>UF</th><th>CÓDIGO MUNICÍPIO SIAFI</th><th>NOME MUNICÍPIO</th><th>CPF FAVORECIDO</th><th>NIS FAVORECIDO</th><th>NOME FAVORECIDO</th><th>VALOR PARCELA</th></tr><tr><td>i64</td><td>i64</td><td>str</td><td>i64</td><td>str</td><td>str</td><td>i64</td><td>str</td><td>str</td></tr></thead><tbody><tr><td>202501</td><td>202308</td><td>&quot;SP&quot;</td><td>7071</td><td>&quot;SANTOS&quot;</td><td>&quot;***.085.106-**&quot;</td><td>20643890445</td><td>&quot;FERNANDA RAMOS TEIXEIRA&quot;</td><td>&quot;650,00&quot;</td></tr><tr><td>202501</td><td>202309</td><td>&quot;SP&quot;</td><td>7071</td><td>&quot;SANTOS&quot;</td><td>&quot;***.085.106-**&quot;</td><td>20643890445</td><td>&quot;FERNANDA RAMOS TEIXEIRA&quot;</td><td>&quot;650,00&quot;</td></tr><tr><td>202501</td><td>202310</td><td>&quot;SP&quot;</td><td>7071</td><td>&quot;SANTOS&quot;</td><td>&quot;***.085.106-**&quot;</td><td>20643890445</td><td>&quot;FERNANDA RAMOS TEIXEIRA&quot;</td><td>&quot;650,00&quot;</td></tr><tr><td>202501</td><td>202311</td><td>&quot;SP&quot;</td><td>7071</td><td>&quot;SANTOS&quot;</td><td>&quot;***.085.106-**&quot;</td><td>20643890445</td><td>&quot;FERNANDA RAMOS TEIXEIRA&quot;</td><td>&quot;650,00&quot;</td></tr><tr><td>202501</td><td>202312</td><td>&quot;SP&quot;</td><td>7071</td><td>&quot;SANTOS&quot;</td><td>&quot;***.085.106-**&quot;</td><td>20643890445</td><td>&quot;FERNANDA RAMOS TEIXEIRA&quot;</td><td>&quot;650,00&quot;</td></tr><tr><td>&hellip;</td><td>&hellip;</td><td>&hellip;</td><td>&hellip;</td><td>&hellip;</td><td>&hellip;</td><td>&hellip;</td><td>&hellip;</td><td>&hellip;</td></tr><tr><td>202501</td><td>202501</td><td>&quot;MA&quot;</td><td>845</td><td>&quot;NOVA IORQUE&quot;</td><td>&quot;***.497.463-**&quot;</td><td>12678869379</td><td>&quot;JOSE DIVINO ALVES GOMES&quot;</td><td>&quot;750,00&quot;</td></tr><tr><td>202501</td><td>202501</td><td>&quot;MA&quot;</td><td>845</td><td>&quot;NOVA IORQUE&quot;</td><td>&quot;&quot;</td><td>12581189551</td><td>&quot;JOSE DOMINGOS DOURADO SOUSA&quot;</td><td>&quot;600,00&quot;</td></tr><tr><td>202501</td><td>202501</td><td>&quot;MA&quot;</td><td>845</td><td>&quot;NOVA IORQUE&quot;</td><td>&quot;***.765.891-**&quot;</td><td>20107599729</td><td>&quot;JOSE DOS SANTOS DA COSTA AGUIA…</td><td>&quot;600,00&quot;</td></tr><tr><td>202501</td><td>202501</td><td>&quot;MA&quot;</td><td>845</td><td>&quot;NOVA IORQUE&quot;</td><td>&quot;***.379.623-**&quot;</td><td>12686311977</td><td>&quot;JOSE DOS SANTOS PEREIRA DE BRI…</td><td>&quot;600,00&quot;</td></tr><tr><td>202501</td><td>202501</td><td>&quot;MA&quot;</td><td>845</td><td>&quot;NOVA IORQUE&quot;</td><td>&quot;***.739.553-**&quot;</td><td>16226789949</td><td>&quot;JOSE DOURADO SOUSA&quot;</td><td>&quot;750,00&quot;</td></tr></tbody></table></div>"
            ]
          },
          "metadata": {}
        }
      ]
    },
    {
      "cell_type": "code",
      "source": [
        "resultado=(df_010225.filter(pl.col(\"NOME MUNICÍPIO\")==\"RIO DE JANEIRO\")) # filtro do df_010225\n",
        "display(resultado)"
      ],
      "metadata": {
        "colab": {
          "base_uri": "https://localhost:8080/",
          "height": 443
        },
        "id": "E5ldo7xKBh3v",
        "outputId": "6b437f74-3313-46b1-cb71-34a0cb1decdc"
      },
      "execution_count": null,
      "outputs": [
        {
          "output_type": "display_data",
          "data": {
            "text/plain": [
              "shape: (988_548, 9)\n",
              "┌────────────┬────────────┬─────┬────────────┬───┬────────────┬────────────┬───────────┬───────────┐\n",
              "│ MÊS COMPET ┆ MÊS        ┆ UF  ┆ CÓDIGO     ┆ … ┆ CPF        ┆ NIS        ┆ NOME FAVO ┆ VALOR     │\n",
              "│ ÊNCIA      ┆ REFERÊNCIA ┆ --- ┆ MUNICÍPIO  ┆   ┆ FAVORECIDO ┆ FAVORECIDO ┆ RECIDO    ┆ PARCELA   │\n",
              "│ ---        ┆ ---        ┆ str ┆ SIAFI      ┆   ┆ ---        ┆ ---        ┆ ---       ┆ ---       │\n",
              "│ i64        ┆ i64        ┆     ┆ ---        ┆   ┆ str        ┆ i64        ┆ str       ┆ str       │\n",
              "│            ┆            ┆     ┆ i64        ┆   ┆            ┆            ┆           ┆           │\n",
              "╞════════════╪════════════╪═════╪════════════╪═══╪════════════╪════════════╪═══════════╪═══════════╡\n",
              "│ 202501     ┆ 202407     ┆ RJ  ┆ 6001       ┆ … ┆ ***.876.48 ┆ 1233338428 ┆ ADILSON   ┆ 600,00    │\n",
              "│            ┆            ┆     ┆            ┆   ┆ 7-**       ┆ 1          ┆ FERREIRA  ┆           │\n",
              "│            ┆            ┆     ┆            ┆   ┆            ┆            ┆ MAGALHAES ┆           │\n",
              "│ 202501     ┆ 202407     ┆ RJ  ┆ 6001       ┆ … ┆ ***.369.45 ┆ 1281138744 ┆ ADRIANO   ┆ 600,00    │\n",
              "│            ┆            ┆     ┆            ┆   ┆ 4-**       ┆ 9          ┆ PEREIRA   ┆           │\n",
              "│            ┆            ┆     ┆            ┆   ┆            ┆            ┆ DA SILVA  ┆           │\n",
              "│ 202501     ┆ 202407     ┆ RJ  ┆ 6001       ┆ … ┆ ***.157.81 ┆ 1243030281 ┆ AGILSON   ┆ 700,00    │\n",
              "│            ┆            ┆     ┆            ┆   ┆ 6-**       ┆ 2          ┆ GERALDO   ┆           │\n",
              "│            ┆            ┆     ┆            ┆   ┆            ┆            ┆ FERREIRA  ┆           │\n",
              "│ 202501     ┆ 202407     ┆ RJ  ┆ 6001       ┆ … ┆ ***.077.81 ┆ 1309420112 ┆ ALESSANDR ┆ 700,00    │\n",
              "│            ┆            ┆     ┆            ┆   ┆ 7-**       ┆ 0          ┆ A         ┆           │\n",
              "│            ┆            ┆     ┆            ┆   ┆            ┆            ┆ FERREIRA  ┆           │\n",
              "│            ┆            ┆     ┆            ┆   ┆            ┆            ┆ DE JESUS  ┆           │\n",
              "│ 202501     ┆ 202407     ┆ RJ  ┆ 6001       ┆ … ┆ ***.728.67 ┆ 1248144047 ┆ ALEXANDRE ┆ 600,00    │\n",
              "│            ┆            ┆     ┆            ┆   ┆ 7-**       ┆ 3          ┆ LUIS      ┆           │\n",
              "│            ┆            ┆     ┆            ┆   ┆            ┆            ┆ LEMOS     ┆           │\n",
              "│            ┆            ┆     ┆            ┆   ┆            ┆            ┆ VAZQUEZ   ┆           │\n",
              "│ …          ┆ …          ┆ …   ┆ …          ┆ … ┆ …          ┆ …          ┆ …         ┆ …         │\n",
              "│ 202501     ┆ 202501     ┆ RJ  ┆ 6001       ┆ … ┆ ***.675.37 ┆ 1663229345 ┆ ZULNARA   ┆ 600,00    │\n",
              "│            ┆            ┆     ┆            ┆   ┆ 7-**       ┆ 0          ┆ XAVIER    ┆           │\n",
              "│ 202501     ┆ 202501     ┆ RJ  ┆ 6001       ┆ … ┆ ***.890.18 ┆ 1216493945 ┆ ZULZIMAR  ┆ 600,00    │\n",
              "│            ┆            ┆     ┆            ┆   ┆ 7-**       ┆ 1          ┆ DOS       ┆           │\n",
              "│            ┆            ┆     ┆            ┆   ┆            ┆            ┆ SANTOS    ┆           │\n",
              "│            ┆            ┆     ┆            ┆   ┆            ┆            ┆ PIRES     ┆           │\n",
              "│ 202501     ┆ 202501     ┆ RJ  ┆ 6001       ┆ … ┆ ***.963.23 ┆ 1228856259 ┆ ZUMILDO   ┆ 650,00    │\n",
              "│            ┆            ┆     ┆            ┆   ┆ 7-**       ┆ 7          ┆ BATISTA   ┆           │\n",
              "│            ┆            ┆     ┆            ┆   ┆            ┆            ┆ DOS       ┆           │\n",
              "│            ┆            ┆     ┆            ┆   ┆            ┆            ┆ SANTOS    ┆           │\n",
              "│ 202501     ┆ 202501     ┆ RJ  ┆ 6001       ┆ … ┆            ┆ 1369956281 ┆ ZUREMA    ┆ 700,00    │\n",
              "│            ┆            ┆     ┆            ┆   ┆            ┆ 5          ┆ PATRICIA  ┆           │\n",
              "│            ┆            ┆     ┆            ┆   ┆            ┆            ┆ DE SOUSA  ┆           │\n",
              "│            ┆            ┆     ┆            ┆   ┆            ┆            ┆ GASPA…    ┆           │\n",
              "│ 202501     ┆ 202501     ┆ RJ  ┆ 6001       ┆ … ┆ ***.441.84 ┆ 2014789092 ┆ ZUZILENE  ┆ 700,00    │\n",
              "│            ┆            ┆     ┆            ┆   ┆ 7-**       ┆ 0          ┆ SANTOS    ┆           │\n",
              "│            ┆            ┆     ┆            ┆   ┆            ┆            ┆ SILVA     ┆           │\n",
              "└────────────┴────────────┴─────┴────────────┴───┴────────────┴────────────┴───────────┴───────────┘"
            ],
            "text/html": [
              "<div><style>\n",
              ".dataframe > thead > tr,\n",
              ".dataframe > tbody > tr {\n",
              "  text-align: right;\n",
              "  white-space: pre-wrap;\n",
              "}\n",
              "</style>\n",
              "<small>shape: (988_548, 9)</small><table border=\"1\" class=\"dataframe\"><thead><tr><th>MÊS COMPETÊNCIA</th><th>MÊS REFERÊNCIA</th><th>UF</th><th>CÓDIGO MUNICÍPIO SIAFI</th><th>NOME MUNICÍPIO</th><th>CPF FAVORECIDO</th><th>NIS FAVORECIDO</th><th>NOME FAVORECIDO</th><th>VALOR PARCELA</th></tr><tr><td>i64</td><td>i64</td><td>str</td><td>i64</td><td>str</td><td>str</td><td>i64</td><td>str</td><td>str</td></tr></thead><tbody><tr><td>202501</td><td>202407</td><td>&quot;RJ&quot;</td><td>6001</td><td>&quot;RIO DE JANEIRO&quot;</td><td>&quot;***.876.487-**&quot;</td><td>12333384281</td><td>&quot;ADILSON FERREIRA MAGALHAES&quot;</td><td>&quot;600,00&quot;</td></tr><tr><td>202501</td><td>202407</td><td>&quot;RJ&quot;</td><td>6001</td><td>&quot;RIO DE JANEIRO&quot;</td><td>&quot;***.369.454-**&quot;</td><td>12811387449</td><td>&quot;ADRIANO PEREIRA DA SILVA&quot;</td><td>&quot;600,00&quot;</td></tr><tr><td>202501</td><td>202407</td><td>&quot;RJ&quot;</td><td>6001</td><td>&quot;RIO DE JANEIRO&quot;</td><td>&quot;***.157.816-**&quot;</td><td>12430302812</td><td>&quot;AGILSON GERALDO FERREIRA&quot;</td><td>&quot;700,00&quot;</td></tr><tr><td>202501</td><td>202407</td><td>&quot;RJ&quot;</td><td>6001</td><td>&quot;RIO DE JANEIRO&quot;</td><td>&quot;***.077.817-**&quot;</td><td>13094201120</td><td>&quot;ALESSANDRA FERREIRA DE JESUS&quot;</td><td>&quot;700,00&quot;</td></tr><tr><td>202501</td><td>202407</td><td>&quot;RJ&quot;</td><td>6001</td><td>&quot;RIO DE JANEIRO&quot;</td><td>&quot;***.728.677-**&quot;</td><td>12481440473</td><td>&quot;ALEXANDRE LUIS LEMOS VAZQUEZ&quot;</td><td>&quot;600,00&quot;</td></tr><tr><td>&hellip;</td><td>&hellip;</td><td>&hellip;</td><td>&hellip;</td><td>&hellip;</td><td>&hellip;</td><td>&hellip;</td><td>&hellip;</td><td>&hellip;</td></tr><tr><td>202501</td><td>202501</td><td>&quot;RJ&quot;</td><td>6001</td><td>&quot;RIO DE JANEIRO&quot;</td><td>&quot;***.675.377-**&quot;</td><td>16632293450</td><td>&quot;ZULNARA XAVIER&quot;</td><td>&quot;600,00&quot;</td></tr><tr><td>202501</td><td>202501</td><td>&quot;RJ&quot;</td><td>6001</td><td>&quot;RIO DE JANEIRO&quot;</td><td>&quot;***.890.187-**&quot;</td><td>12164939451</td><td>&quot;ZULZIMAR DOS SANTOS PIRES&quot;</td><td>&quot;600,00&quot;</td></tr><tr><td>202501</td><td>202501</td><td>&quot;RJ&quot;</td><td>6001</td><td>&quot;RIO DE JANEIRO&quot;</td><td>&quot;***.963.237-**&quot;</td><td>12288562597</td><td>&quot;ZUMILDO BATISTA DOS SANTOS&quot;</td><td>&quot;650,00&quot;</td></tr><tr><td>202501</td><td>202501</td><td>&quot;RJ&quot;</td><td>6001</td><td>&quot;RIO DE JANEIRO&quot;</td><td>&quot;&quot;</td><td>13699562815</td><td>&quot;ZUREMA PATRICIA DE SOUSA GASPA…</td><td>&quot;700,00&quot;</td></tr><tr><td>202501</td><td>202501</td><td>&quot;RJ&quot;</td><td>6001</td><td>&quot;RIO DE JANEIRO&quot;</td><td>&quot;***.441.847-**&quot;</td><td>20147890920</td><td>&quot;ZUZILENE SANTOS SILVA&quot;</td><td>&quot;700,00&quot;</td></tr></tbody></table></div>"
            ]
          },
          "metadata": {}
        }
      ]
    },
    {
      "cell_type": "code",
      "source": [
        "display(df_010225.select(\"CÓDIGO MUNICÍPIO SIAFI\"))"
      ],
      "metadata": {
        "colab": {
          "base_uri": "https://localhost:8080/",
          "height": 443
        },
        "id": "fYgeDfZBFFoA",
        "outputId": "48391a7e-5415-4adf-8fb7-d5940c884a40"
      },
      "execution_count": null,
      "outputs": [
        {
          "output_type": "display_data",
          "data": {
            "text/plain": [
              "shape: (40_864_156, 1)\n",
              "┌────────────────────────┐\n",
              "│ CÓDIGO MUNICÍPIO SIAFI │\n",
              "│ ---                    │\n",
              "│ i64                    │\n",
              "╞════════════════════════╡\n",
              "│ 7071                   │\n",
              "│ 7071                   │\n",
              "│ 7071                   │\n",
              "│ 7071                   │\n",
              "│ 7071                   │\n",
              "│ …                      │\n",
              "│ 9643                   │\n",
              "│ 9643                   │\n",
              "│ 9643                   │\n",
              "│ 9643                   │\n",
              "│ 9643                   │\n",
              "└────────────────────────┘"
            ],
            "text/html": [
              "<div><style>\n",
              ".dataframe > thead > tr,\n",
              ".dataframe > tbody > tr {\n",
              "  text-align: right;\n",
              "  white-space: pre-wrap;\n",
              "}\n",
              "</style>\n",
              "<small>shape: (40_864_156, 1)</small><table border=\"1\" class=\"dataframe\"><thead><tr><th>CÓDIGO MUNICÍPIO SIAFI</th></tr><tr><td>i64</td></tr></thead><tbody><tr><td>7071</td></tr><tr><td>7071</td></tr><tr><td>7071</td></tr><tr><td>7071</td></tr><tr><td>7071</td></tr><tr><td>&hellip;</td></tr><tr><td>9643</td></tr><tr><td>9643</td></tr><tr><td>9643</td></tr><tr><td>9643</td></tr><tr><td>9643</td></tr></tbody></table></div>"
            ]
          },
          "metadata": {}
        }
      ]
    },
    {
      "cell_type": "code",
      "source": [
        "display(df_010225.filter(pl.col(\"MÊS COMPETÊNCIA\")==202501))"
      ],
      "metadata": {
        "colab": {
          "base_uri": "https://localhost:8080/",
          "height": 443
        },
        "id": "KsQqWQ6XOkSo",
        "outputId": "7f3c3261-4122-48da-88a5-e9305a0ecdca"
      },
      "execution_count": null,
      "outputs": [
        {
          "output_type": "display_data",
          "data": {
            "text/plain": [
              "shape: (40_864_156, 9)\n",
              "┌────────────┬────────────┬─────┬────────────┬───┬────────────┬────────────┬───────────┬───────────┐\n",
              "│ MÊS COMPET ┆ MÊS        ┆ UF  ┆ CÓDIGO     ┆ … ┆ CPF        ┆ NIS        ┆ NOME FAVO ┆ VALOR     │\n",
              "│ ÊNCIA      ┆ REFERÊNCIA ┆ --- ┆ MUNICÍPIO  ┆   ┆ FAVORECIDO ┆ FAVORECIDO ┆ RECIDO    ┆ PARCELA   │\n",
              "│ ---        ┆ ---        ┆ str ┆ SIAFI      ┆   ┆ ---        ┆ ---        ┆ ---       ┆ ---       │\n",
              "│ i64        ┆ i64        ┆     ┆ ---        ┆   ┆ str        ┆ i64        ┆ str       ┆ str       │\n",
              "│            ┆            ┆     ┆ i64        ┆   ┆            ┆            ┆           ┆           │\n",
              "╞════════════╪════════════╪═════╪════════════╪═══╪════════════╪════════════╪═══════════╪═══════════╡\n",
              "│ 202501     ┆ 202308     ┆ SP  ┆ 7071       ┆ … ┆ ***.085.10 ┆ 2064389044 ┆ FERNANDA  ┆ 650,00    │\n",
              "│            ┆            ┆     ┆            ┆   ┆ 6-**       ┆ 5          ┆ RAMOS     ┆           │\n",
              "│            ┆            ┆     ┆            ┆   ┆            ┆            ┆ TEIXEIRA  ┆           │\n",
              "│ 202501     ┆ 202309     ┆ SP  ┆ 7071       ┆ … ┆ ***.085.10 ┆ 2064389044 ┆ FERNANDA  ┆ 650,00    │\n",
              "│            ┆            ┆     ┆            ┆   ┆ 6-**       ┆ 5          ┆ RAMOS     ┆           │\n",
              "│            ┆            ┆     ┆            ┆   ┆            ┆            ┆ TEIXEIRA  ┆           │\n",
              "│ 202501     ┆ 202310     ┆ SP  ┆ 7071       ┆ … ┆ ***.085.10 ┆ 2064389044 ┆ FERNANDA  ┆ 650,00    │\n",
              "│            ┆            ┆     ┆            ┆   ┆ 6-**       ┆ 5          ┆ RAMOS     ┆           │\n",
              "│            ┆            ┆     ┆            ┆   ┆            ┆            ┆ TEIXEIRA  ┆           │\n",
              "│ 202501     ┆ 202311     ┆ SP  ┆ 7071       ┆ … ┆ ***.085.10 ┆ 2064389044 ┆ FERNANDA  ┆ 650,00    │\n",
              "│            ┆            ┆     ┆            ┆   ┆ 6-**       ┆ 5          ┆ RAMOS     ┆           │\n",
              "│            ┆            ┆     ┆            ┆   ┆            ┆            ┆ TEIXEIRA  ┆           │\n",
              "│ 202501     ┆ 202312     ┆ SP  ┆ 7071       ┆ … ┆ ***.085.10 ┆ 2064389044 ┆ FERNANDA  ┆ 650,00    │\n",
              "│            ┆            ┆     ┆            ┆   ┆ 6-**       ┆ 5          ┆ RAMOS     ┆           │\n",
              "│            ┆            ┆     ┆            ┆   ┆            ┆            ┆ TEIXEIRA  ┆           │\n",
              "│ …          ┆ …          ┆ …   ┆ …          ┆ … ┆ …          ┆ …          ┆ …         ┆ …         │\n",
              "│ 202501     ┆ 202501     ┆ TO  ┆ 9643       ┆ … ┆            ┆ 1664089069 ┆ ZEIA DE   ┆ 750,00    │\n",
              "│            ┆            ┆     ┆            ┆   ┆            ┆ 1          ┆ SOUZA     ┆           │\n",
              "│            ┆            ┆     ┆            ┆   ┆            ┆            ┆ LUCIO     ┆           │\n",
              "│ 202501     ┆ 202501     ┆ TO  ┆ 9643       ┆ … ┆ ***.273.19 ┆ 2064488199 ┆ ZENILDE   ┆ 600,00    │\n",
              "│            ┆            ┆     ┆            ┆   ┆ 1-**       ┆ 7          ┆ ALVES DOS ┆           │\n",
              "│            ┆            ┆     ┆            ┆   ┆            ┆            ┆ SANTOS    ┆           │\n",
              "│ 202501     ┆ 202501     ┆ TO  ┆ 9643       ┆ … ┆            ┆ 1905866197 ┆ ZENOLIA   ┆ 600,00    │\n",
              "│            ┆            ┆     ┆            ┆   ┆            ┆ 3          ┆ RAMOS DA  ┆           │\n",
              "│            ┆            ┆     ┆            ┆   ┆            ┆            ┆ SILVA     ┆           │\n",
              "│            ┆            ┆     ┆            ┆   ┆            ┆            ┆ CARVALH…  ┆           │\n",
              "│ 202501     ┆ 202501     ┆ TO  ┆ 9643       ┆ … ┆ ***.822.65 ┆ 2091926382 ┆ ZILMA     ┆ 600,00    │\n",
              "│            ┆            ┆     ┆            ┆   ┆ 1-**       ┆ 2          ┆ ALVES DE  ┆           │\n",
              "│            ┆            ┆     ┆            ┆   ┆            ┆            ┆ BARROS    ┆           │\n",
              "│ 202501     ┆ 202501     ┆ TO  ┆ 9643       ┆ … ┆            ┆ 2050119994 ┆ ZULEIDE   ┆ 650,00    │\n",
              "│            ┆            ┆     ┆            ┆   ┆            ┆ 7          ┆ DA SILVA  ┆           │\n",
              "│            ┆            ┆     ┆            ┆   ┆            ┆            ┆ E SILVA   ┆           │\n",
              "└────────────┴────────────┴─────┴────────────┴───┴────────────┴────────────┴───────────┴───────────┘"
            ],
            "text/html": [
              "<div><style>\n",
              ".dataframe > thead > tr,\n",
              ".dataframe > tbody > tr {\n",
              "  text-align: right;\n",
              "  white-space: pre-wrap;\n",
              "}\n",
              "</style>\n",
              "<small>shape: (40_864_156, 9)</small><table border=\"1\" class=\"dataframe\"><thead><tr><th>MÊS COMPETÊNCIA</th><th>MÊS REFERÊNCIA</th><th>UF</th><th>CÓDIGO MUNICÍPIO SIAFI</th><th>NOME MUNICÍPIO</th><th>CPF FAVORECIDO</th><th>NIS FAVORECIDO</th><th>NOME FAVORECIDO</th><th>VALOR PARCELA</th></tr><tr><td>i64</td><td>i64</td><td>str</td><td>i64</td><td>str</td><td>str</td><td>i64</td><td>str</td><td>str</td></tr></thead><tbody><tr><td>202501</td><td>202308</td><td>&quot;SP&quot;</td><td>7071</td><td>&quot;SANTOS&quot;</td><td>&quot;***.085.106-**&quot;</td><td>20643890445</td><td>&quot;FERNANDA RAMOS TEIXEIRA&quot;</td><td>&quot;650,00&quot;</td></tr><tr><td>202501</td><td>202309</td><td>&quot;SP&quot;</td><td>7071</td><td>&quot;SANTOS&quot;</td><td>&quot;***.085.106-**&quot;</td><td>20643890445</td><td>&quot;FERNANDA RAMOS TEIXEIRA&quot;</td><td>&quot;650,00&quot;</td></tr><tr><td>202501</td><td>202310</td><td>&quot;SP&quot;</td><td>7071</td><td>&quot;SANTOS&quot;</td><td>&quot;***.085.106-**&quot;</td><td>20643890445</td><td>&quot;FERNANDA RAMOS TEIXEIRA&quot;</td><td>&quot;650,00&quot;</td></tr><tr><td>202501</td><td>202311</td><td>&quot;SP&quot;</td><td>7071</td><td>&quot;SANTOS&quot;</td><td>&quot;***.085.106-**&quot;</td><td>20643890445</td><td>&quot;FERNANDA RAMOS TEIXEIRA&quot;</td><td>&quot;650,00&quot;</td></tr><tr><td>202501</td><td>202312</td><td>&quot;SP&quot;</td><td>7071</td><td>&quot;SANTOS&quot;</td><td>&quot;***.085.106-**&quot;</td><td>20643890445</td><td>&quot;FERNANDA RAMOS TEIXEIRA&quot;</td><td>&quot;650,00&quot;</td></tr><tr><td>&hellip;</td><td>&hellip;</td><td>&hellip;</td><td>&hellip;</td><td>&hellip;</td><td>&hellip;</td><td>&hellip;</td><td>&hellip;</td><td>&hellip;</td></tr><tr><td>202501</td><td>202501</td><td>&quot;TO&quot;</td><td>9643</td><td>&quot;XAMBIOA&quot;</td><td>&quot;&quot;</td><td>16640890691</td><td>&quot;ZEIA DE SOUZA LUCIO&quot;</td><td>&quot;750,00&quot;</td></tr><tr><td>202501</td><td>202501</td><td>&quot;TO&quot;</td><td>9643</td><td>&quot;XAMBIOA&quot;</td><td>&quot;***.273.191-**&quot;</td><td>20644881997</td><td>&quot;ZENILDE ALVES DOS SANTOS&quot;</td><td>&quot;600,00&quot;</td></tr><tr><td>202501</td><td>202501</td><td>&quot;TO&quot;</td><td>9643</td><td>&quot;XAMBIOA&quot;</td><td>&quot;&quot;</td><td>19058661973</td><td>&quot;ZENOLIA RAMOS DA SILVA CARVALH…</td><td>&quot;600,00&quot;</td></tr><tr><td>202501</td><td>202501</td><td>&quot;TO&quot;</td><td>9643</td><td>&quot;XAMBIOA&quot;</td><td>&quot;***.822.651-**&quot;</td><td>20919263822</td><td>&quot;ZILMA ALVES DE BARROS&quot;</td><td>&quot;600,00&quot;</td></tr><tr><td>202501</td><td>202501</td><td>&quot;TO&quot;</td><td>9643</td><td>&quot;XAMBIOA&quot;</td><td>&quot;&quot;</td><td>20501199947</td><td>&quot;ZULEIDE DA SILVA E SILVA&quot;</td><td>&quot;650,00&quot;</td></tr></tbody></table></div>"
            ]
          },
          "metadata": {}
        }
      ]
    },
    {
      "cell_type": "code",
      "source": [
        "display(df_010225.select(pl.col(\"UF\")).describe())"
      ],
      "metadata": {
        "colab": {
          "base_uri": "https://localhost:8080/",
          "height": 380
        },
        "id": "3rrgSGzTOybD",
        "outputId": "29ff1724-e4da-4512-8329-a76f70a6b77c"
      },
      "execution_count": null,
      "outputs": [
        {
          "output_type": "display_data",
          "data": {
            "text/plain": [
              "shape: (9, 2)\n",
              "┌────────────┬──────────┐\n",
              "│ statistic  ┆ UF       │\n",
              "│ ---        ┆ ---      │\n",
              "│ str        ┆ str      │\n",
              "╞════════════╪══════════╡\n",
              "│ count      ┆ 40864156 │\n",
              "│ null_count ┆ 0        │\n",
              "│ mean       ┆ null     │\n",
              "│ std        ┆ null     │\n",
              "│ min        ┆ AC       │\n",
              "│ 25%        ┆ null     │\n",
              "│ 50%        ┆ null     │\n",
              "│ 75%        ┆ null     │\n",
              "│ max        ┆ TO       │\n",
              "└────────────┴──────────┘"
            ],
            "text/html": [
              "<div><style>\n",
              ".dataframe > thead > tr,\n",
              ".dataframe > tbody > tr {\n",
              "  text-align: right;\n",
              "  white-space: pre-wrap;\n",
              "}\n",
              "</style>\n",
              "<small>shape: (9, 2)</small><table border=\"1\" class=\"dataframe\"><thead><tr><th>statistic</th><th>UF</th></tr><tr><td>str</td><td>str</td></tr></thead><tbody><tr><td>&quot;count&quot;</td><td>&quot;40864156&quot;</td></tr><tr><td>&quot;null_count&quot;</td><td>&quot;0&quot;</td></tr><tr><td>&quot;mean&quot;</td><td>null</td></tr><tr><td>&quot;std&quot;</td><td>null</td></tr><tr><td>&quot;min&quot;</td><td>&quot;AC&quot;</td></tr><tr><td>&quot;25%&quot;</td><td>null</td></tr><tr><td>&quot;50%&quot;</td><td>null</td></tr><tr><td>&quot;75%&quot;</td><td>null</td></tr><tr><td>&quot;max&quot;</td><td>&quot;TO&quot;</td></tr></tbody></table></div>"
            ]
          },
          "metadata": {}
        }
      ]
    },
    {
      "cell_type": "code",
      "source": [
        "display(df_010225.sort(\"NOME MUNICÍPIO\"))"
      ],
      "metadata": {
        "id": "8AlWqnqlO7nO"
      },
      "execution_count": null,
      "outputs": []
    },
    {
      "cell_type": "code",
      "source": [
        "display(df_010225.group_by('UF').agg(pl.col('NOME MUNICÍPIO').value_counts()))"
      ],
      "metadata": {
        "id": "-a_PN-BHPTPz"
      },
      "execution_count": null,
      "outputs": []
    },
    {
      "cell_type": "code",
      "source": [
        "df_010225=df_010225.slice(1)\n",
        "display(df_010225.head())"
      ],
      "metadata": {
        "colab": {
          "base_uri": "https://localhost:8080/",
          "height": 255
        },
        "id": "kRi2E77DP6-i",
        "outputId": "625a44a7-9580-412a-b98b-8f8ff929a466"
      },
      "execution_count": null,
      "outputs": [
        {
          "output_type": "display_data",
          "data": {
            "text/plain": [
              "shape: (5, 9)\n",
              "┌────────────┬────────────┬─────┬────────────┬───┬────────────┬────────────┬───────────┬───────────┐\n",
              "│ MÊS COMPET ┆ MÊS        ┆ UF  ┆ CÓDIGO     ┆ … ┆ CPF        ┆ NIS        ┆ NOME FAVO ┆ VALOR     │\n",
              "│ ÊNCIA      ┆ REFERÊNCIA ┆ --- ┆ MUNICÍPIO  ┆   ┆ FAVORECIDO ┆ FAVORECIDO ┆ RECIDO    ┆ PARCELA   │\n",
              "│ ---        ┆ ---        ┆ str ┆ SIAFI      ┆   ┆ ---        ┆ ---        ┆ ---       ┆ ---       │\n",
              "│ i64        ┆ i64        ┆     ┆ ---        ┆   ┆ str        ┆ i64        ┆ str       ┆ str       │\n",
              "│            ┆            ┆     ┆ i64        ┆   ┆            ┆            ┆           ┆           │\n",
              "╞════════════╪════════════╪═════╪════════════╪═══╪════════════╪════════════╪═══════════╪═══════════╡\n",
              "│ 202501     ┆ 202310     ┆ SP  ┆ 7071       ┆ … ┆ ***.085.10 ┆ 2064389044 ┆ FERNANDA  ┆ 650,00    │\n",
              "│            ┆            ┆     ┆            ┆   ┆ 6-**       ┆ 5          ┆ RAMOS     ┆           │\n",
              "│            ┆            ┆     ┆            ┆   ┆            ┆            ┆ TEIXEIRA  ┆           │\n",
              "│ 202501     ┆ 202311     ┆ SP  ┆ 7071       ┆ … ┆ ***.085.10 ┆ 2064389044 ┆ FERNANDA  ┆ 650,00    │\n",
              "│            ┆            ┆     ┆            ┆   ┆ 6-**       ┆ 5          ┆ RAMOS     ┆           │\n",
              "│            ┆            ┆     ┆            ┆   ┆            ┆            ┆ TEIXEIRA  ┆           │\n",
              "│ 202501     ┆ 202312     ┆ SP  ┆ 7071       ┆ … ┆ ***.085.10 ┆ 2064389044 ┆ FERNANDA  ┆ 650,00    │\n",
              "│            ┆            ┆     ┆            ┆   ┆ 6-**       ┆ 5          ┆ RAMOS     ┆           │\n",
              "│            ┆            ┆     ┆            ┆   ┆            ┆            ┆ TEIXEIRA  ┆           │\n",
              "│ 202501     ┆ 202401     ┆ CE  ┆ 1389       ┆ … ┆ ***.854.49 ┆ 1302405519 ┆ IRENICE   ┆ 750,00    │\n",
              "│            ┆            ┆     ┆            ┆   ┆ 3-**       ┆ 2          ┆ CAMELO    ┆           │\n",
              "│            ┆            ┆     ┆            ┆   ┆            ┆            ┆ VALETE    ┆           │\n",
              "│ 202501     ┆ 202401     ┆ PA  ┆ 479        ┆ … ┆ ***.868.79 ┆ 1602513240 ┆ ANTONIA   ┆ 600,00    │\n",
              "│            ┆            ┆     ┆            ┆   ┆ 2-**       ┆ 3          ┆ ELIZANA   ┆           │\n",
              "│            ┆            ┆     ┆            ┆   ┆            ┆            ┆ DA SILVA  ┆           │\n",
              "└────────────┴────────────┴─────┴────────────┴───┴────────────┴────────────┴───────────┴───────────┘"
            ],
            "text/html": [
              "<div><style>\n",
              ".dataframe > thead > tr,\n",
              ".dataframe > tbody > tr {\n",
              "  text-align: right;\n",
              "  white-space: pre-wrap;\n",
              "}\n",
              "</style>\n",
              "<small>shape: (5, 9)</small><table border=\"1\" class=\"dataframe\"><thead><tr><th>MÊS COMPETÊNCIA</th><th>MÊS REFERÊNCIA</th><th>UF</th><th>CÓDIGO MUNICÍPIO SIAFI</th><th>NOME MUNICÍPIO</th><th>CPF FAVORECIDO</th><th>NIS FAVORECIDO</th><th>NOME FAVORECIDO</th><th>VALOR PARCELA</th></tr><tr><td>i64</td><td>i64</td><td>str</td><td>i64</td><td>str</td><td>str</td><td>i64</td><td>str</td><td>str</td></tr></thead><tbody><tr><td>202501</td><td>202310</td><td>&quot;SP&quot;</td><td>7071</td><td>&quot;SANTOS&quot;</td><td>&quot;***.085.106-**&quot;</td><td>20643890445</td><td>&quot;FERNANDA RAMOS TEIXEIRA&quot;</td><td>&quot;650,00&quot;</td></tr><tr><td>202501</td><td>202311</td><td>&quot;SP&quot;</td><td>7071</td><td>&quot;SANTOS&quot;</td><td>&quot;***.085.106-**&quot;</td><td>20643890445</td><td>&quot;FERNANDA RAMOS TEIXEIRA&quot;</td><td>&quot;650,00&quot;</td></tr><tr><td>202501</td><td>202312</td><td>&quot;SP&quot;</td><td>7071</td><td>&quot;SANTOS&quot;</td><td>&quot;***.085.106-**&quot;</td><td>20643890445</td><td>&quot;FERNANDA RAMOS TEIXEIRA&quot;</td><td>&quot;650,00&quot;</td></tr><tr><td>202501</td><td>202401</td><td>&quot;CE&quot;</td><td>1389</td><td>&quot;FORTALEZA&quot;</td><td>&quot;***.854.493-**&quot;</td><td>13024055192</td><td>&quot;IRENICE CAMELO VALETE&quot;</td><td>&quot;750,00&quot;</td></tr><tr><td>202501</td><td>202401</td><td>&quot;PA&quot;</td><td>479</td><td>&quot;LIMOEIRO DO AJURU&quot;</td><td>&quot;***.868.792-**&quot;</td><td>16025132403</td><td>&quot;ANTONIA ELIZANA DA SILVA&quot;</td><td>&quot;600,00&quot;</td></tr></tbody></table></div>"
            ]
          },
          "metadata": {}
        }
      ]
    },
    {
      "cell_type": "code",
      "source": [
        "df_010225=df_010225.with_columns(pl.lit(0).alias('DK'))\n",
        "display(df_010225.head())"
      ],
      "metadata": {
        "id": "Gwkm8z6uQDn3",
        "colab": {
          "base_uri": "https://localhost:8080/",
          "height": 342
        },
        "outputId": "f80d1a81-d80e-4eb3-91fa-5e7151c3de53"
      },
      "execution_count": null,
      "outputs": [
        {
          "output_type": "display_data",
          "data": {
            "text/plain": [
              "shape: (5, 10)\n",
              "┌──────────────┬──────────────┬─────┬──────────────┬───┬─────────────┬─────────────┬─────────┬─────┐\n",
              "│ MÊS          ┆ MÊS          ┆ UF  ┆ CÓDIGO       ┆ … ┆ NIS         ┆ NOME        ┆ VALOR   ┆ DK  │\n",
              "│ COMPETÊNCIA  ┆ REFERÊNCIA   ┆ --- ┆ MUNICÍPIO    ┆   ┆ FAVORECIDO  ┆ FAVORECIDO  ┆ PARCELA ┆ --- │\n",
              "│ ---          ┆ ---          ┆ str ┆ SIAFI        ┆   ┆ ---         ┆ ---         ┆ ---     ┆ i32 │\n",
              "│ i64          ┆ i64          ┆     ┆ ---          ┆   ┆ i64         ┆ str         ┆ str     ┆     │\n",
              "│              ┆              ┆     ┆ i64          ┆   ┆             ┆             ┆         ┆     │\n",
              "╞══════════════╪══════════════╪═════╪══════════════╪═══╪═════════════╪═════════════╪═════════╪═════╡\n",
              "│ 202501       ┆ 202310       ┆ SP  ┆ 7071         ┆ … ┆ 20643890445 ┆ FERNANDA    ┆ 650,00  ┆ 0   │\n",
              "│              ┆              ┆     ┆              ┆   ┆             ┆ RAMOS       ┆         ┆     │\n",
              "│              ┆              ┆     ┆              ┆   ┆             ┆ TEIXEIRA    ┆         ┆     │\n",
              "│ 202501       ┆ 202311       ┆ SP  ┆ 7071         ┆ … ┆ 20643890445 ┆ FERNANDA    ┆ 650,00  ┆ 0   │\n",
              "│              ┆              ┆     ┆              ┆   ┆             ┆ RAMOS       ┆         ┆     │\n",
              "│              ┆              ┆     ┆              ┆   ┆             ┆ TEIXEIRA    ┆         ┆     │\n",
              "│ 202501       ┆ 202312       ┆ SP  ┆ 7071         ┆ … ┆ 20643890445 ┆ FERNANDA    ┆ 650,00  ┆ 0   │\n",
              "│              ┆              ┆     ┆              ┆   ┆             ┆ RAMOS       ┆         ┆     │\n",
              "│              ┆              ┆     ┆              ┆   ┆             ┆ TEIXEIRA    ┆         ┆     │\n",
              "│ 202501       ┆ 202401       ┆ CE  ┆ 1389         ┆ … ┆ 13024055192 ┆ IRENICE     ┆ 750,00  ┆ 0   │\n",
              "│              ┆              ┆     ┆              ┆   ┆             ┆ CAMELO      ┆         ┆     │\n",
              "│              ┆              ┆     ┆              ┆   ┆             ┆ VALETE      ┆         ┆     │\n",
              "│ 202501       ┆ 202401       ┆ PA  ┆ 479          ┆ … ┆ 16025132403 ┆ ANTONIA     ┆ 600,00  ┆ 0   │\n",
              "│              ┆              ┆     ┆              ┆   ┆             ┆ ELIZANA DA  ┆         ┆     │\n",
              "│              ┆              ┆     ┆              ┆   ┆             ┆ SILVA       ┆         ┆     │\n",
              "└──────────────┴──────────────┴─────┴──────────────┴───┴─────────────┴─────────────┴─────────┴─────┘"
            ],
            "text/html": [
              "<div><style>\n",
              ".dataframe > thead > tr,\n",
              ".dataframe > tbody > tr {\n",
              "  text-align: right;\n",
              "  white-space: pre-wrap;\n",
              "}\n",
              "</style>\n",
              "<small>shape: (5, 10)</small><table border=\"1\" class=\"dataframe\"><thead><tr><th>MÊS COMPETÊNCIA</th><th>MÊS REFERÊNCIA</th><th>UF</th><th>CÓDIGO MUNICÍPIO SIAFI</th><th>NOME MUNICÍPIO</th><th>CPF FAVORECIDO</th><th>NIS FAVORECIDO</th><th>NOME FAVORECIDO</th><th>VALOR PARCELA</th><th>DK</th></tr><tr><td>i64</td><td>i64</td><td>str</td><td>i64</td><td>str</td><td>str</td><td>i64</td><td>str</td><td>str</td><td>i32</td></tr></thead><tbody><tr><td>202501</td><td>202310</td><td>&quot;SP&quot;</td><td>7071</td><td>&quot;SANTOS&quot;</td><td>&quot;***.085.106-**&quot;</td><td>20643890445</td><td>&quot;FERNANDA RAMOS TEIXEIRA&quot;</td><td>&quot;650,00&quot;</td><td>0</td></tr><tr><td>202501</td><td>202311</td><td>&quot;SP&quot;</td><td>7071</td><td>&quot;SANTOS&quot;</td><td>&quot;***.085.106-**&quot;</td><td>20643890445</td><td>&quot;FERNANDA RAMOS TEIXEIRA&quot;</td><td>&quot;650,00&quot;</td><td>0</td></tr><tr><td>202501</td><td>202312</td><td>&quot;SP&quot;</td><td>7071</td><td>&quot;SANTOS&quot;</td><td>&quot;***.085.106-**&quot;</td><td>20643890445</td><td>&quot;FERNANDA RAMOS TEIXEIRA&quot;</td><td>&quot;650,00&quot;</td><td>0</td></tr><tr><td>202501</td><td>202401</td><td>&quot;CE&quot;</td><td>1389</td><td>&quot;FORTALEZA&quot;</td><td>&quot;***.854.493-**&quot;</td><td>13024055192</td><td>&quot;IRENICE CAMELO VALETE&quot;</td><td>&quot;750,00&quot;</td><td>0</td></tr><tr><td>202501</td><td>202401</td><td>&quot;PA&quot;</td><td>479</td><td>&quot;LIMOEIRO DO AJURU&quot;</td><td>&quot;***.868.792-**&quot;</td><td>16025132403</td><td>&quot;ANTONIA ELIZANA DA SILVA&quot;</td><td>&quot;600,00&quot;</td><td>0</td></tr></tbody></table></div>"
            ]
          },
          "metadata": {}
        }
      ]
    },
    {
      "cell_type": "code",
      "source": [
        "df_010225=df_010225.drop(['DK'])\n",
        "display(df_010225.head())"
      ],
      "metadata": {
        "colab": {
          "base_uri": "https://localhost:8080/",
          "height": 255
        },
        "id": "3bHUfZXrQRBg",
        "outputId": "59176430-1880-432c-88b7-4bcc390f6f3a"
      },
      "execution_count": null,
      "outputs": [
        {
          "output_type": "display_data",
          "data": {
            "text/plain": [
              "shape: (5, 9)\n",
              "┌────────────┬────────────┬─────┬────────────┬───┬────────────┬────────────┬───────────┬───────────┐\n",
              "│ MÊS COMPET ┆ MÊS        ┆ UF  ┆ CÓDIGO     ┆ … ┆ CPF        ┆ NIS        ┆ NOME FAVO ┆ VALOR     │\n",
              "│ ÊNCIA      ┆ REFERÊNCIA ┆ --- ┆ MUNICÍPIO  ┆   ┆ FAVORECIDO ┆ FAVORECIDO ┆ RECIDO    ┆ PARCELA   │\n",
              "│ ---        ┆ ---        ┆ str ┆ SIAFI      ┆   ┆ ---        ┆ ---        ┆ ---       ┆ ---       │\n",
              "│ i64        ┆ i64        ┆     ┆ ---        ┆   ┆ str        ┆ i64        ┆ str       ┆ str       │\n",
              "│            ┆            ┆     ┆ i64        ┆   ┆            ┆            ┆           ┆           │\n",
              "╞════════════╪════════════╪═════╪════════════╪═══╪════════════╪════════════╪═══════════╪═══════════╡\n",
              "│ 202501     ┆ 202310     ┆ SP  ┆ 7071       ┆ … ┆ ***.085.10 ┆ 2064389044 ┆ FERNANDA  ┆ 650,00    │\n",
              "│            ┆            ┆     ┆            ┆   ┆ 6-**       ┆ 5          ┆ RAMOS     ┆           │\n",
              "│            ┆            ┆     ┆            ┆   ┆            ┆            ┆ TEIXEIRA  ┆           │\n",
              "│ 202501     ┆ 202311     ┆ SP  ┆ 7071       ┆ … ┆ ***.085.10 ┆ 2064389044 ┆ FERNANDA  ┆ 650,00    │\n",
              "│            ┆            ┆     ┆            ┆   ┆ 6-**       ┆ 5          ┆ RAMOS     ┆           │\n",
              "│            ┆            ┆     ┆            ┆   ┆            ┆            ┆ TEIXEIRA  ┆           │\n",
              "│ 202501     ┆ 202312     ┆ SP  ┆ 7071       ┆ … ┆ ***.085.10 ┆ 2064389044 ┆ FERNANDA  ┆ 650,00    │\n",
              "│            ┆            ┆     ┆            ┆   ┆ 6-**       ┆ 5          ┆ RAMOS     ┆           │\n",
              "│            ┆            ┆     ┆            ┆   ┆            ┆            ┆ TEIXEIRA  ┆           │\n",
              "│ 202501     ┆ 202401     ┆ CE  ┆ 1389       ┆ … ┆ ***.854.49 ┆ 1302405519 ┆ IRENICE   ┆ 750,00    │\n",
              "│            ┆            ┆     ┆            ┆   ┆ 3-**       ┆ 2          ┆ CAMELO    ┆           │\n",
              "│            ┆            ┆     ┆            ┆   ┆            ┆            ┆ VALETE    ┆           │\n",
              "│ 202501     ┆ 202401     ┆ PA  ┆ 479        ┆ … ┆ ***.868.79 ┆ 1602513240 ┆ ANTONIA   ┆ 600,00    │\n",
              "│            ┆            ┆     ┆            ┆   ┆ 2-**       ┆ 3          ┆ ELIZANA   ┆           │\n",
              "│            ┆            ┆     ┆            ┆   ┆            ┆            ┆ DA SILVA  ┆           │\n",
              "└────────────┴────────────┴─────┴────────────┴───┴────────────┴────────────┴───────────┴───────────┘"
            ],
            "text/html": [
              "<div><style>\n",
              ".dataframe > thead > tr,\n",
              ".dataframe > tbody > tr {\n",
              "  text-align: right;\n",
              "  white-space: pre-wrap;\n",
              "}\n",
              "</style>\n",
              "<small>shape: (5, 9)</small><table border=\"1\" class=\"dataframe\"><thead><tr><th>MÊS COMPETÊNCIA</th><th>MÊS REFERÊNCIA</th><th>UF</th><th>CÓDIGO MUNICÍPIO SIAFI</th><th>NOME MUNICÍPIO</th><th>CPF FAVORECIDO</th><th>NIS FAVORECIDO</th><th>NOME FAVORECIDO</th><th>VALOR PARCELA</th></tr><tr><td>i64</td><td>i64</td><td>str</td><td>i64</td><td>str</td><td>str</td><td>i64</td><td>str</td><td>str</td></tr></thead><tbody><tr><td>202501</td><td>202310</td><td>&quot;SP&quot;</td><td>7071</td><td>&quot;SANTOS&quot;</td><td>&quot;***.085.106-**&quot;</td><td>20643890445</td><td>&quot;FERNANDA RAMOS TEIXEIRA&quot;</td><td>&quot;650,00&quot;</td></tr><tr><td>202501</td><td>202311</td><td>&quot;SP&quot;</td><td>7071</td><td>&quot;SANTOS&quot;</td><td>&quot;***.085.106-**&quot;</td><td>20643890445</td><td>&quot;FERNANDA RAMOS TEIXEIRA&quot;</td><td>&quot;650,00&quot;</td></tr><tr><td>202501</td><td>202312</td><td>&quot;SP&quot;</td><td>7071</td><td>&quot;SANTOS&quot;</td><td>&quot;***.085.106-**&quot;</td><td>20643890445</td><td>&quot;FERNANDA RAMOS TEIXEIRA&quot;</td><td>&quot;650,00&quot;</td></tr><tr><td>202501</td><td>202401</td><td>&quot;CE&quot;</td><td>1389</td><td>&quot;FORTALEZA&quot;</td><td>&quot;***.854.493-**&quot;</td><td>13024055192</td><td>&quot;IRENICE CAMELO VALETE&quot;</td><td>&quot;750,00&quot;</td></tr><tr><td>202501</td><td>202401</td><td>&quot;PA&quot;</td><td>479</td><td>&quot;LIMOEIRO DO AJURU&quot;</td><td>&quot;***.868.792-**&quot;</td><td>16025132403</td><td>&quot;ANTONIA ELIZANA DA SILVA&quot;</td><td>&quot;600,00&quot;</td></tr></tbody></table></div>"
            ]
          },
          "metadata": {}
        }
      ]
    },
    {
      "cell_type": "code",
      "source": [
        "import pandas as pd\n",
        "import polars as pl\n",
        "import time\n",
        "from IPython.display import display\n",
        "import psutil\n",
        "\n",
        "#Concatenar arquivos parquet\n",
        "df_0125=pl.read_parquet('/content/202501_NovoBolsaFamilia.parquet')\n",
        "df_0225=pl.read_parquet('/content/202501_NovoBolsaFamilia.parquet')\n",
        "df_010225=pl.concat([df_0125,df_0225])\n",
        "display(df_010225.head(7000000))"
      ],
      "metadata": {
        "colab": {
          "base_uri": "https://localhost:8080/",
          "height": 443
        },
        "id": "CpkjoCmIRL7q",
        "outputId": "e575c83b-8e2f-4d3b-988a-819de0a7a738"
      },
      "execution_count": 4,
      "outputs": [
        {
          "output_type": "display_data",
          "data": {
            "text/plain": [
              "shape: (7_000_000, 9)\n",
              "┌────────────┬────────────┬─────┬────────────┬───┬────────────┬────────────┬───────────┬───────────┐\n",
              "│ MÊS COMPET ┆ MÊS        ┆ UF  ┆ CÓDIGO     ┆ … ┆ CPF        ┆ NIS        ┆ NOME FAVO ┆ VALOR     │\n",
              "│ ÊNCIA      ┆ REFERÊNCIA ┆ --- ┆ MUNICÍPIO  ┆   ┆ FAVORECIDO ┆ FAVORECIDO ┆ RECIDO    ┆ PARCELA   │\n",
              "│ ---        ┆ ---        ┆ str ┆ SIAFI      ┆   ┆ ---        ┆ ---        ┆ ---       ┆ ---       │\n",
              "│ i64        ┆ i64        ┆     ┆ ---        ┆   ┆ str        ┆ i64        ┆ str       ┆ str       │\n",
              "│            ┆            ┆     ┆ i64        ┆   ┆            ┆            ┆           ┆           │\n",
              "╞════════════╪════════════╪═════╪════════════╪═══╪════════════╪════════════╪═══════════╪═══════════╡\n",
              "│ 202501     ┆ 202308     ┆ SP  ┆ 7071       ┆ … ┆ ***.085.10 ┆ 2064389044 ┆ FERNANDA  ┆ 650,00    │\n",
              "│            ┆            ┆     ┆            ┆   ┆ 6-**       ┆ 5          ┆ RAMOS     ┆           │\n",
              "│            ┆            ┆     ┆            ┆   ┆            ┆            ┆ TEIXEIRA  ┆           │\n",
              "│ 202501     ┆ 202309     ┆ SP  ┆ 7071       ┆ … ┆ ***.085.10 ┆ 2064389044 ┆ FERNANDA  ┆ 650,00    │\n",
              "│            ┆            ┆     ┆            ┆   ┆ 6-**       ┆ 5          ┆ RAMOS     ┆           │\n",
              "│            ┆            ┆     ┆            ┆   ┆            ┆            ┆ TEIXEIRA  ┆           │\n",
              "│ 202501     ┆ 202310     ┆ SP  ┆ 7071       ┆ … ┆ ***.085.10 ┆ 2064389044 ┆ FERNANDA  ┆ 650,00    │\n",
              "│            ┆            ┆     ┆            ┆   ┆ 6-**       ┆ 5          ┆ RAMOS     ┆           │\n",
              "│            ┆            ┆     ┆            ┆   ┆            ┆            ┆ TEIXEIRA  ┆           │\n",
              "│ 202501     ┆ 202311     ┆ SP  ┆ 7071       ┆ … ┆ ***.085.10 ┆ 2064389044 ┆ FERNANDA  ┆ 650,00    │\n",
              "│            ┆            ┆     ┆            ┆   ┆ 6-**       ┆ 5          ┆ RAMOS     ┆           │\n",
              "│            ┆            ┆     ┆            ┆   ┆            ┆            ┆ TEIXEIRA  ┆           │\n",
              "│ 202501     ┆ 202312     ┆ SP  ┆ 7071       ┆ … ┆ ***.085.10 ┆ 2064389044 ┆ FERNANDA  ┆ 650,00    │\n",
              "│            ┆            ┆     ┆            ┆   ┆ 6-**       ┆ 5          ┆ RAMOS     ┆           │\n",
              "│            ┆            ┆     ┆            ┆   ┆            ┆            ┆ TEIXEIRA  ┆           │\n",
              "│ …          ┆ …          ┆ …   ┆ …          ┆ … ┆ …          ┆ …          ┆ …         ┆ …         │\n",
              "│ 202501     ┆ 202501     ┆ MA  ┆ 845        ┆ … ┆ ***.497.46 ┆ 1267886937 ┆ JOSE      ┆ 750,00    │\n",
              "│            ┆            ┆     ┆            ┆   ┆ 3-**       ┆ 9          ┆ DIVINO    ┆           │\n",
              "│            ┆            ┆     ┆            ┆   ┆            ┆            ┆ ALVES     ┆           │\n",
              "│            ┆            ┆     ┆            ┆   ┆            ┆            ┆ GOMES     ┆           │\n",
              "│ 202501     ┆ 202501     ┆ MA  ┆ 845        ┆ … ┆            ┆ 1258118955 ┆ JOSE      ┆ 600,00    │\n",
              "│            ┆            ┆     ┆            ┆   ┆            ┆ 1          ┆ DOMINGOS  ┆           │\n",
              "│            ┆            ┆     ┆            ┆   ┆            ┆            ┆ DOURADO   ┆           │\n",
              "│            ┆            ┆     ┆            ┆   ┆            ┆            ┆ SOUSA     ┆           │\n",
              "│ 202501     ┆ 202501     ┆ MA  ┆ 845        ┆ … ┆ ***.765.89 ┆ 2010759972 ┆ JOSE DOS  ┆ 600,00    │\n",
              "│            ┆            ┆     ┆            ┆   ┆ 1-**       ┆ 9          ┆ SANTOS DA ┆           │\n",
              "│            ┆            ┆     ┆            ┆   ┆            ┆            ┆ COSTA     ┆           │\n",
              "│            ┆            ┆     ┆            ┆   ┆            ┆            ┆ AGUIA…    ┆           │\n",
              "│ 202501     ┆ 202501     ┆ MA  ┆ 845        ┆ … ┆ ***.379.62 ┆ 1268631197 ┆ JOSE DOS  ┆ 600,00    │\n",
              "│            ┆            ┆     ┆            ┆   ┆ 3-**       ┆ 7          ┆ SANTOS    ┆           │\n",
              "│            ┆            ┆     ┆            ┆   ┆            ┆            ┆ PEREIRA   ┆           │\n",
              "│            ┆            ┆     ┆            ┆   ┆            ┆            ┆ DE BRI…   ┆           │\n",
              "│ 202501     ┆ 202501     ┆ MA  ┆ 845        ┆ … ┆ ***.739.55 ┆ 1622678994 ┆ JOSE      ┆ 750,00    │\n",
              "│            ┆            ┆     ┆            ┆   ┆ 3-**       ┆ 9          ┆ DOURADO   ┆           │\n",
              "│            ┆            ┆     ┆            ┆   ┆            ┆            ┆ SOUSA     ┆           │\n",
              "└────────────┴────────────┴─────┴────────────┴───┴────────────┴────────────┴───────────┴───────────┘"
            ],
            "text/html": [
              "<div><style>\n",
              ".dataframe > thead > tr,\n",
              ".dataframe > tbody > tr {\n",
              "  text-align: right;\n",
              "  white-space: pre-wrap;\n",
              "}\n",
              "</style>\n",
              "<small>shape: (7_000_000, 9)</small><table border=\"1\" class=\"dataframe\"><thead><tr><th>MÊS COMPETÊNCIA</th><th>MÊS REFERÊNCIA</th><th>UF</th><th>CÓDIGO MUNICÍPIO SIAFI</th><th>NOME MUNICÍPIO</th><th>CPF FAVORECIDO</th><th>NIS FAVORECIDO</th><th>NOME FAVORECIDO</th><th>VALOR PARCELA</th></tr><tr><td>i64</td><td>i64</td><td>str</td><td>i64</td><td>str</td><td>str</td><td>i64</td><td>str</td><td>str</td></tr></thead><tbody><tr><td>202501</td><td>202308</td><td>&quot;SP&quot;</td><td>7071</td><td>&quot;SANTOS&quot;</td><td>&quot;***.085.106-**&quot;</td><td>20643890445</td><td>&quot;FERNANDA RAMOS TEIXEIRA&quot;</td><td>&quot;650,00&quot;</td></tr><tr><td>202501</td><td>202309</td><td>&quot;SP&quot;</td><td>7071</td><td>&quot;SANTOS&quot;</td><td>&quot;***.085.106-**&quot;</td><td>20643890445</td><td>&quot;FERNANDA RAMOS TEIXEIRA&quot;</td><td>&quot;650,00&quot;</td></tr><tr><td>202501</td><td>202310</td><td>&quot;SP&quot;</td><td>7071</td><td>&quot;SANTOS&quot;</td><td>&quot;***.085.106-**&quot;</td><td>20643890445</td><td>&quot;FERNANDA RAMOS TEIXEIRA&quot;</td><td>&quot;650,00&quot;</td></tr><tr><td>202501</td><td>202311</td><td>&quot;SP&quot;</td><td>7071</td><td>&quot;SANTOS&quot;</td><td>&quot;***.085.106-**&quot;</td><td>20643890445</td><td>&quot;FERNANDA RAMOS TEIXEIRA&quot;</td><td>&quot;650,00&quot;</td></tr><tr><td>202501</td><td>202312</td><td>&quot;SP&quot;</td><td>7071</td><td>&quot;SANTOS&quot;</td><td>&quot;***.085.106-**&quot;</td><td>20643890445</td><td>&quot;FERNANDA RAMOS TEIXEIRA&quot;</td><td>&quot;650,00&quot;</td></tr><tr><td>&hellip;</td><td>&hellip;</td><td>&hellip;</td><td>&hellip;</td><td>&hellip;</td><td>&hellip;</td><td>&hellip;</td><td>&hellip;</td><td>&hellip;</td></tr><tr><td>202501</td><td>202501</td><td>&quot;MA&quot;</td><td>845</td><td>&quot;NOVA IORQUE&quot;</td><td>&quot;***.497.463-**&quot;</td><td>12678869379</td><td>&quot;JOSE DIVINO ALVES GOMES&quot;</td><td>&quot;750,00&quot;</td></tr><tr><td>202501</td><td>202501</td><td>&quot;MA&quot;</td><td>845</td><td>&quot;NOVA IORQUE&quot;</td><td>&quot;&quot;</td><td>12581189551</td><td>&quot;JOSE DOMINGOS DOURADO SOUSA&quot;</td><td>&quot;600,00&quot;</td></tr><tr><td>202501</td><td>202501</td><td>&quot;MA&quot;</td><td>845</td><td>&quot;NOVA IORQUE&quot;</td><td>&quot;***.765.891-**&quot;</td><td>20107599729</td><td>&quot;JOSE DOS SANTOS DA COSTA AGUIA…</td><td>&quot;600,00&quot;</td></tr><tr><td>202501</td><td>202501</td><td>&quot;MA&quot;</td><td>845</td><td>&quot;NOVA IORQUE&quot;</td><td>&quot;***.379.623-**&quot;</td><td>12686311977</td><td>&quot;JOSE DOS SANTOS PEREIRA DE BRI…</td><td>&quot;600,00&quot;</td></tr><tr><td>202501</td><td>202501</td><td>&quot;MA&quot;</td><td>845</td><td>&quot;NOVA IORQUE&quot;</td><td>&quot;***.739.553-**&quot;</td><td>16226789949</td><td>&quot;JOSE DOURADO SOUSA&quot;</td><td>&quot;750,00&quot;</td></tr></tbody></table></div>"
            ]
          },
          "metadata": {}
        }
      ]
    },
    {
      "cell_type": "code",
      "source": [
        "# LAZY:\n",
        "df_010225 = pl.DataFrame(df_010225).lazy()\n",
        "# EXPLAIN:\n",
        "df_010225.filter(pl.col(\"NOME MUNICÍPIO\")==\"RIO DE JANEIRO\").explain()\n",
        "# COLLECT:\n",
        "resultado=(df_010225.filter(pl.col(\"NOME MUNICÍPIO\")==\"RIO DE JANEIRO\").collect())\n",
        "display(resultado)"
      ],
      "metadata": {
        "colab": {
          "base_uri": "https://localhost:8080/",
          "height": 443
        },
        "id": "hSLl2HZRRehO",
        "outputId": "81df5270-ce9d-4ee3-e2de-877810d0a72a"
      },
      "execution_count": null,
      "outputs": [
        {
          "output_type": "display_data",
          "data": {
            "text/plain": [
              "shape: (988_548, 9)\n",
              "┌────────────┬────────────┬─────┬────────────┬───┬────────────┬────────────┬───────────┬───────────┐\n",
              "│ MÊS COMPET ┆ MÊS        ┆ UF  ┆ CÓDIGO     ┆ … ┆ CPF        ┆ NIS        ┆ NOME FAVO ┆ VALOR     │\n",
              "│ ÊNCIA      ┆ REFERÊNCIA ┆ --- ┆ MUNICÍPIO  ┆   ┆ FAVORECIDO ┆ FAVORECIDO ┆ RECIDO    ┆ PARCELA   │\n",
              "│ ---        ┆ ---        ┆ str ┆ SIAFI      ┆   ┆ ---        ┆ ---        ┆ ---       ┆ ---       │\n",
              "│ i64        ┆ i64        ┆     ┆ ---        ┆   ┆ str        ┆ i64        ┆ str       ┆ str       │\n",
              "│            ┆            ┆     ┆ i64        ┆   ┆            ┆            ┆           ┆           │\n",
              "╞════════════╪════════════╪═════╪════════════╪═══╪════════════╪════════════╪═══════════╪═══════════╡\n",
              "│ 202501     ┆ 202407     ┆ RJ  ┆ 6001       ┆ … ┆ ***.876.48 ┆ 1233338428 ┆ ADILSON   ┆ 600,00    │\n",
              "│            ┆            ┆     ┆            ┆   ┆ 7-**       ┆ 1          ┆ FERREIRA  ┆           │\n",
              "│            ┆            ┆     ┆            ┆   ┆            ┆            ┆ MAGALHAES ┆           │\n",
              "│ 202501     ┆ 202407     ┆ RJ  ┆ 6001       ┆ … ┆ ***.369.45 ┆ 1281138744 ┆ ADRIANO   ┆ 600,00    │\n",
              "│            ┆            ┆     ┆            ┆   ┆ 4-**       ┆ 9          ┆ PEREIRA   ┆           │\n",
              "│            ┆            ┆     ┆            ┆   ┆            ┆            ┆ DA SILVA  ┆           │\n",
              "│ 202501     ┆ 202407     ┆ RJ  ┆ 6001       ┆ … ┆ ***.157.81 ┆ 1243030281 ┆ AGILSON   ┆ 700,00    │\n",
              "│            ┆            ┆     ┆            ┆   ┆ 6-**       ┆ 2          ┆ GERALDO   ┆           │\n",
              "│            ┆            ┆     ┆            ┆   ┆            ┆            ┆ FERREIRA  ┆           │\n",
              "│ 202501     ┆ 202407     ┆ RJ  ┆ 6001       ┆ … ┆ ***.077.81 ┆ 1309420112 ┆ ALESSANDR ┆ 700,00    │\n",
              "│            ┆            ┆     ┆            ┆   ┆ 7-**       ┆ 0          ┆ A         ┆           │\n",
              "│            ┆            ┆     ┆            ┆   ┆            ┆            ┆ FERREIRA  ┆           │\n",
              "│            ┆            ┆     ┆            ┆   ┆            ┆            ┆ DE JESUS  ┆           │\n",
              "│ 202501     ┆ 202407     ┆ RJ  ┆ 6001       ┆ … ┆ ***.728.67 ┆ 1248144047 ┆ ALEXANDRE ┆ 600,00    │\n",
              "│            ┆            ┆     ┆            ┆   ┆ 7-**       ┆ 3          ┆ LUIS      ┆           │\n",
              "│            ┆            ┆     ┆            ┆   ┆            ┆            ┆ LEMOS     ┆           │\n",
              "│            ┆            ┆     ┆            ┆   ┆            ┆            ┆ VAZQUEZ   ┆           │\n",
              "│ …          ┆ …          ┆ …   ┆ …          ┆ … ┆ …          ┆ …          ┆ …         ┆ …         │\n",
              "│ 202501     ┆ 202501     ┆ RJ  ┆ 6001       ┆ … ┆ ***.675.37 ┆ 1663229345 ┆ ZULNARA   ┆ 600,00    │\n",
              "│            ┆            ┆     ┆            ┆   ┆ 7-**       ┆ 0          ┆ XAVIER    ┆           │\n",
              "│ 202501     ┆ 202501     ┆ RJ  ┆ 6001       ┆ … ┆ ***.890.18 ┆ 1216493945 ┆ ZULZIMAR  ┆ 600,00    │\n",
              "│            ┆            ┆     ┆            ┆   ┆ 7-**       ┆ 1          ┆ DOS       ┆           │\n",
              "│            ┆            ┆     ┆            ┆   ┆            ┆            ┆ SANTOS    ┆           │\n",
              "│            ┆            ┆     ┆            ┆   ┆            ┆            ┆ PIRES     ┆           │\n",
              "│ 202501     ┆ 202501     ┆ RJ  ┆ 6001       ┆ … ┆ ***.963.23 ┆ 1228856259 ┆ ZUMILDO   ┆ 650,00    │\n",
              "│            ┆            ┆     ┆            ┆   ┆ 7-**       ┆ 7          ┆ BATISTA   ┆           │\n",
              "│            ┆            ┆     ┆            ┆   ┆            ┆            ┆ DOS       ┆           │\n",
              "│            ┆            ┆     ┆            ┆   ┆            ┆            ┆ SANTOS    ┆           │\n",
              "│ 202501     ┆ 202501     ┆ RJ  ┆ 6001       ┆ … ┆            ┆ 1369956281 ┆ ZUREMA    ┆ 700,00    │\n",
              "│            ┆            ┆     ┆            ┆   ┆            ┆ 5          ┆ PATRICIA  ┆           │\n",
              "│            ┆            ┆     ┆            ┆   ┆            ┆            ┆ DE SOUSA  ┆           │\n",
              "│            ┆            ┆     ┆            ┆   ┆            ┆            ┆ GASPA…    ┆           │\n",
              "│ 202501     ┆ 202501     ┆ RJ  ┆ 6001       ┆ … ┆ ***.441.84 ┆ 2014789092 ┆ ZUZILENE  ┆ 700,00    │\n",
              "│            ┆            ┆     ┆            ┆   ┆ 7-**       ┆ 0          ┆ SANTOS    ┆           │\n",
              "│            ┆            ┆     ┆            ┆   ┆            ┆            ┆ SILVA     ┆           │\n",
              "└────────────┴────────────┴─────┴────────────┴───┴────────────┴────────────┴───────────┴───────────┘"
            ],
            "text/html": [
              "<div><style>\n",
              ".dataframe > thead > tr,\n",
              ".dataframe > tbody > tr {\n",
              "  text-align: right;\n",
              "  white-space: pre-wrap;\n",
              "}\n",
              "</style>\n",
              "<small>shape: (988_548, 9)</small><table border=\"1\" class=\"dataframe\"><thead><tr><th>MÊS COMPETÊNCIA</th><th>MÊS REFERÊNCIA</th><th>UF</th><th>CÓDIGO MUNICÍPIO SIAFI</th><th>NOME MUNICÍPIO</th><th>CPF FAVORECIDO</th><th>NIS FAVORECIDO</th><th>NOME FAVORECIDO</th><th>VALOR PARCELA</th></tr><tr><td>i64</td><td>i64</td><td>str</td><td>i64</td><td>str</td><td>str</td><td>i64</td><td>str</td><td>str</td></tr></thead><tbody><tr><td>202501</td><td>202407</td><td>&quot;RJ&quot;</td><td>6001</td><td>&quot;RIO DE JANEIRO&quot;</td><td>&quot;***.876.487-**&quot;</td><td>12333384281</td><td>&quot;ADILSON FERREIRA MAGALHAES&quot;</td><td>&quot;600,00&quot;</td></tr><tr><td>202501</td><td>202407</td><td>&quot;RJ&quot;</td><td>6001</td><td>&quot;RIO DE JANEIRO&quot;</td><td>&quot;***.369.454-**&quot;</td><td>12811387449</td><td>&quot;ADRIANO PEREIRA DA SILVA&quot;</td><td>&quot;600,00&quot;</td></tr><tr><td>202501</td><td>202407</td><td>&quot;RJ&quot;</td><td>6001</td><td>&quot;RIO DE JANEIRO&quot;</td><td>&quot;***.157.816-**&quot;</td><td>12430302812</td><td>&quot;AGILSON GERALDO FERREIRA&quot;</td><td>&quot;700,00&quot;</td></tr><tr><td>202501</td><td>202407</td><td>&quot;RJ&quot;</td><td>6001</td><td>&quot;RIO DE JANEIRO&quot;</td><td>&quot;***.077.817-**&quot;</td><td>13094201120</td><td>&quot;ALESSANDRA FERREIRA DE JESUS&quot;</td><td>&quot;700,00&quot;</td></tr><tr><td>202501</td><td>202407</td><td>&quot;RJ&quot;</td><td>6001</td><td>&quot;RIO DE JANEIRO&quot;</td><td>&quot;***.728.677-**&quot;</td><td>12481440473</td><td>&quot;ALEXANDRE LUIS LEMOS VAZQUEZ&quot;</td><td>&quot;600,00&quot;</td></tr><tr><td>&hellip;</td><td>&hellip;</td><td>&hellip;</td><td>&hellip;</td><td>&hellip;</td><td>&hellip;</td><td>&hellip;</td><td>&hellip;</td><td>&hellip;</td></tr><tr><td>202501</td><td>202501</td><td>&quot;RJ&quot;</td><td>6001</td><td>&quot;RIO DE JANEIRO&quot;</td><td>&quot;***.675.377-**&quot;</td><td>16632293450</td><td>&quot;ZULNARA XAVIER&quot;</td><td>&quot;600,00&quot;</td></tr><tr><td>202501</td><td>202501</td><td>&quot;RJ&quot;</td><td>6001</td><td>&quot;RIO DE JANEIRO&quot;</td><td>&quot;***.890.187-**&quot;</td><td>12164939451</td><td>&quot;ZULZIMAR DOS SANTOS PIRES&quot;</td><td>&quot;600,00&quot;</td></tr><tr><td>202501</td><td>202501</td><td>&quot;RJ&quot;</td><td>6001</td><td>&quot;RIO DE JANEIRO&quot;</td><td>&quot;***.963.237-**&quot;</td><td>12288562597</td><td>&quot;ZUMILDO BATISTA DOS SANTOS&quot;</td><td>&quot;650,00&quot;</td></tr><tr><td>202501</td><td>202501</td><td>&quot;RJ&quot;</td><td>6001</td><td>&quot;RIO DE JANEIRO&quot;</td><td>&quot;&quot;</td><td>13699562815</td><td>&quot;ZUREMA PATRICIA DE SOUSA GASPA…</td><td>&quot;700,00&quot;</td></tr><tr><td>202501</td><td>202501</td><td>&quot;RJ&quot;</td><td>6001</td><td>&quot;RIO DE JANEIRO&quot;</td><td>&quot;***.441.847-**&quot;</td><td>20147890920</td><td>&quot;ZUZILENE SANTOS SILVA&quot;</td><td>&quot;700,00&quot;</td></tr></tbody></table></div>"
            ]
          },
          "metadata": {}
        }
      ]
    },
    {
      "cell_type": "code",
      "source": [
        "# Exemplo de Aplicação para Atividades futuras:\n",
        "\n",
        "consulta = (\n",
        "    df_010225.filter(pl.col(\"NOME MUNICÍPIO\") == \"RIO DE JANEIRO\")\n",
        "    .group_by(\"NOME FAVORECIDO\")\n",
        "    .agg(pl.col(\"VALOR PARCELA\").count())\n",
        ")\n",
        "print(consulta.explain())\n",
        "resultado = consulta.collect()"
      ],
      "metadata": {
        "colab": {
          "base_uri": "https://localhost:8080/"
        },
        "id": "5lvvDh8XRmBx",
        "outputId": "0edc5f73-657c-456a-854a-cf993c45d688"
      },
      "execution_count": null,
      "outputs": [
        {
          "output_type": "stream",
          "name": "stdout",
          "text": [
            "AGGREGATE\n",
            "\t[col(\"VALOR PARCELA\").count()] BY [col(\"NOME FAVORECIDO\")] FROM\n",
            "  FILTER [(col(\"NOME MUNICÍPIO\")) == (String(RIO DE JANEIRO))] FROM\n",
            "    DF [\"MÊS COMPETÊNCIA\", \"MÊS REFERÊNCIA\", \"UF\", \"CÓDIGO MUNICÍPIO SIAFI\"]; PROJECT 3/9 COLUMNS\n"
          ]
        }
      ]
    },
    {
      "cell_type": "code",
      "source": [
        "# Análise Estatística com LazyEvaluation:\n",
        "df_010225_lazy = df_010225.lazy()\n",
        "\n",
        "consulta = (\n",
        "    df_010225_lazy # Use the lazy version of the DataFrame\n",
        "    .filter(pl.col(\"NOME MUNICÍPIO\") == \"RIO DE JANEIRO\")\n",
        "    .group_by(\"NOME FAVORECIDO\")\n",
        "    .agg(pl.col(\"VALOR PARCELA\").mean().alias(\"MÉDIA VALOR PARCELA\"),\n",
        "         pl.col(\"VALOR PARCELA\").sum().alias(\"SOMA VALOR PARCELA\"))\n",
        ")\n",
        "print(consulta.explain())\n",
        "resultado_estatisticas = consulta.collect()\n",
        "display(resultado_estatisticas)"
      ],
      "metadata": {
        "colab": {
          "base_uri": "https://localhost:8080/",
          "height": 515
        },
        "id": "pslZfgE2RzuW",
        "outputId": "95dba174-565c-471a-c09d-748382a2f46d"
      },
      "execution_count": null,
      "outputs": [
        {
          "output_type": "stream",
          "name": "stdout",
          "text": [
            "AGGREGATE\n",
            "\t[col(\"VALOR PARCELA\").mean().alias(\"MÉDIA VALOR PARCELA\"), col(\"VALOR PARCELA\").sum().alias(\"SOMA VALOR PARCELA\")] BY [col(\"NOME FAVORECIDO\")] FROM\n",
            "  FILTER [(col(\"NOME MUNICÍPIO\")) == (String(RIO DE JANEIRO))] FROM\n",
            "    DF [\"MÊS COMPETÊNCIA\", \"MÊS REFERÊNCIA\", \"UF\", \"CÓDIGO MUNICÍPIO SIAFI\"]; PROJECT 3/9 COLUMNS\n"
          ]
        },
        {
          "output_type": "display_data",
          "data": {
            "text/plain": [
              "shape: (457_353, 3)\n",
              "┌─────────────────────────────────┬─────────────────────┬────────────────────┐\n",
              "│ NOME FAVORECIDO                 ┆ MÉDIA VALOR PARCELA ┆ SOMA VALOR PARCELA │\n",
              "│ ---                             ┆ ---                 ┆ ---                │\n",
              "│ str                             ┆ str                 ┆ str                │\n",
              "╞═════════════════════════════════╪═════════════════════╪════════════════════╡\n",
              "│ ROSE MORAES DE FARIAS           ┆ null                ┆ null               │\n",
              "│ THAIS FRANKLIN DE FREITAS SOUZ… ┆ null                ┆ null               │\n",
              "│ WAGNER LEITE DOS SANTOS         ┆ null                ┆ null               │\n",
              "│ CLECIANE DA SILVA CANAIMA       ┆ null                ┆ null               │\n",
              "│ ROSANGELA DOS SANTOS BARBOSA S… ┆ null                ┆ null               │\n",
              "│ …                               ┆ …                   ┆ …                  │\n",
              "│ DAMIRIS AUXILIADORA DOS SANTOS  ┆ null                ┆ null               │\n",
              "│ GABRIELA NATALINA ALVES BARROS  ┆ null                ┆ null               │\n",
              "│ NATHALIA RIBEIRO MARTINS ASSUM… ┆ null                ┆ null               │\n",
              "│ SARA FABIANA ROSA DA SILVA      ┆ null                ┆ null               │\n",
              "│ LORRAYNE CRISTINE DIAS RODRIGU… ┆ null                ┆ null               │\n",
              "└─────────────────────────────────┴─────────────────────┴────────────────────┘"
            ],
            "text/html": [
              "<div><style>\n",
              ".dataframe > thead > tr,\n",
              ".dataframe > tbody > tr {\n",
              "  text-align: right;\n",
              "  white-space: pre-wrap;\n",
              "}\n",
              "</style>\n",
              "<small>shape: (457_353, 3)</small><table border=\"1\" class=\"dataframe\"><thead><tr><th>NOME FAVORECIDO</th><th>MÉDIA VALOR PARCELA</th><th>SOMA VALOR PARCELA</th></tr><tr><td>str</td><td>str</td><td>str</td></tr></thead><tbody><tr><td>&quot;ROSE MORAES DE FARIAS&quot;</td><td>null</td><td>null</td></tr><tr><td>&quot;THAIS FRANKLIN DE FREITAS SOUZ…</td><td>null</td><td>null</td></tr><tr><td>&quot;WAGNER LEITE DOS SANTOS&quot;</td><td>null</td><td>null</td></tr><tr><td>&quot;CLECIANE DA SILVA CANAIMA&quot;</td><td>null</td><td>null</td></tr><tr><td>&quot;ROSANGELA DOS SANTOS BARBOSA S…</td><td>null</td><td>null</td></tr><tr><td>&hellip;</td><td>&hellip;</td><td>&hellip;</td></tr><tr><td>&quot;DAMIRIS AUXILIADORA DOS SANTOS&quot;</td><td>null</td><td>null</td></tr><tr><td>&quot;GABRIELA NATALINA ALVES BARROS&quot;</td><td>null</td><td>null</td></tr><tr><td>&quot;NATHALIA RIBEIRO MARTINS ASSUM…</td><td>null</td><td>null</td></tr><tr><td>&quot;SARA FABIANA ROSA DA SILVA&quot;</td><td>null</td><td>null</td></tr><tr><td>&quot;LORRAYNE CRISTINE DIAS RODRIGU…</td><td>null</td><td>null</td></tr></tbody></table></div>"
            ]
          },
          "metadata": {}
        }
      ]
    },
    {
      "cell_type": "code",
      "source": [
        "# Análise Estatística com LazyEvaluation:\n",
        "df_010225_lazy = df_010225.lazy()\n",
        "\n",
        "consulta = (\n",
        "    df_010225_lazy # Use the lazy version of the DataFrame\n",
        "    .filter(pl.col(\"NOME MUNICÍPIO\") == \"RIO DE JANEIRO\")\n",
        "    .with_columns(pl.col(\"VALOR PARCELA\").str.replace(\",\", \".\").cast(pl.Float64))\n",
        "    .group_by(\"NOME FAVORECIDO\")\n",
        "    .agg(pl.col(\"VALOR PARCELA\").mean().alias(\"MÉDIA VALOR PARCELA\"),\n",
        "         pl.col(\"VALOR PARCELA\").sum().alias(\"SOMA VALOR PARCELA\"))\n",
        ")\n",
        "print(consulta.explain())\n",
        "resultado_estatisticas = consulta.collect()\n",
        "display(resultado_estatisticas)"
      ],
      "metadata": {
        "colab": {
          "base_uri": "https://localhost:8080/",
          "height": 550
        },
        "id": "mm7Qxs2MR5lo",
        "outputId": "051d2464-b368-45fb-9ee7-9dd9673dc7c5"
      },
      "execution_count": null,
      "outputs": [
        {
          "output_type": "stream",
          "name": "stdout",
          "text": [
            "AGGREGATE\n",
            "\t[col(\"VALOR PARCELA\").mean().alias(\"MÉDIA VALOR PARCELA\"), col(\"VALOR PARCELA\").sum().alias(\"SOMA VALOR PARCELA\")] BY [col(\"NOME FAVORECIDO\")] FROM\n",
            "   WITH_COLUMNS:\n",
            "   [col(\"VALOR PARCELA\").str.replace([String(,), String(.)]).strict_cast(Float64)] \n",
            "    FILTER [(col(\"NOME MUNICÍPIO\")) == (String(RIO DE JANEIRO))] FROM\n",
            "      DF [\"MÊS COMPETÊNCIA\", \"MÊS REFERÊNCIA\", \"UF\", \"CÓDIGO MUNICÍPIO SIAFI\"]; PROJECT 3/9 COLUMNS\n"
          ]
        },
        {
          "output_type": "display_data",
          "data": {
            "text/plain": [
              "shape: (457_353, 3)\n",
              "┌─────────────────────────────────┬─────────────────────┬────────────────────┐\n",
              "│ NOME FAVORECIDO                 ┆ MÉDIA VALOR PARCELA ┆ SOMA VALOR PARCELA │\n",
              "│ ---                             ┆ ---                 ┆ ---                │\n",
              "│ str                             ┆ f64                 ┆ f64                │\n",
              "╞═════════════════════════════════╪═════════════════════╪════════════════════╡\n",
              "│ BARBARA DE SOUZA BORGES         ┆ 600.0               ┆ 1200.0             │\n",
              "│ HANNAH KARIZE MARTINS DE SOUSA  ┆ 900.0               ┆ 1800.0             │\n",
              "│ ANA BEATRIZ SANTOS              ┆ 650.0               ┆ 1300.0             │\n",
              "│ JOSE ANTONIO BENTO PAIVA        ┆ 600.0               ┆ 1200.0             │\n",
              "│ KATIA CILENE DA SILVA DE CASTR… ┆ 600.0               ┆ 1200.0             │\n",
              "│ …                               ┆ …                   ┆ …                  │\n",
              "│ NICOLY FERREIRA BERNARDES       ┆ 1000.0              ┆ 2000.0             │\n",
              "│ RAISSA SILVA DOS SANTOS         ┆ 900.0               ┆ 1800.0             │\n",
              "│ SUELEN RAMOS DA SILVA           ┆ 750.0               ┆ 1500.0             │\n",
              "│ TANEA MARGARIDA DE BARROS       ┆ 600.0               ┆ 1200.0             │\n",
              "│ THAMIRES ALVES BRINGHENTI       ┆ 650.0               ┆ 1300.0             │\n",
              "└─────────────────────────────────┴─────────────────────┴────────────────────┘"
            ],
            "text/html": [
              "<div><style>\n",
              ".dataframe > thead > tr,\n",
              ".dataframe > tbody > tr {\n",
              "  text-align: right;\n",
              "  white-space: pre-wrap;\n",
              "}\n",
              "</style>\n",
              "<small>shape: (457_353, 3)</small><table border=\"1\" class=\"dataframe\"><thead><tr><th>NOME FAVORECIDO</th><th>MÉDIA VALOR PARCELA</th><th>SOMA VALOR PARCELA</th></tr><tr><td>str</td><td>f64</td><td>f64</td></tr></thead><tbody><tr><td>&quot;BARBARA DE SOUZA BORGES&quot;</td><td>600.0</td><td>1200.0</td></tr><tr><td>&quot;HANNAH KARIZE MARTINS DE SOUSA&quot;</td><td>900.0</td><td>1800.0</td></tr><tr><td>&quot;ANA BEATRIZ SANTOS&quot;</td><td>650.0</td><td>1300.0</td></tr><tr><td>&quot;JOSE ANTONIO BENTO PAIVA&quot;</td><td>600.0</td><td>1200.0</td></tr><tr><td>&quot;KATIA CILENE DA SILVA DE CASTR…</td><td>600.0</td><td>1200.0</td></tr><tr><td>&hellip;</td><td>&hellip;</td><td>&hellip;</td></tr><tr><td>&quot;NICOLY FERREIRA BERNARDES&quot;</td><td>1000.0</td><td>2000.0</td></tr><tr><td>&quot;RAISSA SILVA DOS SANTOS&quot;</td><td>900.0</td><td>1800.0</td></tr><tr><td>&quot;SUELEN RAMOS DA SILVA&quot;</td><td>750.0</td><td>1500.0</td></tr><tr><td>&quot;TANEA MARGARIDA DE BARROS&quot;</td><td>600.0</td><td>1200.0</td></tr><tr><td>&quot;THAMIRES ALVES BRINGHENTI&quot;</td><td>650.0</td><td>1300.0</td></tr></tbody></table></div>"
            ]
          },
          "metadata": {}
        }
      ]
    },
    {
      "cell_type": "code",
      "source": [
        "!pip install seaborn"
      ],
      "metadata": {
        "colab": {
          "base_uri": "https://localhost:8080/"
        },
        "id": "rgpEyyFsnC5z",
        "outputId": "9526d654-f726-43fd-8bd9-04cba143b8a2"
      },
      "execution_count": 1,
      "outputs": [
        {
          "output_type": "stream",
          "name": "stdout",
          "text": [
            "Requirement already satisfied: seaborn in /usr/local/lib/python3.11/dist-packages (0.13.2)\n",
            "Requirement already satisfied: numpy!=1.24.0,>=1.20 in /usr/local/lib/python3.11/dist-packages (from seaborn) (2.0.2)\n",
            "Requirement already satisfied: pandas>=1.2 in /usr/local/lib/python3.11/dist-packages (from seaborn) (2.2.2)\n",
            "Requirement already satisfied: matplotlib!=3.6.1,>=3.4 in /usr/local/lib/python3.11/dist-packages (from seaborn) (3.10.0)\n",
            "Requirement already satisfied: contourpy>=1.0.1 in /usr/local/lib/python3.11/dist-packages (from matplotlib!=3.6.1,>=3.4->seaborn) (1.3.2)\n",
            "Requirement already satisfied: cycler>=0.10 in /usr/local/lib/python3.11/dist-packages (from matplotlib!=3.6.1,>=3.4->seaborn) (0.12.1)\n",
            "Requirement already satisfied: fonttools>=4.22.0 in /usr/local/lib/python3.11/dist-packages (from matplotlib!=3.6.1,>=3.4->seaborn) (4.58.0)\n",
            "Requirement already satisfied: kiwisolver>=1.3.1 in /usr/local/lib/python3.11/dist-packages (from matplotlib!=3.6.1,>=3.4->seaborn) (1.4.8)\n",
            "Requirement already satisfied: packaging>=20.0 in /usr/local/lib/python3.11/dist-packages (from matplotlib!=3.6.1,>=3.4->seaborn) (24.2)\n",
            "Requirement already satisfied: pillow>=8 in /usr/local/lib/python3.11/dist-packages (from matplotlib!=3.6.1,>=3.4->seaborn) (11.2.1)\n",
            "Requirement already satisfied: pyparsing>=2.3.1 in /usr/local/lib/python3.11/dist-packages (from matplotlib!=3.6.1,>=3.4->seaborn) (3.2.3)\n",
            "Requirement already satisfied: python-dateutil>=2.7 in /usr/local/lib/python3.11/dist-packages (from matplotlib!=3.6.1,>=3.4->seaborn) (2.9.0.post0)\n",
            "Requirement already satisfied: pytz>=2020.1 in /usr/local/lib/python3.11/dist-packages (from pandas>=1.2->seaborn) (2025.2)\n",
            "Requirement already satisfied: tzdata>=2022.7 in /usr/local/lib/python3.11/dist-packages (from pandas>=1.2->seaborn) (2025.2)\n",
            "Requirement already satisfied: six>=1.5 in /usr/local/lib/python3.11/dist-packages (from python-dateutil>=2.7->matplotlib!=3.6.1,>=3.4->seaborn) (1.17.0)\n"
          ]
        }
      ]
    },
    {
      "cell_type": "code",
      "source": [
        "#Criar um novo lazy com estas informações\n",
        "import pandas as pd\n",
        "import polars as pl\n",
        "from IPython.display import display\n",
        "import seaborn as sns\n",
        "import matplotlib.pyplot as plt"
      ],
      "metadata": {
        "id": "zmwqJrjBR6g7"
      },
      "execution_count": 2,
      "outputs": []
    },
    {
      "cell_type": "code",
      "source": [
        "#Concatenar arquivos parquet\n",
        "df_0125=pl.read_parquet('/content/202501_NovoBolsaFamilia.parquet')\n",
        "df_0225=pl.read_parquet('/content/202501_NovoBolsaFamilia.parquet')\n",
        "df_010225=pl.concat([df_0125,df_0225])\n",
        "display(df_010225.head(7000000))"
      ],
      "metadata": {
        "colab": {
          "base_uri": "https://localhost:8080/",
          "height": 443
        },
        "id": "ybjylBBRy_ZV",
        "outputId": "a6aefb04-fc11-418f-91fc-274c53901fe1"
      },
      "execution_count": 3,
      "outputs": [
        {
          "output_type": "display_data",
          "data": {
            "text/plain": [
              "shape: (7_000_000, 9)\n",
              "┌────────────┬────────────┬─────┬────────────┬───┬────────────┬────────────┬───────────┬───────────┐\n",
              "│ MÊS COMPET ┆ MÊS        ┆ UF  ┆ CÓDIGO     ┆ … ┆ CPF        ┆ NIS        ┆ NOME FAVO ┆ VALOR     │\n",
              "│ ÊNCIA      ┆ REFERÊNCIA ┆ --- ┆ MUNICÍPIO  ┆   ┆ FAVORECIDO ┆ FAVORECIDO ┆ RECIDO    ┆ PARCELA   │\n",
              "│ ---        ┆ ---        ┆ str ┆ SIAFI      ┆   ┆ ---        ┆ ---        ┆ ---       ┆ ---       │\n",
              "│ i64        ┆ i64        ┆     ┆ ---        ┆   ┆ str        ┆ i64        ┆ str       ┆ str       │\n",
              "│            ┆            ┆     ┆ i64        ┆   ┆            ┆            ┆           ┆           │\n",
              "╞════════════╪════════════╪═════╪════════════╪═══╪════════════╪════════════╪═══════════╪═══════════╡\n",
              "│ 202501     ┆ 202308     ┆ SP  ┆ 7071       ┆ … ┆ ***.085.10 ┆ 2064389044 ┆ FERNANDA  ┆ 650,00    │\n",
              "│            ┆            ┆     ┆            ┆   ┆ 6-**       ┆ 5          ┆ RAMOS     ┆           │\n",
              "│            ┆            ┆     ┆            ┆   ┆            ┆            ┆ TEIXEIRA  ┆           │\n",
              "│ 202501     ┆ 202309     ┆ SP  ┆ 7071       ┆ … ┆ ***.085.10 ┆ 2064389044 ┆ FERNANDA  ┆ 650,00    │\n",
              "│            ┆            ┆     ┆            ┆   ┆ 6-**       ┆ 5          ┆ RAMOS     ┆           │\n",
              "│            ┆            ┆     ┆            ┆   ┆            ┆            ┆ TEIXEIRA  ┆           │\n",
              "│ 202501     ┆ 202310     ┆ SP  ┆ 7071       ┆ … ┆ ***.085.10 ┆ 2064389044 ┆ FERNANDA  ┆ 650,00    │\n",
              "│            ┆            ┆     ┆            ┆   ┆ 6-**       ┆ 5          ┆ RAMOS     ┆           │\n",
              "│            ┆            ┆     ┆            ┆   ┆            ┆            ┆ TEIXEIRA  ┆           │\n",
              "│ 202501     ┆ 202311     ┆ SP  ┆ 7071       ┆ … ┆ ***.085.10 ┆ 2064389044 ┆ FERNANDA  ┆ 650,00    │\n",
              "│            ┆            ┆     ┆            ┆   ┆ 6-**       ┆ 5          ┆ RAMOS     ┆           │\n",
              "│            ┆            ┆     ┆            ┆   ┆            ┆            ┆ TEIXEIRA  ┆           │\n",
              "│ 202501     ┆ 202312     ┆ SP  ┆ 7071       ┆ … ┆ ***.085.10 ┆ 2064389044 ┆ FERNANDA  ┆ 650,00    │\n",
              "│            ┆            ┆     ┆            ┆   ┆ 6-**       ┆ 5          ┆ RAMOS     ┆           │\n",
              "│            ┆            ┆     ┆            ┆   ┆            ┆            ┆ TEIXEIRA  ┆           │\n",
              "│ …          ┆ …          ┆ …   ┆ …          ┆ … ┆ …          ┆ …          ┆ …         ┆ …         │\n",
              "│ 202501     ┆ 202501     ┆ MA  ┆ 845        ┆ … ┆ ***.497.46 ┆ 1267886937 ┆ JOSE      ┆ 750,00    │\n",
              "│            ┆            ┆     ┆            ┆   ┆ 3-**       ┆ 9          ┆ DIVINO    ┆           │\n",
              "│            ┆            ┆     ┆            ┆   ┆            ┆            ┆ ALVES     ┆           │\n",
              "│            ┆            ┆     ┆            ┆   ┆            ┆            ┆ GOMES     ┆           │\n",
              "│ 202501     ┆ 202501     ┆ MA  ┆ 845        ┆ … ┆            ┆ 1258118955 ┆ JOSE      ┆ 600,00    │\n",
              "│            ┆            ┆     ┆            ┆   ┆            ┆ 1          ┆ DOMINGOS  ┆           │\n",
              "│            ┆            ┆     ┆            ┆   ┆            ┆            ┆ DOURADO   ┆           │\n",
              "│            ┆            ┆     ┆            ┆   ┆            ┆            ┆ SOUSA     ┆           │\n",
              "│ 202501     ┆ 202501     ┆ MA  ┆ 845        ┆ … ┆ ***.765.89 ┆ 2010759972 ┆ JOSE DOS  ┆ 600,00    │\n",
              "│            ┆            ┆     ┆            ┆   ┆ 1-**       ┆ 9          ┆ SANTOS DA ┆           │\n",
              "│            ┆            ┆     ┆            ┆   ┆            ┆            ┆ COSTA     ┆           │\n",
              "│            ┆            ┆     ┆            ┆   ┆            ┆            ┆ AGUIA…    ┆           │\n",
              "│ 202501     ┆ 202501     ┆ MA  ┆ 845        ┆ … ┆ ***.379.62 ┆ 1268631197 ┆ JOSE DOS  ┆ 600,00    │\n",
              "│            ┆            ┆     ┆            ┆   ┆ 3-**       ┆ 7          ┆ SANTOS    ┆           │\n",
              "│            ┆            ┆     ┆            ┆   ┆            ┆            ┆ PEREIRA   ┆           │\n",
              "│            ┆            ┆     ┆            ┆   ┆            ┆            ┆ DE BRI…   ┆           │\n",
              "│ 202501     ┆ 202501     ┆ MA  ┆ 845        ┆ … ┆ ***.739.55 ┆ 1622678994 ┆ JOSE      ┆ 750,00    │\n",
              "│            ┆            ┆     ┆            ┆   ┆ 3-**       ┆ 9          ┆ DOURADO   ┆           │\n",
              "│            ┆            ┆     ┆            ┆   ┆            ┆            ┆ SOUSA     ┆           │\n",
              "└────────────┴────────────┴─────┴────────────┴───┴────────────┴────────────┴───────────┴───────────┘"
            ],
            "text/html": [
              "<div><style>\n",
              ".dataframe > thead > tr,\n",
              ".dataframe > tbody > tr {\n",
              "  text-align: right;\n",
              "  white-space: pre-wrap;\n",
              "}\n",
              "</style>\n",
              "<small>shape: (7_000_000, 9)</small><table border=\"1\" class=\"dataframe\"><thead><tr><th>MÊS COMPETÊNCIA</th><th>MÊS REFERÊNCIA</th><th>UF</th><th>CÓDIGO MUNICÍPIO SIAFI</th><th>NOME MUNICÍPIO</th><th>CPF FAVORECIDO</th><th>NIS FAVORECIDO</th><th>NOME FAVORECIDO</th><th>VALOR PARCELA</th></tr><tr><td>i64</td><td>i64</td><td>str</td><td>i64</td><td>str</td><td>str</td><td>i64</td><td>str</td><td>str</td></tr></thead><tbody><tr><td>202501</td><td>202308</td><td>&quot;SP&quot;</td><td>7071</td><td>&quot;SANTOS&quot;</td><td>&quot;***.085.106-**&quot;</td><td>20643890445</td><td>&quot;FERNANDA RAMOS TEIXEIRA&quot;</td><td>&quot;650,00&quot;</td></tr><tr><td>202501</td><td>202309</td><td>&quot;SP&quot;</td><td>7071</td><td>&quot;SANTOS&quot;</td><td>&quot;***.085.106-**&quot;</td><td>20643890445</td><td>&quot;FERNANDA RAMOS TEIXEIRA&quot;</td><td>&quot;650,00&quot;</td></tr><tr><td>202501</td><td>202310</td><td>&quot;SP&quot;</td><td>7071</td><td>&quot;SANTOS&quot;</td><td>&quot;***.085.106-**&quot;</td><td>20643890445</td><td>&quot;FERNANDA RAMOS TEIXEIRA&quot;</td><td>&quot;650,00&quot;</td></tr><tr><td>202501</td><td>202311</td><td>&quot;SP&quot;</td><td>7071</td><td>&quot;SANTOS&quot;</td><td>&quot;***.085.106-**&quot;</td><td>20643890445</td><td>&quot;FERNANDA RAMOS TEIXEIRA&quot;</td><td>&quot;650,00&quot;</td></tr><tr><td>202501</td><td>202312</td><td>&quot;SP&quot;</td><td>7071</td><td>&quot;SANTOS&quot;</td><td>&quot;***.085.106-**&quot;</td><td>20643890445</td><td>&quot;FERNANDA RAMOS TEIXEIRA&quot;</td><td>&quot;650,00&quot;</td></tr><tr><td>&hellip;</td><td>&hellip;</td><td>&hellip;</td><td>&hellip;</td><td>&hellip;</td><td>&hellip;</td><td>&hellip;</td><td>&hellip;</td><td>&hellip;</td></tr><tr><td>202501</td><td>202501</td><td>&quot;MA&quot;</td><td>845</td><td>&quot;NOVA IORQUE&quot;</td><td>&quot;***.497.463-**&quot;</td><td>12678869379</td><td>&quot;JOSE DIVINO ALVES GOMES&quot;</td><td>&quot;750,00&quot;</td></tr><tr><td>202501</td><td>202501</td><td>&quot;MA&quot;</td><td>845</td><td>&quot;NOVA IORQUE&quot;</td><td>&quot;&quot;</td><td>12581189551</td><td>&quot;JOSE DOMINGOS DOURADO SOUSA&quot;</td><td>&quot;600,00&quot;</td></tr><tr><td>202501</td><td>202501</td><td>&quot;MA&quot;</td><td>845</td><td>&quot;NOVA IORQUE&quot;</td><td>&quot;***.765.891-**&quot;</td><td>20107599729</td><td>&quot;JOSE DOS SANTOS DA COSTA AGUIA…</td><td>&quot;600,00&quot;</td></tr><tr><td>202501</td><td>202501</td><td>&quot;MA&quot;</td><td>845</td><td>&quot;NOVA IORQUE&quot;</td><td>&quot;***.379.623-**&quot;</td><td>12686311977</td><td>&quot;JOSE DOS SANTOS PEREIRA DE BRI…</td><td>&quot;600,00&quot;</td></tr><tr><td>202501</td><td>202501</td><td>&quot;MA&quot;</td><td>845</td><td>&quot;NOVA IORQUE&quot;</td><td>&quot;***.739.553-**&quot;</td><td>16226789949</td><td>&quot;JOSE DOURADO SOUSA&quot;</td><td>&quot;750,00&quot;</td></tr></tbody></table></div>"
            ]
          },
          "metadata": {}
        }
      ]
    },
    {
      "cell_type": "code",
      "source": [
        "# LAZY:\n",
        "df_es = pl.DataFrame(df_010225).lazy()\n",
        "# EXPLAIN:\n",
        "df_es.filter(pl.col(\"UF\")==\"ES\").explain()\n",
        "# COLLECT:\n",
        "resultadoes=(df_es.filter(pl.col(\"UF\")==\"ES\").collect())\n",
        "display(resultadoes.head(100))"
      ],
      "metadata": {
        "colab": {
          "base_uri": "https://localhost:8080/",
          "height": 443
        },
        "id": "F8eDhx_YbJL7",
        "outputId": "80d7ad1b-4eef-4dfa-cc4e-a25c5ffb16f5"
      },
      "execution_count": 4,
      "outputs": [
        {
          "output_type": "display_data",
          "data": {
            "text/plain": [
              "shape: (100, 9)\n",
              "┌────────────┬────────────┬─────┬────────────┬───┬────────────┬────────────┬───────────┬───────────┐\n",
              "│ MÊS COMPET ┆ MÊS        ┆ UF  ┆ CÓDIGO     ┆ … ┆ CPF        ┆ NIS        ┆ NOME FAVO ┆ VALOR     │\n",
              "│ ÊNCIA      ┆ REFERÊNCIA ┆ --- ┆ MUNICÍPIO  ┆   ┆ FAVORECIDO ┆ FAVORECIDO ┆ RECIDO    ┆ PARCELA   │\n",
              "│ ---        ┆ ---        ┆ str ┆ SIAFI      ┆   ┆ ---        ┆ ---        ┆ ---       ┆ ---       │\n",
              "│ i64        ┆ i64        ┆     ┆ ---        ┆   ┆ str        ┆ i64        ┆ str       ┆ str       │\n",
              "│            ┆            ┆     ┆ i64        ┆   ┆            ┆            ┆           ┆           │\n",
              "╞════════════╪════════════╪═════╪════════════╪═══╪════════════╪════════════╪═══════════╪═══════════╡\n",
              "│ 202501     ┆ 202406     ┆ ES  ┆ 5663       ┆ … ┆ ***.911.69 ┆ 1630288951 ┆ CAMILA    ┆ 1110,00   │\n",
              "│            ┆            ┆     ┆            ┆   ┆ 7-**       ┆ 1          ┆ SANTOS DA ┆           │\n",
              "│            ┆            ┆     ┆            ┆   ┆            ┆            ┆ VITORIA   ┆           │\n",
              "│ 202501     ┆ 202406     ┆ ES  ┆ 5663       ┆ … ┆ ***.521.28 ┆ 1430250087 ┆ JESSICA   ┆ 700,00    │\n",
              "│            ┆            ┆     ┆            ┆   ┆ 7-**       ┆ 1          ┆ VENANCIO  ┆           │\n",
              "│            ┆            ┆     ┆            ┆   ┆            ┆            ┆ DE SOUZA  ┆           │\n",
              "│ 202501     ┆ 202407     ┆ ES  ┆ 5601       ┆ … ┆ ***.516.60 ┆ 1655521054 ┆ CINTIA    ┆ 350,00    │\n",
              "│            ┆            ┆     ┆            ┆   ┆ 5-**       ┆ 1          ┆ CANDIDO   ┆           │\n",
              "│            ┆            ┆     ┆            ┆   ┆            ┆            ┆ DOS       ┆           │\n",
              "│            ┆            ┆     ┆            ┆   ┆            ┆            ┆ SANTOS    ┆           │\n",
              "│ 202501     ┆ 202407     ┆ ES  ┆ 5601       ┆ … ┆ ***.638.92 ┆ 1286138129 ┆ ROSA      ┆ 350,00    │\n",
              "│            ┆            ┆     ┆            ┆   ┆ 7-**       ┆ 0          ┆ MARIA     ┆           │\n",
              "│            ┆            ┆     ┆            ┆   ┆            ┆            ┆ HELKER    ┆           │\n",
              "│ 202501     ┆ 202407     ┆ ES  ┆ 5719       ┆ … ┆ ***.055.69 ┆ 1658497601 ┆ RAFAELA   ┆ 375,00    │\n",
              "│            ┆            ┆     ┆            ┆   ┆ 7-**       ┆ 8          ┆ CRISTINA  ┆           │\n",
              "│            ┆            ┆     ┆            ┆   ┆            ┆            ┆ DA ROCHA  ┆           │\n",
              "│ …          ┆ …          ┆ …   ┆ …          ┆ … ┆ …          ┆ …          ┆ …         ┆ …         │\n",
              "│ 202501     ┆ 202408     ┆ ES  ┆ 5623       ┆ … ┆            ┆ 1624663332 ┆ IVANEIDE  ┆ 650,00    │\n",
              "│            ┆            ┆     ┆            ┆   ┆            ┆ 4          ┆ BATISTA   ┆           │\n",
              "│            ┆            ┆     ┆            ┆   ┆            ┆            ┆ DE LIMA   ┆           │\n",
              "│            ┆            ┆     ┆            ┆   ┆            ┆            ┆ ARAUJ…    ┆           │\n",
              "│ 202501     ┆ 202408     ┆ ES  ┆ 5623       ┆ … ┆ ***.601.45 ┆ 2045115960 ┆ JHONATA   ┆ 600,00    │\n",
              "│            ┆            ┆     ┆            ┆   ┆ 7-**       ┆ 2          ┆ DA SILVA  ┆           │\n",
              "│            ┆            ┆     ┆            ┆   ┆            ┆            ┆ CUNHA     ┆           │\n",
              "│ 202501     ┆ 202408     ┆ ES  ┆ 5623       ┆ … ┆ ***.167.84 ┆ 1642369661 ┆ LUANA DE  ┆ 600,00    │\n",
              "│            ┆            ┆     ┆            ┆   ┆ 7-**       ┆ 7          ┆ MORAES DA ┆           │\n",
              "│            ┆            ┆     ┆            ┆   ┆            ┆            ┆ SILVA     ┆           │\n",
              "│ 202501     ┆ 202408     ┆ ES  ┆ 5625       ┆ … ┆ ***.913.12 ┆ 1326711829 ┆ ABRAAO DO ┆ 750,00    │\n",
              "│            ┆            ┆     ┆            ┆   ┆ 7-**       ┆ 7          ┆ CARMO DOS ┆           │\n",
              "│            ┆            ┆     ┆            ┆   ┆            ┆            ┆ SANTOS    ┆           │\n",
              "│ 202501     ┆ 202408     ┆ ES  ┆ 5625       ┆ … ┆ ***.655.10 ┆ 1217935732 ┆ ANA MARIA ┆ 600,00    │\n",
              "│            ┆            ┆     ┆            ┆   ┆ 7-**       ┆ 1          ┆ DE JESUS  ┆           │\n",
              "│            ┆            ┆     ┆            ┆   ┆            ┆            ┆ SANT ANA  ┆           │\n",
              "│            ┆            ┆     ┆            ┆   ┆            ┆            ┆ DE…       ┆           │\n",
              "└────────────┴────────────┴─────┴────────────┴───┴────────────┴────────────┴───────────┴───────────┘"
            ],
            "text/html": [
              "<div><style>\n",
              ".dataframe > thead > tr,\n",
              ".dataframe > tbody > tr {\n",
              "  text-align: right;\n",
              "  white-space: pre-wrap;\n",
              "}\n",
              "</style>\n",
              "<small>shape: (100, 9)</small><table border=\"1\" class=\"dataframe\"><thead><tr><th>MÊS COMPETÊNCIA</th><th>MÊS REFERÊNCIA</th><th>UF</th><th>CÓDIGO MUNICÍPIO SIAFI</th><th>NOME MUNICÍPIO</th><th>CPF FAVORECIDO</th><th>NIS FAVORECIDO</th><th>NOME FAVORECIDO</th><th>VALOR PARCELA</th></tr><tr><td>i64</td><td>i64</td><td>str</td><td>i64</td><td>str</td><td>str</td><td>i64</td><td>str</td><td>str</td></tr></thead><tbody><tr><td>202501</td><td>202406</td><td>&quot;ES&quot;</td><td>5663</td><td>&quot;LINHARES&quot;</td><td>&quot;***.911.697-**&quot;</td><td>16302889511</td><td>&quot;CAMILA SANTOS DA VITORIA&quot;</td><td>&quot;1110,00&quot;</td></tr><tr><td>202501</td><td>202406</td><td>&quot;ES&quot;</td><td>5663</td><td>&quot;LINHARES&quot;</td><td>&quot;***.521.287-**&quot;</td><td>14302500871</td><td>&quot;JESSICA VENANCIO DE SOUZA&quot;</td><td>&quot;700,00&quot;</td></tr><tr><td>202501</td><td>202407</td><td>&quot;ES&quot;</td><td>5601</td><td>&quot;AFONSO CLAUDIO&quot;</td><td>&quot;***.516.605-**&quot;</td><td>16555210541</td><td>&quot;CINTIA CANDIDO DOS SANTOS&quot;</td><td>&quot;350,00&quot;</td></tr><tr><td>202501</td><td>202407</td><td>&quot;ES&quot;</td><td>5601</td><td>&quot;AFONSO CLAUDIO&quot;</td><td>&quot;***.638.927-**&quot;</td><td>12861381290</td><td>&quot;ROSA MARIA HELKER&quot;</td><td>&quot;350,00&quot;</td></tr><tr><td>202501</td><td>202407</td><td>&quot;ES&quot;</td><td>5719</td><td>&quot;ALTO RIO NOVO&quot;</td><td>&quot;***.055.697-**&quot;</td><td>16584976018</td><td>&quot;RAFAELA CRISTINA DA ROCHA&quot;</td><td>&quot;375,00&quot;</td></tr><tr><td>&hellip;</td><td>&hellip;</td><td>&hellip;</td><td>&hellip;</td><td>&hellip;</td><td>&hellip;</td><td>&hellip;</td><td>&hellip;</td><td>&hellip;</td></tr><tr><td>202501</td><td>202408</td><td>&quot;ES&quot;</td><td>5623</td><td>&quot;CACHOEIRO DE ITAPEMIRIM&quot;</td><td>&quot;&quot;</td><td>16246633324</td><td>&quot;IVANEIDE BATISTA DE LIMA ARAUJ…</td><td>&quot;650,00&quot;</td></tr><tr><td>202501</td><td>202408</td><td>&quot;ES&quot;</td><td>5623</td><td>&quot;CACHOEIRO DE ITAPEMIRIM&quot;</td><td>&quot;***.601.457-**&quot;</td><td>20451159602</td><td>&quot;JHONATA DA SILVA CUNHA&quot;</td><td>&quot;600,00&quot;</td></tr><tr><td>202501</td><td>202408</td><td>&quot;ES&quot;</td><td>5623</td><td>&quot;CACHOEIRO DE ITAPEMIRIM&quot;</td><td>&quot;***.167.847-**&quot;</td><td>16423696617</td><td>&quot;LUANA DE MORAES DA SILVA&quot;</td><td>&quot;600,00&quot;</td></tr><tr><td>202501</td><td>202408</td><td>&quot;ES&quot;</td><td>5625</td><td>&quot;CARIACICA&quot;</td><td>&quot;***.913.127-**&quot;</td><td>13267118297</td><td>&quot;ABRAAO DO CARMO DOS SANTOS&quot;</td><td>&quot;750,00&quot;</td></tr><tr><td>202501</td><td>202408</td><td>&quot;ES&quot;</td><td>5625</td><td>&quot;CARIACICA&quot;</td><td>&quot;***.655.107-**&quot;</td><td>12179357321</td><td>&quot;ANA MARIA DE JESUS SANT ANA DE…</td><td>&quot;600,00&quot;</td></tr></tbody></table></div>"
            ]
          },
          "metadata": {}
        }
      ]
    },
    {
      "cell_type": "code",
      "source": [
        "consulta_es = (\n",
        "    df_es # Use the lazy version of the DataFrame\n",
        "    .filter(pl.col(\"UF\") == \"ES\")\n",
        "    .with_columns(\n",
        "        # Use the Polars .round() method on the expression\n",
        "        pl.col(\"VALOR PARCELA\").str.replace(\",\", \".\").cast(pl.Float64).round(2).alias('VALOR PARCELA_ROUNDED')\n",
        "    )\n",
        "    .group_by(\"NOME MUNICÍPIO\")\n",
        "    .agg(pl.col(\"VALOR PARCELA_ROUNDED\").mean().alias(\"MÉDIA VALOR PARCELA\").round(2),\n",
        "         pl.col(\"VALOR PARCELA_ROUNDED\").sum().alias(\"SOMA VALOR PARCELA\").round(2),\n",
        "         pl.col(\"VALOR PARCELA_ROUNDED\").min().alias(\"MENOR VALOR PARCELA\").round(2),\n",
        "         pl.col(\"VALOR PARCELA_ROUNDED\").max().alias(\"MAIOR VALOR PARCELA\").round(2),\n",
        "         pl.col(\"VALOR PARCELA_ROUNDED\").count().alias(\"QTD VALOR PARCELA\").round(2),\n",
        "         pl.col(\"VALOR PARCELA_ROUNDED\").median().alias(\"MEDIANA VALOR PARCELA\").round(2),\n",
        "         pl.col(\"VALOR PARCELA_ROUNDED\").var().alias(\"VARIÂNCIA VALOR PARCELA\").round(2),\n",
        "         pl.col(\"VALOR PARCELA_ROUNDED\").std().alias(\"DESVIO PADRÃO VALOR PARCELA\").round(2)\n",
        "         )\n",
        ")\n",
        "print(consulta_es.explain())\n",
        "resultado_estatisticas_es = consulta_es.collect()\n",
        "display(resultado_estatisticas_es.head(100))"
      ],
      "metadata": {
        "colab": {
          "base_uri": "https://localhost:8080/",
          "height": 605
        },
        "id": "KbyAkATEjzTD",
        "outputId": "709cdcf5-613a-4d93-bee9-310e6716acc4"
      },
      "execution_count": 5,
      "outputs": [
        {
          "output_type": "stream",
          "name": "stdout",
          "text": [
            "AGGREGATE\n",
            "\t[col(\"VALOR PARCELA_ROUNDED\").mean().alias(\"MÉDIA VALOR PARCELA\").round().alias(\"MÉDIA VALOR PARCELA\"), col(\"VALOR PARCELA_ROUNDED\").sum().alias(\"SOMA VALOR PARCELA\").round().alias(\"SOMA VALOR PARCELA\"), col(\"VALOR PARCELA_ROUNDED\").min().alias(\"MENOR VALOR PARCELA\").round().alias(\"MENOR VALOR PARCELA\"), col(\"VALOR PARCELA_ROUNDED\").max().alias(\"MAIOR VALOR PARCELA\").round().alias(\"MAIOR VALOR PARCELA\"), col(\"VALOR PARCELA_ROUNDED\").count().alias(\"QTD VALOR PARCELA\").round().alias(\"QTD VALOR PARCELA\"), col(\"VALOR PARCELA_ROUNDED\").median().alias(\"MEDIANA VALOR PARCELA\").round().alias(\"MEDIANA VALOR PARCELA\"), col(\"VALOR PARCELA_ROUNDED\").var().alias(\"VARIÂNCIA VALOR PARCELA\").round().alias(\"VARIÂNCIA VALOR PARCELA\"), col(\"VALOR PARCELA_ROUNDED\").std().alias(\"DESVIO PADRÃO VALOR PARCELA\").round().alias(\"DESVIO PADRÃO VALOR PARCELA\")] BY [col(\"NOME MUNICÍPIO\")] FROM\n",
            "   WITH_COLUMNS:\n",
            "   [col(\"VALOR PARCELA\").str.replace([String(,), String(.)]).strict_cast(Float64).round().alias(\"VALOR PARCELA_ROUNDED\")] \n",
            "    FILTER [(col(\"UF\")) == (String(ES))] FROM\n",
            "      DF [\"MÊS COMPETÊNCIA\", \"MÊS REFERÊNCIA\", \"UF\", \"CÓDIGO MUNICÍPIO SIAFI\"]; PROJECT 3/9 COLUMNS\n"
          ]
        },
        {
          "output_type": "display_data",
          "data": {
            "text/plain": [
              "shape: (78, 9)\n",
              "┌───────────┬───────────┬───────────┬───────────┬───┬───────────┬───────────┬───────────┬──────────┐\n",
              "│ NOME      ┆ MÉDIA     ┆ SOMA      ┆ MENOR     ┆ … ┆ QTD VALOR ┆ MEDIANA   ┆ VARIÂNCIA ┆ DESVIO   │\n",
              "│ MUNICÍPIO ┆ VALOR     ┆ VALOR     ┆ VALOR     ┆   ┆ PARCELA   ┆ VALOR     ┆ VALOR     ┆ PADRÃO   │\n",
              "│ ---       ┆ PARCELA   ┆ PARCELA   ┆ PARCELA   ┆   ┆ ---       ┆ PARCELA   ┆ PARCELA   ┆ VALOR    │\n",
              "│ str       ┆ ---       ┆ ---       ┆ ---       ┆   ┆ u32       ┆ ---       ┆ ---       ┆ PARCELA  │\n",
              "│           ┆ f64       ┆ f64       ┆ f64       ┆   ┆           ┆ f64       ┆ f64       ┆ ---      │\n",
              "│           ┆           ┆           ┆           ┆   ┆           ┆           ┆           ┆ f64      │\n",
              "╞═══════════╪═══════════╪═══════════╪═══════════╪═══╪═══════════╪═══════════╪═══════════╪══════════╡\n",
              "│ GUARAPARI ┆ 665.01    ┆ 9.502976e ┆ 300.0     ┆ … ┆ 14290     ┆ 650.0     ┆ 53670.24  ┆ 231.67   │\n",
              "│           ┆           ┆ 6         ┆           ┆   ┆           ┆           ┆           ┆          │\n",
              "│ SANTA LEO ┆ 674.87    ┆ 1.724966e ┆ 300.0     ┆ … ┆ 2556      ┆ 650.0     ┆ 35151.62  ┆ 187.49   │\n",
              "│ POLDINA   ┆           ┆ 6         ┆           ┆   ┆           ┆           ┆           ┆          │\n",
              "│ LARANJA   ┆ 650.46    ┆ 1.129202e ┆ 300.0     ┆ … ┆ 1736      ┆ 650.0     ┆ 38533.0   ┆ 196.3    │\n",
              "│ DA TERRA  ┆           ┆ 6         ┆           ┆   ┆           ┆           ┆           ┆          │\n",
              "│ SAO       ┆ 677.18    ┆ 1.331342e ┆ 300.0     ┆ … ┆ 1966      ┆ 650.0     ┆ 39917.31  ┆ 199.79   │\n",
              "│ DOMINGOS  ┆           ┆ 6         ┆           ┆   ┆           ┆           ┆           ┆          │\n",
              "│ DO NORTE  ┆           ┆           ┆           ┆   ┆           ┆           ┆           ┆          │\n",
              "│ AFONSO    ┆ 616.66    ┆ 3.046296e ┆ 300.0     ┆ … ┆ 4940      ┆ 600.0     ┆ 57421.15  ┆ 239.63   │\n",
              "│ CLAUDIO   ┆           ┆ 6         ┆           ┆   ┆           ┆           ┆           ┆          │\n",
              "│ …         ┆ …         ┆ …         ┆ …         ┆ … ┆ …         ┆ …         ┆ …         ┆ …        │\n",
              "│ SANTA     ┆ 682.53    ┆ 2.672768e ┆ 25.0      ┆ … ┆ 3916      ┆ 700.0     ┆ 44942.04  ┆ 212.0    │\n",
              "│ MARIA DE  ┆           ┆ 6         ┆           ┆   ┆           ┆           ┆           ┆          │\n",
              "│ JETIBA    ┆           ┆           ┆           ┆   ┆           ┆           ┆           ┆          │\n",
              "│ VARGEM    ┆ 670.23    ┆ 1.42625e6 ┆ 300.0     ┆ … ┆ 2128      ┆ 650.0     ┆ 51710.47  ┆ 227.4    │\n",
              "│ ALTA      ┆           ┆           ┆           ┆   ┆           ┆           ┆           ┆          │\n",
              "│ JERONIMO  ┆ 664.24    ┆ 1.474608e ┆ 300.0     ┆ … ┆ 2220      ┆ 650.0     ┆ 41522.61  ┆ 203.77   │\n",
              "│ MONTEIRO  ┆           ┆ 6         ┆           ┆   ┆           ┆           ┆           ┆          │\n",
              "│ CONCEICAO ┆ 667.21    ┆ 5.751324e ┆ 300.0     ┆ … ┆ 8620      ┆ 650.0     ┆ 40148.93  ┆ 200.37   │\n",
              "│ DA BARRA  ┆           ┆ 6         ┆           ┆   ┆           ┆           ┆           ┆          │\n",
              "│ VITORIA   ┆ 658.37    ┆ 2.6910182 ┆ 300.0     ┆ … ┆ 40874     ┆ 650.0     ┆ 42933.18  ┆ 207.2    │\n",
              "│           ┆           ┆ e7        ┆           ┆   ┆           ┆           ┆           ┆          │\n",
              "└───────────┴───────────┴───────────┴───────────┴───┴───────────┴───────────┴───────────┴──────────┘"
            ],
            "text/html": [
              "<div><style>\n",
              ".dataframe > thead > tr,\n",
              ".dataframe > tbody > tr {\n",
              "  text-align: right;\n",
              "  white-space: pre-wrap;\n",
              "}\n",
              "</style>\n",
              "<small>shape: (78, 9)</small><table border=\"1\" class=\"dataframe\"><thead><tr><th>NOME MUNICÍPIO</th><th>MÉDIA VALOR PARCELA</th><th>SOMA VALOR PARCELA</th><th>MENOR VALOR PARCELA</th><th>MAIOR VALOR PARCELA</th><th>QTD VALOR PARCELA</th><th>MEDIANA VALOR PARCELA</th><th>VARIÂNCIA VALOR PARCELA</th><th>DESVIO PADRÃO VALOR PARCELA</th></tr><tr><td>str</td><td>f64</td><td>f64</td><td>f64</td><td>f64</td><td>u32</td><td>f64</td><td>f64</td><td>f64</td></tr></thead><tbody><tr><td>&quot;GUARAPARI&quot;</td><td>665.01</td><td>9.502976e6</td><td>300.0</td><td>2696.0</td><td>14290</td><td>650.0</td><td>53670.24</td><td>231.67</td></tr><tr><td>&quot;SANTA LEOPOLDINA&quot;</td><td>674.87</td><td>1.724966e6</td><td>300.0</td><td>1736.0</td><td>2556</td><td>650.0</td><td>35151.62</td><td>187.49</td></tr><tr><td>&quot;LARANJA DA TERRA&quot;</td><td>650.46</td><td>1.129202e6</td><td>300.0</td><td>1644.0</td><td>1736</td><td>650.0</td><td>38533.0</td><td>196.3</td></tr><tr><td>&quot;SAO DOMINGOS DO NORTE&quot;</td><td>677.18</td><td>1.331342e6</td><td>300.0</td><td>2320.0</td><td>1966</td><td>650.0</td><td>39917.31</td><td>199.79</td></tr><tr><td>&quot;AFONSO CLAUDIO&quot;</td><td>616.66</td><td>3.046296e6</td><td>300.0</td><td>2504.0</td><td>4940</td><td>600.0</td><td>57421.15</td><td>239.63</td></tr><tr><td>&hellip;</td><td>&hellip;</td><td>&hellip;</td><td>&hellip;</td><td>&hellip;</td><td>&hellip;</td><td>&hellip;</td><td>&hellip;</td><td>&hellip;</td></tr><tr><td>&quot;SANTA MARIA DE JETIBA&quot;</td><td>682.53</td><td>2.672768e6</td><td>25.0</td><td>1928.0</td><td>3916</td><td>700.0</td><td>44942.04</td><td>212.0</td></tr><tr><td>&quot;VARGEM ALTA&quot;</td><td>670.23</td><td>1.42625e6</td><td>300.0</td><td>1978.0</td><td>2128</td><td>650.0</td><td>51710.47</td><td>227.4</td></tr><tr><td>&quot;JERONIMO MONTEIRO&quot;</td><td>664.24</td><td>1.474608e6</td><td>300.0</td><td>1786.0</td><td>2220</td><td>650.0</td><td>41522.61</td><td>203.77</td></tr><tr><td>&quot;CONCEICAO DA BARRA&quot;</td><td>667.21</td><td>5.751324e6</td><td>300.0</td><td>2262.0</td><td>8620</td><td>650.0</td><td>40148.93</td><td>200.37</td></tr><tr><td>&quot;VITORIA&quot;</td><td>658.37</td><td>2.6910182e7</td><td>300.0</td><td>3164.0</td><td>40874</td><td>650.0</td><td>42933.18</td><td>207.2</td></tr></tbody></table></div>"
            ]
          },
          "metadata": {}
        }
      ]
    },
    {
      "cell_type": "code",
      "source": [
        "# Extrair colunas para visualização\n",
        "# Collect the LazyFrame to a DataFrame before accessing columns\n",
        "df_es_collected = df_es.collect()\n",
        "\n",
        "# Now you can use get_column on the collected DataFrame\n",
        "valores = df_es_collected.get_column(\"VALOR PARCELA\").to_list()\n",
        "qtd_beneficiarios = df_es_collected.get_column(\"NOME MUNICÍPIO\").to_list()"
      ],
      "metadata": {
        "id": "LomcSjFSnjLG"
      },
      "execution_count": 6,
      "outputs": []
    },
    {
      "cell_type": "code",
      "source": [
        "# Criar gráfico\n",
        "plt.figure(figsize=(10, 6))\n",
        "plt.scatter(valores, qtd_beneficiarios, alpha=0.5)\n",
        "plt.title(\"Relação entre Valor da Parcela e Quantidade de Municípios (Espírito santo)\")\n",
        "plt.xlabel(\"Valor da Parcela (R$)\")\n",
        "plt.ylabel(\"Quantidade de Municípios\")\n",
        "plt.grid(True)\n",
        "plt.show()"
      ],
      "metadata": {
        "id": "FlquRYShs8o6"
      },
      "execution_count": null,
      "outputs": []
    },
    {
      "cell_type": "code",
      "source": [],
      "metadata": {
        "id": "XLnWzTUB2ZUt"
      },
      "execution_count": null,
      "outputs": []
    },
    {
      "cell_type": "code",
      "source": [
        "#Graficos de Correlação de Pearson\n",
        "\n",
        "sns.set(style=\"whitegrid\")\n",
        "plt.figure(figsize=(10, 6))\n",
        "\n",
        "# Usar .to_numpy() para evitar conversão para Pandas\n",
        "# Access columns using square brackets and then collect before converting to numpy\n",
        "sns.scatterplot(\n",
        "    # Use .select() to choose the column from the LazyFrame, then collect and convert to numpy\n",
        "    x=df_es.select(\"VALOR PARCELA\").collect().to_numpy().flatten(), # Flatten the array as select returns a 2D array\n",
        "    y=df_es.select(\"NOME MUNICÍPIO\").collect().to_numpy().flatten(), # Flatten the array\n",
        "    alpha=0.6\n",
        ")"
      ],
      "metadata": {
        "id": "48NuzTNQtCN4"
      },
      "execution_count": null,
      "outputs": []
    },
    {
      "cell_type": "code",
      "source": [
        "plt.title(\"Relação Valor da Parcela vs Qtd. Municípios\")\n",
        "plt.xlabel(\"Valor da Parcela (R$)\")\n",
        "plt.ylabel(\"Quantidade de Municípios\")\n",
        "plt.show()"
      ],
      "metadata": {
        "colab": {
          "base_uri": "https://localhost:8080/",
          "height": 216
        },
        "id": "Yc9-BAZomIpo",
        "outputId": "8ad1497d-c486-4753-8eae-b9ad90ce1ab3"
      },
      "execution_count": null,
      "outputs": [
        {
          "output_type": "error",
          "ename": "NameError",
          "evalue": "name 'sns' is not defined",
          "traceback": [
            "\u001b[0;31m---------------------------------------------------------------------------\u001b[0m",
            "\u001b[0;31mNameError\u001b[0m                                 Traceback (most recent call last)",
            "\u001b[0;32m<ipython-input-1-414f1f3216c0>\u001b[0m in \u001b[0;36m<cell line: 0>\u001b[0;34m()\u001b[0m\n\u001b[1;32m      2\u001b[0m \u001b[0;34m\u001b[0m\u001b[0m\n\u001b[1;32m      3\u001b[0m \u001b[0;31m# Preparar dados (usando o mesmo DataFrame criado acima)\u001b[0m\u001b[0;34m\u001b[0m\u001b[0;34m\u001b[0m\u001b[0m\n\u001b[0;32m----> 4\u001b[0;31m \u001b[0msns\u001b[0m\u001b[0;34m.\u001b[0m\u001b[0mset\u001b[0m\u001b[0;34m(\u001b[0m\u001b[0mstyle\u001b[0m\u001b[0;34m=\u001b[0m\u001b[0;34m\"whitegrid\"\u001b[0m\u001b[0;34m)\u001b[0m\u001b[0;34m\u001b[0m\u001b[0;34m\u001b[0m\u001b[0m\n\u001b[0m\u001b[1;32m      5\u001b[0m \u001b[0mplt\u001b[0m\u001b[0;34m.\u001b[0m\u001b[0mfigure\u001b[0m\u001b[0;34m(\u001b[0m\u001b[0mfigsize\u001b[0m\u001b[0;34m=\u001b[0m\u001b[0;34m(\u001b[0m\u001b[0;36m10\u001b[0m\u001b[0;34m,\u001b[0m \u001b[0;36m6\u001b[0m\u001b[0;34m)\u001b[0m\u001b[0;34m)\u001b[0m\u001b[0;34m\u001b[0m\u001b[0;34m\u001b[0m\u001b[0m\n\u001b[1;32m      6\u001b[0m \u001b[0;34m\u001b[0m\u001b[0m\n",
            "\u001b[0;31mNameError\u001b[0m: name 'sns' is not defined"
          ]
        }
      ]
    }
  ]
}