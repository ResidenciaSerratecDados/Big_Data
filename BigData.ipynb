{
  "nbformat": 4,
  "nbformat_minor": 0,
  "metadata": {
    "colab": {
      "provenance": []
    },
    "kernelspec": {
      "name": "python3",
      "display_name": "Python 3"
    },
    "language_info": {
      "name": "python"
    }
  },
  "cells": [
    {
      "cell_type": "code",
      "execution_count": null,
      "metadata": {
        "colab": {
          "base_uri": "https://localhost:8080/"
        },
        "id": "rnzUGm7MB6yV",
        "outputId": "ba4cace9-1e4b-4bac-d2b7-9628e4ad9eae"
      },
      "outputs": [
        {
          "output_type": "stream",
          "name": "stdout",
          "text": [
            "Tarefa 1 iniciando\n",
            "Tarefa 2 iniciando\n",
            "Tarefa 1 finalizando\n",
            "Tarefa 2 finalizando\n",
            "Processamento finalizado.\n"
          ]
        }
      ],
      "source": [
        "import threading\n",
        "import time\n",
        "\n",
        "def tarefa(nome):\n",
        "    print(f\"{nome} iniciando\")\n",
        "    time.sleep(2)\n",
        "    print(f\"{nome} finalizando\")\n",
        "\n",
        "#Threads para duas tarefas: multiprocessamento\n",
        "tarefa1=threading.Thread(target=tarefa,args=('Tarefa 1',))\n",
        "tarefa2=threading.Thread(target=tarefa,args=('Tarefa 2',))\n",
        "\n",
        "#Inicialização do thread:\n",
        "tarefa1.start()\n",
        "tarefa2.start()\n",
        "\n",
        "#Finalização do thread:\n",
        "tarefa1.join()\n",
        "tarefa2.join()\n",
        "\n",
        "print(\"Processamento finalizado.\")"
      ]
    },
    {
      "cell_type": "code",
      "source": [
        "#upload de arquivo csv ou excel\n",
        "\n",
        "import polars as pl\n",
        "import time\n",
        "\n",
        "arquivo1=pl.read_csv(\"/content/202501_NovoBolsaFamilia.csv\", separator=\";\", encoding=\"latin-1\")\n",
        "arquivo2=pl.read_csv(\"/content/202502_NovoBolsaFamilia.csv\", separator=\";\", encoding=\"latin-1\")\n",
        "\n",
        "inicio_tempo=time.time()\n",
        "df_polars=pl.concat([arquivo1,arquivo2])\n",
        "display(df_polars.head()) #imprimir os 5 primeiros\n",
        "\n",
        "print(\"Tempo de execução com Pandas\", time.time()-inicio_tempo, \"segundos\")"
      ],
      "metadata": {
        "id": "lVpuzsbTJJPb",
        "outputId": "ffe90b2a-0566-400c-caeb-fc8231794825",
        "colab": {
          "base_uri": "https://localhost:8080/",
          "height": 273
        }
      },
      "execution_count": 1,
      "outputs": [
        {
          "output_type": "display_data",
          "data": {
            "text/plain": [
              "shape: (5, 9)\n",
              "┌────────────┬────────────┬─────┬────────────┬───┬────────────┬────────────┬───────────┬───────────┐\n",
              "│ MÊS COMPET ┆ MÊS        ┆ UF  ┆ CÓDIGO     ┆ … ┆ CPF        ┆ NIS        ┆ NOME FAVO ┆ VALOR     │\n",
              "│ ÊNCIA      ┆ REFERÊNCIA ┆ --- ┆ MUNICÍPIO  ┆   ┆ FAVORECIDO ┆ FAVORECIDO ┆ RECIDO    ┆ PARCELA   │\n",
              "│ ---        ┆ ---        ┆ str ┆ SIAFI      ┆   ┆ ---        ┆ ---        ┆ ---       ┆ ---       │\n",
              "│ i64        ┆ i64        ┆     ┆ ---        ┆   ┆ str        ┆ i64        ┆ str       ┆ str       │\n",
              "│            ┆            ┆     ┆ i64        ┆   ┆            ┆            ┆           ┆           │\n",
              "╞════════════╪════════════╪═════╪════════════╪═══╪════════════╪════════════╪═══════════╪═══════════╡\n",
              "│ 202501     ┆ 202308     ┆ SP  ┆ 7071       ┆ … ┆ ***.085.10 ┆ 2064389044 ┆ FERNANDA  ┆ 650,00    │\n",
              "│            ┆            ┆     ┆            ┆   ┆ 6-**       ┆ 5          ┆ RAMOS     ┆           │\n",
              "│            ┆            ┆     ┆            ┆   ┆            ┆            ┆ TEIXEIRA  ┆           │\n",
              "│ 202501     ┆ 202309     ┆ SP  ┆ 7071       ┆ … ┆ ***.085.10 ┆ 2064389044 ┆ FERNANDA  ┆ 650,00    │\n",
              "│            ┆            ┆     ┆            ┆   ┆ 6-**       ┆ 5          ┆ RAMOS     ┆           │\n",
              "│            ┆            ┆     ┆            ┆   ┆            ┆            ┆ TEIXEIRA  ┆           │\n",
              "│ 202501     ┆ 202310     ┆ SP  ┆ 7071       ┆ … ┆ ***.085.10 ┆ 2064389044 ┆ FERNANDA  ┆ 650,00    │\n",
              "│            ┆            ┆     ┆            ┆   ┆ 6-**       ┆ 5          ┆ RAMOS     ┆           │\n",
              "│            ┆            ┆     ┆            ┆   ┆            ┆            ┆ TEIXEIRA  ┆           │\n",
              "│ 202501     ┆ 202311     ┆ SP  ┆ 7071       ┆ … ┆ ***.085.10 ┆ 2064389044 ┆ FERNANDA  ┆ 650,00    │\n",
              "│            ┆            ┆     ┆            ┆   ┆ 6-**       ┆ 5          ┆ RAMOS     ┆           │\n",
              "│            ┆            ┆     ┆            ┆   ┆            ┆            ┆ TEIXEIRA  ┆           │\n",
              "│ 202501     ┆ 202312     ┆ SP  ┆ 7071       ┆ … ┆ ***.085.10 ┆ 2064389044 ┆ FERNANDA  ┆ 650,00    │\n",
              "│            ┆            ┆     ┆            ┆   ┆ 6-**       ┆ 5          ┆ RAMOS     ┆           │\n",
              "│            ┆            ┆     ┆            ┆   ┆            ┆            ┆ TEIXEIRA  ┆           │\n",
              "└────────────┴────────────┴─────┴────────────┴───┴────────────┴────────────┴───────────┴───────────┘"
            ],
            "text/html": [
              "<div><style>\n",
              ".dataframe > thead > tr,\n",
              ".dataframe > tbody > tr {\n",
              "  text-align: right;\n",
              "  white-space: pre-wrap;\n",
              "}\n",
              "</style>\n",
              "<small>shape: (5, 9)</small><table border=\"1\" class=\"dataframe\"><thead><tr><th>MÊS COMPETÊNCIA</th><th>MÊS REFERÊNCIA</th><th>UF</th><th>CÓDIGO MUNICÍPIO SIAFI</th><th>NOME MUNICÍPIO</th><th>CPF FAVORECIDO</th><th>NIS FAVORECIDO</th><th>NOME FAVORECIDO</th><th>VALOR PARCELA</th></tr><tr><td>i64</td><td>i64</td><td>str</td><td>i64</td><td>str</td><td>str</td><td>i64</td><td>str</td><td>str</td></tr></thead><tbody><tr><td>202501</td><td>202308</td><td>&quot;SP&quot;</td><td>7071</td><td>&quot;SANTOS&quot;</td><td>&quot;***.085.106-**&quot;</td><td>20643890445</td><td>&quot;FERNANDA RAMOS TEIXEIRA&quot;</td><td>&quot;650,00&quot;</td></tr><tr><td>202501</td><td>202309</td><td>&quot;SP&quot;</td><td>7071</td><td>&quot;SANTOS&quot;</td><td>&quot;***.085.106-**&quot;</td><td>20643890445</td><td>&quot;FERNANDA RAMOS TEIXEIRA&quot;</td><td>&quot;650,00&quot;</td></tr><tr><td>202501</td><td>202310</td><td>&quot;SP&quot;</td><td>7071</td><td>&quot;SANTOS&quot;</td><td>&quot;***.085.106-**&quot;</td><td>20643890445</td><td>&quot;FERNANDA RAMOS TEIXEIRA&quot;</td><td>&quot;650,00&quot;</td></tr><tr><td>202501</td><td>202311</td><td>&quot;SP&quot;</td><td>7071</td><td>&quot;SANTOS&quot;</td><td>&quot;***.085.106-**&quot;</td><td>20643890445</td><td>&quot;FERNANDA RAMOS TEIXEIRA&quot;</td><td>&quot;650,00&quot;</td></tr><tr><td>202501</td><td>202312</td><td>&quot;SP&quot;</td><td>7071</td><td>&quot;SANTOS&quot;</td><td>&quot;***.085.106-**&quot;</td><td>20643890445</td><td>&quot;FERNANDA RAMOS TEIXEIRA&quot;</td><td>&quot;650,00&quot;</td></tr></tbody></table></div>"
            ]
          },
          "metadata": {}
        },
        {
          "output_type": "stream",
          "name": "stdout",
          "text": [
            "Tempo de execução com Pandas 0.11997866630554199 segundos\n"
          ]
        }
      ]
    },
    {
      "cell_type": "code",
      "source": [
        "#upload de arquivo csv ou excel\n",
        "\n",
        "import pandas as pd\n",
        "import time\n",
        "\n",
        "arquivo1=pd.read_csv(\"/content/202501_NovoBolsaFamilia.csv\", sep=\";\", encoding=\"latin-1\")\n",
        "arquivo2=pd.read_csv(\"/content/202502_NovoBolsaFamilia.csv\", sep=\";\", encoding=\"latin-1\")\n",
        "\n",
        "inicio_tempo=time.time()\n",
        "df_pandas=pd.concat([arquivo1,arquivo2])\n",
        "display(df_pandas.head()) #imprimir os 5 primeiros\n",
        "\n",
        "print(\"Tempo de execução com Pandas\", time.time()-inicio_tempo, \"segundos\")"
      ],
      "metadata": {
        "id": "bhFxMG6-AoWU"
      },
      "execution_count": null,
      "outputs": []
    },
    {
      "cell_type": "code",
      "source": [
        "import pandas as pd\n",
        "import polars as pl\n",
        "import time\n",
        "\n",
        "arquivo1=pl.read_csv(\"/content/202501_NovoBolsaFamilia.csv\", separator=\";\", encoding=\"latin-1\")\n",
        "\n",
        "inicio_tempo=time.time()\n",
        "df_polars1=pl.concat([arquivo1])\n",
        "\n",
        "parquet1=df_polars1.write_parquet(\"/content/202501_NovoBolsaFamilia.parquet\")\n",
        "print(\"Tempo de execução com Pandas\", time.time()-inicio_tempo, \"segundos\")\n",
        "print(parquet1)"
      ],
      "metadata": {
        "colab": {
          "base_uri": "https://localhost:8080/"
        },
        "id": "hfzBm59BpRFw",
        "outputId": "1df84c55-db5d-4dc0-c84d-6619e5325c0e"
      },
      "execution_count": 1,
      "outputs": [
        {
          "output_type": "stream",
          "name": "stdout",
          "text": [
            "Tempo de execução com Pandas 21.12946319580078 segundos\n",
            "None\n"
          ]
        }
      ]
    },
    {
      "cell_type": "code",
      "source": [
        "import pandas as pd\n",
        "import polars as pl\n",
        "import time\n",
        "\n",
        "arquivo2=pl.read_csv(\"/content/202502_NovoBolsaFamilia.csv\", separator=\";\", encoding=\"latin-1\")\n",
        "\n",
        "inicio_tempo=time.time()\n",
        "df_polars2=pl.concat([arquivo2])\n",
        "\n",
        "parquet2=df_polars2.write_parquet(\"/content/202502_NovoBolsaFamilia.parquet\")\n",
        "print(\"Tempo de execução com Pandas\", time.time()-inicio_tempo, \"segundos\")\n",
        "print(parquet2)"
      ],
      "metadata": {
        "colab": {
          "base_uri": "https://localhost:8080/"
        },
        "id": "6IkMRuts4wLY",
        "outputId": "09138b1f-d2b4-45d2-a5c3-39b328fe4713"
      },
      "execution_count": 1,
      "outputs": [
        {
          "output_type": "stream",
          "name": "stdout",
          "text": [
            "Tempo de execução com Pandas 24.797059535980225 segundos\n",
            "None\n"
          ]
        }
      ]
    },
    {
      "cell_type": "code",
      "source": [
        "import psutil\n",
        "\n",
        "processo=psutil.Process()\n",
        "print('Uso de CPU:', processo.cpu_percent(),'%')\n",
        "print('Uso de Memória:',processo.memory_info().rss/(1024**2),'MB')"
      ],
      "metadata": {
        "colab": {
          "base_uri": "https://localhost:8080/"
        },
        "id": "tJYo8EOb_A0E",
        "outputId": "5efa090c-949c-442c-9c51-f53c81bec11f"
      },
      "execution_count": 3,
      "outputs": [
        {
          "output_type": "stream",
          "name": "stdout",
          "text": [
            "Uso de CPU: 0.0 %\n",
            "Uso de Memória: 6138.8671875 MB\n"
          ]
        }
      ]
    }
  ]
}