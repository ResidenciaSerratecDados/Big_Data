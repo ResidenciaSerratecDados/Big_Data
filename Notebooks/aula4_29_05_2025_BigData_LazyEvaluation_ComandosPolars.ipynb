{
 "cells": [
  {
   "cell_type": "markdown",
   "metadata": {},
   "source": [
    "**LAZY EVALUATION:**\n",
    "\n",
    "Otimiza o processamento dos dados volumosos, adiando operações\n",
    "para etapas posteriores. Estratégia de processamento que adianta\n",
    "a execução até o momento estritamente necessário."
   ]
  },
  {
   "cell_type": "code",
   "execution_count": 7,
   "metadata": {},
   "outputs": [
    {
     "data": {
      "text/html": [
       "<div><style>\n",
       ".dataframe > thead > tr,\n",
       ".dataframe > tbody > tr {\n",
       "  text-align: right;\n",
       "  white-space: pre-wrap;\n",
       "}\n",
       "</style>\n",
       "<small>shape: (5, 9)</small><table border=\"1\" class=\"dataframe\"><thead><tr><th>MÊS COMPETÊNCIA</th><th>MÊS REFERÊNCIA</th><th>UF</th><th>CÓDIGO MUNICÍPIO SIAFI</th><th>NOME MUNICÍPIO</th><th>CPF FAVORECIDO</th><th>NIS FAVORECIDO</th><th>NOME FAVORECIDO</th><th>VALOR PARCELA</th></tr><tr><td>i64</td><td>i64</td><td>str</td><td>i64</td><td>str</td><td>str</td><td>i64</td><td>str</td><td>str</td></tr></thead><tbody><tr><td>202501</td><td>202308</td><td>&quot;SP&quot;</td><td>7071</td><td>&quot;SANTOS&quot;</td><td>&quot;***.085.106-**&quot;</td><td>20643890445</td><td>&quot;FERNANDA RAMOS TEIXEIRA&quot;</td><td>&quot;650,00&quot;</td></tr><tr><td>202501</td><td>202309</td><td>&quot;SP&quot;</td><td>7071</td><td>&quot;SANTOS&quot;</td><td>&quot;***.085.106-**&quot;</td><td>20643890445</td><td>&quot;FERNANDA RAMOS TEIXEIRA&quot;</td><td>&quot;650,00&quot;</td></tr><tr><td>202501</td><td>202310</td><td>&quot;SP&quot;</td><td>7071</td><td>&quot;SANTOS&quot;</td><td>&quot;***.085.106-**&quot;</td><td>20643890445</td><td>&quot;FERNANDA RAMOS TEIXEIRA&quot;</td><td>&quot;650,00&quot;</td></tr><tr><td>202501</td><td>202311</td><td>&quot;SP&quot;</td><td>7071</td><td>&quot;SANTOS&quot;</td><td>&quot;***.085.106-**&quot;</td><td>20643890445</td><td>&quot;FERNANDA RAMOS TEIXEIRA&quot;</td><td>&quot;650,00&quot;</td></tr><tr><td>202501</td><td>202312</td><td>&quot;SP&quot;</td><td>7071</td><td>&quot;SANTOS&quot;</td><td>&quot;***.085.106-**&quot;</td><td>20643890445</td><td>&quot;FERNANDA RAMOS TEIXEIRA&quot;</td><td>&quot;650,00&quot;</td></tr></tbody></table></div>"
      ],
      "text/plain": [
       "shape: (5, 9)\n",
       "┌────────────┬────────────┬─────┬────────────┬───┬────────────┬────────────┬───────────┬───────────┐\n",
       "│ MÊS COMPET ┆ MÊS        ┆ UF  ┆ CÓDIGO     ┆ … ┆ CPF        ┆ NIS        ┆ NOME FAVO ┆ VALOR     │\n",
       "│ ÊNCIA      ┆ REFERÊNCIA ┆ --- ┆ MUNICÍPIO  ┆   ┆ FAVORECIDO ┆ FAVORECIDO ┆ RECIDO    ┆ PARCELA   │\n",
       "│ ---        ┆ ---        ┆ str ┆ SIAFI      ┆   ┆ ---        ┆ ---        ┆ ---       ┆ ---       │\n",
       "│ i64        ┆ i64        ┆     ┆ ---        ┆   ┆ str        ┆ i64        ┆ str       ┆ str       │\n",
       "│            ┆            ┆     ┆ i64        ┆   ┆            ┆            ┆           ┆           │\n",
       "╞════════════╪════════════╪═════╪════════════╪═══╪════════════╪════════════╪═══════════╪═══════════╡\n",
       "│ 202501     ┆ 202308     ┆ SP  ┆ 7071       ┆ … ┆ ***.085.10 ┆ 2064389044 ┆ FERNANDA  ┆ 650,00    │\n",
       "│            ┆            ┆     ┆            ┆   ┆ 6-**       ┆ 5          ┆ RAMOS     ┆           │\n",
       "│            ┆            ┆     ┆            ┆   ┆            ┆            ┆ TEIXEIRA  ┆           │\n",
       "│ 202501     ┆ 202309     ┆ SP  ┆ 7071       ┆ … ┆ ***.085.10 ┆ 2064389044 ┆ FERNANDA  ┆ 650,00    │\n",
       "│            ┆            ┆     ┆            ┆   ┆ 6-**       ┆ 5          ┆ RAMOS     ┆           │\n",
       "│            ┆            ┆     ┆            ┆   ┆            ┆            ┆ TEIXEIRA  ┆           │\n",
       "│ 202501     ┆ 202310     ┆ SP  ┆ 7071       ┆ … ┆ ***.085.10 ┆ 2064389044 ┆ FERNANDA  ┆ 650,00    │\n",
       "│            ┆            ┆     ┆            ┆   ┆ 6-**       ┆ 5          ┆ RAMOS     ┆           │\n",
       "│            ┆            ┆     ┆            ┆   ┆            ┆            ┆ TEIXEIRA  ┆           │\n",
       "│ 202501     ┆ 202311     ┆ SP  ┆ 7071       ┆ … ┆ ***.085.10 ┆ 2064389044 ┆ FERNANDA  ┆ 650,00    │\n",
       "│            ┆            ┆     ┆            ┆   ┆ 6-**       ┆ 5          ┆ RAMOS     ┆           │\n",
       "│            ┆            ┆     ┆            ┆   ┆            ┆            ┆ TEIXEIRA  ┆           │\n",
       "│ 202501     ┆ 202312     ┆ SP  ┆ 7071       ┆ … ┆ ***.085.10 ┆ 2064389044 ┆ FERNANDA  ┆ 650,00    │\n",
       "│            ┆            ┆     ┆            ┆   ┆ 6-**       ┆ 5          ┆ RAMOS     ┆           │\n",
       "│            ┆            ┆     ┆            ┆   ┆            ┆            ┆ TEIXEIRA  ┆           │\n",
       "└────────────┴────────────┴─────┴────────────┴───┴────────────┴────────────┴───────────┴───────────┘"
      ]
     },
     "metadata": {},
     "output_type": "display_data"
    }
   ],
   "source": [
    "import polars as pl\n",
    "\n",
    "parquet1=pl.read_parquet('202501_NovoBolsaFamilia_polars.parquet')\n",
    "\n",
    "display(parquet1.head())\n",
    "#Carregando o arquivo .parquet através de Lazy Evaluation:\n",
    "df_lazy=pl.scan_parquet('202501_NovoBolsaFamilia_polars.parquet')"
   ]
  },
  {
   "cell_type": "code",
   "execution_count": 8,
   "metadata": {},
   "outputs": [],
   "source": [
    "# LAZY:\n",
    "df_lazy = pl.DataFrame(parquet1).lazy()  # Transforma em LazyFrame: um plano de execução adiado (não executa imediatamente).\n",
    "                                         # Usado para construir consultas complexas antes de materializá-las."
   ]
  },
  {
   "cell_type": "code",
   "execution_count": 9,
   "metadata": {},
   "outputs": [
    {
     "data": {
      "text/plain": [
       "'FILTER [(col(\"NOME MUNICÍPIO\")) == (\"RIO DE JANEIRO\")]\\nFROM\\n  DF [\"MÊS COMPETÊNCIA\", \"MÊS REFERÊNCIA\", \"UF\", \"CÓDIGO MUNICÍPIO SIAFI\", ...]; PROJECT */9 COLUMNS'"
      ]
     },
     "execution_count": 9,
     "metadata": {},
     "output_type": "execute_result"
    }
   ],
   "source": [
    "# EXPLAIN:\n",
    "df_lazy.filter(pl.col(\"NOME MUNICÍPIO\")==\"RIO DE JANEIRO\").explain() # Mostra o plano de execução otimizado da consulta (sem rodá-la).\n",
    "                                                                     # Útil para depuração e entendimento de como o Polars processará os dados."
   ]
  },
  {
   "cell_type": "code",
   "execution_count": 11,
   "metadata": {},
   "outputs": [
    {
     "data": {
      "text/html": [
       "<div><style>\n",
       ".dataframe > thead > tr,\n",
       ".dataframe > tbody > tr {\n",
       "  text-align: right;\n",
       "  white-space: pre-wrap;\n",
       "}\n",
       "</style>\n",
       "<small>shape: (989_437, 9)</small><table border=\"1\" class=\"dataframe\"><thead><tr><th>MÊS COMPETÊNCIA</th><th>MÊS REFERÊNCIA</th><th>UF</th><th>CÓDIGO MUNICÍPIO SIAFI</th><th>NOME MUNICÍPIO</th><th>CPF FAVORECIDO</th><th>NIS FAVORECIDO</th><th>NOME FAVORECIDO</th><th>VALOR PARCELA</th></tr><tr><td>i64</td><td>i64</td><td>str</td><td>i64</td><td>str</td><td>str</td><td>i64</td><td>str</td><td>str</td></tr></thead><tbody><tr><td>202501</td><td>202407</td><td>&quot;RJ&quot;</td><td>6001</td><td>&quot;RIO DE JANEIRO&quot;</td><td>&quot;***.876.487-**&quot;</td><td>12333384281</td><td>&quot;ADILSON FERREIRA MAGALHAES&quot;</td><td>&quot;600,00&quot;</td></tr><tr><td>202501</td><td>202407</td><td>&quot;RJ&quot;</td><td>6001</td><td>&quot;RIO DE JANEIRO&quot;</td><td>&quot;***.369.454-**&quot;</td><td>12811387449</td><td>&quot;ADRIANO PEREIRA DA SILVA&quot;</td><td>&quot;600,00&quot;</td></tr><tr><td>202501</td><td>202407</td><td>&quot;RJ&quot;</td><td>6001</td><td>&quot;RIO DE JANEIRO&quot;</td><td>&quot;***.157.816-**&quot;</td><td>12430302812</td><td>&quot;AGILSON GERALDO FERREIRA&quot;</td><td>&quot;700,00&quot;</td></tr><tr><td>202501</td><td>202407</td><td>&quot;RJ&quot;</td><td>6001</td><td>&quot;RIO DE JANEIRO&quot;</td><td>&quot;***.077.817-**&quot;</td><td>13094201120</td><td>&quot;ALESSANDRA FERREIRA DE JESUS&quot;</td><td>&quot;700,00&quot;</td></tr><tr><td>202501</td><td>202407</td><td>&quot;RJ&quot;</td><td>6001</td><td>&quot;RIO DE JANEIRO&quot;</td><td>&quot;***.728.677-**&quot;</td><td>12481440473</td><td>&quot;ALEXANDRE LUIS LEMOS VAZQUEZ&quot;</td><td>&quot;600,00&quot;</td></tr><tr><td>&hellip;</td><td>&hellip;</td><td>&hellip;</td><td>&hellip;</td><td>&hellip;</td><td>&hellip;</td><td>&hellip;</td><td>&hellip;</td><td>&hellip;</td></tr><tr><td>202502</td><td>202502</td><td>&quot;RJ&quot;</td><td>6001</td><td>&quot;RIO DE JANEIRO&quot;</td><td>&quot;***.675.377-**&quot;</td><td>16632293450</td><td>&quot;ZULNARA XAVIER&quot;</td><td>&quot;600,00&quot;</td></tr><tr><td>202502</td><td>202502</td><td>&quot;RJ&quot;</td><td>6001</td><td>&quot;RIO DE JANEIRO&quot;</td><td>&quot;***.890.187-**&quot;</td><td>12164939451</td><td>&quot;ZULZIMAR DOS SANTOS PIRES&quot;</td><td>&quot;600,00&quot;</td></tr><tr><td>202502</td><td>202502</td><td>&quot;RJ&quot;</td><td>6001</td><td>&quot;RIO DE JANEIRO&quot;</td><td>&quot;***.963.237-**&quot;</td><td>12288562597</td><td>&quot;ZUMILDO BATISTA DOS SANTOS&quot;</td><td>&quot;650,00&quot;</td></tr><tr><td>202502</td><td>202502</td><td>&quot;RJ&quot;</td><td>6001</td><td>&quot;RIO DE JANEIRO&quot;</td><td>&quot;&quot;</td><td>13699562815</td><td>&quot;ZUREMA PATRICIA DE SOUSA GASPA…</td><td>&quot;700,00&quot;</td></tr><tr><td>202502</td><td>202502</td><td>&quot;RJ&quot;</td><td>6001</td><td>&quot;RIO DE JANEIRO&quot;</td><td>&quot;***.441.847-**&quot;</td><td>20147890920</td><td>&quot;ZUZILENE SANTOS SILVA&quot;</td><td>&quot;700,00&quot;</td></tr></tbody></table></div>"
      ],
      "text/plain": [
       "shape: (989_437, 9)\n",
       "┌────────────┬────────────┬─────┬────────────┬───┬────────────┬────────────┬───────────┬───────────┐\n",
       "│ MÊS COMPET ┆ MÊS        ┆ UF  ┆ CÓDIGO     ┆ … ┆ CPF        ┆ NIS        ┆ NOME FAVO ┆ VALOR     │\n",
       "│ ÊNCIA      ┆ REFERÊNCIA ┆ --- ┆ MUNICÍPIO  ┆   ┆ FAVORECIDO ┆ FAVORECIDO ┆ RECIDO    ┆ PARCELA   │\n",
       "│ ---        ┆ ---        ┆ str ┆ SIAFI      ┆   ┆ ---        ┆ ---        ┆ ---       ┆ ---       │\n",
       "│ i64        ┆ i64        ┆     ┆ ---        ┆   ┆ str        ┆ i64        ┆ str       ┆ str       │\n",
       "│            ┆            ┆     ┆ i64        ┆   ┆            ┆            ┆           ┆           │\n",
       "╞════════════╪════════════╪═════╪════════════╪═══╪════════════╪════════════╪═══════════╪═══════════╡\n",
       "│ 202501     ┆ 202407     ┆ RJ  ┆ 6001       ┆ … ┆ ***.876.48 ┆ 1233338428 ┆ ADILSON   ┆ 600,00    │\n",
       "│            ┆            ┆     ┆            ┆   ┆ 7-**       ┆ 1          ┆ FERREIRA  ┆           │\n",
       "│            ┆            ┆     ┆            ┆   ┆            ┆            ┆ MAGALHAES ┆           │\n",
       "│ 202501     ┆ 202407     ┆ RJ  ┆ 6001       ┆ … ┆ ***.369.45 ┆ 1281138744 ┆ ADRIANO   ┆ 600,00    │\n",
       "│            ┆            ┆     ┆            ┆   ┆ 4-**       ┆ 9          ┆ PEREIRA   ┆           │\n",
       "│            ┆            ┆     ┆            ┆   ┆            ┆            ┆ DA SILVA  ┆           │\n",
       "│ 202501     ┆ 202407     ┆ RJ  ┆ 6001       ┆ … ┆ ***.157.81 ┆ 1243030281 ┆ AGILSON   ┆ 700,00    │\n",
       "│            ┆            ┆     ┆            ┆   ┆ 6-**       ┆ 2          ┆ GERALDO   ┆           │\n",
       "│            ┆            ┆     ┆            ┆   ┆            ┆            ┆ FERREIRA  ┆           │\n",
       "│ 202501     ┆ 202407     ┆ RJ  ┆ 6001       ┆ … ┆ ***.077.81 ┆ 1309420112 ┆ ALESSANDR ┆ 700,00    │\n",
       "│            ┆            ┆     ┆            ┆   ┆ 7-**       ┆ 0          ┆ A         ┆           │\n",
       "│            ┆            ┆     ┆            ┆   ┆            ┆            ┆ FERREIRA  ┆           │\n",
       "│            ┆            ┆     ┆            ┆   ┆            ┆            ┆ DE JESUS  ┆           │\n",
       "│ 202501     ┆ 202407     ┆ RJ  ┆ 6001       ┆ … ┆ ***.728.67 ┆ 1248144047 ┆ ALEXANDRE ┆ 600,00    │\n",
       "│            ┆            ┆     ┆            ┆   ┆ 7-**       ┆ 3          ┆ LUIS      ┆           │\n",
       "│            ┆            ┆     ┆            ┆   ┆            ┆            ┆ LEMOS     ┆           │\n",
       "│            ┆            ┆     ┆            ┆   ┆            ┆            ┆ VAZQUEZ   ┆           │\n",
       "│ …          ┆ …          ┆ …   ┆ …          ┆ … ┆ …          ┆ …          ┆ …         ┆ …         │\n",
       "│ 202502     ┆ 202502     ┆ RJ  ┆ 6001       ┆ … ┆ ***.675.37 ┆ 1663229345 ┆ ZULNARA   ┆ 600,00    │\n",
       "│            ┆            ┆     ┆            ┆   ┆ 7-**       ┆ 0          ┆ XAVIER    ┆           │\n",
       "│ 202502     ┆ 202502     ┆ RJ  ┆ 6001       ┆ … ┆ ***.890.18 ┆ 1216493945 ┆ ZULZIMAR  ┆ 600,00    │\n",
       "│            ┆            ┆     ┆            ┆   ┆ 7-**       ┆ 1          ┆ DOS       ┆           │\n",
       "│            ┆            ┆     ┆            ┆   ┆            ┆            ┆ SANTOS    ┆           │\n",
       "│            ┆            ┆     ┆            ┆   ┆            ┆            ┆ PIRES     ┆           │\n",
       "│ 202502     ┆ 202502     ┆ RJ  ┆ 6001       ┆ … ┆ ***.963.23 ┆ 1228856259 ┆ ZUMILDO   ┆ 650,00    │\n",
       "│            ┆            ┆     ┆            ┆   ┆ 7-**       ┆ 7          ┆ BATISTA   ┆           │\n",
       "│            ┆            ┆     ┆            ┆   ┆            ┆            ┆ DOS       ┆           │\n",
       "│            ┆            ┆     ┆            ┆   ┆            ┆            ┆ SANTOS    ┆           │\n",
       "│ 202502     ┆ 202502     ┆ RJ  ┆ 6001       ┆ … ┆            ┆ 1369956281 ┆ ZUREMA    ┆ 700,00    │\n",
       "│            ┆            ┆     ┆            ┆   ┆            ┆ 5          ┆ PATRICIA  ┆           │\n",
       "│            ┆            ┆     ┆            ┆   ┆            ┆            ┆ DE SOUSA  ┆           │\n",
       "│            ┆            ┆     ┆            ┆   ┆            ┆            ┆ GASPA…    ┆           │\n",
       "│ 202502     ┆ 202502     ┆ RJ  ┆ 6001       ┆ … ┆ ***.441.84 ┆ 2014789092 ┆ ZUZILENE  ┆ 700,00    │\n",
       "│            ┆            ┆     ┆            ┆   ┆ 7-**       ┆ 0          ┆ SANTOS    ┆           │\n",
       "│            ┆            ┆     ┆            ┆   ┆            ┆            ┆ SILVA     ┆           │\n",
       "└────────────┴────────────┴─────┴────────────┴───┴────────────┴────────────┴───────────┴───────────┘"
      ]
     },
     "metadata": {},
     "output_type": "display_data"
    }
   ],
   "source": [
    "# COLLECT:\n",
    "resultado=(df_lazy.filter(pl.col(\"NOME MUNICÍPIO\")==\"RIO DE JANEIRO\").collect()) # Força a execução do LazyFrame e retorna um DataFrame tradicional.\n",
    "                                                                                 # Todas as otimizações são aplicadas neste momento.\n",
    "display(resultado)"
   ]
  },
  {
   "cell_type": "markdown",
   "metadata": {},
   "source": [
    "**Comparando Comandos para Análise Exploratória: Pandas vs Polars**"
   ]
  },
  {
   "cell_type": "code",
   "execution_count": 2,
   "metadata": {},
   "outputs": [],
   "source": [
    "import pandas as pd\n",
    "import polars as pl"
   ]
  },
  {
   "cell_type": "code",
   "execution_count": 4,
   "metadata": {},
   "outputs": [],
   "source": [
    "#Carregamento dos dados:\n",
    "\n",
    "df_polars=pl.scan_parquet('202501_NovoBolsaFamilia_polars.parquet')\n",
    "\n",
    "df_polars=pl.read_parquet('202501_NovoBolsaFamilia_polars.parquet')"
   ]
  },
  {
   "cell_type": "code",
   "execution_count": 5,
   "metadata": {},
   "outputs": [
    {
     "name": "stdout",
     "output_type": "stream",
     "text": [
      "*********************************\n"
     ]
    },
    {
     "data": {
      "text/html": [
       "<div><style>\n",
       ".dataframe > thead > tr,\n",
       ".dataframe > tbody > tr {\n",
       "  text-align: right;\n",
       "  white-space: pre-wrap;\n",
       "}\n",
       "</style>\n",
       "<small>shape: (5, 9)</small><table border=\"1\" class=\"dataframe\"><thead><tr><th>MÊS COMPETÊNCIA</th><th>MÊS REFERÊNCIA</th><th>UF</th><th>CÓDIGO MUNICÍPIO SIAFI</th><th>NOME MUNICÍPIO</th><th>CPF FAVORECIDO</th><th>NIS FAVORECIDO</th><th>NOME FAVORECIDO</th><th>VALOR PARCELA</th></tr><tr><td>i64</td><td>i64</td><td>str</td><td>i64</td><td>str</td><td>str</td><td>i64</td><td>str</td><td>str</td></tr></thead><tbody><tr><td>202501</td><td>202308</td><td>&quot;SP&quot;</td><td>7071</td><td>&quot;SANTOS&quot;</td><td>&quot;***.085.106-**&quot;</td><td>20643890445</td><td>&quot;FERNANDA RAMOS TEIXEIRA&quot;</td><td>&quot;650,00&quot;</td></tr><tr><td>202501</td><td>202309</td><td>&quot;SP&quot;</td><td>7071</td><td>&quot;SANTOS&quot;</td><td>&quot;***.085.106-**&quot;</td><td>20643890445</td><td>&quot;FERNANDA RAMOS TEIXEIRA&quot;</td><td>&quot;650,00&quot;</td></tr><tr><td>202501</td><td>202310</td><td>&quot;SP&quot;</td><td>7071</td><td>&quot;SANTOS&quot;</td><td>&quot;***.085.106-**&quot;</td><td>20643890445</td><td>&quot;FERNANDA RAMOS TEIXEIRA&quot;</td><td>&quot;650,00&quot;</td></tr><tr><td>202501</td><td>202311</td><td>&quot;SP&quot;</td><td>7071</td><td>&quot;SANTOS&quot;</td><td>&quot;***.085.106-**&quot;</td><td>20643890445</td><td>&quot;FERNANDA RAMOS TEIXEIRA&quot;</td><td>&quot;650,00&quot;</td></tr><tr><td>202501</td><td>202312</td><td>&quot;SP&quot;</td><td>7071</td><td>&quot;SANTOS&quot;</td><td>&quot;***.085.106-**&quot;</td><td>20643890445</td><td>&quot;FERNANDA RAMOS TEIXEIRA&quot;</td><td>&quot;650,00&quot;</td></tr></tbody></table></div>"
      ],
      "text/plain": [
       "shape: (5, 9)\n",
       "┌────────────┬────────────┬─────┬────────────┬───┬────────────┬────────────┬───────────┬───────────┐\n",
       "│ MÊS COMPET ┆ MÊS        ┆ UF  ┆ CÓDIGO     ┆ … ┆ CPF        ┆ NIS        ┆ NOME FAVO ┆ VALOR     │\n",
       "│ ÊNCIA      ┆ REFERÊNCIA ┆ --- ┆ MUNICÍPIO  ┆   ┆ FAVORECIDO ┆ FAVORECIDO ┆ RECIDO    ┆ PARCELA   │\n",
       "│ ---        ┆ ---        ┆ str ┆ SIAFI      ┆   ┆ ---        ┆ ---        ┆ ---       ┆ ---       │\n",
       "│ i64        ┆ i64        ┆     ┆ ---        ┆   ┆ str        ┆ i64        ┆ str       ┆ str       │\n",
       "│            ┆            ┆     ┆ i64        ┆   ┆            ┆            ┆           ┆           │\n",
       "╞════════════╪════════════╪═════╪════════════╪═══╪════════════╪════════════╪═══════════╪═══════════╡\n",
       "│ 202501     ┆ 202308     ┆ SP  ┆ 7071       ┆ … ┆ ***.085.10 ┆ 2064389044 ┆ FERNANDA  ┆ 650,00    │\n",
       "│            ┆            ┆     ┆            ┆   ┆ 6-**       ┆ 5          ┆ RAMOS     ┆           │\n",
       "│            ┆            ┆     ┆            ┆   ┆            ┆            ┆ TEIXEIRA  ┆           │\n",
       "│ 202501     ┆ 202309     ┆ SP  ┆ 7071       ┆ … ┆ ***.085.10 ┆ 2064389044 ┆ FERNANDA  ┆ 650,00    │\n",
       "│            ┆            ┆     ┆            ┆   ┆ 6-**       ┆ 5          ┆ RAMOS     ┆           │\n",
       "│            ┆            ┆     ┆            ┆   ┆            ┆            ┆ TEIXEIRA  ┆           │\n",
       "│ 202501     ┆ 202310     ┆ SP  ┆ 7071       ┆ … ┆ ***.085.10 ┆ 2064389044 ┆ FERNANDA  ┆ 650,00    │\n",
       "│            ┆            ┆     ┆            ┆   ┆ 6-**       ┆ 5          ┆ RAMOS     ┆           │\n",
       "│            ┆            ┆     ┆            ┆   ┆            ┆            ┆ TEIXEIRA  ┆           │\n",
       "│ 202501     ┆ 202311     ┆ SP  ┆ 7071       ┆ … ┆ ***.085.10 ┆ 2064389044 ┆ FERNANDA  ┆ 650,00    │\n",
       "│            ┆            ┆     ┆            ┆   ┆ 6-**       ┆ 5          ┆ RAMOS     ┆           │\n",
       "│            ┆            ┆     ┆            ┆   ┆            ┆            ┆ TEIXEIRA  ┆           │\n",
       "│ 202501     ┆ 202312     ┆ SP  ┆ 7071       ┆ … ┆ ***.085.10 ┆ 2064389044 ┆ FERNANDA  ┆ 650,00    │\n",
       "│            ┆            ┆     ┆            ┆   ┆ 6-**       ┆ 5          ┆ RAMOS     ┆           │\n",
       "│            ┆            ┆     ┆            ┆   ┆            ┆            ┆ TEIXEIRA  ┆           │\n",
       "└────────────┴────────────┴─────┴────────────┴───┴────────────┴────────────┴───────────┴───────────┘"
      ]
     },
     "metadata": {},
     "output_type": "display_data"
    }
   ],
   "source": [
    "# #Visualização:\n",
    "\n",
    "# display(df_pandas.head())\n",
    "\n",
    "print('*********************************')\n",
    "\n",
    "display(df_polars.head())"
   ]
  },
  {
   "cell_type": "code",
   "execution_count": 6,
   "metadata": {},
   "outputs": [
    {
     "data": {
      "text/html": [
       "<div><style>\n",
       ".dataframe > thead > tr,\n",
       ".dataframe > tbody > tr {\n",
       "  text-align: right;\n",
       "  white-space: pre-wrap;\n",
       "}\n",
       "</style>\n",
       "<small>shape: (40_810_993, 1)</small><table border=\"1\" class=\"dataframe\"><thead><tr><th>CÓDIGO MUNICÍPIO SIAFI</th></tr><tr><td>i64</td></tr></thead><tbody><tr><td>7071</td></tr><tr><td>7071</td></tr><tr><td>7071</td></tr><tr><td>7071</td></tr><tr><td>7071</td></tr><tr><td>&hellip;</td></tr><tr><td>9643</td></tr><tr><td>9643</td></tr><tr><td>9643</td></tr><tr><td>9643</td></tr><tr><td>9643</td></tr></tbody></table></div>"
      ],
      "text/plain": [
       "shape: (40_810_993, 1)\n",
       "┌────────────────────────┐\n",
       "│ CÓDIGO MUNICÍPIO SIAFI │\n",
       "│ ---                    │\n",
       "│ i64                    │\n",
       "╞════════════════════════╡\n",
       "│ 7071                   │\n",
       "│ 7071                   │\n",
       "│ 7071                   │\n",
       "│ 7071                   │\n",
       "│ 7071                   │\n",
       "│ …                      │\n",
       "│ 9643                   │\n",
       "│ 9643                   │\n",
       "│ 9643                   │\n",
       "│ 9643                   │\n",
       "│ 9643                   │\n",
       "└────────────────────────┘"
      ]
     },
     "metadata": {},
     "output_type": "display_data"
    }
   ],
   "source": [
    "# #Seleção de Colunas:\n",
    "\n",
    "# display(df_pandas[\"CÓDIGO MUNICÍPIO SIAFI\"])\n",
    "\n",
    "# print('*********************************')\n",
    "\n",
    "display(df_polars.select(\"CÓDIGO MUNICÍPIO SIAFI\"))"
   ]
  },
  {
   "cell_type": "code",
   "execution_count": 7,
   "metadata": {},
   "outputs": [
    {
     "data": {
      "text/html": [
       "<div><style>\n",
       ".dataframe > thead > tr,\n",
       ".dataframe > tbody > tr {\n",
       "  text-align: right;\n",
       "  white-space: pre-wrap;\n",
       "}\n",
       "</style>\n",
       "<small>shape: (20_432_078, 9)</small><table border=\"1\" class=\"dataframe\"><thead><tr><th>MÊS COMPETÊNCIA</th><th>MÊS REFERÊNCIA</th><th>UF</th><th>CÓDIGO MUNICÍPIO SIAFI</th><th>NOME MUNICÍPIO</th><th>CPF FAVORECIDO</th><th>NIS FAVORECIDO</th><th>NOME FAVORECIDO</th><th>VALOR PARCELA</th></tr><tr><td>i64</td><td>i64</td><td>str</td><td>i64</td><td>str</td><td>str</td><td>i64</td><td>str</td><td>str</td></tr></thead><tbody><tr><td>202501</td><td>202308</td><td>&quot;SP&quot;</td><td>7071</td><td>&quot;SANTOS&quot;</td><td>&quot;***.085.106-**&quot;</td><td>20643890445</td><td>&quot;FERNANDA RAMOS TEIXEIRA&quot;</td><td>&quot;650,00&quot;</td></tr><tr><td>202501</td><td>202309</td><td>&quot;SP&quot;</td><td>7071</td><td>&quot;SANTOS&quot;</td><td>&quot;***.085.106-**&quot;</td><td>20643890445</td><td>&quot;FERNANDA RAMOS TEIXEIRA&quot;</td><td>&quot;650,00&quot;</td></tr><tr><td>202501</td><td>202310</td><td>&quot;SP&quot;</td><td>7071</td><td>&quot;SANTOS&quot;</td><td>&quot;***.085.106-**&quot;</td><td>20643890445</td><td>&quot;FERNANDA RAMOS TEIXEIRA&quot;</td><td>&quot;650,00&quot;</td></tr><tr><td>202501</td><td>202311</td><td>&quot;SP&quot;</td><td>7071</td><td>&quot;SANTOS&quot;</td><td>&quot;***.085.106-**&quot;</td><td>20643890445</td><td>&quot;FERNANDA RAMOS TEIXEIRA&quot;</td><td>&quot;650,00&quot;</td></tr><tr><td>202501</td><td>202312</td><td>&quot;SP&quot;</td><td>7071</td><td>&quot;SANTOS&quot;</td><td>&quot;***.085.106-**&quot;</td><td>20643890445</td><td>&quot;FERNANDA RAMOS TEIXEIRA&quot;</td><td>&quot;650,00&quot;</td></tr><tr><td>&hellip;</td><td>&hellip;</td><td>&hellip;</td><td>&hellip;</td><td>&hellip;</td><td>&hellip;</td><td>&hellip;</td><td>&hellip;</td><td>&hellip;</td></tr><tr><td>202501</td><td>202501</td><td>&quot;TO&quot;</td><td>9643</td><td>&quot;XAMBIOA&quot;</td><td>&quot;&quot;</td><td>16640890691</td><td>&quot;ZEIA DE SOUZA LUCIO&quot;</td><td>&quot;750,00&quot;</td></tr><tr><td>202501</td><td>202501</td><td>&quot;TO&quot;</td><td>9643</td><td>&quot;XAMBIOA&quot;</td><td>&quot;***.273.191-**&quot;</td><td>20644881997</td><td>&quot;ZENILDE ALVES DOS SANTOS&quot;</td><td>&quot;600,00&quot;</td></tr><tr><td>202501</td><td>202501</td><td>&quot;TO&quot;</td><td>9643</td><td>&quot;XAMBIOA&quot;</td><td>&quot;&quot;</td><td>19058661973</td><td>&quot;ZENOLIA RAMOS DA SILVA CARVALH…</td><td>&quot;600,00&quot;</td></tr><tr><td>202501</td><td>202501</td><td>&quot;TO&quot;</td><td>9643</td><td>&quot;XAMBIOA&quot;</td><td>&quot;***.822.651-**&quot;</td><td>20919263822</td><td>&quot;ZILMA ALVES DE BARROS&quot;</td><td>&quot;600,00&quot;</td></tr><tr><td>202501</td><td>202501</td><td>&quot;TO&quot;</td><td>9643</td><td>&quot;XAMBIOA&quot;</td><td>&quot;&quot;</td><td>20501199947</td><td>&quot;ZULEIDE DA SILVA E SILVA&quot;</td><td>&quot;650,00&quot;</td></tr></tbody></table></div>"
      ],
      "text/plain": [
       "shape: (20_432_078, 9)\n",
       "┌────────────┬────────────┬─────┬────────────┬───┬────────────┬────────────┬───────────┬───────────┐\n",
       "│ MÊS COMPET ┆ MÊS        ┆ UF  ┆ CÓDIGO     ┆ … ┆ CPF        ┆ NIS        ┆ NOME FAVO ┆ VALOR     │\n",
       "│ ÊNCIA      ┆ REFERÊNCIA ┆ --- ┆ MUNICÍPIO  ┆   ┆ FAVORECIDO ┆ FAVORECIDO ┆ RECIDO    ┆ PARCELA   │\n",
       "│ ---        ┆ ---        ┆ str ┆ SIAFI      ┆   ┆ ---        ┆ ---        ┆ ---       ┆ ---       │\n",
       "│ i64        ┆ i64        ┆     ┆ ---        ┆   ┆ str        ┆ i64        ┆ str       ┆ str       │\n",
       "│            ┆            ┆     ┆ i64        ┆   ┆            ┆            ┆           ┆           │\n",
       "╞════════════╪════════════╪═════╪════════════╪═══╪════════════╪════════════╪═══════════╪═══════════╡\n",
       "│ 202501     ┆ 202308     ┆ SP  ┆ 7071       ┆ … ┆ ***.085.10 ┆ 2064389044 ┆ FERNANDA  ┆ 650,00    │\n",
       "│            ┆            ┆     ┆            ┆   ┆ 6-**       ┆ 5          ┆ RAMOS     ┆           │\n",
       "│            ┆            ┆     ┆            ┆   ┆            ┆            ┆ TEIXEIRA  ┆           │\n",
       "│ 202501     ┆ 202309     ┆ SP  ┆ 7071       ┆ … ┆ ***.085.10 ┆ 2064389044 ┆ FERNANDA  ┆ 650,00    │\n",
       "│            ┆            ┆     ┆            ┆   ┆ 6-**       ┆ 5          ┆ RAMOS     ┆           │\n",
       "│            ┆            ┆     ┆            ┆   ┆            ┆            ┆ TEIXEIRA  ┆           │\n",
       "│ 202501     ┆ 202310     ┆ SP  ┆ 7071       ┆ … ┆ ***.085.10 ┆ 2064389044 ┆ FERNANDA  ┆ 650,00    │\n",
       "│            ┆            ┆     ┆            ┆   ┆ 6-**       ┆ 5          ┆ RAMOS     ┆           │\n",
       "│            ┆            ┆     ┆            ┆   ┆            ┆            ┆ TEIXEIRA  ┆           │\n",
       "│ 202501     ┆ 202311     ┆ SP  ┆ 7071       ┆ … ┆ ***.085.10 ┆ 2064389044 ┆ FERNANDA  ┆ 650,00    │\n",
       "│            ┆            ┆     ┆            ┆   ┆ 6-**       ┆ 5          ┆ RAMOS     ┆           │\n",
       "│            ┆            ┆     ┆            ┆   ┆            ┆            ┆ TEIXEIRA  ┆           │\n",
       "│ 202501     ┆ 202312     ┆ SP  ┆ 7071       ┆ … ┆ ***.085.10 ┆ 2064389044 ┆ FERNANDA  ┆ 650,00    │\n",
       "│            ┆            ┆     ┆            ┆   ┆ 6-**       ┆ 5          ┆ RAMOS     ┆           │\n",
       "│            ┆            ┆     ┆            ┆   ┆            ┆            ┆ TEIXEIRA  ┆           │\n",
       "│ …          ┆ …          ┆ …   ┆ …          ┆ … ┆ …          ┆ …          ┆ …         ┆ …         │\n",
       "│ 202501     ┆ 202501     ┆ TO  ┆ 9643       ┆ … ┆            ┆ 1664089069 ┆ ZEIA DE   ┆ 750,00    │\n",
       "│            ┆            ┆     ┆            ┆   ┆            ┆ 1          ┆ SOUZA     ┆           │\n",
       "│            ┆            ┆     ┆            ┆   ┆            ┆            ┆ LUCIO     ┆           │\n",
       "│ 202501     ┆ 202501     ┆ TO  ┆ 9643       ┆ … ┆ ***.273.19 ┆ 2064488199 ┆ ZENILDE   ┆ 600,00    │\n",
       "│            ┆            ┆     ┆            ┆   ┆ 1-**       ┆ 7          ┆ ALVES DOS ┆           │\n",
       "│            ┆            ┆     ┆            ┆   ┆            ┆            ┆ SANTOS    ┆           │\n",
       "│ 202501     ┆ 202501     ┆ TO  ┆ 9643       ┆ … ┆            ┆ 1905866197 ┆ ZENOLIA   ┆ 600,00    │\n",
       "│            ┆            ┆     ┆            ┆   ┆            ┆ 3          ┆ RAMOS DA  ┆           │\n",
       "│            ┆            ┆     ┆            ┆   ┆            ┆            ┆ SILVA     ┆           │\n",
       "│            ┆            ┆     ┆            ┆   ┆            ┆            ┆ CARVALH…  ┆           │\n",
       "│ 202501     ┆ 202501     ┆ TO  ┆ 9643       ┆ … ┆ ***.822.65 ┆ 2091926382 ┆ ZILMA     ┆ 600,00    │\n",
       "│            ┆            ┆     ┆            ┆   ┆ 1-**       ┆ 2          ┆ ALVES DE  ┆           │\n",
       "│            ┆            ┆     ┆            ┆   ┆            ┆            ┆ BARROS    ┆           │\n",
       "│ 202501     ┆ 202501     ┆ TO  ┆ 9643       ┆ … ┆            ┆ 2050119994 ┆ ZULEIDE   ┆ 650,00    │\n",
       "│            ┆            ┆     ┆            ┆   ┆            ┆ 7          ┆ DA SILVA  ┆           │\n",
       "│            ┆            ┆     ┆            ┆   ┆            ┆            ┆ E SILVA   ┆           │\n",
       "└────────────┴────────────┴─────┴────────────┴───┴────────────┴────────────┴───────────┴───────────┘"
      ]
     },
     "metadata": {},
     "output_type": "display_data"
    }
   ],
   "source": [
    "# #Filtros e Condições:\n",
    "\n",
    "# display(df_pandas[df_pandas[\"MÊS COMPETÊNCIA\"]==202401])\n",
    "\n",
    "# print('*********************************')\n",
    "\n",
    "display(df_polars.filter(pl.col(\"MÊS COMPETÊNCIA\")==202501))"
   ]
  },
  {
   "cell_type": "code",
   "execution_count": 8,
   "metadata": {},
   "outputs": [
    {
     "data": {
      "text/html": [
       "<div><style>\n",
       ".dataframe > thead > tr,\n",
       ".dataframe > tbody > tr {\n",
       "  text-align: right;\n",
       "  white-space: pre-wrap;\n",
       "}\n",
       "</style>\n",
       "<small>shape: (9, 2)</small><table border=\"1\" class=\"dataframe\"><thead><tr><th>statistic</th><th>UF</th></tr><tr><td>str</td><td>str</td></tr></thead><tbody><tr><td>&quot;count&quot;</td><td>&quot;40810993&quot;</td></tr><tr><td>&quot;null_count&quot;</td><td>&quot;0&quot;</td></tr><tr><td>&quot;mean&quot;</td><td>null</td></tr><tr><td>&quot;std&quot;</td><td>null</td></tr><tr><td>&quot;min&quot;</td><td>&quot;AC&quot;</td></tr><tr><td>&quot;25%&quot;</td><td>null</td></tr><tr><td>&quot;50%&quot;</td><td>null</td></tr><tr><td>&quot;75%&quot;</td><td>null</td></tr><tr><td>&quot;max&quot;</td><td>&quot;TO&quot;</td></tr></tbody></table></div>"
      ],
      "text/plain": [
       "shape: (9, 2)\n",
       "┌────────────┬──────────┐\n",
       "│ statistic  ┆ UF       │\n",
       "│ ---        ┆ ---      │\n",
       "│ str        ┆ str      │\n",
       "╞════════════╪══════════╡\n",
       "│ count      ┆ 40810993 │\n",
       "│ null_count ┆ 0        │\n",
       "│ mean       ┆ null     │\n",
       "│ std        ┆ null     │\n",
       "│ min        ┆ AC       │\n",
       "│ 25%        ┆ null     │\n",
       "│ 50%        ┆ null     │\n",
       "│ 75%        ┆ null     │\n",
       "│ max        ┆ TO       │\n",
       "└────────────┴──────────┘"
      ]
     },
     "metadata": {},
     "output_type": "display_data"
    }
   ],
   "source": [
    "# #Estatísticas Descritivas:\n",
    "\n",
    "# display(df_pandas[\"UF\"].describe())\n",
    "\n",
    "# print('*********************************')\n",
    "\n",
    "display(df_polars.select(pl.col(\"UF\")).describe())"
   ]
  },
  {
   "cell_type": "code",
   "execution_count": 9,
   "metadata": {},
   "outputs": [
    {
     "data": {
      "text/html": [
       "<div><style>\n",
       ".dataframe > thead > tr,\n",
       ".dataframe > tbody > tr {\n",
       "  text-align: right;\n",
       "  white-space: pre-wrap;\n",
       "}\n",
       "</style>\n",
       "<small>shape: (40_810_993, 9)</small><table border=\"1\" class=\"dataframe\"><thead><tr><th>MÊS COMPETÊNCIA</th><th>MÊS REFERÊNCIA</th><th>UF</th><th>CÓDIGO MUNICÍPIO SIAFI</th><th>NOME MUNICÍPIO</th><th>CPF FAVORECIDO</th><th>NIS FAVORECIDO</th><th>NOME FAVORECIDO</th><th>VALOR PARCELA</th></tr><tr><td>i64</td><td>i64</td><td>str</td><td>i64</td><td>str</td><td>str</td><td>i64</td><td>str</td><td>str</td></tr></thead><tbody><tr><td>202501</td><td>202409</td><td>&quot;GO&quot;</td><td>1050</td><td>&quot;ABADIA DE GOIAS&quot;</td><td>&quot;***.747.191-**&quot;</td><td>13492486311</td><td>&quot;LORRANE DE JESUS MARTINS&quot;</td><td>&quot;1102,00&quot;</td></tr><tr><td>202501</td><td>202410</td><td>&quot;GO&quot;</td><td>1050</td><td>&quot;ABADIA DE GOIAS&quot;</td><td>&quot;***.747.191-**&quot;</td><td>13492486311</td><td>&quot;LORRANE DE JESUS MARTINS&quot;</td><td>&quot;1102,00&quot;</td></tr><tr><td>202501</td><td>202410</td><td>&quot;GO&quot;</td><td>1050</td><td>&quot;ABADIA DE GOIAS&quot;</td><td>&quot;***.796.923-**&quot;</td><td>16403332083</td><td>&quot;MARIA ANTONIA DUTRA DA SILVA&quot;</td><td>&quot;700,00&quot;</td></tr><tr><td>202501</td><td>202411</td><td>&quot;GO&quot;</td><td>1050</td><td>&quot;ABADIA DE GOIAS&quot;</td><td>&quot;***.901.053-**&quot;</td><td>20435347513</td><td>&quot;EVANILDE DA SILVA DE SOUSA&quot;</td><td>&quot;1202,00&quot;</td></tr><tr><td>202501</td><td>202411</td><td>&quot;GO&quot;</td><td>1050</td><td>&quot;ABADIA DE GOIAS&quot;</td><td>&quot;***.548.031-**&quot;</td><td>23847604690</td><td>&quot;LAZARA MADALENA CAMARGO&quot;</td><td>&quot;700,00&quot;</td></tr><tr><td>&hellip;</td><td>&hellip;</td><td>&hellip;</td><td>&hellip;</td><td>&hellip;</td><td>&hellip;</td><td>&hellip;</td><td>&hellip;</td><td>&hellip;</td></tr><tr><td>202502</td><td>202502</td><td>&quot;SC&quot;</td><td>950</td><td>&quot;ZORTEA&quot;</td><td>&quot;***.952.429-**&quot;</td><td>12276300851</td><td>&quot;WERA ADILES DA COSTA SILVA&quot;</td><td>&quot;325,00&quot;</td></tr><tr><td>202502</td><td>202502</td><td>&quot;SC&quot;</td><td>950</td><td>&quot;ZORTEA&quot;</td><td>&quot;&quot;</td><td>21444631421</td><td>&quot;YANNIMAR ALVAREZ CASTILLO&quot;</td><td>&quot;455,00&quot;</td></tr><tr><td>202502</td><td>202502</td><td>&quot;SC&quot;</td><td>950</td><td>&quot;ZORTEA&quot;</td><td>&quot;&quot;</td><td>12587481920</td><td>&quot;YUGERKIS CAROLINA MARCANO CACH…</td><td>&quot;722,00&quot;</td></tr><tr><td>202502</td><td>202502</td><td>&quot;SC&quot;</td><td>950</td><td>&quot;ZORTEA&quot;</td><td>&quot;&quot;</td><td>21435138513</td><td>&quot;YUSMERIS JOSEFINA URBINA BRITO&quot;</td><td>&quot;375,00&quot;</td></tr><tr><td>202502</td><td>202502</td><td>&quot;SC&quot;</td><td>950</td><td>&quot;ZORTEA&quot;</td><td>&quot;&quot;</td><td>21345280736</td><td>&quot;ZULIBETH NAZARETH MAESTRE BOLE…</td><td>&quot;450,00&quot;</td></tr></tbody></table></div>"
      ],
      "text/plain": [
       "shape: (40_810_993, 9)\n",
       "┌────────────┬────────────┬─────┬────────────┬───┬────────────┬────────────┬───────────┬───────────┐\n",
       "│ MÊS COMPET ┆ MÊS        ┆ UF  ┆ CÓDIGO     ┆ … ┆ CPF        ┆ NIS        ┆ NOME FAVO ┆ VALOR     │\n",
       "│ ÊNCIA      ┆ REFERÊNCIA ┆ --- ┆ MUNICÍPIO  ┆   ┆ FAVORECIDO ┆ FAVORECIDO ┆ RECIDO    ┆ PARCELA   │\n",
       "│ ---        ┆ ---        ┆ str ┆ SIAFI      ┆   ┆ ---        ┆ ---        ┆ ---       ┆ ---       │\n",
       "│ i64        ┆ i64        ┆     ┆ ---        ┆   ┆ str        ┆ i64        ┆ str       ┆ str       │\n",
       "│            ┆            ┆     ┆ i64        ┆   ┆            ┆            ┆           ┆           │\n",
       "╞════════════╪════════════╪═════╪════════════╪═══╪════════════╪════════════╪═══════════╪═══════════╡\n",
       "│ 202501     ┆ 202409     ┆ GO  ┆ 1050       ┆ … ┆ ***.747.19 ┆ 1349248631 ┆ LORRANE   ┆ 1102,00   │\n",
       "│            ┆            ┆     ┆            ┆   ┆ 1-**       ┆ 1          ┆ DE JESUS  ┆           │\n",
       "│            ┆            ┆     ┆            ┆   ┆            ┆            ┆ MARTINS   ┆           │\n",
       "│ 202501     ┆ 202410     ┆ GO  ┆ 1050       ┆ … ┆ ***.747.19 ┆ 1349248631 ┆ LORRANE   ┆ 1102,00   │\n",
       "│            ┆            ┆     ┆            ┆   ┆ 1-**       ┆ 1          ┆ DE JESUS  ┆           │\n",
       "│            ┆            ┆     ┆            ┆   ┆            ┆            ┆ MARTINS   ┆           │\n",
       "│ 202501     ┆ 202410     ┆ GO  ┆ 1050       ┆ … ┆ ***.796.92 ┆ 1640333208 ┆ MARIA     ┆ 700,00    │\n",
       "│            ┆            ┆     ┆            ┆   ┆ 3-**       ┆ 3          ┆ ANTONIA   ┆           │\n",
       "│            ┆            ┆     ┆            ┆   ┆            ┆            ┆ DUTRA DA  ┆           │\n",
       "│            ┆            ┆     ┆            ┆   ┆            ┆            ┆ SILVA     ┆           │\n",
       "│ 202501     ┆ 202411     ┆ GO  ┆ 1050       ┆ … ┆ ***.901.05 ┆ 2043534751 ┆ EVANILDE  ┆ 1202,00   │\n",
       "│            ┆            ┆     ┆            ┆   ┆ 3-**       ┆ 3          ┆ DA SILVA  ┆           │\n",
       "│            ┆            ┆     ┆            ┆   ┆            ┆            ┆ DE SOUSA  ┆           │\n",
       "│ 202501     ┆ 202411     ┆ GO  ┆ 1050       ┆ … ┆ ***.548.03 ┆ 2384760469 ┆ LAZARA    ┆ 700,00    │\n",
       "│            ┆            ┆     ┆            ┆   ┆ 1-**       ┆ 0          ┆ MADALENA  ┆           │\n",
       "│            ┆            ┆     ┆            ┆   ┆            ┆            ┆ CAMARGO   ┆           │\n",
       "│ …          ┆ …          ┆ …   ┆ …          ┆ … ┆ …          ┆ …          ┆ …         ┆ …         │\n",
       "│ 202502     ┆ 202502     ┆ SC  ┆ 950        ┆ … ┆ ***.952.42 ┆ 1227630085 ┆ WERA      ┆ 325,00    │\n",
       "│            ┆            ┆     ┆            ┆   ┆ 9-**       ┆ 1          ┆ ADILES DA ┆           │\n",
       "│            ┆            ┆     ┆            ┆   ┆            ┆            ┆ COSTA     ┆           │\n",
       "│            ┆            ┆     ┆            ┆   ┆            ┆            ┆ SILVA     ┆           │\n",
       "│ 202502     ┆ 202502     ┆ SC  ┆ 950        ┆ … ┆            ┆ 2144463142 ┆ YANNIMAR  ┆ 455,00    │\n",
       "│            ┆            ┆     ┆            ┆   ┆            ┆ 1          ┆ ALVAREZ   ┆           │\n",
       "│            ┆            ┆     ┆            ┆   ┆            ┆            ┆ CASTILLO  ┆           │\n",
       "│ 202502     ┆ 202502     ┆ SC  ┆ 950        ┆ … ┆            ┆ 1258748192 ┆ YUGERKIS  ┆ 722,00    │\n",
       "│            ┆            ┆     ┆            ┆   ┆            ┆ 0          ┆ CAROLINA  ┆           │\n",
       "│            ┆            ┆     ┆            ┆   ┆            ┆            ┆ MARCANO   ┆           │\n",
       "│            ┆            ┆     ┆            ┆   ┆            ┆            ┆ CACH…     ┆           │\n",
       "│ 202502     ┆ 202502     ┆ SC  ┆ 950        ┆ … ┆            ┆ 2143513851 ┆ YUSMERIS  ┆ 375,00    │\n",
       "│            ┆            ┆     ┆            ┆   ┆            ┆ 3          ┆ JOSEFINA  ┆           │\n",
       "│            ┆            ┆     ┆            ┆   ┆            ┆            ┆ URBINA    ┆           │\n",
       "│            ┆            ┆     ┆            ┆   ┆            ┆            ┆ BRITO     ┆           │\n",
       "│ 202502     ┆ 202502     ┆ SC  ┆ 950        ┆ … ┆            ┆ 2134528073 ┆ ZULIBETH  ┆ 450,00    │\n",
       "│            ┆            ┆     ┆            ┆   ┆            ┆ 6          ┆ NAZARETH  ┆           │\n",
       "│            ┆            ┆     ┆            ┆   ┆            ┆            ┆ MAESTRE   ┆           │\n",
       "│            ┆            ┆     ┆            ┆   ┆            ┆            ┆ BOLE…     ┆           │\n",
       "└────────────┴────────────┴─────┴────────────┴───┴────────────┴────────────┴───────────┴───────────┘"
      ]
     },
     "metadata": {},
     "output_type": "display_data"
    }
   ],
   "source": [
    "# #Ordenação dos Dados:\n",
    "\n",
    "# display(df_pandas.sort_values(by=\"NOME MUNICÍPIO\"))\n",
    "\n",
    "# print('*********************************')\n",
    "\n",
    "display(df_polars.sort(\"NOME MUNICÍPIO\"))"
   ]
  },
  {
   "cell_type": "code",
   "execution_count": 10,
   "metadata": {},
   "outputs": [
    {
     "data": {
      "text/html": [
       "<div><style>\n",
       ".dataframe > thead > tr,\n",
       ".dataframe > tbody > tr {\n",
       "  text-align: right;\n",
       "  white-space: pre-wrap;\n",
       "}\n",
       "</style>\n",
       "<small>shape: (27, 2)</small><table border=\"1\" class=\"dataframe\"><thead><tr><th>UF</th><th>NOME MUNICÍPIO</th></tr><tr><td>str</td><td>list[struct[2]]</td></tr></thead><tbody><tr><td>&quot;ES&quot;</td><td>[{&quot;BARRA DE SAO FRANCISCO&quot;,6881}, {&quot;IBITIRAMA&quot;,3621}, … {&quot;RIO BANANAL&quot;,2949}]</td></tr><tr><td>&quot;RJ&quot;</td><td>[{&quot;SAO JOAO DE MERITI&quot;,82386}, {&quot;GUAPIMIRIM&quot;,15795}, … {&quot;ITAOCARA&quot;,4075}]</td></tr><tr><td>&quot;DF&quot;</td><td>[{&quot;BRASILIA&quot;,346346}]</td></tr><tr><td>&quot;AC&quot;</td><td>[{&quot;RIO BRANCO&quot;,89137}, {&quot;SENA MADUREIRA&quot;,18421}, … {&quot;MANCIO LIMA&quot;,8872}]</td></tr><tr><td>&quot;CE&quot;</td><td>[{&quot;CEDRO&quot;,8364}, {&quot;COREAU&quot;,9297}, … {&quot;URUBURETAMA&quot;,10107}]</td></tr><tr><td>&hellip;</td><td>&hellip;</td></tr><tr><td>&quot;PA&quot;</td><td>[{&quot;NOVO REPARTIMENTO&quot;,24314}, {&quot;JACUNDA&quot;,14231}, … {&quot;SANTA CRUZ DO ARARI&quot;,3644}]</td></tr><tr><td>&quot;MS&quot;</td><td>[{&quot;FATIMA DO SUL&quot;,2156}, {&quot;CHAPADAO DO SUL&quot;,3123}, … {&quot;BONITO&quot;,3626}]</td></tr><tr><td>&quot;SE&quot;</td><td>[{&quot;ILHA DAS FLORES&quot;,4421}, {&quot;NEOPOLIS&quot;,6723}, … {&quot;NOSSA SENHORA DO SOCORRO&quot;,65723}]</td></tr><tr><td>&quot;RS&quot;</td><td>[{&quot;SANTA CRUZ DO SUL&quot;,11260}, {&quot;BUTIA&quot;,3989}, … {&quot;RIO GRANDE&quot;,23845}]</td></tr><tr><td>&quot;MT&quot;</td><td>[{&quot;FELIZ NATAL&quot;,2385}, {&quot;NOVO SAO JOAQUIM&quot;,1207}, … {&quot;RONDOLANDIA&quot;,475}]</td></tr></tbody></table></div>"
      ],
      "text/plain": [
       "shape: (27, 2)\n",
       "┌─────┬─────────────────────────────────┐\n",
       "│ UF  ┆ NOME MUNICÍPIO                  │\n",
       "│ --- ┆ ---                             │\n",
       "│ str ┆ list[struct[2]]                 │\n",
       "╞═════╪═════════════════════════════════╡\n",
       "│ ES  ┆ [{\"BARRA DE SAO FRANCISCO\",688… │\n",
       "│ RJ  ┆ [{\"SAO JOAO DE MERITI\",82386},… │\n",
       "│ DF  ┆ [{\"BRASILIA\",346346}]           │\n",
       "│ AC  ┆ [{\"RIO BRANCO\",89137}, {\"SENA … │\n",
       "│ CE  ┆ [{\"CEDRO\",8364}, {\"COREAU\",929… │\n",
       "│ …   ┆ …                               │\n",
       "│ PA  ┆ [{\"NOVO REPARTIMENTO\",24314}, … │\n",
       "│ MS  ┆ [{\"FATIMA DO SUL\",2156}, {\"CHA… │\n",
       "│ SE  ┆ [{\"ILHA DAS FLORES\",4421}, {\"N… │\n",
       "│ RS  ┆ [{\"SANTA CRUZ DO SUL\",11260}, … │\n",
       "│ MT  ┆ [{\"FELIZ NATAL\",2385}, {\"NOVO … │\n",
       "└─────┴─────────────────────────────────┘"
      ]
     },
     "metadata": {},
     "output_type": "display_data"
    }
   ],
   "source": [
    "#Agregação e Agrupamento:\n",
    "\n",
    "#exemplo: agrupando por colunas e e contando em cima do que foi selecionado\n",
    "\n",
    "# display(df_pandas.groupby('UF')['NOME MUNICÍPIO'].value_counts())\n",
    "\n",
    "# print('*********************************')\n",
    "\n",
    "display(df_polars.group_by('UF').agg(pl.col('NOME MUNICÍPIO').value_counts()))\n"
   ]
  },
  {
   "cell_type": "markdown",
   "metadata": {},
   "source": [
    "**Manipulação de Linhas e Colunas:**"
   ]
  },
  {
   "cell_type": "code",
   "execution_count": 11,
   "metadata": {},
   "outputs": [
    {
     "data": {
      "text/html": [
       "<div><style>\n",
       ".dataframe > thead > tr,\n",
       ".dataframe > tbody > tr {\n",
       "  text-align: right;\n",
       "  white-space: pre-wrap;\n",
       "}\n",
       "</style>\n",
       "<small>shape: (5, 9)</small><table border=\"1\" class=\"dataframe\"><thead><tr><th>MÊS COMPETÊNCIA</th><th>MÊS REFERÊNCIA</th><th>UF</th><th>CÓDIGO MUNICÍPIO SIAFI</th><th>NOME MUNICÍPIO</th><th>CPF FAVORECIDO</th><th>NIS FAVORECIDO</th><th>NOME FAVORECIDO</th><th>VALOR PARCELA</th></tr><tr><td>i64</td><td>i64</td><td>str</td><td>i64</td><td>str</td><td>str</td><td>i64</td><td>str</td><td>str</td></tr></thead><tbody><tr><td>202501</td><td>202309</td><td>&quot;SP&quot;</td><td>7071</td><td>&quot;SANTOS&quot;</td><td>&quot;***.085.106-**&quot;</td><td>20643890445</td><td>&quot;FERNANDA RAMOS TEIXEIRA&quot;</td><td>&quot;650,00&quot;</td></tr><tr><td>202501</td><td>202310</td><td>&quot;SP&quot;</td><td>7071</td><td>&quot;SANTOS&quot;</td><td>&quot;***.085.106-**&quot;</td><td>20643890445</td><td>&quot;FERNANDA RAMOS TEIXEIRA&quot;</td><td>&quot;650,00&quot;</td></tr><tr><td>202501</td><td>202311</td><td>&quot;SP&quot;</td><td>7071</td><td>&quot;SANTOS&quot;</td><td>&quot;***.085.106-**&quot;</td><td>20643890445</td><td>&quot;FERNANDA RAMOS TEIXEIRA&quot;</td><td>&quot;650,00&quot;</td></tr><tr><td>202501</td><td>202312</td><td>&quot;SP&quot;</td><td>7071</td><td>&quot;SANTOS&quot;</td><td>&quot;***.085.106-**&quot;</td><td>20643890445</td><td>&quot;FERNANDA RAMOS TEIXEIRA&quot;</td><td>&quot;650,00&quot;</td></tr><tr><td>202501</td><td>202401</td><td>&quot;CE&quot;</td><td>1389</td><td>&quot;FORTALEZA&quot;</td><td>&quot;***.854.493-**&quot;</td><td>13024055192</td><td>&quot;IRENICE CAMELO VALETE&quot;</td><td>&quot;750,00&quot;</td></tr></tbody></table></div>"
      ],
      "text/plain": [
       "shape: (5, 9)\n",
       "┌────────────┬────────────┬─────┬────────────┬───┬────────────┬────────────┬───────────┬───────────┐\n",
       "│ MÊS COMPET ┆ MÊS        ┆ UF  ┆ CÓDIGO     ┆ … ┆ CPF        ┆ NIS        ┆ NOME FAVO ┆ VALOR     │\n",
       "│ ÊNCIA      ┆ REFERÊNCIA ┆ --- ┆ MUNICÍPIO  ┆   ┆ FAVORECIDO ┆ FAVORECIDO ┆ RECIDO    ┆ PARCELA   │\n",
       "│ ---        ┆ ---        ┆ str ┆ SIAFI      ┆   ┆ ---        ┆ ---        ┆ ---       ┆ ---       │\n",
       "│ i64        ┆ i64        ┆     ┆ ---        ┆   ┆ str        ┆ i64        ┆ str       ┆ str       │\n",
       "│            ┆            ┆     ┆ i64        ┆   ┆            ┆            ┆           ┆           │\n",
       "╞════════════╪════════════╪═════╪════════════╪═══╪════════════╪════════════╪═══════════╪═══════════╡\n",
       "│ 202501     ┆ 202309     ┆ SP  ┆ 7071       ┆ … ┆ ***.085.10 ┆ 2064389044 ┆ FERNANDA  ┆ 650,00    │\n",
       "│            ┆            ┆     ┆            ┆   ┆ 6-**       ┆ 5          ┆ RAMOS     ┆           │\n",
       "│            ┆            ┆     ┆            ┆   ┆            ┆            ┆ TEIXEIRA  ┆           │\n",
       "│ 202501     ┆ 202310     ┆ SP  ┆ 7071       ┆ … ┆ ***.085.10 ┆ 2064389044 ┆ FERNANDA  ┆ 650,00    │\n",
       "│            ┆            ┆     ┆            ┆   ┆ 6-**       ┆ 5          ┆ RAMOS     ┆           │\n",
       "│            ┆            ┆     ┆            ┆   ┆            ┆            ┆ TEIXEIRA  ┆           │\n",
       "│ 202501     ┆ 202311     ┆ SP  ┆ 7071       ┆ … ┆ ***.085.10 ┆ 2064389044 ┆ FERNANDA  ┆ 650,00    │\n",
       "│            ┆            ┆     ┆            ┆   ┆ 6-**       ┆ 5          ┆ RAMOS     ┆           │\n",
       "│            ┆            ┆     ┆            ┆   ┆            ┆            ┆ TEIXEIRA  ┆           │\n",
       "│ 202501     ┆ 202312     ┆ SP  ┆ 7071       ┆ … ┆ ***.085.10 ┆ 2064389044 ┆ FERNANDA  ┆ 650,00    │\n",
       "│            ┆            ┆     ┆            ┆   ┆ 6-**       ┆ 5          ┆ RAMOS     ┆           │\n",
       "│            ┆            ┆     ┆            ┆   ┆            ┆            ┆ TEIXEIRA  ┆           │\n",
       "│ 202501     ┆ 202401     ┆ CE  ┆ 1389       ┆ … ┆ ***.854.49 ┆ 1302405519 ┆ IRENICE   ┆ 750,00    │\n",
       "│            ┆            ┆     ┆            ┆   ┆ 3-**       ┆ 2          ┆ CAMELO    ┆           │\n",
       "│            ┆            ┆     ┆            ┆   ┆            ┆            ┆ VALETE    ┆           │\n",
       "└────────────┴────────────┴─────┴────────────┴───┴────────────┴────────────┴───────────┴───────────┘"
      ]
     },
     "metadata": {},
     "output_type": "display_data"
    }
   ],
   "source": [
    "#Remoção de Linhas:\n",
    "\n",
    "#pandas\n",
    "# df_pandas=df_pandas.drop(1)\n",
    "# display(df_pandas.head())\n",
    "\n",
    "#polars\n",
    "df_polars=df_polars.slice(1)\n",
    "display(df_polars.head())"
   ]
  },
  {
   "cell_type": "code",
   "execution_count": 12,
   "metadata": {},
   "outputs": [
    {
     "data": {
      "text/html": [
       "<div><style>\n",
       ".dataframe > thead > tr,\n",
       ".dataframe > tbody > tr {\n",
       "  text-align: right;\n",
       "  white-space: pre-wrap;\n",
       "}\n",
       "</style>\n",
       "<small>shape: (5, 10)</small><table border=\"1\" class=\"dataframe\"><thead><tr><th>MÊS COMPETÊNCIA</th><th>MÊS REFERÊNCIA</th><th>UF</th><th>CÓDIGO MUNICÍPIO SIAFI</th><th>NOME MUNICÍPIO</th><th>CPF FAVORECIDO</th><th>NIS FAVORECIDO</th><th>NOME FAVORECIDO</th><th>VALOR PARCELA</th><th>DK</th></tr><tr><td>i64</td><td>i64</td><td>str</td><td>i64</td><td>str</td><td>str</td><td>i64</td><td>str</td><td>str</td><td>i32</td></tr></thead><tbody><tr><td>202501</td><td>202309</td><td>&quot;SP&quot;</td><td>7071</td><td>&quot;SANTOS&quot;</td><td>&quot;***.085.106-**&quot;</td><td>20643890445</td><td>&quot;FERNANDA RAMOS TEIXEIRA&quot;</td><td>&quot;650,00&quot;</td><td>0</td></tr><tr><td>202501</td><td>202310</td><td>&quot;SP&quot;</td><td>7071</td><td>&quot;SANTOS&quot;</td><td>&quot;***.085.106-**&quot;</td><td>20643890445</td><td>&quot;FERNANDA RAMOS TEIXEIRA&quot;</td><td>&quot;650,00&quot;</td><td>0</td></tr><tr><td>202501</td><td>202311</td><td>&quot;SP&quot;</td><td>7071</td><td>&quot;SANTOS&quot;</td><td>&quot;***.085.106-**&quot;</td><td>20643890445</td><td>&quot;FERNANDA RAMOS TEIXEIRA&quot;</td><td>&quot;650,00&quot;</td><td>0</td></tr><tr><td>202501</td><td>202312</td><td>&quot;SP&quot;</td><td>7071</td><td>&quot;SANTOS&quot;</td><td>&quot;***.085.106-**&quot;</td><td>20643890445</td><td>&quot;FERNANDA RAMOS TEIXEIRA&quot;</td><td>&quot;650,00&quot;</td><td>0</td></tr><tr><td>202501</td><td>202401</td><td>&quot;CE&quot;</td><td>1389</td><td>&quot;FORTALEZA&quot;</td><td>&quot;***.854.493-**&quot;</td><td>13024055192</td><td>&quot;IRENICE CAMELO VALETE&quot;</td><td>&quot;750,00&quot;</td><td>0</td></tr></tbody></table></div>"
      ],
      "text/plain": [
       "shape: (5, 10)\n",
       "┌──────────────┬──────────────┬─────┬──────────────┬───┬─────────────┬─────────────┬─────────┬─────┐\n",
       "│ MÊS          ┆ MÊS          ┆ UF  ┆ CÓDIGO       ┆ … ┆ NIS         ┆ NOME        ┆ VALOR   ┆ DK  │\n",
       "│ COMPETÊNCIA  ┆ REFERÊNCIA   ┆ --- ┆ MUNICÍPIO    ┆   ┆ FAVORECIDO  ┆ FAVORECIDO  ┆ PARCELA ┆ --- │\n",
       "│ ---          ┆ ---          ┆ str ┆ SIAFI        ┆   ┆ ---         ┆ ---         ┆ ---     ┆ i32 │\n",
       "│ i64          ┆ i64          ┆     ┆ ---          ┆   ┆ i64         ┆ str         ┆ str     ┆     │\n",
       "│              ┆              ┆     ┆ i64          ┆   ┆             ┆             ┆         ┆     │\n",
       "╞══════════════╪══════════════╪═════╪══════════════╪═══╪═════════════╪═════════════╪═════════╪═════╡\n",
       "│ 202501       ┆ 202309       ┆ SP  ┆ 7071         ┆ … ┆ 20643890445 ┆ FERNANDA    ┆ 650,00  ┆ 0   │\n",
       "│              ┆              ┆     ┆              ┆   ┆             ┆ RAMOS       ┆         ┆     │\n",
       "│              ┆              ┆     ┆              ┆   ┆             ┆ TEIXEIRA    ┆         ┆     │\n",
       "│ 202501       ┆ 202310       ┆ SP  ┆ 7071         ┆ … ┆ 20643890445 ┆ FERNANDA    ┆ 650,00  ┆ 0   │\n",
       "│              ┆              ┆     ┆              ┆   ┆             ┆ RAMOS       ┆         ┆     │\n",
       "│              ┆              ┆     ┆              ┆   ┆             ┆ TEIXEIRA    ┆         ┆     │\n",
       "│ 202501       ┆ 202311       ┆ SP  ┆ 7071         ┆ … ┆ 20643890445 ┆ FERNANDA    ┆ 650,00  ┆ 0   │\n",
       "│              ┆              ┆     ┆              ┆   ┆             ┆ RAMOS       ┆         ┆     │\n",
       "│              ┆              ┆     ┆              ┆   ┆             ┆ TEIXEIRA    ┆         ┆     │\n",
       "│ 202501       ┆ 202312       ┆ SP  ┆ 7071         ┆ … ┆ 20643890445 ┆ FERNANDA    ┆ 650,00  ┆ 0   │\n",
       "│              ┆              ┆     ┆              ┆   ┆             ┆ RAMOS       ┆         ┆     │\n",
       "│              ┆              ┆     ┆              ┆   ┆             ┆ TEIXEIRA    ┆         ┆     │\n",
       "│ 202501       ┆ 202401       ┆ CE  ┆ 1389         ┆ … ┆ 13024055192 ┆ IRENICE     ┆ 750,00  ┆ 0   │\n",
       "│              ┆              ┆     ┆              ┆   ┆             ┆ CAMELO      ┆         ┆     │\n",
       "│              ┆              ┆     ┆              ┆   ┆             ┆ VALETE      ┆         ┆     │\n",
       "└──────────────┴──────────────┴─────┴──────────────┴───┴─────────────┴─────────────┴─────────┴─────┘"
      ]
     },
     "metadata": {},
     "output_type": "display_data"
    }
   ],
   "source": [
    "#Adição de Colunas:\n",
    "\n",
    "#pandas\n",
    "# df_pandas[\"DK\"]=0\n",
    "# display(df_pandas.head())\n",
    "\n",
    "#polars\n",
    "df_polars=df_polars.with_columns(pl.lit(0).alias('DK'))\n",
    "display(df_polars.head())"
   ]
  },
  {
   "cell_type": "code",
   "execution_count": 13,
   "metadata": {},
   "outputs": [
    {
     "data": {
      "text/html": [
       "<div><style>\n",
       ".dataframe > thead > tr,\n",
       ".dataframe > tbody > tr {\n",
       "  text-align: right;\n",
       "  white-space: pre-wrap;\n",
       "}\n",
       "</style>\n",
       "<small>shape: (5, 9)</small><table border=\"1\" class=\"dataframe\"><thead><tr><th>MÊS COMPETÊNCIA</th><th>MÊS REFERÊNCIA</th><th>UF</th><th>CÓDIGO MUNICÍPIO SIAFI</th><th>NOME MUNICÍPIO</th><th>CPF FAVORECIDO</th><th>NIS FAVORECIDO</th><th>NOME FAVORECIDO</th><th>VALOR PARCELA</th></tr><tr><td>i64</td><td>i64</td><td>str</td><td>i64</td><td>str</td><td>str</td><td>i64</td><td>str</td><td>str</td></tr></thead><tbody><tr><td>202501</td><td>202309</td><td>&quot;SP&quot;</td><td>7071</td><td>&quot;SANTOS&quot;</td><td>&quot;***.085.106-**&quot;</td><td>20643890445</td><td>&quot;FERNANDA RAMOS TEIXEIRA&quot;</td><td>&quot;650,00&quot;</td></tr><tr><td>202501</td><td>202310</td><td>&quot;SP&quot;</td><td>7071</td><td>&quot;SANTOS&quot;</td><td>&quot;***.085.106-**&quot;</td><td>20643890445</td><td>&quot;FERNANDA RAMOS TEIXEIRA&quot;</td><td>&quot;650,00&quot;</td></tr><tr><td>202501</td><td>202311</td><td>&quot;SP&quot;</td><td>7071</td><td>&quot;SANTOS&quot;</td><td>&quot;***.085.106-**&quot;</td><td>20643890445</td><td>&quot;FERNANDA RAMOS TEIXEIRA&quot;</td><td>&quot;650,00&quot;</td></tr><tr><td>202501</td><td>202312</td><td>&quot;SP&quot;</td><td>7071</td><td>&quot;SANTOS&quot;</td><td>&quot;***.085.106-**&quot;</td><td>20643890445</td><td>&quot;FERNANDA RAMOS TEIXEIRA&quot;</td><td>&quot;650,00&quot;</td></tr><tr><td>202501</td><td>202401</td><td>&quot;CE&quot;</td><td>1389</td><td>&quot;FORTALEZA&quot;</td><td>&quot;***.854.493-**&quot;</td><td>13024055192</td><td>&quot;IRENICE CAMELO VALETE&quot;</td><td>&quot;750,00&quot;</td></tr></tbody></table></div>"
      ],
      "text/plain": [
       "shape: (5, 9)\n",
       "┌────────────┬────────────┬─────┬────────────┬───┬────────────┬────────────┬───────────┬───────────┐\n",
       "│ MÊS COMPET ┆ MÊS        ┆ UF  ┆ CÓDIGO     ┆ … ┆ CPF        ┆ NIS        ┆ NOME FAVO ┆ VALOR     │\n",
       "│ ÊNCIA      ┆ REFERÊNCIA ┆ --- ┆ MUNICÍPIO  ┆   ┆ FAVORECIDO ┆ FAVORECIDO ┆ RECIDO    ┆ PARCELA   │\n",
       "│ ---        ┆ ---        ┆ str ┆ SIAFI      ┆   ┆ ---        ┆ ---        ┆ ---       ┆ ---       │\n",
       "│ i64        ┆ i64        ┆     ┆ ---        ┆   ┆ str        ┆ i64        ┆ str       ┆ str       │\n",
       "│            ┆            ┆     ┆ i64        ┆   ┆            ┆            ┆           ┆           │\n",
       "╞════════════╪════════════╪═════╪════════════╪═══╪════════════╪════════════╪═══════════╪═══════════╡\n",
       "│ 202501     ┆ 202309     ┆ SP  ┆ 7071       ┆ … ┆ ***.085.10 ┆ 2064389044 ┆ FERNANDA  ┆ 650,00    │\n",
       "│            ┆            ┆     ┆            ┆   ┆ 6-**       ┆ 5          ┆ RAMOS     ┆           │\n",
       "│            ┆            ┆     ┆            ┆   ┆            ┆            ┆ TEIXEIRA  ┆           │\n",
       "│ 202501     ┆ 202310     ┆ SP  ┆ 7071       ┆ … ┆ ***.085.10 ┆ 2064389044 ┆ FERNANDA  ┆ 650,00    │\n",
       "│            ┆            ┆     ┆            ┆   ┆ 6-**       ┆ 5          ┆ RAMOS     ┆           │\n",
       "│            ┆            ┆     ┆            ┆   ┆            ┆            ┆ TEIXEIRA  ┆           │\n",
       "│ 202501     ┆ 202311     ┆ SP  ┆ 7071       ┆ … ┆ ***.085.10 ┆ 2064389044 ┆ FERNANDA  ┆ 650,00    │\n",
       "│            ┆            ┆     ┆            ┆   ┆ 6-**       ┆ 5          ┆ RAMOS     ┆           │\n",
       "│            ┆            ┆     ┆            ┆   ┆            ┆            ┆ TEIXEIRA  ┆           │\n",
       "│ 202501     ┆ 202312     ┆ SP  ┆ 7071       ┆ … ┆ ***.085.10 ┆ 2064389044 ┆ FERNANDA  ┆ 650,00    │\n",
       "│            ┆            ┆     ┆            ┆   ┆ 6-**       ┆ 5          ┆ RAMOS     ┆           │\n",
       "│            ┆            ┆     ┆            ┆   ┆            ┆            ┆ TEIXEIRA  ┆           │\n",
       "│ 202501     ┆ 202401     ┆ CE  ┆ 1389       ┆ … ┆ ***.854.49 ┆ 1302405519 ┆ IRENICE   ┆ 750,00    │\n",
       "│            ┆            ┆     ┆            ┆   ┆ 3-**       ┆ 2          ┆ CAMELO    ┆           │\n",
       "│            ┆            ┆     ┆            ┆   ┆            ┆            ┆ VALETE    ┆           │\n",
       "└────────────┴────────────┴─────┴────────────┴───┴────────────┴────────────┴───────────┴───────────┘"
      ]
     },
     "metadata": {},
     "output_type": "display_data"
    }
   ],
   "source": [
    "#Remoção de Colunas:\n",
    "\n",
    "# #pandas\n",
    "# df_pandas=df_pandas.drop(columns=['DK'])\n",
    "# display(df_pandas.head())\n",
    "\n",
    "#polars\n",
    "df_polars=df_polars.drop(['DK'])\n",
    "display(df_polars.head())"
   ]
  },
  {
   "cell_type": "code",
   "execution_count": 26,
   "metadata": {},
   "outputs": [
    {
     "name": "stdout",
     "output_type": "stream",
     "text": [
      "AGGREGATE[maintain_order: false]\n",
      "  [col(\"VALOR PARCELA\").count()] BY [col(\"NOME FAVORECIDO\")]\n",
      "  FROM\n",
      "  Parquet SCAN [202501_NovoBolsaFamilia_polars.parquet] [id: 5018013419888]\n",
      "  PROJECT 3/9 COLUMNS\n",
      "  SELECTION: [(col(\"NOME MUNICÍPIO\")) == (\"RIO DE JANEIRO\")]\n"
     ]
    }
   ],
   "source": [
    "# Exemplo de Aplicação para Atividades futuras:\n",
    "\n",
    "# Passo 1: Carregar dados (lazy)\n",
    "dados_lazy = pl.scan_parquet('202501_NovoBolsaFamilia_polars.parquet')\n",
    "\n",
    "# Passo 2: Construir consulta (NA ORDEM, temos filtro, agrupamento e agregação)\n",
    "consulta = (\n",
    "    dados_lazy.filter(pl.col(\"NOME MUNICÍPIO\") == \"RIO DE JANEIRO\")\n",
    "    .group_by(\"NOME FAVORECIDO\")\n",
    "    .agg(pl.col(\"VALOR PARCELA\").count())             \n",
    ")\n",
    "\n",
    "# Passo 3: Verificar plano (opcional)\n",
    "print(consulta.explain())\n",
    "\n",
    "# Passo 4: Executar e obter resultado\n",
    "resultado = consulta.collect()"
   ]
  },
  {
   "cell_type": "code",
   "execution_count": 33,
   "metadata": {},
   "outputs": [
    {
     "name": "stdout",
     "output_type": "stream",
     "text": [
      "AGGREGATE[maintain_order: false]\n",
      "  [col(\"VALOR PARCELA\").mean().alias(\"MÉDIA VALOR PARCELA\"), col(\"VALOR PARCELA\").sum().alias(\"SOMA VALOR PARCELA\")] BY [col(\"NOME FAVORECIDO\")]\n",
      "  FROM\n",
      "  Parquet SCAN [202501_NovoBolsaFamilia_polars.parquet] [id: 5018013420784]\n",
      "  PROJECT 3/9 COLUMNS\n",
      "  SELECTION: [(col(\"NOME MUNICÍPIO\")) == (\"RIO DE JANEIRO\")]\n"
     ]
    },
    {
     "data": {
      "text/html": [
       "<div><style>\n",
       ".dataframe > thead > tr,\n",
       ".dataframe > tbody > tr {\n",
       "  text-align: right;\n",
       "  white-space: pre-wrap;\n",
       "}\n",
       "</style>\n",
       "<small>shape: (462_278, 3)</small><table border=\"1\" class=\"dataframe\"><thead><tr><th>NOME FAVORECIDO</th><th>MÉDIA VALOR PARCELA</th><th>SOMA VALOR PARCELA</th></tr><tr><td>str</td><td>str</td><td>str</td></tr></thead><tbody><tr><td>&quot;DENISE GAYOSO DE MAGALHAES QUE…</td><td>null</td><td>null</td></tr><tr><td>&quot;LUCIA ANITA ROCHA CUSTODIO VIE…</td><td>null</td><td>null</td></tr><tr><td>&quot;DRYELLE RODRIGUES DE OLIVEIRA …</td><td>null</td><td>null</td></tr><tr><td>&quot;BRENDA RAFAELA SILVA SANTANA&quot;</td><td>null</td><td>null</td></tr><tr><td>&quot;JESSICA SOUZA DO NASCIMENTO&quot;</td><td>null</td><td>null</td></tr><tr><td>&hellip;</td><td>&hellip;</td><td>&hellip;</td></tr><tr><td>&quot;DANIELE GOMES ALVES&quot;</td><td>null</td><td>null</td></tr><tr><td>&quot;VALERIA LUCIA ALMEIDA&quot;</td><td>null</td><td>null</td></tr><tr><td>&quot;ERICA MARIA DA CONCEICAO&quot;</td><td>null</td><td>null</td></tr><tr><td>&quot;CRISLLAINE FRANCA DO ROSARIO&quot;</td><td>null</td><td>null</td></tr><tr><td>&quot;LINDALVA MARIA CONCEICAO SALVA…</td><td>null</td><td>null</td></tr></tbody></table></div>"
      ],
      "text/plain": [
       "shape: (462_278, 3)\n",
       "┌─────────────────────────────────┬─────────────────────┬────────────────────┐\n",
       "│ NOME FAVORECIDO                 ┆ MÉDIA VALOR PARCELA ┆ SOMA VALOR PARCELA │\n",
       "│ ---                             ┆ ---                 ┆ ---                │\n",
       "│ str                             ┆ str                 ┆ str                │\n",
       "╞═════════════════════════════════╪═════════════════════╪════════════════════╡\n",
       "│ DENISE GAYOSO DE MAGALHAES QUE… ┆ null                ┆ null               │\n",
       "│ LUCIA ANITA ROCHA CUSTODIO VIE… ┆ null                ┆ null               │\n",
       "│ DRYELLE RODRIGUES DE OLIVEIRA … ┆ null                ┆ null               │\n",
       "│ BRENDA RAFAELA SILVA SANTANA    ┆ null                ┆ null               │\n",
       "│ JESSICA SOUZA DO NASCIMENTO     ┆ null                ┆ null               │\n",
       "│ …                               ┆ …                   ┆ …                  │\n",
       "│ DANIELE GOMES ALVES             ┆ null                ┆ null               │\n",
       "│ VALERIA LUCIA ALMEIDA           ┆ null                ┆ null               │\n",
       "│ ERICA MARIA DA CONCEICAO        ┆ null                ┆ null               │\n",
       "│ CRISLLAINE FRANCA DO ROSARIO    ┆ null                ┆ null               │\n",
       "│ LINDALVA MARIA CONCEICAO SALVA… ┆ null                ┆ null               │\n",
       "└─────────────────────────────────┴─────────────────────┴────────────────────┘"
      ]
     },
     "metadata": {},
     "output_type": "display_data"
    }
   ],
   "source": [
    "# Análise Estatística com LazyEvaluation:\n",
    "consulta = (\n",
    "    dados_lazy\n",
    "    .filter(pl.col(\"NOME MUNICÍPIO\") == \"RIO DE JANEIRO\")\n",
    "    .group_by(\"NOME FAVORECIDO\")\n",
    "    .agg(pl.col(\"VALOR PARCELA\").mean().alias(\"MÉDIA VALOR PARCELA\"),\n",
    "         pl.col(\"VALOR PARCELA\").sum().alias(\"SOMA VALOR PARCELA\"))\n",
    ")\n",
    "# Passo 5: Verificar plano (opcional)\n",
    "print(consulta.explain())\n",
    "# Passo 6: Executar e obter resultado\n",
    "resultado_estatisticas = consulta.collect()\n",
    "# Exibir resultados\n",
    "display(resultado_estatisticas)"
   ]
  },
  {
   "cell_type": "code",
   "execution_count": 34,
   "metadata": {},
   "outputs": [
    {
     "name": "stdout",
     "output_type": "stream",
     "text": [
      "AGGREGATE[maintain_order: false]\n",
      "  [col(\"VALOR PARCELA\").mean().alias(\"MÉDIA VALOR PARCELA\"), col(\"VALOR PARCELA\").sum().alias(\"SOMA VALOR PARCELA\"), col(\"VALOR PARCELA\").count().alias(\"QTD PARCELAS\")] BY [col(\"NOME FAVORECIDO\")]\n",
      "  FROM\n",
      "   WITH_COLUMNS:\n",
      "   [col(\"VALOR PARCELA\").str.replace([\",\", \".\"]).strict_cast(Float64).alias(\"VALOR PARCELA\")] \n",
      "    Parquet SCAN [202501_NovoBolsaFamilia_polars.parquet] [id: 5018013419968]\n",
      "    PROJECT 3/9 COLUMNS\n",
      "    SELECTION: [(col(\"NOME MUNICÍPIO\")) == (\"RIO DE JANEIRO\")]\n"
     ]
    },
    {
     "data": {
      "text/html": [
       "<div><style>\n",
       ".dataframe > thead > tr,\n",
       ".dataframe > tbody > tr {\n",
       "  text-align: right;\n",
       "  white-space: pre-wrap;\n",
       "}\n",
       "</style>\n",
       "<small>shape: (462_278, 4)</small><table border=\"1\" class=\"dataframe\"><thead><tr><th>NOME FAVORECIDO</th><th>MÉDIA VALOR PARCELA</th><th>SOMA VALOR PARCELA</th><th>QTD PARCELAS</th></tr><tr><td>str</td><td>f64</td><td>f64</td><td>u32</td></tr></thead><tbody><tr><td>&quot;STELLA ARAUJO VELOSO&quot;</td><td>750.0</td><td>1500.0</td><td>2</td></tr><tr><td>&quot;ALDENORA MENDES DE SOUZA&quot;</td><td>910.0</td><td>1820.0</td><td>2</td></tr><tr><td>&quot;FABIANA DAS CHAGAS DE CARVALHO…</td><td>650.0</td><td>1300.0</td><td>2</td></tr><tr><td>&quot;LUZIA PAIXAO BORGES&quot;</td><td>600.0</td><td>1200.0</td><td>2</td></tr><tr><td>&quot;TATIANA DE AZEVEDO DE SA&quot;</td><td>650.0</td><td>1300.0</td><td>2</td></tr><tr><td>&hellip;</td><td>&hellip;</td><td>&hellip;</td><td>&hellip;</td></tr><tr><td>&quot;JORGE STOCCO DA SILVA&quot;</td><td>600.0</td><td>1200.0</td><td>2</td></tr><tr><td>&quot;CAMILLA CARVALHO DE OLIVEIRA&quot;</td><td>850.0</td><td>1700.0</td><td>2</td></tr><tr><td>&quot;PAULO CESAR DE SOUZA ARAUJO&quot;</td><td>650.0</td><td>1300.0</td><td>2</td></tr><tr><td>&quot;ANA LUCIA GOMES PRUDENCIO&quot;</td><td>600.0</td><td>1200.0</td><td>2</td></tr><tr><td>&quot;ANA PAULA SILVA DO PRADO&quot;</td><td>900.0</td><td>1800.0</td><td>2</td></tr></tbody></table></div>"
      ],
      "text/plain": [
       "shape: (462_278, 4)\n",
       "┌─────────────────────────────────┬─────────────────────┬────────────────────┬──────────────┐\n",
       "│ NOME FAVORECIDO                 ┆ MÉDIA VALOR PARCELA ┆ SOMA VALOR PARCELA ┆ QTD PARCELAS │\n",
       "│ ---                             ┆ ---                 ┆ ---                ┆ ---          │\n",
       "│ str                             ┆ f64                 ┆ f64                ┆ u32          │\n",
       "╞═════════════════════════════════╪═════════════════════╪════════════════════╪══════════════╡\n",
       "│ STELLA ARAUJO VELOSO            ┆ 750.0               ┆ 1500.0             ┆ 2            │\n",
       "│ ALDENORA MENDES DE SOUZA        ┆ 910.0               ┆ 1820.0             ┆ 2            │\n",
       "│ FABIANA DAS CHAGAS DE CARVALHO… ┆ 650.0               ┆ 1300.0             ┆ 2            │\n",
       "│ LUZIA PAIXAO BORGES             ┆ 600.0               ┆ 1200.0             ┆ 2            │\n",
       "│ TATIANA DE AZEVEDO DE SA        ┆ 650.0               ┆ 1300.0             ┆ 2            │\n",
       "│ …                               ┆ …                   ┆ …                  ┆ …            │\n",
       "│ JORGE STOCCO DA SILVA           ┆ 600.0               ┆ 1200.0             ┆ 2            │\n",
       "│ CAMILLA CARVALHO DE OLIVEIRA    ┆ 850.0               ┆ 1700.0             ┆ 2            │\n",
       "│ PAULO CESAR DE SOUZA ARAUJO     ┆ 650.0               ┆ 1300.0             ┆ 2            │\n",
       "│ ANA LUCIA GOMES PRUDENCIO       ┆ 600.0               ┆ 1200.0             ┆ 2            │\n",
       "│ ANA PAULA SILVA DO PRADO        ┆ 900.0               ┆ 1800.0             ┆ 2            │\n",
       "└─────────────────────────────────┴─────────────────────┴────────────────────┴──────────────┘"
      ]
     },
     "metadata": {},
     "output_type": "display_data"
    }
   ],
   "source": [
    "# Análise Estatística com conversão prévia de tipo\n",
    "consulta = (\n",
    "    dados_lazy\n",
    "    .filter(pl.col(\"NOME MUNICÍPIO\") == \"RIO DE JANEIRO\")\n",
    "    # Primeiro fazemos a conversão da coluna VALOR PARCELA para float\n",
    "    .with_columns(\n",
    "        pl.col(\"VALOR PARCELA\")\n",
    "        .str.replace(\",\", \".\")  # Substitui vírgula por ponto (formato brasileiro)\n",
    "        .cast(pl.Float64)       # Converte para float\n",
    "        .alias(\"VALOR PARCELA\") # Mantém o mesmo nome da coluna\n",
    "    )\n",
    "    # Agora podemos fazer as agregações\n",
    "    .group_by(\"NOME FAVORECIDO\")\n",
    "    .agg(\n",
    "        pl.col(\"VALOR PARCELA\").mean().alias(\"MÉDIA VALOR PARCELA\"),\n",
    "        pl.col(\"VALOR PARCELA\").sum().alias(\"SOMA VALOR PARCELA\"),\n",
    "        pl.col(\"VALOR PARCELA\").count().alias(\"QTD PARCELAS\")\n",
    "    )\n",
    ")\n",
    "\n",
    "# Verificar plano de execução (opcional)\n",
    "print(consulta.explain())\n",
    "\n",
    "# Executar e obter resultado\n",
    "resultado_estatisticas = consulta.collect()\n",
    "\n",
    "# Exibir resultados\n",
    "display(resultado_estatisticas)"
   ]
  }
 ],
 "metadata": {
  "kernelspec": {
   "display_name": "Python 3",
   "language": "python",
   "name": "python3"
  },
  "language_info": {
   "codemirror_mode": {
    "name": "ipython",
    "version": 3
   },
   "file_extension": ".py",
   "mimetype": "text/x-python",
   "name": "python",
   "nbconvert_exporter": "python",
   "pygments_lexer": "ipython3",
   "version": "3.12.0"
  },
  "orig_nbformat": 4
 },
 "nbformat": 4,
 "nbformat_minor": 2
}
